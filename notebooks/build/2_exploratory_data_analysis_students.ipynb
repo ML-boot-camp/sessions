{
 "cells": [
  {
   "cell_type": "markdown",
   "id": "7dc7bbb1",
   "metadata": {},
   "source": [
    "# Preparation\n",
    "## Install & import modules"
   ]
  },
  {
   "cell_type": "code",
   "execution_count": null,
   "id": "334de278",
   "metadata": {},
   "outputs": [],
   "source": [
    "! pip install seaborn"
   ]
  },
  {
   "cell_type": "code",
   "execution_count": null,
   "id": "b89f3314",
   "metadata": {},
   "outputs": [],
   "source": [
    "from pathlib import Path\n",
    "\n",
    "import numpy as np\n",
    "import pandas as pd\n",
    "import seaborn as sns"
   ]
  },
  {
   "cell_type": "markdown",
   "id": "43d4d3a1",
   "metadata": {},
   "source": [
    "## Read remote dataset"
   ]
  },
  {
   "cell_type": "markdown",
   "id": "2149df6e",
   "metadata": {},
   "source": [
    "The data is in this git repository: [ML-boot-camp/ratebeer.git](https://github.com/ML-boot-camp/ratebeer.git).\n",
    "\n",
    "The data is located in the `ratebeer/data/` folder.\n"
   ]
  },
  {
   "cell_type": "code",
   "execution_count": null,
   "id": "fa27d339",
   "metadata": {},
   "outputs": [],
   "source": [
    "file_url = \"https://github.com/ML-boot-camp/ratebeer/raw/master/data/ratebeer_sample_clean.parquet\""
   ]
  },
  {
   "cell_type": "code",
   "execution_count": null,
   "id": "357f8cad",
   "metadata": {},
   "outputs": [],
   "source": [
    "df_ratebeer = pd.read_parquet(file_url)"
   ]
  },
  {
   "cell_type": "code",
   "execution_count": null,
   "id": "90bec09c",
   "metadata": {},
   "outputs": [],
   "source": [
    "df_reviewers = (\n",
    "    df_ratebeer\n",
    "    .groupby(\"review_profileName\")\n",
    "    .agg(\n",
    "        number_of_reviews=('review_profileName', 'count'),\n",
    "        average_rating=('review_overall', 'mean')\n",
    "    )\n",
    "    .round(1)\n",
    "    .reset_index()\n",
    ")"
   ]
  },
  {
   "cell_type": "code",
   "execution_count": null,
   "id": "d152fcd2",
   "metadata": {},
   "outputs": [],
   "source": [
    "df_master = (\n",
    "    df_ratebeer\n",
    "    .merge(\n",
    "        df_reviewers,\n",
    "        on=\"review_profileName\",\n",
    "        how='inner',\n",
    "        validate=\"m:1\"\n",
    "    )\n",
    "    .assign(\n",
    "        review_time=lambda df: df.review_time.astype(int)\n",
    "        .apply(pd.Timestamp.fromtimestamp)\n",
    "    )\n",
    "    .assign(\n",
    "        positive_review=lambda df: (df.review_overall >= df.review_overall.median()).astype(int)\n",
    "    )\n",
    ")"
   ]
  },
  {
   "cell_type": "markdown",
   "id": "3ae523ba",
   "metadata": {},
   "source": [
    "# `df_master` DataFrame"
   ]
  },
  {
   "cell_type": "markdown",
   "id": "0103fc73",
   "metadata": {},
   "source": [
    "## General information\n",
    "Have a first overview of the dataframe size, i.e. number of rows & columns.\n",
    "\n",
    "Methods you'll need:\n",
    "- [`pd.DataFrame.shape`](https://pandas.pydata.org/docs/reference/api/pandas.DataFrame.shape.html)"
   ]
  },
  {
   "cell_type": "code",
   "execution_count": null,
   "id": "73a74480",
   "metadata": {},
   "outputs": [],
   "source": [
    "df_master.shape"
   ]
  },
  {
   "cell_type": "markdown",
   "id": "a9697732",
   "metadata": {},
   "source": [
    "Get a few information about the content of the dataframe:\n",
    "- number of null values per column\n",
    "- data type of each column\n",
    "- memory usage\n",
    "\n",
    "Methods you'll need:\n",
    "- [`pd.DataFrame.isnull`](https://pandas.pydata.org/docs/reference/api/pandas.DataFrame.isnull.html)\n",
    "- [`pd.DataFrame.sum`](https://pandas.pydata.org/docs/reference/api/pandas.DataFrame.sum.html)\n",
    "- [`pd.DataFrame.dtypes`](https://pandas.pydata.org/docs/reference/api/pandas.DataFrame.dtypes.html)\n",
    "- [`pd.DataFrame.info`](https://pandas.pydata.org/docs/reference/api/pandas.DataFrame.info.html)"
   ]
  },
  {
   "cell_type": "code",
   "execution_count": null,
   "id": "62f95177",
   "metadata": {},
   "outputs": [],
   "source": [
    "df_master.isnull().sum()"
   ]
  },
  {
   "cell_type": "code",
   "execution_count": null,
   "id": "72fa91e2",
   "metadata": {},
   "outputs": [],
   "source": [
    "df_master.dtypes"
   ]
  },
  {
   "cell_type": "code",
   "execution_count": null,
   "id": "d982749e",
   "metadata": {},
   "outputs": [],
   "source": [
    "*** FILL THE MISSING LINE ***"
   ]
  },
  {
   "cell_type": "markdown",
   "id": "015f1bb2",
   "metadata": {},
   "source": [
    "Show a sample of the data\n",
    "\n",
    "Methods you'll need:\n",
    "- [`pd.DataFrame.head`](https://pandas.pydata.org/docs/reference/api/pandas.DataFrame.head.html)\n",
    "- [`pd.DataFrame.sample`](https://pandas.pydata.org/docs/reference/api/pandas.DataFrame.sample.html)\n",
    "\n",
    "Bonus: display the transpose of the dataframe for better readability when having lots of columns using:\n",
    "- [`pd.DataFrame.T`](https://pandas.pydata.org/docs/reference/api/pandas.DataFrame.T.html)"
   ]
  },
  {
   "cell_type": "code",
   "execution_count": null,
   "id": "847627e1",
   "metadata": {},
   "outputs": [],
   "source": [
    "df_master.head(5)"
   ]
  },
  {
   "cell_type": "code",
   "execution_count": null,
   "id": "df9a956c",
   "metadata": {},
   "outputs": [],
   "source": [
    "df_master.sample(5).T"
   ]
  },
  {
   "cell_type": "markdown",
   "id": "ea38d890",
   "metadata": {},
   "source": [
    "Compute statistics to understand the content of each column.\n",
    "\n",
    "Methods you'll need:\n",
    "- [`pd.DataFrame.describe`](https://pandas.pydata.org/docs/reference/api/pandas.DataFrame.describe.html)\n",
    "- [`pd.DataFrame.fillna`](https://pandas.pydata.org/docs/reference/api/pandas.DataFrame.fillna.html)\n",
    "\n",
    "Bonus: fill NaN values with an empty string `\"\"` for a better readability using:"
   ]
  },
  {
   "cell_type": "code",
   "execution_count": null,
   "id": "be578b43",
   "metadata": {},
   "outputs": [],
   "source": [
    "df_master.describe(include=\"all\").fillna(\"\").T"
   ]
  },
  {
   "cell_type": "markdown",
   "id": "a3624c32",
   "metadata": {},
   "source": [
    "## Quantitative variables\n",
    "\n",
    "- `review_appearance`\n",
    "- `review_aroma`\n",
    "- `review_palate`\n",
    "- `review_taste`\n",
    "- `review_overall`\n",
    "- `average_rating`\n",
    "- `number_of_reviews`\n",
    "- `beer_ABV`"
   ]
  },
  {
   "cell_type": "markdown",
   "id": "b1cd8df6",
   "metadata": {},
   "source": [
    "Methods you'll need:\n",
    "- [`pd.DataFrame.describe`](https://pandas.pydata.org/docs/reference/api/pandas.DataFrame.describe.html)\n",
    "- [`pd.Series.hist`](https://pandas.pydata.org/docs/reference/api/pandas.Series.hist.html)\n",
    "- [`pd.DataFrame.fillna`](https://pandas.pydata.org/docs/reference/api/pandas.DataFrame.fillna.html)"
   ]
  },
  {
   "cell_type": "markdown",
   "id": "96bae599",
   "metadata": {},
   "source": [
    "Describe all quantitative variables"
   ]
  },
  {
   "cell_type": "code",
   "execution_count": null,
   "id": "77169bca",
   "metadata": {},
   "outputs": [],
   "source": [
    "pd.set_option(\"display.precision\", 2)"
   ]
  },
  {
   "cell_type": "code",
   "execution_count": null,
   "id": "ef2d8172",
   "metadata": {},
   "outputs": [],
   "source": [
    "quantitative_columns = [\n",
    "    \"review_appearance\",\n",
    "    \"review_aroma\",\n",
    "    \"review_palate\",\n",
    "    \"review_taste\",\n",
    "    \"review_overall\",\n",
    "    \"average_rating\",\n",
    "    \"number_of_reviews\",\n",
    "    \"beer_ABV\",\n",
    "]\n",
    "(\n",
    "    (df_master)\n",
    "    .loc[:, quantitative_columns]\n",
    "    *** FILL THE MISSING LINE ***\n",
    "    *** FILL THE MISSING LINE ***\n",
    "    *** FILL THE MISSING LINE ***\n",
    ")"
   ]
  },
  {
   "cell_type": "markdown",
   "id": "415f9d77",
   "metadata": {},
   "source": [
    "Describe and plot all numeric columns containing reviews: review_* & average_rating"
   ]
  },
  {
   "cell_type": "code",
   "execution_count": null,
   "id": "259822f3",
   "metadata": {},
   "outputs": [],
   "source": [
    "review_columns = [\n",
    "    \"review_appearance\",\n",
    "    \"review_aroma\",\n",
    "    *** FILL THE MISSING LINE ***\n",
    "    *** FILL THE MISSING LINE ***\n",
    "    *** FILL THE MISSING LINE ***\n",
    "    \"average_rating\",\n",
    "]\n",
    "HISTOGRAM_SIZE = (6, 3)\n",
    "(\n",
    "    (df_master)\n",
    "    .loc[:, review_columns]\n",
    "    .plot.hist(\n",
    "        bins=range(21),\n",
    "        subplots=True,\n",
    "        figsize=(HISTOGRAM_SIZE[0], len(review_columns) * HISTOGRAM_SIZE[1]),\n",
    "    )\n",
    ")"
   ]
  },
  {
   "cell_type": "markdown",
   "id": "1a34e640",
   "metadata": {},
   "source": [
    "Plot `number_of_reviews`"
   ]
  },
  {
   "cell_type": "code",
   "execution_count": null,
   "id": "1053520b",
   "metadata": {},
   "outputs": [],
   "source": [
    "(\n",
    "    (df_master)\n",
    "    .number_of_reviews\n",
    "    *** FILL THE MISSING LINE ***\n",
    ")"
   ]
  },
  {
   "cell_type": "code",
   "execution_count": null,
   "id": "a636f852",
   "metadata": {},
   "outputs": [],
   "source": [
    "(\n",
    "    (df_master)\n",
    "    *** FILL THE MISSING LINE ***\n",
    "    .plot.hist(bins=100, loglog=True)\n",
    ")"
   ]
  },
  {
   "cell_type": "markdown",
   "id": "bc5b7966",
   "metadata": {},
   "source": [
    "If interested, you can read: [Zipf's Law on Wikipedia](https://en.wikipedia.org/wiki/Zipf's_law)"
   ]
  },
  {
   "cell_type": "markdown",
   "id": "5b349677",
   "metadata": {},
   "source": [
    "Plot `beer_ABV`"
   ]
  },
  {
   "cell_type": "code",
   "execution_count": null,
   "id": "6159c339",
   "metadata": {},
   "outputs": [],
   "source": [
    "(\n",
    "    (df_master)\n",
    "    *** FILL THE MISSING LINE ***\n",
    "    .plot.hist(bins=100)\n",
    ")"
   ]
  },
  {
   "cell_type": "code",
   "execution_count": null,
   "id": "695cce10",
   "metadata": {},
   "outputs": [],
   "source": [
    "(\n",
    "    (df_master)\n",
    "    *** FILL THE MISSING LINE ***\n",
    "    .plot.hist(bins=100, logy=True)\n",
    ")"
   ]
  },
  {
   "cell_type": "markdown",
   "id": "6c509de8",
   "metadata": {},
   "source": [
    "Plot `review_time`"
   ]
  },
  {
   "cell_type": "code",
   "execution_count": null,
   "id": "6f88b63a",
   "metadata": {},
   "outputs": [],
   "source": [
    "(\n",
    "    df_master\n",
    "    .review_time\n",
    "    *** FILL THE MISSING LINE ***\n",
    ")"
   ]
  },
  {
   "cell_type": "markdown",
   "id": "c8ffacd4",
   "metadata": {},
   "source": [
    "## Nominal and ordinal variables:\n",
    "- `positive_review`\n",
    "- `beer_style`\n",
    "- `beer_name`\n",
    "- `beer_beerId`\n",
    "- `beer_brewerId`\n",
    "- `review_profileName`"
   ]
  },
  {
   "cell_type": "markdown",
   "id": "4fe9c1e6",
   "metadata": {},
   "source": [
    "Describe and plot `positive_review`"
   ]
  },
  {
   "cell_type": "code",
   "execution_count": null,
   "id": "7f06bb50",
   "metadata": {},
   "outputs": [],
   "source": [
    "(\n",
    "    (df_master)\n",
    "    .positive_review\n",
    "    *** FILL THE MISSING LINE ***\n",
    ")"
   ]
  },
  {
   "cell_type": "code",
   "execution_count": null,
   "id": "4ab3ada0",
   "metadata": {},
   "outputs": [],
   "source": [
    "(\n",
    "    (df_master)\n",
    "    .positive_review\n",
    "    *** FILL THE MISSING LINE ***\n",
    "    *** FILL THE MISSING LINE ***\n",
    ")"
   ]
  },
  {
   "cell_type": "markdown",
   "id": "091f28d9",
   "metadata": {},
   "source": [
    "Describe and plot `beer_style`"
   ]
  },
  {
   "cell_type": "code",
   "execution_count": null,
   "id": "3118cae0",
   "metadata": {},
   "outputs": [],
   "source": [
    "(\n",
    "    (df_master)\n",
    "    *** FILL THE MISSING LINE ***\n",
    "    .describe()\n",
    ")"
   ]
  },
  {
   "cell_type": "code",
   "execution_count": null,
   "id": "a78a22b7",
   "metadata": {},
   "outputs": [],
   "source": [
    "(\n",
    "    (df_master)\n",
    "    .beer_style\n",
    "    .value_counts()\n",
    "    *** FILL THE MISSING LINE ***\n",
    ")"
   ]
  },
  {
   "cell_type": "code",
   "execution_count": null,
   "id": "08968c8f",
   "metadata": {},
   "outputs": [],
   "source": [
    "(\n",
    "    (df_master)\n",
    "    .beer_style\n",
    "    *** FILL THE MISSING LINE ***\n",
    "    .plot.bar(logy=True)\n",
    ")"
   ]
  },
  {
   "cell_type": "markdown",
   "id": "f6860e52",
   "metadata": {},
   "source": [
    "Describe and plot `beer_name`"
   ]
  },
  {
   "cell_type": "code",
   "execution_count": null,
   "id": "ba952378",
   "metadata": {},
   "outputs": [],
   "source": [
    "(\n",
    "    (df_master)\n",
    "    .beer_name\n",
    "    .describe()\n",
    ")"
   ]
  },
  {
   "cell_type": "code",
   "execution_count": null,
   "id": "dd1a53b0",
   "metadata": {},
   "outputs": [],
   "source": [
    "(\n",
    "    (df_master)\n",
    "    .beer_name\n",
    "    .value_counts()\n",
    "    .value_counts()\n",
    "    *** FILL THE MISSING LINE ***\n",
    ")"
   ]
  },
  {
   "cell_type": "code",
   "execution_count": null,
   "id": "b3049b39",
   "metadata": {},
   "outputs": [],
   "source": [
    "(\n",
    "    (df_master)\n",
    "    *** FILL THE MISSING LINE ***\n",
    "    *** FILL THE MISSING LINE ***\n",
    "    .value_counts()\n",
    "    .plot.bar(logy=True)\n",
    ")"
   ]
  },
  {
   "cell_type": "code",
   "execution_count": null,
   "id": "71f8d35e",
   "metadata": {},
   "outputs": [],
   "source": [
    "(\n",
    "    (df_master)\n",
    "    .beer_name\n",
    "    *** FILL THE MISSING LINE ***\n",
    "    *** FILL THE MISSING LINE ***\n",
    "    .plot(loglog=True, marker=\".\")\n",
    ")"
   ]
  },
  {
   "cell_type": "markdown",
   "id": "74d29428",
   "metadata": {},
   "source": [
    "Describe and plot `beer_beerId`"
   ]
  },
  {
   "cell_type": "code",
   "execution_count": null,
   "id": "f3546b50",
   "metadata": {},
   "outputs": [],
   "source": [
    "(\n",
    "    (df_master)\n",
    "    *** FILL THE MISSING LINE ***\n",
    "    .describe()\n",
    ")"
   ]
  },
  {
   "cell_type": "code",
   "execution_count": null,
   "id": "ba446bce",
   "metadata": {},
   "outputs": [],
   "source": [
    "(\n",
    "    (df_master)\n",
    "    *** FILL THE MISSING LINE ***\n",
    "    .value_counts()\n",
    "    .value_counts()\n",
    "    .plot.bar()\n",
    ")"
   ]
  },
  {
   "cell_type": "code",
   "execution_count": null,
   "id": "4f8fdf56",
   "metadata": {},
   "outputs": [],
   "source": [
    "(\n",
    "    (df_master)\n",
    "    *** FILL THE MISSING LINE ***\n",
    "    .value_counts()\n",
    "    .value_counts()\n",
    "    .plot.bar(logy=True)\n",
    ")"
   ]
  },
  {
   "cell_type": "code",
   "execution_count": null,
   "id": "bed043b1",
   "metadata": {},
   "outputs": [],
   "source": [
    "(\n",
    "    (df_master)\n",
    "    *** FILL THE MISSING LINE ***\n",
    "    .value_counts()\n",
    "    .value_counts()\n",
    "    .plot(loglog=True, marker=\".\")\n",
    ")"
   ]
  },
  {
   "cell_type": "code",
   "execution_count": null,
   "id": "ddd52996",
   "metadata": {},
   "outputs": [],
   "source": [
    "(\n",
    "    (df_master)\n",
    "    *** FILL THE MISSING LINE ***\n",
    "    .value_counts()\n",
    "    .plot.hist(loglog=True, bins=200)\n",
    ")"
   ]
  },
  {
   "cell_type": "markdown",
   "id": "55985108",
   "metadata": {},
   "source": [
    "If interested, you can read: [Zipf's Law on Wikipedia](https://en.wikipedia.org/wiki/Zipf's_law)"
   ]
  },
  {
   "cell_type": "markdown",
   "id": "50d84bfe",
   "metadata": {},
   "source": [
    "Describe and plot `beer_brewerId`"
   ]
  },
  {
   "cell_type": "code",
   "execution_count": null,
   "id": "eb26efc4",
   "metadata": {},
   "outputs": [],
   "source": [
    "(\n",
    "    (df_master)\n",
    "    *** FILL THE MISSING LINE ***\n",
    "    .describe()\n",
    ")"
   ]
  },
  {
   "cell_type": "code",
   "execution_count": null,
   "id": "be8d2838",
   "metadata": {},
   "outputs": [],
   "source": [
    "(\n",
    "    (df_master)\n",
    "    .beer_brewerId\n",
    "    .value_counts()\n",
    "    *** FILL THE MISSING LINE ***\n",
    "    .plot.bar()\n",
    ")"
   ]
  },
  {
   "cell_type": "code",
   "execution_count": null,
   "id": "7e56ee68",
   "metadata": {},
   "outputs": [],
   "source": [
    "(\n",
    "    (df_master)\n",
    "    .beer_brewerId\n",
    "    *** FILL THE MISSING LINE ***\n",
    "    .value_counts()\n",
    "    .plot.bar(logy=True)\n",
    ")"
   ]
  },
  {
   "cell_type": "code",
   "execution_count": null,
   "id": "11c8a0be",
   "metadata": {
    "lines_to_next_cell": 0
   },
   "outputs": [],
   "source": [
    "(\n",
    "    (df_master)\n",
    "    *** FILL THE MISSING LINE ***\n",
    "    *** FILL THE MISSING LINE ***\n",
    "    .value_counts()\n",
    "    .plot(loglog=True, marker=\".\")\n",
    ")"
   ]
  },
  {
   "cell_type": "markdown",
   "id": "d6685c37",
   "metadata": {},
   "source": [
    "If interested, you can read: [Zipf's Law on Wikipedia](https://en.wikipedia.org/wiki/Zipf's_law)"
   ]
  },
  {
   "cell_type": "markdown",
   "id": "c157f593",
   "metadata": {},
   "source": [
    "Describe and plot `review_profileName`"
   ]
  },
  {
   "cell_type": "code",
   "execution_count": null,
   "id": "28dd95f0",
   "metadata": {},
   "outputs": [],
   "source": [
    "(\n",
    "    (df_master)\n",
    "    .review_profileName\n",
    "    *** FILL THE MISSING LINE ***\n",
    ")"
   ]
  },
  {
   "cell_type": "code",
   "execution_count": null,
   "id": "f08dc1ff",
   "metadata": {},
   "outputs": [],
   "source": [
    "(\n",
    "    (df_master)\n",
    "    *** FILL THE MISSING LINE ***\n",
    "    *** FILL THE MISSING LINE ***\n",
    "    .value_counts()\n",
    "    .plot.bar()\n",
    ")"
   ]
  },
  {
   "cell_type": "code",
   "execution_count": null,
   "id": "5c8beafa",
   "metadata": {},
   "outputs": [],
   "source": [
    "(\n",
    "    (df_master)\n",
    "    *** FILL THE MISSING LINE ***\n",
    "    *** FILL THE MISSING LINE ***\n",
    "    .value_counts()\n",
    "    .plot.bar(logy=True)\n",
    ")"
   ]
  },
  {
   "cell_type": "code",
   "execution_count": null,
   "id": "d84ad297",
   "metadata": {},
   "outputs": [],
   "source": [
    "(\n",
    "    (df_master)\n",
    "    .review_profileName\n",
    "    *** FILL THE MISSING LINE ***\n",
    "    .value_counts()\n",
    "    .plot(loglog=True, marker=\".\")\n",
    ")"
   ]
  },
  {
   "cell_type": "markdown",
   "id": "38dfcff7",
   "metadata": {},
   "source": [
    "If interested, you can read: [Zipf's Law on Wikipedia](https://en.wikipedia.org/wiki/Zipf's_law)"
   ]
  },
  {
   "cell_type": "markdown",
   "id": "24d3a7c5",
   "metadata": {},
   "source": [
    "## Relationship with the target `positive_review`\n",
    "### Quantitative variables"
   ]
  },
  {
   "cell_type": "markdown",
   "id": "d0507d2d",
   "metadata": {},
   "source": [
    "Plot `review_overall` relationship with `positive_review`"
   ]
  },
  {
   "cell_type": "code",
   "execution_count": null,
   "id": "88d2fa8c",
   "metadata": {},
   "outputs": [],
   "source": [
    "(\n",
    "    (df_master)\n",
    "    .pipe(sns.histplot, x=\"review_overall\", bins=range(21), hue=\"positive_review\")\n",
    ")"
   ]
  },
  {
   "cell_type": "markdown",
   "id": "c0c09a84",
   "metadata": {},
   "source": [
    "Plot `review_appearance` relationship with `positive_review`"
   ]
  },
  {
   "cell_type": "code",
   "execution_count": null,
   "id": "60a24b28",
   "metadata": {},
   "outputs": [],
   "source": [
    "(\n",
    "    (df_master)\n",
    "    *** FILL THE MISSING LINE ***\n",
    ")"
   ]
  },
  {
   "cell_type": "markdown",
   "id": "8b0e614c",
   "metadata": {},
   "source": [
    "Plot `review_aroma` relationship with `positive_review`"
   ]
  },
  {
   "cell_type": "code",
   "execution_count": null,
   "id": "729328cb",
   "metadata": {},
   "outputs": [],
   "source": [
    "(\n",
    "    (df_master)\n",
    "    *** FILL THE MISSING LINE ***\n",
    ")"
   ]
  },
  {
   "cell_type": "markdown",
   "id": "32f35aad",
   "metadata": {},
   "source": [
    "Plot `review_palate` relationship with `positive_review`"
   ]
  },
  {
   "cell_type": "code",
   "execution_count": null,
   "id": "c66202d8",
   "metadata": {},
   "outputs": [],
   "source": [
    "(\n",
    "    *** FILL THE MISSING LINE ***\n",
    "    .pipe(sns.histplot, x=\"review_palate\", bins=range(21), hue=\"positive_review\")\n",
    ")"
   ]
  },
  {
   "cell_type": "markdown",
   "id": "2c19bb0b",
   "metadata": {},
   "source": [
    "Plot `review_taste` relationship with `positive_review`"
   ]
  },
  {
   "cell_type": "code",
   "execution_count": null,
   "id": "808f2620",
   "metadata": {},
   "outputs": [],
   "source": [
    "(\n",
    "    (df_master)\n",
    "    *** FILL THE MISSING LINE ***\n",
    ")"
   ]
  },
  {
   "cell_type": "markdown",
   "id": "bc701fa5",
   "metadata": {},
   "source": [
    "### Quantitative variables"
   ]
  },
  {
   "cell_type": "markdown",
   "id": "533c2875",
   "metadata": {},
   "source": [
    "Plot `beer_style` relationship with `positive_review`"
   ]
  },
  {
   "cell_type": "code",
   "execution_count": null,
   "id": "67701c94",
   "metadata": {},
   "outputs": [],
   "source": [
    "(\n",
    "    *** FILL THE MISSING LINE ***\n",
    "    .pipe(sns.histplot, x=\"beer_style\", bins=range(21), hue=\"positive_review\")\n",
    ")"
   ]
  },
  {
   "cell_type": "markdown",
   "id": "09b98ce5",
   "metadata": {},
   "source": [
    "### High cardinality variables"
   ]
  },
  {
   "cell_type": "code",
   "execution_count": null,
   "id": "18248e33",
   "metadata": {},
   "outputs": [],
   "source": [
    "(\n",
    "    (df_master)\n",
    "    .sample(10000)\n",
    "    .assign(beer_beerId_noccurences=lambda df: df.beer_beerId.pipe(lambda s: s.replace(s.value_counts().to_dict())))\n",
    "    .pipe(sns.histplot, x=\"beer_beerId_noccurences\", bins=range(21), hue=\"positive_review\")\n",
    ")"
   ]
  },
  {
   "cell_type": "code",
   "execution_count": null,
   "id": "8a7fa09a",
   "metadata": {},
   "outputs": [],
   "source": [
    "(\n",
    "    (df_master)\n",
    "    .sample(10000)\n",
    "    .assign(beer_brewerId_noccurences=lambda df: df.beer_brewerId.pipe(lambda s: s.replace(s.value_counts().to_dict())))\n",
    "    .pipe(sns.histplot, x=\"beer_brewerId_noccurences\", bins=range(21), hue=\"positive_review\")\n",
    ")"
   ]
  },
  {
   "cell_type": "code",
   "execution_count": null,
   "id": "c5939170",
   "metadata": {},
   "outputs": [],
   "source": [
    "(\n",
    "    (df_master)\n",
    "    .sample(10000)\n",
    "    .assign(review_profileName_noccurences=lambda df: df.review_profileName.pipe(lambda s: s.replace(s.value_counts().to_dict())))\n",
    "    .pipe(sns.histplot, x=\"review_profileName_noccurences\", bins=range(21), hue=\"positive_review\")\n",
    ")"
   ]
  },
  {
   "cell_type": "markdown",
   "id": "23bf71da",
   "metadata": {},
   "source": [
    "## Multivariate plots"
   ]
  },
  {
   "cell_type": "markdown",
   "id": "d9db833f",
   "metadata": {},
   "source": [
    "Plot a scatter matrix of the numerical variables, colored by the target column\n",
    "`positive_review`.\n",
    "\n",
    "Hint:\n",
    "- [`pd.DataFrame.select_dtypes`](https://pandas.pydata.org/docs/reference/api/pandas.DataFrame.select_dtypes.html)\n",
    "- [`pd.plotting.scatter_matrix`](https://pandas.pydata.org/docs/reference/api/pandas.plotting.scatter_matrix.html)"
   ]
  },
  {
   "cell_type": "code",
   "execution_count": null,
   "id": "1f2b1286",
   "metadata": {},
   "outputs": [],
   "source": [
    "review_columns = [\n",
    "    \"review_appearance\",\n",
    "    \"review_aroma\",\n",
    "    \"review_palate\",\n",
    "    \"review_taste\",\n",
    "    \"review_overall\",\n",
    "]\n",
    "\n",
    "def add_jitter(df, jitter=0.4):\n",
    "    return df + np.random.uniform(low=-jitter, high=jitter, size=df.shape)\n",
    "\n",
    "(\n",
    "    (df_master)\n",
    "    .loc[:, review_columns]\n",
    "    .head(10000)\n",
    "    *** FILL THE MISSING LINE ***\n",
    "    .pipe(\n",
    "        pd.plotting.scatter_matrix,\n",
    "        figsize=(15, 15),\n",
    "        *** FILL THE MISSING LINE ***\n",
    "        *** FILL THE MISSING LINE ***\n",
    "        *** FILL THE MISSING LINE ***\n",
    "    )\n",
    ")"
   ]
  },
  {
   "cell_type": "markdown",
   "id": "a0e6bbb6",
   "metadata": {},
   "source": [
    "## String manipulation\n",
    "Using the [`pd.Series.str`](https://pandas.pydata.org/docs/reference/api/pandas.Series.str.html) API"
   ]
  },
  {
   "cell_type": "markdown",
   "id": "ab1a8cd1",
   "metadata": {},
   "source": [
    "### `review_text` column:"
   ]
  },
  {
   "cell_type": "markdown",
   "id": "8d0cdb03",
   "metadata": {},
   "source": [
    "Compute the length of the texts in the dataset.\n",
    "\n",
    "Methods you'll need:\n",
    "- [`pd.Series.str.len`](https://pandas.pydata.org/docs/reference/api/pandas.Series.str.len.html)\n",
    "- [`pd.Series.str`](https://pandas.pydata.org/docs/reference/api/pandas.Series.str..html)\n",
    "\n",
    "Bonus: plot an histogram of the values, with log values, using:\n",
    "- [`pd.Series.plot.hist`](https://pandas.pydata.org/docs/reference/api/pandas.Series.plot.bar.html)\n",
    "\n",
    "Is it a Power law distribution ?"
   ]
  },
  {
   "cell_type": "code",
   "execution_count": null,
   "id": "bf4a6720",
   "metadata": {},
   "outputs": [],
   "source": [
    "(\n",
    "    (df_master.review_text)\n",
    "    .str.len()\n",
    "    *** FILL THE MISSING LINE ***\n",
    ")"
   ]
  },
  {
   "cell_type": "code",
   "execution_count": null,
   "id": "0e489589",
   "metadata": {},
   "outputs": [],
   "source": [
    "(\n",
    "    (df_master.review_text)\n",
    "    *** FILL THE MISSING LINE ***\n",
    "    .plot.hist(bins=range(2000), logy=True)\n",
    ")"
   ]
  },
  {
   "cell_type": "markdown",
   "id": "a9f8e91c",
   "metadata": {},
   "source": [
    "Compute the frequency of the most used letters in the texts\n",
    "\n",
    "Methods you'll need:\n",
    "- [`pd.Series.str.lower`](https://pandas.pydata.org/docs/reference/api/pandas.Series.str.lower.html)\n",
    "- [`pd.Series.str.split`](https://pandas.pydata.org/docs/reference/api/pandas.Series.str.split.html)\n",
    "- [`pd.Series.explode`](https://pandas.pydata.org/docs/reference/api/pandas.Series.explode.html)\n",
    "- [`pd.Series.value_counts`](https://pandas.pydata.org/docs/reference/api/pandas.Series.value_counts.html)\n",
    "- [`pd.Series.head`](https://pandas.pydata.org/docs/reference/api/pandas.Series.head.html)\n",
    "\n",
    "Bonus: plot an histogram of the values, with log values, using:\n",
    "- [`pd.Series.plot.hist`](https://pandas.pydata.org/docs/reference/api/pandas.Series.plot.bar.html)\n",
    "\n",
    "Is it a Power law distribution ?"
   ]
  },
  {
   "cell_type": "code",
   "execution_count": null,
   "id": "4d4bc561",
   "metadata": {},
   "outputs": [],
   "source": [
    "df_most_used_letters = (\n",
    "    (df_master.review_text)\n",
    "    .str.lower()\n",
    "    .str.split(\"\")\n",
    "    .explode()\n",
    "    .loc[lambda x: x != \" \"]\n",
    "    *** FILL THE MISSING LINE ***\n",
    ")"
   ]
  },
  {
   "cell_type": "code",
   "execution_count": null,
   "id": "cd6e147f",
   "metadata": {},
   "outputs": [],
   "source": [
    "(\n",
    "    df_most_used_letters\n",
    "    .head(40)\n",
    "    *** FILL THE MISSING LINE ***\n",
    ")"
   ]
  },
  {
   "cell_type": "code",
   "execution_count": null,
   "id": "ef152d3c",
   "metadata": {},
   "outputs": [],
   "source": [
    "(\n",
    "    df_most_used_letters\n",
    "    *** FILL THE MISSING LINE ***\n",
    "    .plot.bar(logy=True)\n",
    ")"
   ]
  },
  {
   "cell_type": "markdown",
   "id": "421a2601",
   "metadata": {},
   "source": [
    "Compute the frequency of the most used words in the texts\n",
    "\n",
    "Methods you'll need:\n",
    "- [`pd.Series.str.len`](https://pandas.pydata.org/docs/reference/api/pandas.Series.str.len.html)\n",
    "- [`pd.Series.str.split`](https://pandas.pydata.org/docs/reference/api/pandas.Series.str.split.html)\n",
    "- [`pd.Series.explode`](https://pandas.pydata.org/docs/reference/api/pandas.Series.explode.html)\n",
    "- [`pd.Series.value_counts`](https://pandas.pydata.org/docs/reference/api/pandas.Series.value_counts.html)\n",
    "- [`pd.Series.head`](https://pandas.pydata.org/docs/reference/api/pandas.Series.head.html)\n",
    "\n",
    "Bonus: plot an histogram of the values, with log values, using:\n",
    "- [`pd.Series.plot.hist`](https://pandas.pydata.org/docs/reference/api/pandas.Series.plot.bar.html)\n",
    "\n",
    "Is it a Power law distribution ?"
   ]
  },
  {
   "cell_type": "code",
   "execution_count": null,
   "id": "6dfed9ae",
   "metadata": {},
   "outputs": [],
   "source": [
    "word_frequencies = (\n",
    "    (df_master.review_text)\n",
    "    .str.lower()\n",
    "    .str.replace(r\"[^a-z\\ ]\", \"\")\n",
    "    .str.replace(r\"\\ +\", \" \")\n",
    "    *** FILL THE MISSING LINE ***\n",
    "    .explode()\n",
    "    .value_counts()\n",
    ")\n",
    "word_frequencies"
   ]
  },
  {
   "cell_type": "code",
   "execution_count": null,
   "id": "68176c40",
   "metadata": {},
   "outputs": [],
   "source": [
    "(\n",
    "    word_frequencies\n",
    "    .head(100)\n",
    "    *** FILL THE MISSING LINE ***\n",
    ")"
   ]
  },
  {
   "cell_type": "code",
   "execution_count": null,
   "id": "bd98597d",
   "metadata": {},
   "outputs": [],
   "source": [
    "(\n",
    "    word_frequencies\n",
    "    *** FILL THE MISSING LINE ***\n",
    "    .plot.bar(logy=True, figsize=(12, 4))\n",
    ")"
   ]
  },
  {
   "cell_type": "code",
   "execution_count": null,
   "id": "bb932513",
   "metadata": {},
   "outputs": [],
   "source": [
    "(\n",
    "    word_frequencies\n",
    "    .head(1000)\n",
    "    .reset_index(drop=True)\n",
    "    .plot(loglog=True, marker=\".\")\n",
    ")"
   ]
  },
  {
   "cell_type": "markdown",
   "id": "4ae68a6b",
   "metadata": {},
   "source": [
    "## Detailed text analysis\n",
    "Word associated to positive & negative reviews"
   ]
  },
  {
   "cell_type": "code",
   "execution_count": null,
   "id": "d5c2ab63",
   "metadata": {},
   "outputs": [],
   "source": [
    "(\n",
    "    df_master\n",
    "    .head(100000)\n",
    "    .assign(\n",
    "        tokenized_text=lambda df: (df.review_text)\n",
    "        .str.lower()\n",
    "        .str.replace(r\"[^a-z]\", \" \")\n",
    "        .str.replace(r\" +\", \" \")\n",
    "        .str.split(\" \")\n",
    "    )\n",
    "    .loc[:, [\"review_overall\", \"tokenized_text\"]]\n",
    "    .explode(\"tokenized_text\")\n",
    "    .groupby(\"tokenized_text\", as_index=False)\n",
    "    .agg([\"mean\", \"count\"])\n",
    "    .reset_index()\n",
    "    .sort_values(by=(\"review_overall\", \"count\"), ascending=False)\n",
    "    .head(200)\n",
    "    .style.background_gradient(cmap=\"RdYlGn\")\n",
    ")"
   ]
  },
  {
   "cell_type": "markdown",
   "id": "dfda89fc",
   "metadata": {},
   "source": [
    "Count the percentage of each rating as a function of the `date` & plot\n",
    "a line diagram. E.g: in 2020, 55% of ratings were 5, 15% or ratings were 4, ...\n",
    "\n",
    "Hint:\n",
    "- [`sns.displot`]()"
   ]
  },
  {
   "cell_type": "code",
   "execution_count": null,
   "id": "007547b4",
   "metadata": {},
   "outputs": [],
   "source": [
    "(\n",
    "    df_master\n",
    "    .pipe(sns.displot, x=\"review_time\", hue=\"review_overall\", multiple=\"fill\", kind=\"kde\")\n",
    ")"
   ]
  },
  {
   "cell_type": "code",
   "execution_count": null,
   "id": "2464bf1a",
   "metadata": {},
   "outputs": [],
   "source": []
  }
 ],
 "metadata": {
  "jupytext": {
   "cell_metadata_filter": "-all",
   "main_language": "python",
   "notebook_metadata_filter": "-all"
  }
 },
 "nbformat": 4,
 "nbformat_minor": 5
}
