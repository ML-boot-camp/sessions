{
 "cells": [
  {
   "cell_type": "code",
   "execution_count": null,
   "id": "be0d7c65",
   "metadata": {},
   "outputs": [],
   "source": [
    "!pip install nb-js-diagrammers"
   ]
  },
  {
   "cell_type": "code",
   "execution_count": null,
   "id": "2eaca559",
   "metadata": {},
   "outputs": [],
   "source": [
    "%load_ext nb_js_diagrammers"
   ]
  },
  {
   "cell_type": "markdown",
   "id": "beea71e0",
   "metadata": {},
   "source": [
    "# TD1 : Data Engineering\n",
    "\n",
    "The objective of this session is to learn about the basics of data engineering. You will have to explore the **Ratebeer** dataset using sql and python.\n",
    "\n",
    "\n",
    "This dataset consists of beer reviews from ratebeer. The data span a period of more than 10 years, including all ~3 million reviews up to November 2011. Each review includes ratings in terms of five \"aspects\": appearance, aroma, palate, taste, and overall impression. Reviews include product and user information, followed by each of these five ratings, and a plaintext review. We also have reviews from beeradvocate.\n",
    "\n",
    "*source* [*ratebeer dataset description*](https://snap.stanford.edu/data/web-RateBeer.html)\n",
    "\n",
    "To avoid high compute time, we are going to work with a sample during the session. Also, the data is already cleaned. \n",
    "\n",
    "\n",
    "Here are the main steps of the notebook :\n",
    "\n",
    "0.   Preparation\n",
    "1.   Data engineering in sql with *duckdb*\n",
    "2.   Data engineering in python with *pandas*\n"
   ]
  },
  {
   "cell_type": "code",
   "execution_count": null,
   "id": "7a47e375",
   "metadata": {},
   "outputs": [],
   "source": [
    "%%mermaid_magic -h 500\n",
    "\n",
    "flowchart LR\n",
    "    clean[\"Cleaned ratebeer\\n(parquet)\"]-- initialize database -->duck[(duck DB)]\n",
    "    duck -- part 1: data processing\\nusing sql queries --> enriched[\"enriched ratebeer\\n(parquet file)\"];\n",
    "    clean -- part 2: data processing\\nusing pandas ---> enriched2[\"enriched ratebeer\\n(parquet file)\"];"
   ]
  },
  {
   "cell_type": "markdown",
   "id": "5536c12c",
   "metadata": {},
   "source": [
    "Similar data engineering steps will be performed in SQL and Python to make you appreciate the difference between these 2 languages. The output of the 2 parts will be the same, an enriched dataset that will be used in the next sessions."
   ]
  },
  {
   "cell_type": "markdown",
   "id": "02f8cba6",
   "metadata": {},
   "source": [
    " # 0. Preparation\n"
   ]
  },
  {
   "cell_type": "markdown",
   "id": "299b15d1",
   "metadata": {},
   "source": [
    "## Install & import modules"
   ]
  },
  {
   "cell_type": "code",
   "execution_count": null,
   "id": "676b58fd",
   "metadata": {},
   "outputs": [],
   "source": [
    "!pip install duckdb\n",
    "!pip install pyarrow"
   ]
  },
  {
   "cell_type": "code",
   "execution_count": null,
   "id": "455f6744",
   "metadata": {
    "lines_to_next_cell": 1
   },
   "outputs": [],
   "source": [
    "import pandas as pd\n",
    "import duckdb\n",
    "\n",
    "pd.set_option(\"display.max_columns\", 100)"
   ]
  },
  {
   "cell_type": "markdown",
   "id": "4d87f42b",
   "metadata": {},
   "source": [
    "## Database configuration"
   ]
  },
  {
   "cell_type": "code",
   "execution_count": null,
   "id": "3ea020ed",
   "metadata": {},
   "outputs": [],
   "source": [
    "def sql(query):\n",
    "    return con.execute(query).df()\n",
    "\n",
    "\n",
    "con = duckdb.connect()\n",
    "con.execute(\"PRAGMA threads=2\")\n",
    "con.execute(\"PRAGMA enable_object_cache\")"
   ]
  },
  {
   "cell_type": "markdown",
   "id": "77c6631d",
   "metadata": {},
   "source": [
    "## Read remote dataset"
   ]
  },
  {
   "cell_type": "markdown",
   "id": "13532d5c",
   "metadata": {},
   "source": [
    "The data is in this git repository: [ML-boot-camp/ratebeer.git](https://github.com/ML-boot-camp/ratebeer.git).\n",
    "\n",
    "The data is located in the `ratebeer/data/` folder.\n",
    "\n"
   ]
  },
  {
   "cell_type": "code",
   "execution_count": null,
   "id": "a62bab5d",
   "metadata": {},
   "outputs": [],
   "source": [
    "file_url = \"https://github.com/ML-boot-camp/ratebeer/raw/master/data/ratebeer_sample_clean.parquet\""
   ]
  },
  {
   "cell_type": "markdown",
   "id": "d47f9201",
   "metadata": {},
   "source": [
    "# 1. Data engineering in SQL with `duckdb`"
   ]
  },
  {
   "cell_type": "markdown",
   "id": "447cd706",
   "metadata": {},
   "source": [
    "### Get some doc\n",
    " Open the [w3schools SQL documentation](https://www.w3schools.com/sql/default.asp)."
   ]
  },
  {
   "cell_type": "markdown",
   "id": "1b638789",
   "metadata": {},
   "source": [
    "### Read data"
   ]
  },
  {
   "cell_type": "markdown",
   "id": "ac499b32",
   "metadata": {},
   "source": [
    " Load the file `ratebeer_sample_clean.parquet` to extract a pandas DataFrame and assign\n",
    " it the variable `table_ratebeer`.  \n",
    " Hint:\n",
    " - [`pd.read_parquet`](https://pandas.pydata.org/docs/reference/api/pandas.read_parquet.html)"
   ]
  },
  {
   "cell_type": "code",
   "execution_count": null,
   "id": "ca72320a",
   "metadata": {},
   "outputs": [],
   "source": [
    "table_ratebeer = pd.read_parquet(file_url)"
   ]
  },
  {
   "cell_type": "markdown",
   "id": "a38d7d3c",
   "metadata": {},
   "source": [
    "### Explore data"
   ]
  },
  {
   "cell_type": "markdown",
   "id": "07915e3a",
   "metadata": {},
   "source": [
    " Display a few reviews.\n",
    "\n",
    " Hint:\n",
    " - `SELECT`\n",
    " - `FROM`\n",
    " - `LIMIT`"
   ]
  },
  {
   "cell_type": "code",
   "execution_count": null,
   "id": "a73b4a68",
   "metadata": {},
   "outputs": [],
   "source": [
    "query = \"\"\"\n",
    "SELECT *\n",
    "FROM table_ratebeer\n",
    "LIMIT 5\n",
    "\"\"\"\n",
    "sql(query)"
   ]
  },
  {
   "cell_type": "markdown",
   "id": "94a4e0a3",
   "metadata": {},
   "source": [
    "Display only some columns\n",
    "\n",
    "\n",
    " Hint:\n",
    " - `SELECT` column_name"
   ]
  },
  {
   "cell_type": "code",
   "execution_count": null,
   "id": "d8b86cf0",
   "metadata": {},
   "outputs": [],
   "source": [
    "query = \"\"\"\n",
    "*** FILL THE MISSING LINE ***\n",
    "FROM table_ratebeer\n",
    "LIMIT 5\n",
    "\"\"\"\n",
    "sql(query)"
   ]
  },
  {
   "cell_type": "markdown",
   "id": "197e4621",
   "metadata": {},
   "source": [
    "Count the total number of reviews\n",
    "\n",
    " Hint:\n",
    " - `COUNT`"
   ]
  },
  {
   "cell_type": "code",
   "execution_count": null,
   "id": "189a9157",
   "metadata": {},
   "outputs": [],
   "source": [
    "query = \"\"\"\n",
    "*** FILL THE MISSING LINE ***\n",
    "FROM table_ratebeer\n",
    "\"\"\"\n",
    "sql(query)"
   ]
  },
  {
   "cell_type": "markdown",
   "id": "9a2faaa2",
   "metadata": {},
   "source": [
    "Count the distinct number of beer names and renames it as \"Number of beer names\"\n",
    "\n",
    " Hint:\n",
    " - `SELECT`...`AS`\n",
    " - `COUNT`\n",
    " - `DISTINCT`\n"
   ]
  },
  {
   "cell_type": "code",
   "execution_count": null,
   "id": "0e14692f",
   "metadata": {},
   "outputs": [],
   "source": [
    "query = \"\"\"\n",
    "*** FILL THE MISSING LINE ***\n",
    "FROM table_ratebeer\n",
    "\"\"\"\n",
    "sql(query)"
   ]
  },
  {
   "cell_type": "markdown",
   "id": "4728dc85",
   "metadata": {},
   "source": [
    " Display the number of reviews per beer.\n",
    "\n",
    " Hint:\n",
    " - `GROUP BY`\n",
    " - `COUNT`"
   ]
  },
  {
   "cell_type": "code",
   "execution_count": null,
   "id": "050067de",
   "metadata": {},
   "outputs": [],
   "source": [
    "query = \"\"\"\n",
    "SELECT beer_name, COUNT(beer_name)\n",
    "FROM table_ratebeer\n",
    "GROUP BY beer_name\n",
    "\"\"\"\n",
    "sql(query)"
   ]
  },
  {
   "cell_type": "markdown",
   "id": "249fb288",
   "metadata": {},
   "source": [
    " Display the 10 beers with the most reviews.\n",
    "\n",
    " Hint:\n",
    " - `GROUP BY`\n",
    " - `ORDER BY`...`DESC`"
   ]
  },
  {
   "cell_type": "code",
   "execution_count": null,
   "id": "9e5c60b0",
   "metadata": {},
   "outputs": [],
   "source": [
    "query = \"\"\"\n",
    "SELECT beer_name, count(beer_name)\n",
    "FROM table_ratebeer\n",
    "GROUP BY beer_name\n",
    "*** FILL THE MISSING LINE ***\n",
    "LIMIT 10\n",
    "\"\"\"\n",
    "sql(query)"
   ]
  },
  {
   "cell_type": "markdown",
   "id": "41bc6bb0",
   "metadata": {},
   "source": [
    " Select the strongest API beers.\n",
    "\n",
    " Hint:\n",
    "- `WHERE` \n",
    "- `LIKE`\n",
    "- `ROUND`\n",
    "- `AVG`"
   ]
  },
  {
   "cell_type": "code",
   "execution_count": null,
   "id": "bcd5435e",
   "metadata": {},
   "outputs": [],
   "source": [
    "query = \"\"\"\n",
    "SELECT beer_style, ROUND(AVG(beer_ABV), 2) as avg_ABV\n",
    "FROM table_ratebeer\n",
    "*** FILL THE MISSING LINE ***\n",
    "GROUP BY beer_style\n",
    "ORDER BY avg_ABV DESC\n",
    "LIMIT 5\n",
    "\"\"\"\n",
    "sql(query)"
   ]
  },
  {
   "cell_type": "markdown",
   "id": "537228ff",
   "metadata": {},
   "source": [
    "### Create reviewers table"
   ]
  },
  {
   "cell_type": "markdown",
   "id": "819ca118",
   "metadata": {},
   "source": [
    "Create a `table_reviewers` view which contains for each profile name, his number of reviews and his average rating. \n",
    "\n",
    "Hint:\n",
    " - `CREATE VIEW ... AS`"
   ]
  },
  {
   "cell_type": "code",
   "execution_count": null,
   "id": "ce67dd72",
   "metadata": {},
   "outputs": [],
   "source": [
    "query = \"\"\"\n",
    "CREATE VIEW table_reviewers\n",
    "AS \n",
    "    SELECT \n",
    "        review_profileName AS profile_name,\n",
    "        *** FILL THE MISSING LINE ***\n",
    "        ROUND(AVG(review_overall), 1) AS average_rating\n",
    "\n",
    "    FROM table_ratebeer\n",
    "    GROUP BY review_profileName\n",
    "\"\"\"\n",
    "sql(query)"
   ]
  },
  {
   "cell_type": "markdown",
   "id": "bfaa99bc",
   "metadata": {},
   "source": [
    " Verify that the view contains what you want."
   ]
  },
  {
   "cell_type": "code",
   "execution_count": null,
   "id": "aa85e904",
   "metadata": {},
   "outputs": [],
   "source": [
    "query = \"\"\"\n",
    "SELECT *\n",
    "FROM table_reviewers\n",
    "\"\"\"\n",
    "sql(query)"
   ]
  },
  {
   "cell_type": "markdown",
   "id": "be5a66f2",
   "metadata": {},
   "source": [
    "### Combine tables"
   ]
  },
  {
   "cell_type": "markdown",
   "id": "375a4a7b",
   "metadata": {},
   "source": [
    "Join the `table_reviewers` with the `table_ratebeer`.\n",
    "\n",
    " Hint:\n",
    " - `JOIN`\n",
    " - `INNER`\n",
    " - `ON`"
   ]
  },
  {
   "cell_type": "code",
   "execution_count": null,
   "id": "87d9f923",
   "metadata": {},
   "outputs": [],
   "source": [
    "query = \"\"\"\n",
    "SELECT \n",
    "  *\n",
    "FROM table_ratebeer\n",
    "INNER JOIN table_reviewers\n",
    "    *** FILL THE MISSING LINE ***\n",
    "LIMIT 5\n",
    "\"\"\"\n",
    "sql(query)"
   ]
  },
  {
   "cell_type": "markdown",
   "id": "c18b2032",
   "metadata": {},
   "source": [
    "Save that final result to a parquet file named `ratebeer_sample_enriched.parquet`.  \n",
    "First, create a view of the table, name `table_ratebeer_enriched`.\n",
    "\n",
    " Hint:\n",
    " - `COPY`\n",
    " - `TO`\n",
    " - `FORMAT`"
   ]
  },
  {
   "cell_type": "code",
   "execution_count": null,
   "id": "84a460de",
   "metadata": {},
   "outputs": [],
   "source": [
    "query = \"\"\"\n",
    "CREATE VIEW table_ratebeer_enriched\n",
    "AS \n",
    "    SELECT *\n",
    "    FROM table_ratebeer\n",
    "    INNER JOIN table_reviewers\n",
    "        ON table_ratebeer.review_profileName == table_reviewers.profile_name\n",
    "\"\"\"\n",
    "sql(query)"
   ]
  },
  {
   "cell_type": "code",
   "execution_count": null,
   "id": "1716016e",
   "metadata": {},
   "outputs": [],
   "source": [
    "query = \"\"\"\n",
    "SELECT *\n",
    "FROM table_ratebeer_enriched\n",
    "LIMIT 5\n",
    "\"\"\"\n",
    "sql(query)"
   ]
  },
  {
   "cell_type": "code",
   "execution_count": null,
   "id": "edcd7b28",
   "metadata": {},
   "outputs": [],
   "source": [
    "# save data (optional)\n",
    "\n",
    "# query = \"\"\"\n",
    "# COPY (SELECT * FROM table_ratebeer_enriched)\n",
    "# TO '/content/ratebeer/data/df_master.parquet' (FORMAT 'parquet')\n",
    "# \"\"\"\n",
    "# sql(query)"
   ]
  },
  {
   "cell_type": "markdown",
   "id": "022a20cc",
   "metadata": {},
   "source": [
    " GOOD JOB 👍\n",
    "\n",
    " ![](https://c.tenor.com/Cn6yJ4YTMJgAAAAC/good-job-clapping.gif)"
   ]
  },
  {
   "cell_type": "markdown",
   "id": "0435bd59",
   "metadata": {},
   "source": [
    "# 2. Data engineering in python with `pandas`"
   ]
  },
  {
   "cell_type": "markdown",
   "id": "0649eddc",
   "metadata": {},
   "source": [
    "### Get some doc\n",
    " - [pandas doc: main page](https://pandas.pydata.org/docs/index.html)\n",
    " - [pandas doc: API reference](https://pandas.pydata.org/docs/reference/index.html)"
   ]
  },
  {
   "cell_type": "markdown",
   "id": "881fa9d8",
   "metadata": {},
   "source": [
    "### Read data"
   ]
  },
  {
   "cell_type": "markdown",
   "id": "1de7125c",
   "metadata": {},
   "source": [
    " Load the file `ratebeer_sample_clean.parquet` to extract a pandas DataFrame and assign\n",
    " it the variable `df_ratebeer`.  \n",
    " Hint:\n",
    " - [`pd.read_parquet`](https://pandas.pydata.org/docs/reference/api/pandas.read_parquet.html)"
   ]
  },
  {
   "cell_type": "code",
   "execution_count": null,
   "id": "9e9990c4",
   "metadata": {},
   "outputs": [],
   "source": [
    "df_ratebeer = pd.read_parquet(file_url)"
   ]
  },
  {
   "cell_type": "markdown",
   "id": "9a0f862d",
   "metadata": {},
   "source": [
    "### Explore data"
   ]
  },
  {
   "cell_type": "markdown",
   "id": "ff63beb1",
   "metadata": {},
   "source": [
    "Display a few reviews.  \n"
   ]
  },
  {
   "cell_type": "code",
   "execution_count": null,
   "id": "5e9c73f6",
   "metadata": {},
   "outputs": [],
   "source": [
    "df_ratebeer"
   ]
  },
  {
   "cell_type": "markdown",
   "id": "9cc5bed1",
   "metadata": {},
   "source": [
    "Display the first 10 rows for some columns only : *beer_name*, *review_text* and *review_overall*\n",
    "\n",
    "Hint:\n",
    " - [`pandas.DataFrame.head`](https://pandas.pydata.org/docs/reference/api/pandas.DataFrame.head.html)"
   ]
  },
  {
   "cell_type": "code",
   "execution_count": null,
   "id": "2172262f",
   "metadata": {},
   "outputs": [],
   "source": [
    "(\n",
    "    df_ratebeer[[\"beer_name\", \"review_text\", \"review_overall\"]]\n",
    "    *** FILL THE MISSING LINE ***\n",
    ")"
   ]
  },
  {
   "cell_type": "markdown",
   "id": "1501557c",
   "metadata": {},
   "source": [
    "Display the dimensionality of the dataset.\n",
    "\n",
    " Hint:\n",
    " - [`pandas.DataFrame.shape`](https://pandas.pydata.org/pandas-docs/stable/reference/api/pandas.DataFrame.shape.html)"
   ]
  },
  {
   "cell_type": "code",
   "execution_count": null,
   "id": "5ae7b31b",
   "metadata": {},
   "outputs": [],
   "source": [
    "*** FILL THE MISSING LINE ***"
   ]
  },
  {
   "cell_type": "markdown",
   "id": "273ee0e9",
   "metadata": {},
   "source": [
    " Check if there are missing values in the data\n",
    "\n",
    " Hint:\n",
    " - [`pd.DataFrame.isnull()`](https://pandas.pydata.org/docs/reference/api/pandas.isnull.html)"
   ]
  },
  {
   "cell_type": "code",
   "execution_count": null,
   "id": "47a4a9ab",
   "metadata": {},
   "outputs": [],
   "source": [
    "df_ratebeer.isnull().sum()"
   ]
  },
  {
   "cell_type": "markdown",
   "id": "c6e7fbfc",
   "metadata": {},
   "source": [
    "Generate descriptive statistics on the numerical variables.\n",
    "\n",
    "Hint:\n",
    " - [`pd.DataFrame.describe`](https://pandas.pydata.org/docs/reference/api/pandas.DataFrame.describe.html)"
   ]
  },
  {
   "cell_type": "code",
   "execution_count": null,
   "id": "6feae8e8",
   "metadata": {},
   "outputs": [],
   "source": [
    "(\n",
    "    *** FILL THE MISSING LINE ***\n",
    ")"
   ]
  },
  {
   "cell_type": "markdown",
   "id": "d056b70c",
   "metadata": {},
   "source": [
    "Display the distinct beer names and then count the distinct number of beer names.\n",
    "\n",
    "\n",
    "Hint:\n",
    " - [`pd.Series.unique`](https://pandas.pydata.org/pandas-docs/stable/reference/api/pandas.Series.unique.html?highlight=unique#pandas.Series.unique)\n",
    " - [`pd.Series.nunique`](https://pandas.pydata.org/pandas-docs/stable/reference/api/pandas.Series.nunique.html?highlight=nunique#pandas.Series.nunique)\n",
    "\n"
   ]
  },
  {
   "cell_type": "code",
   "execution_count": null,
   "id": "5f87b960",
   "metadata": {},
   "outputs": [],
   "source": [
    "(\n",
    "    df_ratebeer.beer_name\n",
    "    .unique()\n",
    ")"
   ]
  },
  {
   "cell_type": "code",
   "execution_count": null,
   "id": "4e6c4d45",
   "metadata": {},
   "outputs": [],
   "source": [
    "(\n",
    "    df_ratebeer.beer_name\n",
    "    *** FILL THE MISSING LINE ***\n",
    ")"
   ]
  },
  {
   "cell_type": "markdown",
   "id": "ac742ae3",
   "metadata": {},
   "source": [
    "Display the number of reviews per beer.\n",
    "\n",
    "Hint:\n",
    " - [`pd.Series.value_counts`](https://pandas.pydata.org/docs/reference/api/pandas.Series.value_counts.html)"
   ]
  },
  {
   "cell_type": "code",
   "execution_count": null,
   "id": "be1e81a3",
   "metadata": {},
   "outputs": [],
   "source": [
    "(\n",
    "    df_ratebeer\n",
    "    .beer_style\n",
    "    *** FILL THE MISSING LINE ***\n",
    ")"
   ]
  },
  {
   "cell_type": "markdown",
   "id": "15826d71",
   "metadata": {},
   "source": [
    " Create the following dataframe :\n",
    "\n",
    " - Keep only those columns:\n",
    "   - `beer_name`,\n",
    "   - `beer_ABV`,\n",
    "   - `beer_style`,\n",
    "   - `review_profileName`,\n",
    "   - `review_text`,\n",
    "   - `review_appearance`,\n",
    "   - `review_aroma`,\n",
    "   - `review_palate`,\n",
    "   - `review_taste`,\n",
    "   - `review_overall`\n",
    " - Keep only rows for which the `beer_style` column contains the string `\"Stout\"`\n",
    "\n",
    " Hint:\n",
    " - [`pd.DataFrame.loc`](https://pandas.pydata.org/docs/reference/api/pandas.DataFrame.loc.html)\n",
    " - [`pd.Series.str.contains`](https://pandas.pydata.org/docs/reference/api/pandas.Series.str.contains.html)\n"
   ]
  },
  {
   "cell_type": "code",
   "execution_count": null,
   "id": "60fc0697",
   "metadata": {},
   "outputs": [],
   "source": [
    "selected_columns = [\n",
    "    \"beer_name\",\n",
    "    \"beer_ABV\",\n",
    "    \"beer_style\",\n",
    "    \"review_profileName\",\n",
    "    \"review_text\",\n",
    "    \"review_appearance\",\n",
    "    \"review_aroma\",\n",
    "    \"review_palate\",\n",
    "    \"review_taste\",\n",
    "    \"review_overall\",\n",
    "]\n",
    "\n",
    "df_ratebeer_stout = (\n",
    "    (df_ratebeer)\n",
    "    .loc[:, selected_columns]\n",
    "    *** FILL THE MISSING LINE ***\n",
    "    .reset_index(drop=True)\n",
    ")\n",
    "\n",
    "df_ratebeer_stout"
   ]
  },
  {
   "cell_type": "markdown",
   "id": "4d965ac3",
   "metadata": {},
   "source": [
    " Compute the number of occurences of each Stout beers.\n"
   ]
  },
  {
   "cell_type": "code",
   "execution_count": null,
   "id": "efe4e171",
   "metadata": {},
   "outputs": [],
   "source": [
    "df_ratebeer_stout.beer_style.value_counts()"
   ]
  },
  {
   "cell_type": "markdown",
   "id": "bc41b335",
   "metadata": {},
   "source": [
    "### Create reviewers dataframe\n"
   ]
  },
  {
   "cell_type": "markdown",
   "id": "b5c3d472",
   "metadata": {},
   "source": [
    "Create a `df_reviewers` view which contains for each profile name, his number of reviews and his average rating.\n",
    "\n",
    "Hint:\n",
    " - [`pandas.core.groupby.DataFrameGroupBy.agg`](https://pandas.pydata.org/pandas-docs/version/0.22/generated/pandas.core.groupby.DataFrameGroupBy.agg.html)\n",
    " - [`pandas.DataFrame.round`](https://pandas.pydata.org/docs/reference/api/pandas.DataFrame.round.html?highlight=round#pandas.DataFrame.round)\n",
    " - [`pandas.DataFrame.reset_index`](https://pandas.pydata.org/docs/reference/api/pandas.DataFrame.reset_index.html)"
   ]
  },
  {
   "cell_type": "code",
   "execution_count": null,
   "id": "aa0dcef7",
   "metadata": {},
   "outputs": [],
   "source": [
    "df_reviewers = (\n",
    "    df_ratebeer\n",
    "    .groupby(\"review_profileName\")\n",
    "    .agg(\n",
    "        number_of_reviews=('review_profileName', 'count'),\n",
    "        *** FILL THE MISSING LINE ***\n",
    "    )\n",
    "    .round(1)\n",
    "    .reset_index()\n",
    ")\n",
    "\n",
    "df_reviewers"
   ]
  },
  {
   "cell_type": "code",
   "execution_count": null,
   "id": "a03faef9",
   "metadata": {},
   "outputs": [],
   "source": [
    "df_ratebeer.head(2)"
   ]
  },
  {
   "cell_type": "markdown",
   "id": "5e3e8154",
   "metadata": {},
   "source": [
    "### Combine dataframes"
   ]
  },
  {
   "cell_type": "markdown",
   "id": "261dfcdf",
   "metadata": {},
   "source": [
    "Create a dataframe combining information from the **df_ratebeer** dataset and the **df_reviewers** dataset, using `merge`.\n",
    "\n",
    "Merging is the equivalent of SQL's joining.\n",
    "\n",
    "Hint:\n",
    " - [`pd.DataFrame.merge`](https://pandas.pydata.org/docs/reference/api/pandas.DataFrame.join.html)"
   ]
  },
  {
   "cell_type": "code",
   "execution_count": null,
   "id": "ef932774",
   "metadata": {},
   "outputs": [],
   "source": [
    "(\n",
    "    df_ratebeer\n",
    "    *** FILL THE MISSING LINE ***\n",
    ")"
   ]
  },
  {
   "cell_type": "markdown",
   "id": "6f61843d",
   "metadata": {},
   "source": [
    " If some columns in both the left & right dataframes have the same name, you'll\n",
    " obtain duplicated columns in the merge result. `pandas` adds the suffixes `_x`\n",
    " and `_y` to avoid creating duplicate columns.\n",
    " Use the `suffixes` argument to specify the suffixes to apply to duplicated\n",
    " columns. In this example, there is no common column name in both dataframes.\n",
    "\n",
    " We made lots of transformation to our datasets: we want to verify that all\n",
    " values in the \"primary keys\" columns are indeed unique. Use the `validate`\n",
    " argument to do so.\n",
    "\n",
    " Generate the `df_master` dataset by merging the 2 dataframes.\n"
   ]
  },
  {
   "cell_type": "code",
   "execution_count": null,
   "id": "375faff2",
   "metadata": {},
   "outputs": [],
   "source": [
    "df_master = (\n",
    "    df_ratebeer\n",
    "    .merge(\n",
    "        df_reviewers,\n",
    "        *** FILL THE MISSING LINE ***\n",
    "        how='inner',\n",
    "        validate=\"m:1\"\n",
    "    )\n",
    ")\n",
    "\n",
    "df_master.head(3)"
   ]
  },
  {
   "cell_type": "markdown",
   "id": "8823af72",
   "metadata": {},
   "source": [
    " Save the final result to a parquet file named `df_master.parquet`.\n",
    "\n",
    " Hint:\n",
    " - [`pd.DataFrame.to_parquet`](https://pandas.pydata.org/pandas-docs/version/1.1.5/reference/api/pandas.DataFrame.to_parquet.html)"
   ]
  },
  {
   "cell_type": "code",
   "execution_count": null,
   "id": "14020015",
   "metadata": {},
   "outputs": [],
   "source": [
    "df_master.to_parquet(\"df_master.parquet\")"
   ]
  },
  {
   "cell_type": "markdown",
   "id": "6021847f",
   "metadata": {
    "lines_to_next_cell": 3
   },
   "source": [
    " GOOD JOB 👍\n",
    "\n",
    " ![](https://c.tenor.com/PgfvhIRWfrAAAAAd/jim-carrey-yes-sir.gif)"
   ]
  }
 ],
 "metadata": {
  "jupytext": {
   "cell_metadata_filter": "-all",
   "main_language": "python",
   "notebook_metadata_filter": "-all"
  }
 },
 "nbformat": 4,
 "nbformat_minor": 5
}
