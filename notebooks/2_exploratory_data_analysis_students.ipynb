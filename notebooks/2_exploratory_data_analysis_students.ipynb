{
 "cells": [
  {
   "cell_type": "markdown",
   "id": "b2af04af",
   "metadata": {},
   "source": [
    "# Preparation\n",
    "## Install & import modules"
   ]
  },
  {
   "cell_type": "code",
   "execution_count": null,
   "id": "7289ef66",
   "metadata": {},
   "outputs": [],
   "source": [
    "! pip install seaborn"
   ]
  },
  {
   "cell_type": "code",
   "execution_count": null,
   "id": "c1d22f81",
   "metadata": {},
   "outputs": [],
   "source": [
    "from pathlib import Path\n",
    "\n",
    "import numpy as np\n",
    "import pandas as pd\n",
    "import seaborn as sns"
   ]
  },
  {
   "cell_type": "markdown",
   "id": "d0b26dd1",
   "metadata": {},
   "source": [
    "## Read remote dataset"
   ]
  },
  {
   "cell_type": "markdown",
   "id": "693b3037",
   "metadata": {},
   "source": [
    "The data is in this git repository: [ML-boot-camp/ratebeer.git](https://github.com/ML-boot-camp/ratebeer.git).\n",
    "\n",
    "The data is located in the `ratebeer/data/` folder.\n"
   ]
  },
  {
   "cell_type": "code",
   "execution_count": null,
   "id": "a787c0cf",
   "metadata": {},
   "outputs": [],
   "source": [
    "file_url = \"https://github.com/ML-boot-camp/ratebeer/raw/master/data/ratebeer_sample_clean.parquet\""
   ]
  },
  {
   "cell_type": "code",
   "execution_count": null,
   "id": "6b16d9ea",
   "metadata": {},
   "outputs": [],
   "source": [
    "df_ratebeer = pd.read_parquet(file_url)"
   ]
  },
  {
   "cell_type": "code",
   "execution_count": null,
   "id": "e01fc949",
   "metadata": {},
   "outputs": [],
   "source": [
    "df_reviewers = (\n",
    "    df_ratebeer\n",
    "    .groupby(\"review_profileName\")\n",
    "    .agg(\n",
    "        number_of_reviews=('review_profileName', 'count'),\n",
    "        average_rating=('review_overall', 'mean')\n",
    "    )\n",
    "    .round(1)\n",
    "    .reset_index()\n",
    ")"
   ]
  },
  {
   "cell_type": "code",
   "execution_count": null,
   "id": "00de5762",
   "metadata": {},
   "outputs": [],
   "source": [
    "df_master = (\n",
    "    df_ratebeer\n",
    "    .merge(\n",
    "        df_reviewers,\n",
    "        on=\"review_profileName\",\n",
    "        how='inner',\n",
    "        validate=\"m:1\"\n",
    "    )\n",
    "    .assign(\n",
    "        review_time=lambda df: df.review_time.astype(int)\n",
    "        .apply(pd.Timestamp.fromtimestamp)\n",
    "    )\n",
    "    .assign(\n",
    "        positive_review=lambda df: (df.review_overall >= df.review_overall.median()).astype(int)\n",
    "    )\n",
    ")"
   ]
  },
  {
   "cell_type": "markdown",
   "id": "274b3806",
   "metadata": {},
   "source": [
    "# `df_master` DataFrame"
   ]
  },
  {
   "cell_type": "markdown",
   "id": "a94ac89f",
   "metadata": {},
   "source": [
    "## General information\n",
    "Have a first overview of the dataframe size, i.e. number of rows & columns.\n",
    "\n",
    "Methods you'll need:\n",
    "- [`pd.DataFrame.shape`](https://pandas.pydata.org/docs/reference/api/pandas.DataFrame.shape.html)"
   ]
  },
  {
   "cell_type": "code",
   "execution_count": null,
   "id": "e5753617",
   "metadata": {},
   "outputs": [],
   "source": [
    "df_master.shape"
   ]
  },
  {
   "cell_type": "markdown",
   "id": "e7ed2a6d",
   "metadata": {},
   "source": [
    "Get a few information about the content of the dataframe:\n",
    "- number of null values per column\n",
    "- data type of each column\n",
    "- memory usage\n",
    "\n",
    "Methods you'll need:\n",
    "- [`pd.DataFrame.isnull`](https://pandas.pydata.org/docs/reference/api/pandas.DataFrame.isnull.html)\n",
    "- [`pd.DataFrame.sum`](https://pandas.pydata.org/docs/reference/api/pandas.DataFrame.sum.html)\n",
    "- [`pd.DataFrame.dtypes`](https://pandas.pydata.org/docs/reference/api/pandas.DataFrame.dtypes.html)\n",
    "- [`pd.DataFrame.info`](https://pandas.pydata.org/docs/reference/api/pandas.DataFrame.info.html)"
   ]
  },
  {
   "cell_type": "code",
   "execution_count": null,
   "id": "c075c475",
   "metadata": {},
   "outputs": [],
   "source": [
    "df_master.isnull().sum()"
   ]
  },
  {
   "cell_type": "code",
   "execution_count": null,
   "id": "706458b1",
   "metadata": {},
   "outputs": [],
   "source": [
    "df_master.dtypes"
   ]
  },
  {
   "cell_type": "code",
   "execution_count": null,
   "id": "287173a3",
   "metadata": {},
   "outputs": [],
   "source": [
    "*** FILL THE MISSING LINE ***"
   ]
  },
  {
   "cell_type": "markdown",
   "id": "15e6ff6d",
   "metadata": {},
   "source": [
    "Show a sample of the data\n",
    "\n",
    "Methods you'll need:\n",
    "- [`pd.DataFrame.head`](https://pandas.pydata.org/docs/reference/api/pandas.DataFrame.head.html)\n",
    "- [`pd.DataFrame.sample`](https://pandas.pydata.org/docs/reference/api/pandas.DataFrame.sample.html)\n",
    "\n",
    "Bonus: display the transpose of the dataframe for better readability when having lots of columns using:\n",
    "- [`pd.DataFrame.T`](https://pandas.pydata.org/docs/reference/api/pandas.DataFrame.T.html)"
   ]
  },
  {
   "cell_type": "code",
   "execution_count": null,
   "id": "bc3f8c40",
   "metadata": {},
   "outputs": [],
   "source": [
    "df_master.head(5)"
   ]
  },
  {
   "cell_type": "code",
   "execution_count": null,
   "id": "55b74893",
   "metadata": {},
   "outputs": [],
   "source": [
    "df_master.sample(5).T"
   ]
  },
  {
   "cell_type": "markdown",
   "id": "4b7f235e",
   "metadata": {},
   "source": [
    "Compute statistics to understand the content of each column.\n",
    "\n",
    "Methods you'll need:\n",
    "- [`pd.DataFrame.describe`](https://pandas.pydata.org/docs/reference/api/pandas.DataFrame.describe.html)\n",
    "- [`pd.DataFrame.fillna`](https://pandas.pydata.org/docs/reference/api/pandas.DataFrame.fillna.html)\n",
    "\n",
    "Bonus: fill NaN values with an empty string `\"\"` for a better readability using:"
   ]
  },
  {
   "cell_type": "code",
   "execution_count": null,
   "id": "690ad0fe",
   "metadata": {},
   "outputs": [],
   "source": [
    "df_master.describe(include=\"all\").fillna(\"\").T"
   ]
  },
  {
   "cell_type": "markdown",
   "id": "27de1545",
   "metadata": {},
   "source": [
    "## Quantitative variables\n",
    "\n",
    "- `review_appearance`\n",
    "- `review_aroma`\n",
    "- `review_palate`\n",
    "- `review_taste`\n",
    "- `review_overall`\n",
    "- `average_rating`\n",
    "- `number_of_reviews`\n",
    "- `beer_ABV`"
   ]
  },
  {
   "cell_type": "markdown",
   "id": "fad1d0f3",
   "metadata": {},
   "source": [
    "Methods you'll need:\n",
    "- [`pd.DataFrame.describe`](https://pandas.pydata.org/docs/reference/api/pandas.DataFrame.describe.html)\n",
    "- [`pd.Series.hist`](https://pandas.pydata.org/docs/reference/api/pandas.Series.hist.html)\n",
    "- [`pd.DataFrame.fillna`](https://pandas.pydata.org/docs/reference/api/pandas.DataFrame.fillna.html)"
   ]
  },
  {
   "cell_type": "markdown",
   "id": "5f6fc083",
   "metadata": {},
   "source": [
    "Describe all quantitative variables"
   ]
  },
  {
   "cell_type": "code",
   "execution_count": null,
   "id": "9f406302",
   "metadata": {},
   "outputs": [],
   "source": [
    "pd.set_option(\"display.precision\", 2)"
   ]
  },
  {
   "cell_type": "code",
   "execution_count": null,
   "id": "3723a5c1",
   "metadata": {},
   "outputs": [],
   "source": [
    "quantitative_columns = [\n",
    "    \"review_appearance\",\n",
    "    \"review_aroma\",\n",
    "    \"review_palate\",\n",
    "    \"review_taste\",\n",
    "    \"review_overall\",\n",
    "    \"average_rating\",\n",
    "    \"number_of_reviews\",\n",
    "    \"beer_ABV\",\n",
    "]\n",
    "(\n",
    "    (df_master)\n",
    "    .loc[:, quantitative_columns]\n",
    "    *** FILL THE MISSING LINE ***\n",
    "    *** FILL THE MISSING LINE ***\n",
    "    *** FILL THE MISSING LINE ***\n",
    ")"
   ]
  },
  {
   "cell_type": "markdown",
   "id": "b6694f7f",
   "metadata": {},
   "source": [
    "Describe and plot all numeric columns containing reviews: review_* & average_rating"
   ]
  },
  {
   "cell_type": "code",
   "execution_count": null,
   "id": "af7808fd",
   "metadata": {},
   "outputs": [],
   "source": [
    "review_columns = [\n",
    "    \"review_appearance\",\n",
    "    \"review_aroma\",\n",
    "    *** FILL THE MISSING LINE ***\n",
    "    *** FILL THE MISSING LINE ***\n",
    "    *** FILL THE MISSING LINE ***\n",
    "    \"average_rating\",\n",
    "]\n",
    "HISTOGRAM_SIZE = (6, 3)\n",
    "(\n",
    "    (df_master)\n",
    "    .loc[:, review_columns]\n",
    "    .plot.hist(\n",
    "        bins=range(21),\n",
    "        subplots=True,\n",
    "        figsize=(HISTOGRAM_SIZE[0], len(review_columns) * HISTOGRAM_SIZE[1]),\n",
    "    )\n",
    ")"
   ]
  },
  {
   "cell_type": "markdown",
   "id": "8d598253",
   "metadata": {},
   "source": [
    "Plot `number_of_reviews`"
   ]
  },
  {
   "cell_type": "code",
   "execution_count": null,
   "id": "d483e243",
   "metadata": {},
   "outputs": [],
   "source": [
    "(\n",
    "    (df_master)\n",
    "    .number_of_reviews\n",
    "    *** FILL THE MISSING LINE ***\n",
    ")"
   ]
  },
  {
   "cell_type": "code",
   "execution_count": null,
   "id": "f3c1df7e",
   "metadata": {},
   "outputs": [],
   "source": [
    "(\n",
    "    (df_master)\n",
    "    *** FILL THE MISSING LINE ***\n",
    "    .plot.hist(bins=100, loglog=True)\n",
    ")"
   ]
  },
  {
   "cell_type": "markdown",
   "id": "6c0a1cd2",
   "metadata": {},
   "source": [
    "If interested, you can read: [Zipf's Law on Wikipedia](https://en.wikipedia.org/wiki/Zipf's_law)"
   ]
  },
  {
   "cell_type": "markdown",
   "id": "f6740aeb",
   "metadata": {},
   "source": [
    "Plot `beer_ABV`"
   ]
  },
  {
   "cell_type": "code",
   "execution_count": null,
   "id": "e439af4f",
   "metadata": {},
   "outputs": [],
   "source": [
    "(\n",
    "    (df_master)\n",
    "    *** FILL THE MISSING LINE ***\n",
    "    .plot.hist(bins=100)\n",
    ")"
   ]
  },
  {
   "cell_type": "code",
   "execution_count": null,
   "id": "94383910",
   "metadata": {},
   "outputs": [],
   "source": [
    "(\n",
    "    (df_master)\n",
    "    *** FILL THE MISSING LINE ***\n",
    "    .plot.hist(bins=100, logy=True)\n",
    ")"
   ]
  },
  {
   "cell_type": "markdown",
   "id": "8c9a7558",
   "metadata": {},
   "source": [
    "Plot `review_time`"
   ]
  },
  {
   "cell_type": "code",
   "execution_count": null,
   "id": "4079cf39",
   "metadata": {},
   "outputs": [],
   "source": [
    "(\n",
    "    df_master\n",
    "    .review_time\n",
    "    *** FILL THE MISSING LINE ***\n",
    ")"
   ]
  },
  {
   "cell_type": "markdown",
   "id": "5cc1b57e",
   "metadata": {},
   "source": [
    "## Nominal and ordinal variables:\n",
    "- `positive_review`\n",
    "- `beer_style`\n",
    "- `beer_name`\n",
    "- `beer_beerId`\n",
    "- `beer_brewerId`\n",
    "- `review_profileName`"
   ]
  },
  {
   "cell_type": "markdown",
   "id": "7717bc92",
   "metadata": {},
   "source": [
    "Describe and plot `positive_review`"
   ]
  },
  {
   "cell_type": "code",
   "execution_count": null,
   "id": "205f0c4b",
   "metadata": {},
   "outputs": [],
   "source": [
    "(\n",
    "    (df_master)\n",
    "    .positive_review\n",
    "    *** FILL THE MISSING LINE ***\n",
    ")"
   ]
  },
  {
   "cell_type": "code",
   "execution_count": null,
   "id": "bd8f23a0",
   "metadata": {},
   "outputs": [],
   "source": [
    "(\n",
    "    (df_master)\n",
    "    .positive_review\n",
    "    *** FILL THE MISSING LINE ***\n",
    "    *** FILL THE MISSING LINE ***\n",
    ")"
   ]
  },
  {
   "cell_type": "markdown",
   "id": "3e5fa84c",
   "metadata": {},
   "source": [
    "Describe and plot `beer_style`"
   ]
  },
  {
   "cell_type": "code",
   "execution_count": null,
   "id": "282e6ce7",
   "metadata": {},
   "outputs": [],
   "source": [
    "(\n",
    "    (df_master)\n",
    "    *** FILL THE MISSING LINE ***\n",
    "    .describe()\n",
    ")"
   ]
  },
  {
   "cell_type": "code",
   "execution_count": null,
   "id": "6e690e89",
   "metadata": {},
   "outputs": [],
   "source": [
    "(\n",
    "    (df_master)\n",
    "    .beer_style\n",
    "    .value_counts()\n",
    "    *** FILL THE MISSING LINE ***\n",
    ")"
   ]
  },
  {
   "cell_type": "code",
   "execution_count": null,
   "id": "fe77e941",
   "metadata": {},
   "outputs": [],
   "source": [
    "(\n",
    "    (df_master)\n",
    "    .beer_style\n",
    "    *** FILL THE MISSING LINE ***\n",
    "    .plot.bar(logy=True)\n",
    ")"
   ]
  },
  {
   "cell_type": "markdown",
   "id": "f281ad72",
   "metadata": {},
   "source": [
    "Describe and plot `beer_name`"
   ]
  },
  {
   "cell_type": "code",
   "execution_count": null,
   "id": "39448898",
   "metadata": {},
   "outputs": [],
   "source": [
    "(\n",
    "    (df_master)\n",
    "    .beer_name\n",
    "    .describe()\n",
    ")"
   ]
  },
  {
   "cell_type": "code",
   "execution_count": null,
   "id": "ef84b2fb",
   "metadata": {},
   "outputs": [],
   "source": [
    "(\n",
    "    (df_master)\n",
    "    .beer_name\n",
    "    .value_counts()\n",
    "    .value_counts()\n",
    "    *** FILL THE MISSING LINE ***\n",
    ")"
   ]
  },
  {
   "cell_type": "code",
   "execution_count": null,
   "id": "681b775b",
   "metadata": {},
   "outputs": [],
   "source": [
    "(\n",
    "    (df_master)\n",
    "    *** FILL THE MISSING LINE ***\n",
    "    *** FILL THE MISSING LINE ***\n",
    "    .value_counts()\n",
    "    .plot.bar(logy=True)\n",
    ")"
   ]
  },
  {
   "cell_type": "code",
   "execution_count": null,
   "id": "9a5c33b5",
   "metadata": {},
   "outputs": [],
   "source": [
    "(\n",
    "    (df_master)\n",
    "    .beer_name\n",
    "    *** FILL THE MISSING LINE ***\n",
    "    *** FILL THE MISSING LINE ***\n",
    "    .plot(loglog=True, marker=\".\")\n",
    ")"
   ]
  },
  {
   "cell_type": "markdown",
   "id": "57b00440",
   "metadata": {},
   "source": [
    "Describe and plot `beer_beerId`"
   ]
  },
  {
   "cell_type": "code",
   "execution_count": null,
   "id": "b10431b7",
   "metadata": {},
   "outputs": [],
   "source": [
    "(\n",
    "    (df_master)\n",
    "    *** FILL THE MISSING LINE ***\n",
    "    .describe()\n",
    ")"
   ]
  },
  {
   "cell_type": "code",
   "execution_count": null,
   "id": "8077f3c6",
   "metadata": {},
   "outputs": [],
   "source": [
    "(\n",
    "    (df_master)\n",
    "    *** FILL THE MISSING LINE ***\n",
    "    .value_counts()\n",
    "    .value_counts()\n",
    "    .plot.bar()\n",
    ")"
   ]
  },
  {
   "cell_type": "code",
   "execution_count": null,
   "id": "7a181a4a",
   "metadata": {},
   "outputs": [],
   "source": [
    "(\n",
    "    (df_master)\n",
    "    *** FILL THE MISSING LINE ***\n",
    "    .value_counts()\n",
    "    .value_counts()\n",
    "    .plot.bar(logy=True)\n",
    ")"
   ]
  },
  {
   "cell_type": "code",
   "execution_count": null,
   "id": "dbe90092",
   "metadata": {},
   "outputs": [],
   "source": [
    "(\n",
    "    (df_master)\n",
    "    *** FILL THE MISSING LINE ***\n",
    "    .value_counts()\n",
    "    .value_counts()\n",
    "    .plot(loglog=True, marker=\".\")\n",
    ")"
   ]
  },
  {
   "cell_type": "code",
   "execution_count": null,
   "id": "52f185ac",
   "metadata": {},
   "outputs": [],
   "source": [
    "(\n",
    "    (df_master)\n",
    "    *** FILL THE MISSING LINE ***\n",
    "    .value_counts()\n",
    "    .plot.hist(loglog=True, bins=200)\n",
    ")"
   ]
  },
  {
   "cell_type": "markdown",
   "id": "9ad3dd85",
   "metadata": {},
   "source": [
    "If interested, you can read: [Zipf's Law on Wikipedia](https://en.wikipedia.org/wiki/Zipf's_law)"
   ]
  },
  {
   "cell_type": "markdown",
   "id": "e3337669",
   "metadata": {},
   "source": [
    "Describe and plot `beer_brewerId`"
   ]
  },
  {
   "cell_type": "code",
   "execution_count": null,
   "id": "e863fd8b",
   "metadata": {},
   "outputs": [],
   "source": [
    "(\n",
    "    (df_master)\n",
    "    *** FILL THE MISSING LINE ***\n",
    "    .describe()\n",
    ")"
   ]
  },
  {
   "cell_type": "code",
   "execution_count": null,
   "id": "2fca8891",
   "metadata": {},
   "outputs": [],
   "source": [
    "(\n",
    "    (df_master)\n",
    "    .beer_brewerId\n",
    "    .value_counts()\n",
    "    *** FILL THE MISSING LINE ***\n",
    "    .plot.bar()\n",
    ")"
   ]
  },
  {
   "cell_type": "code",
   "execution_count": null,
   "id": "18ae9bf1",
   "metadata": {},
   "outputs": [],
   "source": [
    "(\n",
    "    (df_master)\n",
    "    .beer_brewerId\n",
    "    *** FILL THE MISSING LINE ***\n",
    "    .value_counts()\n",
    "    .plot.bar(logy=True)\n",
    ")"
   ]
  },
  {
   "cell_type": "code",
   "execution_count": null,
   "id": "ccfae2c1",
   "metadata": {
    "lines_to_next_cell": 0
   },
   "outputs": [],
   "source": [
    "(\n",
    "    (df_master)\n",
    "    *** FILL THE MISSING LINE ***\n",
    "    *** FILL THE MISSING LINE ***\n",
    "    .value_counts()\n",
    "    .plot(loglog=True, marker=\".\")\n",
    ")"
   ]
  },
  {
   "cell_type": "markdown",
   "id": "5ae13774",
   "metadata": {},
   "source": [
    "If interested, you can read: [Zipf's Law on Wikipedia](https://en.wikipedia.org/wiki/Zipf's_law)"
   ]
  },
  {
   "cell_type": "markdown",
   "id": "5840f74a",
   "metadata": {},
   "source": [
    "Describe and plot `review_profileName`"
   ]
  },
  {
   "cell_type": "code",
   "execution_count": null,
   "id": "ff98c90c",
   "metadata": {},
   "outputs": [],
   "source": [
    "(\n",
    "    (df_master)\n",
    "    .review_profileName\n",
    "    *** FILL THE MISSING LINE ***\n",
    ")"
   ]
  },
  {
   "cell_type": "code",
   "execution_count": null,
   "id": "4cadf7bb",
   "metadata": {},
   "outputs": [],
   "source": [
    "(\n",
    "    (df_master)\n",
    "    *** FILL THE MISSING LINE ***\n",
    "    *** FILL THE MISSING LINE ***\n",
    "    .value_counts()\n",
    "    .plot.bar()\n",
    ")"
   ]
  },
  {
   "cell_type": "code",
   "execution_count": null,
   "id": "8c6ac044",
   "metadata": {},
   "outputs": [],
   "source": [
    "(\n",
    "    (df_master)\n",
    "    *** FILL THE MISSING LINE ***\n",
    "    *** FILL THE MISSING LINE ***\n",
    "    .value_counts()\n",
    "    .plot.bar(logy=True)\n",
    ")"
   ]
  },
  {
   "cell_type": "code",
   "execution_count": null,
   "id": "9e0a846b",
   "metadata": {},
   "outputs": [],
   "source": [
    "(\n",
    "    (df_master)\n",
    "    .review_profileName\n",
    "    *** FILL THE MISSING LINE ***\n",
    "    .value_counts()\n",
    "    .plot(loglog=True, marker=\".\")\n",
    ")"
   ]
  },
  {
   "cell_type": "markdown",
   "id": "646f9ee6",
   "metadata": {},
   "source": [
    "If interested, you can read: [Zipf's Law on Wikipedia](https://en.wikipedia.org/wiki/Zipf's_law)"
   ]
  },
  {
   "cell_type": "markdown",
   "id": "e9e542f5",
   "metadata": {},
   "source": [
    "## Relationship with the target `positive_review`\n",
    "### Quantitative variables"
   ]
  },
  {
   "cell_type": "markdown",
   "id": "9a59dadf",
   "metadata": {},
   "source": [
    "Plot `review_overall` relationship with `positive_review`"
   ]
  },
  {
   "cell_type": "code",
   "execution_count": null,
   "id": "f1877676",
   "metadata": {},
   "outputs": [],
   "source": [
    "(\n",
    "    (df_master)\n",
    "    .pipe(sns.histplot, x=\"review_overall\", bins=range(21), hue=\"positive_review\")\n",
    ")"
   ]
  },
  {
   "cell_type": "markdown",
   "id": "0fa62e11",
   "metadata": {},
   "source": [
    "Plot `review_appearance` relationship with `positive_review`"
   ]
  },
  {
   "cell_type": "code",
   "execution_count": null,
   "id": "ce475b5e",
   "metadata": {},
   "outputs": [],
   "source": [
    "(\n",
    "    (df_master)\n",
    "    *** FILL THE MISSING LINE ***\n",
    ")"
   ]
  },
  {
   "cell_type": "markdown",
   "id": "5bcdc272",
   "metadata": {},
   "source": [
    "Plot `review_aroma` relationship with `positive_review`"
   ]
  },
  {
   "cell_type": "code",
   "execution_count": null,
   "id": "c9e2d6c5",
   "metadata": {},
   "outputs": [],
   "source": [
    "(\n",
    "    (df_master)\n",
    "    *** FILL THE MISSING LINE ***\n",
    ")"
   ]
  },
  {
   "cell_type": "markdown",
   "id": "915ecd72",
   "metadata": {},
   "source": [
    "Plot `review_palate` relationship with `positive_review`"
   ]
  },
  {
   "cell_type": "code",
   "execution_count": null,
   "id": "e39fa8b0",
   "metadata": {},
   "outputs": [],
   "source": [
    "(\n",
    "    *** FILL THE MISSING LINE ***\n",
    "    .pipe(sns.histplot, x=\"review_palate\", bins=range(21), hue=\"positive_review\")\n",
    ")"
   ]
  },
  {
   "cell_type": "markdown",
   "id": "8705efb6",
   "metadata": {},
   "source": [
    "Plot `review_taste` relationship with `positive_review`"
   ]
  },
  {
   "cell_type": "code",
   "execution_count": null,
   "id": "bcda6cb1",
   "metadata": {},
   "outputs": [],
   "source": [
    "(\n",
    "    (df_master)\n",
    "    *** FILL THE MISSING LINE ***\n",
    ")"
   ]
  },
  {
   "cell_type": "markdown",
   "id": "476dff6f",
   "metadata": {},
   "source": [
    "### Quantitative variables"
   ]
  },
  {
   "cell_type": "markdown",
   "id": "6db085a4",
   "metadata": {},
   "source": [
    "Plot `beer_style` relationship with `positive_review`"
   ]
  },
  {
   "cell_type": "code",
   "execution_count": null,
   "id": "b59a08df",
   "metadata": {},
   "outputs": [],
   "source": [
    "(\n",
    "    *** FILL THE MISSING LINE ***\n",
    "    .pipe(sns.histplot, x=\"beer_style\", bins=range(21), hue=\"positive_review\")\n",
    ")"
   ]
  },
  {
   "cell_type": "markdown",
   "id": "b766f38e",
   "metadata": {},
   "source": [
    "### High cardinality variables"
   ]
  },
  {
   "cell_type": "code",
   "execution_count": null,
   "id": "27a8b58f",
   "metadata": {},
   "outputs": [],
   "source": [
    "(\n",
    "    (df_master)\n",
    "    .sample(10000)\n",
    "    .assign(beer_beerId_noccurences=lambda df: df.beer_beerId.pipe(lambda s: s.replace(s.value_counts().to_dict())))\n",
    "    .pipe(sns.histplot, x=\"beer_beerId_noccurences\", bins=range(21), hue=\"positive_review\")\n",
    ")"
   ]
  },
  {
   "cell_type": "code",
   "execution_count": null,
   "id": "9e2f7c92",
   "metadata": {},
   "outputs": [],
   "source": [
    "(\n",
    "    (df_master)\n",
    "    .sample(10000)\n",
    "    .assign(beer_brewerId_noccurences=lambda df: df.beer_brewerId.pipe(lambda s: s.replace(s.value_counts().to_dict())))\n",
    "    .pipe(sns.histplot, x=\"beer_brewerId_noccurences\", bins=range(21), hue=\"positive_review\")\n",
    ")"
   ]
  },
  {
   "cell_type": "code",
   "execution_count": null,
   "id": "403448b2",
   "metadata": {},
   "outputs": [],
   "source": [
    "(\n",
    "    (df_master)\n",
    "    .sample(10000)\n",
    "    .assign(review_profileName_noccurences=lambda df: df.review_profileName.pipe(lambda s: s.replace(s.value_counts().to_dict())))\n",
    "    .pipe(sns.histplot, x=\"review_profileName_noccurences\", bins=range(21), hue=\"positive_review\")\n",
    ")"
   ]
  },
  {
   "cell_type": "markdown",
   "id": "30e84d1d",
   "metadata": {},
   "source": [
    "## Multivariate plots"
   ]
  },
  {
   "cell_type": "markdown",
   "id": "d30fb2e8",
   "metadata": {},
   "source": [
    "Plot a scatter matrix of the numerical variables, colored by the target column\n",
    "`positive_review`.\n",
    "\n",
    "Hint:\n",
    "- [`pd.DataFrame.select_dtypes`](https://pandas.pydata.org/docs/reference/api/pandas.DataFrame.select_dtypes.html)\n",
    "- [`pd.plotting.scatter_matrix`](https://pandas.pydata.org/docs/reference/api/pandas.plotting.scatter_matrix.html)"
   ]
  },
  {
   "cell_type": "code",
   "execution_count": null,
   "id": "d871fdd5",
   "metadata": {},
   "outputs": [],
   "source": [
    "review_columns = [\n",
    "    \"review_appearance\",\n",
    "    \"review_aroma\",\n",
    "    \"review_palate\",\n",
    "    \"review_taste\",\n",
    "    \"review_overall\",\n",
    "]\n",
    "\n",
    "def add_jitter(df, jitter=0.4):\n",
    "    return df + np.random.uniform(low=-jitter, high=jitter, size=df.shape)\n",
    "\n",
    "(\n",
    "    (df_master)\n",
    "    .loc[:, review_columns]\n",
    "    .head(10000)\n",
    "    *** FILL THE MISSING LINE ***\n",
    "    .pipe(\n",
    "        pd.plotting.scatter_matrix,\n",
    "        figsize=(15, 15),\n",
    "        *** FILL THE MISSING LINE ***\n",
    "        *** FILL THE MISSING LINE ***\n",
    "        *** FILL THE MISSING LINE ***\n",
    "    )\n",
    ")"
   ]
  },
  {
   "cell_type": "markdown",
   "id": "3a40de56",
   "metadata": {},
   "source": [
    "## String manipulation\n",
    "Using the [`pd.Series.str`](https://pandas.pydata.org/docs/reference/api/pandas.Series.str.html) API"
   ]
  },
  {
   "cell_type": "markdown",
   "id": "a567605c",
   "metadata": {},
   "source": [
    "### `review_text` column:"
   ]
  },
  {
   "cell_type": "markdown",
   "id": "306339f4",
   "metadata": {},
   "source": [
    "Compute the length of the texts in the dataset.\n",
    "\n",
    "Methods you'll need:\n",
    "- [`pd.Series.str.len`](https://pandas.pydata.org/docs/reference/api/pandas.Series.str.len.html)\n",
    "- [`pd.Series.str`](https://pandas.pydata.org/docs/reference/api/pandas.Series.str..html)\n",
    "\n",
    "Bonus: plot an histogram of the values, with log values, using:\n",
    "- [`pd.Series.plot.hist`](https://pandas.pydata.org/docs/reference/api/pandas.Series.plot.bar.html)\n",
    "\n",
    "Is it a Power law distribution ?"
   ]
  },
  {
   "cell_type": "code",
   "execution_count": null,
   "id": "3b9e35d3",
   "metadata": {},
   "outputs": [],
   "source": [
    "(\n",
    "    (df_master.review_text)\n",
    "    .str.len()\n",
    "    *** FILL THE MISSING LINE ***\n",
    ")"
   ]
  },
  {
   "cell_type": "code",
   "execution_count": null,
   "id": "7bb3952b",
   "metadata": {},
   "outputs": [],
   "source": [
    "(\n",
    "    (df_master.review_text)\n",
    "    *** FILL THE MISSING LINE ***\n",
    "    .plot.hist(bins=range(2000), logy=True)\n",
    ")"
   ]
  },
  {
   "cell_type": "markdown",
   "id": "4f2e069c",
   "metadata": {},
   "source": [
    "Compute the frequency of the most used letters in the texts\n",
    "\n",
    "Methods you'll need:\n",
    "- [`pd.Series.str.lower`](https://pandas.pydata.org/docs/reference/api/pandas.Series.str.lower.html)\n",
    "- [`pd.Series.str.split`](https://pandas.pydata.org/docs/reference/api/pandas.Series.str.split.html)\n",
    "- [`pd.Series.explode`](https://pandas.pydata.org/docs/reference/api/pandas.Series.explode.html)\n",
    "- [`pd.Series.value_counts`](https://pandas.pydata.org/docs/reference/api/pandas.Series.value_counts.html)\n",
    "- [`pd.Series.head`](https://pandas.pydata.org/docs/reference/api/pandas.Series.head.html)\n",
    "\n",
    "Bonus: plot an histogram of the values, with log values, using:\n",
    "- [`pd.Series.plot.hist`](https://pandas.pydata.org/docs/reference/api/pandas.Series.plot.bar.html)\n",
    "\n",
    "Is it a Power law distribution ?"
   ]
  },
  {
   "cell_type": "code",
   "execution_count": null,
   "id": "9ea606fa",
   "metadata": {},
   "outputs": [],
   "source": [
    "df_most_used_letters = (\n",
    "    (df_master.review_text)\n",
    "    .str.lower()\n",
    "    .str.split(\"\")\n",
    "    .explode()\n",
    "    .loc[lambda x: x != \" \"]\n",
    "    *** FILL THE MISSING LINE ***\n",
    ")"
   ]
  },
  {
   "cell_type": "code",
   "execution_count": null,
   "id": "331e4df3",
   "metadata": {},
   "outputs": [],
   "source": [
    "(\n",
    "    df_most_used_letters\n",
    "    .head(40)\n",
    "    *** FILL THE MISSING LINE ***\n",
    ")"
   ]
  },
  {
   "cell_type": "code",
   "execution_count": null,
   "id": "d24f2b21",
   "metadata": {},
   "outputs": [],
   "source": [
    "(\n",
    "    df_most_used_letters\n",
    "    *** FILL THE MISSING LINE ***\n",
    "    .plot.bar(logy=True)\n",
    ")"
   ]
  },
  {
   "cell_type": "markdown",
   "id": "194d6bb9",
   "metadata": {},
   "source": [
    "Compute the frequency of the most used words in the texts\n",
    "\n",
    "Methods you'll need:\n",
    "- [`pd.Series.str.len`](https://pandas.pydata.org/docs/reference/api/pandas.Series.str.len.html)\n",
    "- [`pd.Series.str.split`](https://pandas.pydata.org/docs/reference/api/pandas.Series.str.split.html)\n",
    "- [`pd.Series.explode`](https://pandas.pydata.org/docs/reference/api/pandas.Series.explode.html)\n",
    "- [`pd.Series.value_counts`](https://pandas.pydata.org/docs/reference/api/pandas.Series.value_counts.html)\n",
    "- [`pd.Series.head`](https://pandas.pydata.org/docs/reference/api/pandas.Series.head.html)\n",
    "\n",
    "Bonus: plot an histogram of the values, with log values, using:\n",
    "- [`pd.Series.plot.hist`](https://pandas.pydata.org/docs/reference/api/pandas.Series.plot.bar.html)\n",
    "\n",
    "Is it a Power law distribution ?"
   ]
  },
  {
   "cell_type": "code",
   "execution_count": null,
   "id": "897a13ef",
   "metadata": {},
   "outputs": [],
   "source": [
    "word_frequencies = (\n",
    "    (df_master.review_text)\n",
    "    .str.lower()\n",
    "    .str.replace(r\"[^a-z\\ ]\", \"\")\n",
    "    .str.replace(r\"\\ +\", \" \")\n",
    "    *** FILL THE MISSING LINE ***\n",
    "    .explode()\n",
    "    .value_counts()\n",
    ")\n",
    "word_frequencies"
   ]
  },
  {
   "cell_type": "code",
   "execution_count": null,
   "id": "526388f3",
   "metadata": {},
   "outputs": [],
   "source": [
    "(\n",
    "    word_frequencies\n",
    "    .head(100)\n",
    "    *** FILL THE MISSING LINE ***\n",
    ")"
   ]
  },
  {
   "cell_type": "code",
   "execution_count": null,
   "id": "85afc3bf",
   "metadata": {},
   "outputs": [],
   "source": [
    "(\n",
    "    word_frequencies\n",
    "    *** FILL THE MISSING LINE ***\n",
    "    .plot.bar(logy=True, figsize=(12, 4))\n",
    ")"
   ]
  },
  {
   "cell_type": "code",
   "execution_count": null,
   "id": "1ffcba1f",
   "metadata": {},
   "outputs": [],
   "source": [
    "(\n",
    "    word_frequencies\n",
    "    .head(1000)\n",
    "    .reset_index(drop=True)\n",
    "    .plot(loglog=True, marker=\".\")\n",
    ")"
   ]
  },
  {
   "cell_type": "markdown",
   "id": "e3680a9a",
   "metadata": {},
   "source": [
    "## Detailed text analysis\n",
    "Word associated to positive & negative reviews"
   ]
  },
  {
   "cell_type": "code",
   "execution_count": null,
   "id": "bf5692a3",
   "metadata": {},
   "outputs": [],
   "source": [
    "(\n",
    "    df_master\n",
    "    .head(100000)\n",
    "    .assign(\n",
    "        tokenized_text=lambda df: (df.review_text)\n",
    "        .str.lower()\n",
    "        .str.replace(r\"[^a-z]\", \" \")\n",
    "        .str.replace(r\" +\", \" \")\n",
    "        .str.split(\" \")\n",
    "    )\n",
    "    .loc[:, [\"review_overall\", \"tokenized_text\"]]\n",
    "    .explode(\"tokenized_text\")\n",
    "    .groupby(\"tokenized_text\", as_index=False)\n",
    "    .agg([\"mean\", \"count\"])\n",
    "    .reset_index()\n",
    "    .sort_values(by=(\"review_overall\", \"count\"), ascending=False)\n",
    "    .head(200)\n",
    "    .style.background_gradient(cmap=\"RdYlGn\")\n",
    ")"
   ]
  },
  {
   "cell_type": "markdown",
   "id": "5a1655a8",
   "metadata": {},
   "source": [
    "Count the percentage of each rating as a function of the `date` & plot\n",
    "a line diagram. E.g: in 2020, 55% of ratings were 5, 15% or ratings were 4, ...\n",
    "\n",
    "Hint:\n",
    "- [`sns.displot`]()"
   ]
  },
  {
   "cell_type": "code",
   "execution_count": null,
   "id": "d1693a29",
   "metadata": {},
   "outputs": [],
   "source": [
    "(\n",
    "    df_master\n",
    "    .pipe(sns.displot, x=\"review_time\", hue=\"review_overall\", multiple=\"fill\", kind=\"kde\")\n",
    ")"
   ]
  },
  {
   "cell_type": "code",
   "execution_count": null,
   "id": "0c5e1764",
   "metadata": {},
   "outputs": [],
   "source": []
  }
 ],
 "metadata": {
  "jupytext": {
   "cell_metadata_filter": "-all",
   "main_language": "python",
   "notebook_metadata_filter": "-all"
  }
 },
 "nbformat": 4,
 "nbformat_minor": 5
}
