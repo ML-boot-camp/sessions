{
 "cells": [
  {
   "cell_type": "markdown",
   "id": "28ce7b54",
   "metadata": {},
   "source": [
    "# 🐍 Practice n°2: exploratory data analysis\n",
    "## Preparation\n",
    "### Install & import modules"
   ]
  },
  {
   "cell_type": "code",
   "execution_count": null,
   "id": "54cc2033",
   "metadata": {},
   "outputs": [],
   "source": [
    "! pip install seaborn"
   ]
  },
  {
   "cell_type": "code",
   "execution_count": null,
   "id": "2724f77c",
   "metadata": {},
   "outputs": [],
   "source": [
    "import pandas as pd\n",
    "import seaborn as sns\n",
    "import matplotlib.pyplot as plt"
   ]
  },
  {
   "cell_type": "code",
   "execution_count": null,
   "id": "4cfec4cf",
   "metadata": {},
   "outputs": [],
   "source": [
    "pd.set_option(\"display.precision\", 2)\n",
    "sns.set_style(\"whitegrid\")\n",
    "sns.set_context(rc={\"patch.linewidth\": 0.15})"
   ]
  },
  {
   "cell_type": "markdown",
   "id": "ea67473d",
   "metadata": {},
   "source": [
    "### Read remote dataset\n",
    "\n",
    "The data is in this git repository: [ML-boot-camp/ratebeer.git](https://github.com/ML-boot-camp/ratebeer.git).\n",
    "\n",
    "The data is located in the `ratebeer/data/` folder.\n"
   ]
  },
  {
   "cell_type": "code",
   "execution_count": null,
   "id": "da62ff49",
   "metadata": {},
   "outputs": [],
   "source": [
    "file_url = \"https://github.com/ML-boot-camp/ratebeer/raw/master/data/ratebeer_sample_clean.parquet\""
   ]
  },
  {
   "cell_type": "code",
   "execution_count": null,
   "id": "65b32e98",
   "metadata": {},
   "outputs": [],
   "source": [
    "df_ratebeer = pd.read_parquet(file_url)"
   ]
  },
  {
   "cell_type": "code",
   "execution_count": null,
   "id": "8e1e7c06",
   "metadata": {},
   "outputs": [],
   "source": [
    "df_master = (\n",
    "    (df_ratebeer)\n",
    "    .assign(\n",
    "        time=lambda df: df.time.astype(int).apply(\n",
    "            pd.Timestamp.fromtimestamp\n",
    "        )\n",
    "    )\n",
    "    .assign(\n",
    "        is_good=lambda df: (\n",
    "            df.rating >= df.rating.median()\n",
    "        ).astype(int)\n",
    "    )\n",
    ")"
   ]
  },
  {
   "cell_type": "markdown",
   "id": "c471d9d7",
   "metadata": {},
   "source": [
    "## General information\n",
    "### Shape\n",
    "Have a first overview of the dataframe size, i.e. number of rows & columns.\n",
    "\n",
    "Methods you'll need:\n",
    "- [`pd.DataFrame.shape`](https://pandas.pydata.org/docs/reference/api/pandas.DataFrame.shape.html)"
   ]
  },
  {
   "cell_type": "code",
   "execution_count": null,
   "id": "84125ba0",
   "metadata": {},
   "outputs": [],
   "source": [
    "df_master.shape"
   ]
  },
  {
   "cell_type": "markdown",
   "id": "2c86da08",
   "metadata": {},
   "source": [
    "### Overview\n",
    "Get a few information about the content of the dataframe:\n",
    "- number of null values per column\n",
    "- data type of each column\n",
    "- memory usage\n",
    "\n",
    "Methods you'll need:\n",
    "- [`pd.DataFrame.isnull`](https://pandas.pydata.org/docs/reference/api/pandas.DataFrame.isnull.html)\n",
    "- [`pd.DataFrame.sum`](https://pandas.pydata.org/docs/reference/api/pandas.DataFrame.sum.html)\n",
    "- [`pd.DataFrame.dtypes`](https://pandas.pydata.org/docs/reference/api/pandas.DataFrame.dtypes.html)\n",
    "- [`pd.DataFrame.info`](https://pandas.pydata.org/docs/reference/api/pandas.DataFrame.info.html)"
   ]
  },
  {
   "cell_type": "code",
   "execution_count": null,
   "id": "755df0e7",
   "metadata": {},
   "outputs": [],
   "source": [
    "df_master.isnull().sum()"
   ]
  },
  {
   "cell_type": "code",
   "execution_count": null,
   "id": "cda6d1bd",
   "metadata": {},
   "outputs": [],
   "source": [
    "df_master.dtypes"
   ]
  },
  {
   "cell_type": "code",
   "execution_count": null,
   "id": "67a02a26",
   "metadata": {},
   "outputs": [],
   "source": [
    "df_master.info(memory_usage=\"deep\")  # LINE TO BE REMOVED FOR STUDENTS"
   ]
  },
  {
   "cell_type": "markdown",
   "id": "ecc68421",
   "metadata": {},
   "source": [
    "### Sample\n",
    "Show a sample of the data\n",
    "\n",
    "Methods you'll need:\n",
    "- [`pd.DataFrame.head`](https://pandas.pydata.org/docs/reference/api/pandas.DataFrame.head.html)\n",
    "- [`pd.DataFrame.sample`](https://pandas.pydata.org/docs/reference/api/pandas.DataFrame.sample.html)\n",
    "\n",
    "Bonus: display the transpose of the dataframe for better readability when having lots\n",
    "of columns using:\n",
    "- [`pd.DataFrame.T`](https://pandas.pydata.org/docs/reference/api/pandas.DataFrame.T.html)"
   ]
  },
  {
   "cell_type": "code",
   "execution_count": null,
   "id": "e122b8e2",
   "metadata": {},
   "outputs": [],
   "source": [
    "df_master.head(5)"
   ]
  },
  {
   "cell_type": "code",
   "execution_count": null,
   "id": "e3504145",
   "metadata": {},
   "outputs": [],
   "source": [
    "df_master.sample(5).T"
   ]
  },
  {
   "cell_type": "markdown",
   "id": "fdec6c44",
   "metadata": {},
   "source": [
    "### Describing statistics\n",
    "Compute statistics to understand the content of each column.\n",
    "\n",
    "Methods you'll need:\n",
    "- [`pd.DataFrame.describe`](https://pandas.pydata.org/docs/reference/api/pandas.DataFrame.describe.html)\n",
    "\n",
    "Bonus: fill NaN values with an empty string `\"\"` for a better readability using:\n",
    "- [`pd.DataFrame.fillna`](https://pandas.pydata.org/docs/reference/api/pandas.DataFrame.fillna.html)"
   ]
  },
  {
   "cell_type": "code",
   "execution_count": null,
   "id": "e84ca3cf",
   "metadata": {},
   "outputs": [],
   "source": [
    "df_master.describe(include=\"all\").fillna(\"\").T"
   ]
  },
  {
   "cell_type": "markdown",
   "id": "397277e7",
   "metadata": {},
   "source": [
    "## Target\n",
    "\n",
    "The dataset contains 2 possible targets:\n",
    "- `rating`: an ordinal variable, which can be used to define a regression\n",
    "- `is_good`: a binary variable, which can be used to define a classification\n",
    "\n",
    "In the follow-up of the exploratory data analysis, for the sake of clariy, we'll\n",
    "consider only the binary target (classification). Some plots would be different for\n",
    "numeric target."
   ]
  },
  {
   "cell_type": "markdown",
   "id": "a79a4727",
   "metadata": {},
   "source": [
    "### `is_good`"
   ]
  },
  {
   "cell_type": "code",
   "execution_count": null,
   "id": "5c49ae09",
   "metadata": {},
   "outputs": [],
   "source": [
    "(\n",
    "    (df_master.is_good)\n",
    "    .value_counts()\n",
    "    .plot.bar()  # LINE TO BE REMOVED FOR STUDENTS\n",
    ")"
   ]
  },
  {
   "cell_type": "code",
   "execution_count": null,
   "id": "62c08cf0",
   "metadata": {},
   "outputs": [],
   "source": [
    "sns.countplot(\n",
    "    df_master,\n",
    "    x=\"is_good\",  # LINE TO BE REMOVED FOR STUDENTS\n",
    ")"
   ]
  },
  {
   "cell_type": "markdown",
   "id": "77267089",
   "metadata": {},
   "source": [
    "## Quantitative variables\n",
    "\n",
    "- `alcohol`\n",
    "- `time`\n",
    "- `rating_appearance`\n",
    "- `rating_aroma`\n",
    "- `rating_palate`\n",
    "- `rating_taste`\n",
    "- `average_rating`"
   ]
  },
  {
   "cell_type": "markdown",
   "id": "22d6aacb",
   "metadata": {},
   "source": [
    "### `alcohol`\n",
    "#### Distribution"
   ]
  },
  {
   "cell_type": "code",
   "execution_count": null,
   "id": "b1a70fa2",
   "metadata": {},
   "outputs": [],
   "source": [
    "((df_master.alcohol).plot.hist(bins=100))  # LINE TO BE REMOVED FOR STUDENTS"
   ]
  },
  {
   "cell_type": "code",
   "execution_count": null,
   "id": "e224ca87",
   "metadata": {},
   "outputs": [],
   "source": [
    "sns.displot(\n",
    "    df_master,\n",
    "    x=\"alcohol\",\n",
    ")"
   ]
  },
  {
   "cell_type": "code",
   "execution_count": null,
   "id": "12aeaab8",
   "metadata": {},
   "outputs": [],
   "source": [
    "sns.displot(df_master, x=\"alcohol\", hue=\"is_good\")"
   ]
  },
  {
   "cell_type": "code",
   "execution_count": null,
   "id": "95b960df",
   "metadata": {},
   "outputs": [],
   "source": [
    "sns.displot(\n",
    "    df_master.loc[lambda df: df.alcohol < 20], x=\"alcohol\", hue=\"is_good\"\n",
    ")"
   ]
  },
  {
   "cell_type": "code",
   "execution_count": null,
   "id": "3c1828a3",
   "metadata": {},
   "outputs": [],
   "source": [
    "sns.displot(\n",
    "    df_master.loc[lambda df: df.alcohol < 20],\n",
    "    x=\"alcohol\",\n",
    "    hue=\"is_good\",\n",
    "    kde=True,\n",
    ")"
   ]
  },
  {
   "cell_type": "code",
   "execution_count": null,
   "id": "956ff6e5",
   "metadata": {},
   "outputs": [],
   "source": [
    "sns.displot(\n",
    "    df_master.loc[lambda df: df.alcohol < 20],\n",
    "    x=\"alcohol\",\n",
    "    hue=\"is_good\",\n",
    "    multiple=\"fill\",\n",
    ")"
   ]
  },
  {
   "cell_type": "markdown",
   "id": "d2c552b8",
   "metadata": {},
   "source": [
    "### `time`"
   ]
  },
  {
   "cell_type": "markdown",
   "id": "7f44f2bf",
   "metadata": {},
   "source": [
    "#### Distribution"
   ]
  },
  {
   "cell_type": "code",
   "execution_count": null,
   "id": "e486f09f",
   "metadata": {},
   "outputs": [],
   "source": [
    "sns.displot(\n",
    "    df_master,\n",
    "    x=\"time\",  # LINE TO BE REMOVED FOR STUDENTS\n",
    ")"
   ]
  },
  {
   "cell_type": "markdown",
   "id": "34b15ea1",
   "metadata": {},
   "source": [
    "#### Relationship with the target"
   ]
  },
  {
   "cell_type": "code",
   "execution_count": null,
   "id": "8ff42850",
   "metadata": {},
   "outputs": [],
   "source": [
    "sns.displot(\n",
    "    df_master,\n",
    "    x=\"time\",  # LINE TO BE REMOVED FOR STUDENTS\n",
    "    hue=\"is_good\",  # LINE TO BE REMOVED FOR STUDENTS\n",
    "    kde=True,\n",
    ")"
   ]
  },
  {
   "cell_type": "code",
   "execution_count": null,
   "id": "5a4556de",
   "metadata": {},
   "outputs": [],
   "source": [
    "sns.displot(\n",
    "    df_master,\n",
    "    x=\"time\",  # LINE TO BE REMOVED FOR STUDENTS\n",
    "    hue=\"is_good\",  # LINE TO BE REMOVED FOR STUDENTS\n",
    "    multiple=\"fill\",\n",
    ")"
   ]
  },
  {
   "cell_type": "markdown",
   "id": "2e328f20",
   "metadata": {},
   "source": [
    "### All rating columns: review_* & average_rating\n",
    "#### Distribution"
   ]
  },
  {
   "cell_type": "code",
   "execution_count": null,
   "id": "b69d1de6",
   "metadata": {},
   "outputs": [],
   "source": [
    "review_columns = [\n",
    "    \"rating_appearance\",\n",
    "    \"rating_aroma\",\n",
    "    \"rating_palate\",  # LINE TO BE REMOVED FOR STUDENTS\n",
    "    \"rating_taste\",  # LINE TO BE REMOVED FOR STUDENTS\n",
    "]\n",
    "df_rating_long = df_master.melt(id_vars=\"is_good\", value_vars=review_columns)\n",
    "df_rating_long"
   ]
  },
  {
   "cell_type": "code",
   "execution_count": null,
   "id": "1af044a7",
   "metadata": {},
   "outputs": [],
   "source": [
    "sns.displot(\n",
    "    df_rating_long,\n",
    "    x=\"value\",\n",
    "    row=\"variable\",\n",
    "    discrete=True,\n",
    "    height=3,\n",
    "    aspect=2,\n",
    ")"
   ]
  },
  {
   "cell_type": "markdown",
   "id": "2c094acf",
   "metadata": {},
   "source": [
    "#### Relationship with the target"
   ]
  },
  {
   "cell_type": "code",
   "execution_count": null,
   "id": "ec16a2ad",
   "metadata": {},
   "outputs": [],
   "source": [
    "sns.displot(\n",
    "    df_rating_long,\n",
    "    x=\"value\",\n",
    "    hue=\"is_good\",\n",
    "    row=\"variable\",\n",
    "    discrete=True,\n",
    "    height=3,\n",
    "    aspect=2,\n",
    ")"
   ]
  },
  {
   "cell_type": "code",
   "execution_count": null,
   "id": "7166402c",
   "metadata": {},
   "outputs": [],
   "source": [
    "sns.displot(\n",
    "    df_rating_long,\n",
    "    x=\"value\",\n",
    "    hue=\"is_good\",\n",
    "    row=\"variable\",\n",
    "    discrete=True,\n",
    "    height=3,\n",
    "    aspect=2,\n",
    "    multiple=\"fill\",\n",
    ")"
   ]
  },
  {
   "cell_type": "markdown",
   "id": "5cb04cf7",
   "metadata": {},
   "source": [
    "## Categorical variables\n",
    "- `style`\n",
    "- `beer`"
   ]
  },
  {
   "cell_type": "markdown",
   "id": "ccc5d80c",
   "metadata": {},
   "source": [
    "### `style`\n",
    "#### Distribution"
   ]
  },
  {
   "cell_type": "code",
   "execution_count": null,
   "id": "f93fac4f",
   "metadata": {},
   "outputs": [],
   "source": [
    "(\n",
    "    (df_master[\"style\"])\n",
    "    .value_counts()\n",
    "    .plot.bar()\n",
    ")"
   ]
  },
  {
   "cell_type": "markdown",
   "id": "173dfaba",
   "metadata": {},
   "source": [
    "#### Relationship with the target"
   ]
  },
  {
   "cell_type": "code",
   "execution_count": null,
   "id": "9739b370",
   "metadata": {},
   "outputs": [],
   "source": [
    "sns.displot(\n",
    "    df_master,\n",
    "    x=\"style\",\n",
    "    discrete=True,\n",
    "    hue=\"is_good\",\n",
    ")"
   ]
  },
  {
   "cell_type": "code",
   "execution_count": null,
   "id": "dde4a51f",
   "metadata": {},
   "outputs": [],
   "source": [
    "df_styles = (\n",
    "    (df_master)\n",
    "    .groupby(\"style\")\n",
    "    .is_good.agg([\"count\", \"mean\"])\n",
    "    .add_prefix(\"review_\")\n",
    "    .reset_index()\n",
    "    .sort_values(by=\"review_mean\", ascending=False)\n",
    "    .reset_index(drop=True)\n",
    "    .assign(\n",
    "        bar_left_position=lambda df: df.review_count.cumsum().shift(1, fill_value=0)\n",
    "    )\n",
    ")\n",
    "df_styles"
   ]
  },
  {
   "cell_type": "code",
   "execution_count": null,
   "id": "7018a32a",
   "metadata": {},
   "outputs": [],
   "source": [
    "plt.bar(\n",
    "    x=df_styles.bar_left_position,\n",
    "    height=df_styles.review_mean,\n",
    "    width=df_styles.review_count,\n",
    "    align=\"edge\",\n",
    "    alpha=0.5,\n",
    "    edgecolor=\"k\",\n",
    "    linewidth=0.5,\n",
    ")"
   ]
  },
  {
   "cell_type": "markdown",
   "id": "98e980c8",
   "metadata": {},
   "source": [
    "## High cardinality variables\n",
    "- `beer`\n",
    "- `beer_ID`\n",
    "- `brewery_ID`\n",
    "- `user`"
   ]
  },
  {
   "cell_type": "markdown",
   "id": "6bbb88af",
   "metadata": {},
   "source": [
    "All those high cardinality variables can be thought as links of a network. Indeed, a\n",
    "review is an object comprising a beer, a brewery and a user and can be thought as a\n",
    "network link between them.\n",
    "\n",
    "In other words, the review table is the a table describing the links in a network with\n",
    "3 types of nodes: users, beers and breweries.\n",
    "\n",
    "The first property to compute about each node is its \"degree\", which is its number of\n",
    "connections with other nodes. High degree means \"highly connected\".\n",
    "\n",
    "Analyse the degree of the nodes is a way to answer the following questions:\n",
    "- is an experienced user more severe ?\n",
    "- is a new user more forgiving ?\n",
    "- is a popular beer (or a big brewery) disadvantaged by a \"boreness factor\" ?\n",
    "- is a new beer (a small brewery) benefitting from a \"novelty factor\" ?\n",
    "\n",
    "To compute the degree you'll need:\n",
    "\n",
    "- [`pd.Series.value_counts`](https://pandas.pydata.org/docs/reference/api/pandas.Series.value_counts.html)"
   ]
  },
  {
   "cell_type": "markdown",
   "id": "5fb7fd08",
   "metadata": {},
   "source": [
    "### `beer` degree\n",
    "#### Distribution"
   ]
  },
  {
   "cell_type": "code",
   "execution_count": null,
   "id": "1a10d3aa",
   "metadata": {},
   "outputs": [],
   "source": [
    "df_beer_degree = (\n",
    "    (df_master.beer)\n",
    "    .value_counts()  # LINE TO BE REMOVED FOR STUDENTS\n",
    "    .rename(\"beer_degree\")\n",
    "    .reset_index()\n",
    ")\n",
    "df_beer_degree"
   ]
  },
  {
   "cell_type": "code",
   "execution_count": null,
   "id": "16cb4e04",
   "metadata": {},
   "outputs": [],
   "source": [
    "(\n",
    "    (df_beer_degree.beer_degree)\n",
    "    .value_counts()\n",
    "    .reset_index()\n",
    "    .plot.scatter(\n",
    "        x=\"beer_degree\", y=\"count\", marker=\".\"  # LINE TO BE REMOVED FOR STUDENTS\n",
    "    )\n",
    ")"
   ]
  },
  {
   "cell_type": "markdown",
   "id": "0f42e366",
   "metadata": {},
   "source": [
    "Many networks are [scale free networks](https://en.wikipedia.org/wiki/Scale-free_network):\n",
    "![](https://www.researchgate.net/profile/Leonardo-Riella/publication/234031137/figure/fig1/AS:282612053626890@1444391372899/Structure-of-networks-A-biological-network-is-not-randomly-wired-similar-number-of.png)\n",
    "\n",
    "Meaning that the node's degree distribution follows a [power law\n",
    "distribution](https://en.wikipedia.org/wiki/Power_law), which is better visualized\n",
    "using a **log-log scale**:\n",
    "![](https://upload.wikimedia.org/wikipedia/commons/3/3b/Degree_distribution_for_a_network_with_150000_vertices_and_mean_degree_%3D_6_created_using_the_Barabasi-Albert_model..png)\n"
   ]
  },
  {
   "cell_type": "code",
   "execution_count": null,
   "id": "747648df",
   "metadata": {},
   "outputs": [],
   "source": [
    "(\n",
    "    (df_beer_degree.beer_degree)\n",
    "    .value_counts()\n",
    "    .reset_index()\n",
    "    .plot.scatter(  # LINE TO BE REMOVED FOR STUDENTS\n",
    "        x=\"beer_degree\",  # LINE TO BE REMOVED FOR STUDENTS\n",
    "        y=\"count\",  # LINE TO BE REMOVED FOR STUDENTS\n",
    "        loglog=True,  # LINE TO BE REMOVED FOR STUDENTS\n",
    "        marker=\".\"  # LINE TO BE REMOVED FOR STUDENTS\n",
    "    )  # LINE TO BE REMOVED FOR STUDENTS\n",
    ")"
   ]
  },
  {
   "cell_type": "markdown",
   "id": "0eb8b4c4",
   "metadata": {
    "lines_to_next_cell": 2
   },
   "source": [
    "Another way to visualize the power law distribution is to visualize the\n",
    "[rank-frequency plot](https://en.wikipedia.org/wiki/Rank%E2%80%93size_distribution).\n",
    "\n",
    "Instead of plotting the frequency as a function of the value (like in a normal\n",
    "distribution plot), we plot the frequency as a function of its rank. Note: It's always\n",
    "monotonically decreasing.\n",
    "\n",
    "Power law distributions exhibit also a distinctive visual pattern in the\n",
    "rank-frequency plot, known as the [Zipf's law]():\n",
    "![](https://upload.wikimedia.org/wikipedia/commons/d/d9/Zipf-engl-0_English_-_Culpeper_herbal_and_War_of_the_Worlds.svg)\n"
   ]
  },
  {
   "cell_type": "code",
   "execution_count": null,
   "id": "797141b4",
   "metadata": {},
   "outputs": [],
   "source": [
    "def plot_rank_size(series):\n",
    "    return (\n",
    "        (series)\n",
    "        .rename(\"\")\n",
    "        .value_counts()\n",
    "        .reset_index()\n",
    "        .assign(rank=lambda df: range(1, 1 + df.shape[0]))\n",
    "        .plot(x=\"rank\", y=\"count\", loglog=True, marker=\".\")\n",
    "    )"
   ]
  },
  {
   "cell_type": "code",
   "execution_count": null,
   "id": "dd141052",
   "metadata": {},
   "outputs": [],
   "source": [
    "plot_rank_size(df_beer_degree.beer_degree)"
   ]
  },
  {
   "cell_type": "markdown",
   "id": "e9c0e117",
   "metadata": {},
   "source": [
    "#### Relationship with target"
   ]
  },
  {
   "cell_type": "code",
   "execution_count": null,
   "id": "06af2826",
   "metadata": {},
   "outputs": [],
   "source": [
    "df_beers = (\n",
    "    (df_master)\n",
    "    .merge(\n",
    "        df_beer_degree,\n",
    "        on=\"beer\",\n",
    "    )\n",
    "    .loc[:, [\"beer\", \"beer_degree\", \"is_good\"]]\n",
    ")\n",
    "df_beers"
   ]
  },
  {
   "cell_type": "code",
   "execution_count": null,
   "id": "b138049e",
   "metadata": {},
   "outputs": [],
   "source": [
    "sns.displot(df_beers, x=\"beer_degree\", hue=\"is_good\")"
   ]
  },
  {
   "cell_type": "code",
   "execution_count": null,
   "id": "f8919d34",
   "metadata": {},
   "outputs": [],
   "source": [
    "sns.displot(df_beers, x=\"beer_degree\", hue=\"is_good\", log_scale=True)"
   ]
  },
  {
   "cell_type": "code",
   "execution_count": null,
   "id": "da25bda6",
   "metadata": {},
   "outputs": [],
   "source": [
    "sns.displot(\n",
    "    df_beers,\n",
    "    x=\"beer_degree\",\n",
    "    hue=\"is_good\",\n",
    "    log_scale=True,\n",
    "    multiple=\"fill\",\n",
    ")"
   ]
  },
  {
   "cell_type": "markdown",
   "id": "29335bb9",
   "metadata": {},
   "source": [
    "### `beer_ID`\n",
    "#### Distribution"
   ]
  },
  {
   "cell_type": "code",
   "execution_count": null,
   "id": "2907cec6",
   "metadata": {},
   "outputs": [],
   "source": [
    "df_beer_ID_degree = (\n",
    "    (df_master.beer_ID).value_counts().rename(\"beer_ID_degree\").reset_index()\n",
    ")\n",
    "df_beer_ID_degree"
   ]
  },
  {
   "cell_type": "code",
   "execution_count": null,
   "id": "21ce0004",
   "metadata": {},
   "outputs": [],
   "source": [
    "(\n",
    "    (df_beer_ID_degree.beer_ID_degree)\n",
    "    .value_counts()\n",
    "    .reset_index()\n",
    "    .plot.scatter(\n",
    "        x=\"beer_ID_degree\", y=\"count\", marker=\".\"  # LINE TO BE REMOVED FOR STUDENTS\n",
    "    )\n",
    ")"
   ]
  },
  {
   "cell_type": "code",
   "execution_count": null,
   "id": "af6cfa1d",
   "metadata": {},
   "outputs": [],
   "source": [
    "(\n",
    "    (df_beer_ID_degree.beer_ID_degree)\n",
    "    .value_counts()\n",
    "    .reset_index()\n",
    "    .plot.scatter(  # LINE TO BE REMOVED FOR STUDENTS\n",
    "        x=\"beer_ID_degree\",  # LINE TO BE REMOVED FOR STUDENTS\n",
    "        y=\"count\",  # LINE TO BE REMOVED FOR STUDENTS\n",
    "        loglog=True,  # LINE TO BE REMOVED FOR STUDENTS\n",
    "        marker=\".\",  # LINE TO BE REMOVED FOR STUDENTS\n",
    "    )  # LINE TO BE REMOVED FOR STUDENTS\n",
    ")"
   ]
  },
  {
   "cell_type": "markdown",
   "id": "0d84d889",
   "metadata": {},
   "source": [
    "#### Relationship with target"
   ]
  },
  {
   "cell_type": "code",
   "execution_count": null,
   "id": "254f31cf",
   "metadata": {},
   "outputs": [],
   "source": [
    "plot_rank_size(df_beer_ID_degree.beer_ID_degree)"
   ]
  },
  {
   "cell_type": "code",
   "execution_count": null,
   "id": "bf4ad5e3",
   "metadata": {},
   "outputs": [],
   "source": [
    "df_beer_IDs = (\n",
    "    (df_master)\n",
    "    .merge(\n",
    "        df_beer_ID_degree,\n",
    "        on=\"beer_ID\",\n",
    "    )\n",
    "    .loc[:, [\"beer_ID\", \"beer_ID_degree\", \"is_good\"]]\n",
    ")\n",
    "df_beer_IDs"
   ]
  },
  {
   "cell_type": "code",
   "execution_count": null,
   "id": "6143d800",
   "metadata": {},
   "outputs": [],
   "source": [
    "sns.displot(df_beer_IDs, x=\"beer_ID_degree\", hue=\"is_good\")"
   ]
  },
  {
   "cell_type": "code",
   "execution_count": null,
   "id": "c88609bc",
   "metadata": {},
   "outputs": [],
   "source": [
    "sns.displot(\n",
    "    df_beer_IDs, x=\"beer_ID_degree\", hue=\"is_good\", log_scale=True\n",
    ")"
   ]
  },
  {
   "cell_type": "code",
   "execution_count": null,
   "id": "8b314bb6",
   "metadata": {},
   "outputs": [],
   "source": [
    "sns.displot(\n",
    "    df_beer_IDs,\n",
    "    x=\"beer_ID_degree\",\n",
    "    hue=\"is_good\",\n",
    "    log_scale=True,\n",
    "    multiple=\"fill\",\n",
    ")"
   ]
  },
  {
   "cell_type": "markdown",
   "id": "12fab925",
   "metadata": {},
   "source": [
    "### `brewery_ID`\n",
    "#### Distribution"
   ]
  },
  {
   "cell_type": "code",
   "execution_count": null,
   "id": "0626381c",
   "metadata": {},
   "outputs": [],
   "source": [
    "df_brewery_ID_degree = (\n",
    "    (df_master.brewery_ID)\n",
    "    .value_counts()\n",
    "    .rename(\"brewery_ID_degree\")\n",
    "    .reset_index()\n",
    ")\n",
    "df_brewery_ID_degree"
   ]
  },
  {
   "cell_type": "code",
   "execution_count": null,
   "id": "483dd86b",
   "metadata": {},
   "outputs": [],
   "source": [
    "(\n",
    "    (df_brewery_ID_degree)\n",
    "    .brewery_ID_degree.value_counts()\n",
    "    .reset_index()\n",
    "    .plot.scatter(  # LINE TO BE REMOVED FOR STUDENTS\n",
    "        x=\"brewery_ID_degree\",  # LINE TO BE REMOVED FOR STUDENTS\n",
    "        y=\"count\",  # LINE TO BE REMOVED FOR STUDENTS\n",
    "        marker=\".\",  # LINE TO BE REMOVED FOR STUDENTS\n",
    "    )  # LINE TO BE REMOVED FOR STUDENTS\n",
    ")"
   ]
  },
  {
   "cell_type": "code",
   "execution_count": null,
   "id": "4d2fa2e2",
   "metadata": {},
   "outputs": [],
   "source": [
    "(\n",
    "    (df_brewery_ID_degree)\n",
    "    .brewery_ID_degree.value_counts()\n",
    "    .reset_index()\n",
    "    .plot.scatter(  # LINE TO BE REMOVED FOR STUDENTS\n",
    "        x=\"brewery_ID_degree\",  # LINE TO BE REMOVED FOR STUDENTS\n",
    "        y=\"count\",  # LINE TO BE REMOVED FOR STUDENTS\n",
    "        loglog=True,  # LINE TO BE REMOVED FOR STUDENTS\n",
    "        marker=\".\",  # LINE TO BE REMOVED FOR STUDENTS\n",
    "    )  # LINE TO BE REMOVED FOR STUDENTS\n",
    ")"
   ]
  },
  {
   "cell_type": "markdown",
   "id": "8379d51e",
   "metadata": {},
   "source": [
    "#### Relationship with target"
   ]
  },
  {
   "cell_type": "code",
   "execution_count": null,
   "id": "318436a1",
   "metadata": {},
   "outputs": [],
   "source": [
    "plot_rank_size(df_brewery_ID_degree.brewery_ID_degree)"
   ]
  },
  {
   "cell_type": "code",
   "execution_count": null,
   "id": "f8ee950b",
   "metadata": {},
   "outputs": [],
   "source": [
    "df_brewery_IDs = (\n",
    "    (df_master)\n",
    "    .merge(\n",
    "        df_brewery_ID_degree,\n",
    "        on=\"brewery_ID\",\n",
    "    )\n",
    "    .loc[:, [\"brewery_ID\", \"brewery_ID_degree\", \"is_good\"]]\n",
    ")\n",
    "df_brewery_IDs"
   ]
  },
  {
   "cell_type": "code",
   "execution_count": null,
   "id": "2185183f",
   "metadata": {},
   "outputs": [],
   "source": [
    "sns.displot(df_brewery_IDs, x=\"brewery_ID_degree\", hue=\"is_good\")"
   ]
  },
  {
   "cell_type": "code",
   "execution_count": null,
   "id": "cb3dc2be",
   "metadata": {},
   "outputs": [],
   "source": [
    "sns.displot(\n",
    "    df_brewery_IDs, x=\"brewery_ID_degree\", hue=\"is_good\", log_scale=True\n",
    ")"
   ]
  },
  {
   "cell_type": "code",
   "execution_count": null,
   "id": "99e7e507",
   "metadata": {},
   "outputs": [],
   "source": [
    "sns.displot(\n",
    "    df_brewery_IDs,\n",
    "    x=\"brewery_ID_degree\",\n",
    "    hue=\"is_good\",\n",
    "    log_scale=True,\n",
    "    multiple=\"fill\",\n",
    ")"
   ]
  },
  {
   "cell_type": "markdown",
   "id": "f583a057",
   "metadata": {},
   "source": [
    "### `user`\n",
    "#### Distribution"
   ]
  },
  {
   "cell_type": "code",
   "execution_count": null,
   "id": "6b0df35b",
   "metadata": {},
   "outputs": [],
   "source": [
    "df_user_degree = (\n",
    "    (df_master.user)\n",
    "    .value_counts()\n",
    "    .rename(\"user_degree\")\n",
    "    .reset_index()\n",
    ")\n",
    "df_user_degree"
   ]
  },
  {
   "cell_type": "code",
   "execution_count": null,
   "id": "ef8b662d",
   "metadata": {},
   "outputs": [],
   "source": [
    "(\n",
    "    (df_user_degree)\n",
    "    .user_degree.value_counts()\n",
    "    .reset_index()\n",
    "    .plot.scatter(  # LINE TO BE REMOVED FOR STUDENTS\n",
    "        x=\"user_degree\",  # LINE TO BE REMOVED FOR STUDENTS\n",
    "        y=\"count\",  # LINE TO BE REMOVED FOR STUDENTS\n",
    "        marker=\".\",  # LINE TO BE REMOVED FOR STUDENTS\n",
    "    )  # LINE TO BE REMOVED FOR STUDENTS\n",
    ")"
   ]
  },
  {
   "cell_type": "code",
   "execution_count": null,
   "id": "0c5a8fe0",
   "metadata": {},
   "outputs": [],
   "source": [
    "(\n",
    "    (df_user_degree)\n",
    "    .user_degree.value_counts()\n",
    "    .reset_index()\n",
    "    .plot.scatter(  # LINE TO BE REMOVED FOR STUDENTS\n",
    "        x=\"user_degree\",  # LINE TO BE REMOVED FOR STUDENTS\n",
    "        y=\"count\",  # LINE TO BE REMOVED FOR STUDENTS\n",
    "        loglog=True,  # LINE TO BE REMOVED FOR STUDENTS\n",
    "        marker=\".\",  # LINE TO BE REMOVED FOR STUDENTS\n",
    "    )  # LINE TO BE REMOVED FOR STUDENTS\n",
    ")"
   ]
  },
  {
   "cell_type": "markdown",
   "id": "5132abd6",
   "metadata": {},
   "source": [
    "#### Relationship with target"
   ]
  },
  {
   "cell_type": "code",
   "execution_count": null,
   "id": "5ec5464a",
   "metadata": {},
   "outputs": [],
   "source": [
    "plot_rank_size(df_user_degree.user_degree)"
   ]
  },
  {
   "cell_type": "code",
   "execution_count": null,
   "id": "3bf958a2",
   "metadata": {},
   "outputs": [],
   "source": [
    "df_users = (\n",
    "    (df_master)\n",
    "    .merge(\n",
    "        df_user_degree,\n",
    "        on=\"user\",\n",
    "    )\n",
    "    .loc[:, [\"user\", \"user_degree\", \"is_good\"]]\n",
    ")\n",
    "df_users"
   ]
  },
  {
   "cell_type": "code",
   "execution_count": null,
   "id": "dfed3594",
   "metadata": {},
   "outputs": [],
   "source": [
    "sns.displot(\n",
    "    df_users, x=\"user_degree\", hue=\"is_good\"\n",
    ")"
   ]
  },
  {
   "cell_type": "code",
   "execution_count": null,
   "id": "70fccfd6",
   "metadata": {},
   "outputs": [],
   "source": [
    "sns.displot(\n",
    "    df_users,\n",
    "    x=\"user_degree\",\n",
    "    hue=\"is_good\",\n",
    "    log_scale=True,\n",
    ")"
   ]
  },
  {
   "cell_type": "code",
   "execution_count": null,
   "id": "44d8743a",
   "metadata": {
    "lines_to_next_cell": 2
   },
   "outputs": [],
   "source": [
    "sns.displot(\n",
    "    df_users,\n",
    "    x=\"user_degree\",\n",
    "    hue=\"is_good\",\n",
    "    log_scale=True,\n",
    "    multiple=\"fill\",\n",
    ")"
   ]
  },
  {
   "cell_type": "markdown",
   "id": "cdbb88c2",
   "metadata": {},
   "source": [
    "## Text variable\n",
    "Using the [`pd.Series.str`](https://pandas.pydata.org/docs/reference/api/pandas.Series.str.html) API"
   ]
  },
  {
   "cell_type": "markdown",
   "id": "a0af678c",
   "metadata": {},
   "source": [
    "### Text length\n",
    "#### Distribution"
   ]
  },
  {
   "cell_type": "markdown",
   "id": "c4a770ba",
   "metadata": {},
   "source": [
    "Compute the length of the texts in the dataset.\n",
    "\n",
    "Methods you'll need:\n",
    "- [`pd.Series.str.len`](https://pandas.pydata.org/docs/reference/api/pandas.Series.str.len.html)\n",
    "- [`pd.Series.str`](https://pandas.pydata.org/docs/reference/api/pandas.Series.str..html)\n",
    "\n",
    "Bonus: plot an histogram of the values, with log values, using:\n",
    "- [`pd.Series.plot.hist`](https://pandas.pydata.org/docs/reference/api/pandas.Series.plot.bar.html)\n",
    "\n",
    "Is it a Power law distribution ?"
   ]
  },
  {
   "cell_type": "code",
   "execution_count": null,
   "id": "bef0fa73",
   "metadata": {},
   "outputs": [],
   "source": [
    "df_text_len = df_master.assign(\n",
    "    text_len=lambda df: df.text.str.len()\n",
    ")"
   ]
  },
  {
   "cell_type": "code",
   "execution_count": null,
   "id": "463dbd31",
   "metadata": {},
   "outputs": [],
   "source": [
    "(\n",
    "    (df_text_len.text_len).plot.hist(\n",
    "        bins=200\n",
    "    )  # LINE TO BE REMOVED FOR STUDENTS\n",
    ")"
   ]
  },
  {
   "cell_type": "code",
   "execution_count": null,
   "id": "bd0b2add",
   "metadata": {},
   "outputs": [],
   "source": [
    "((df_text_len.text_len).plot.hist(bins=200, logy=True))"
   ]
  },
  {
   "cell_type": "markdown",
   "id": "9d988ca6",
   "metadata": {},
   "source": [
    "#### Relationship with the target"
   ]
  },
  {
   "cell_type": "code",
   "execution_count": null,
   "id": "28ad41f1",
   "metadata": {},
   "outputs": [],
   "source": [
    "sns.displot(\n",
    "    df_text_len,\n",
    "    x=\"text_len\",\n",
    ")"
   ]
  },
  {
   "cell_type": "code",
   "execution_count": null,
   "id": "42bc2433",
   "metadata": {},
   "outputs": [],
   "source": [
    "sns.displot(\n",
    "    df_text_len,\n",
    "    x=\"text_len\",\n",
    "    hue=\"is_good\",\n",
    ")"
   ]
  },
  {
   "cell_type": "code",
   "execution_count": null,
   "id": "bd223f52",
   "metadata": {},
   "outputs": [],
   "source": [
    "sns.displot(\n",
    "    df_text_len.loc[lambda df: df.text_len < 1500],\n",
    "    x=\"text_len\",\n",
    "    hue=\"is_good\",\n",
    ")"
   ]
  },
  {
   "cell_type": "code",
   "execution_count": null,
   "id": "21fd5d5d",
   "metadata": {},
   "outputs": [],
   "source": [
    "sns.displot(\n",
    "    df_text_len.loc[lambda df: df.text_len < 1500],\n",
    "    x=\"text_len\",\n",
    "    hue=\"is_good\",\n",
    "    multiple=\"fill\",\n",
    ")"
   ]
  },
  {
   "cell_type": "markdown",
   "id": "6563ea6a",
   "metadata": {},
   "source": [
    "### Words associated to positive & negative reviews"
   ]
  },
  {
   "cell_type": "code",
   "execution_count": null,
   "id": "0e352214",
   "metadata": {},
   "outputs": [],
   "source": [
    "(\n",
    "    (df_master)\n",
    "    .head(100000)\n",
    "    .assign(\n",
    "        tokenized_text=lambda df: (df.text)\n",
    "        .str.lower()\n",
    "        .str.replace(r\"[^a-z]\", \" \")\n",
    "        .str.replace(r\" +\", \" \")\n",
    "        .str.split(\" \")\n",
    "    )\n",
    "    .loc[:, [\"rating\", \"tokenized_text\"]]\n",
    "    .explode(\"tokenized_text\")\n",
    "    .loc[lambda df: df.tokenized_text != \"\"]\n",
    "    .groupby(\"tokenized_text\", as_index=False)\n",
    "    .agg([\"mean\", \"count\"])\n",
    "    .reset_index()\n",
    "    .sort_values(by=(\"rating\", \"count\"), ascending=False)\n",
    "    .head(200)\n",
    "    .style.background_gradient(cmap=\"RdYlGn\")\n",
    ")"
   ]
  },
  {
   "cell_type": "markdown",
   "id": "9a929779",
   "metadata": {},
   "source": [
    "### Word frequencies (optional)\n",
    "Compute the frequency of the most used words in the texts\n",
    "\n",
    "Methods you'll need:\n",
    "- [`pd.Series.str.len`](https://pandas.pydata.org/docs/reference/api/pandas.Series.str.len.html)\n",
    "- [`pd.Series.str.split`](https://pandas.pydata.org/docs/reference/api/pandas.Series.str.split.html)\n",
    "- [`pd.Series.explode`](https://pandas.pydata.org/docs/reference/api/pandas.Series.explode.html)\n",
    "- [`pd.Series.value_counts`](https://pandas.pydata.org/docs/reference/api/pandas.Series.value_counts.html)\n",
    "- [`pd.Series.head`](https://pandas.pydata.org/docs/reference/api/pandas.Series.head.html)\n",
    "\n",
    "Bonus: plot an histogram of the values, with log values, using:\n",
    "- [`pd.Series.plot.hist`](https://pandas.pydata.org/docs/reference/api/pandas.Series.plot.bar.html)\n",
    "\n",
    "Is it a Power law distribution ?"
   ]
  },
  {
   "cell_type": "code",
   "execution_count": null,
   "id": "965f0374",
   "metadata": {},
   "outputs": [],
   "source": [
    "df_word_frequencies = (\n",
    "    (df_master.text)\n",
    "    .str.lower()\n",
    "    .str.replace(r\"[^a-z\\ ]\", \"\")\n",
    "    .str.replace(r\"\\ +\", \" \")\n",
    "    .str.split(\" \")  # LINE TO BE REMOVED FOR STUDENTS\n",
    "    .explode()\n",
    "    .loc[lambda x: x != \"\"]\n",
    "    .value_counts(normalize=True)\n",
    "    .rename(\"word_frequency\")\n",
    "    .rename_axis(index=\"word\")\n",
    "    .reset_index()\n",
    "    .assign(rank=lambda df: range(1, 1 + df.shape[0]))\n",
    ")\n",
    "df_word_frequencies"
   ]
  },
  {
   "cell_type": "code",
   "execution_count": null,
   "id": "47233045",
   "metadata": {},
   "outputs": [],
   "source": [
    "df_word_frequencies.head(10000).plot(x=\"rank\", y=\"word_frequency\", marker=\".\")"
   ]
  },
  {
   "cell_type": "code",
   "execution_count": null,
   "id": "d6bdb44d",
   "metadata": {},
   "outputs": [],
   "source": [
    "df_word_frequencies.head(10000).plot(\n",
    "    x=\"rank\", y=\"word_frequency\", loglog=True, marker=\".\"\n",
    ")"
   ]
  },
  {
   "cell_type": "markdown",
   "id": "87b004a4",
   "metadata": {},
   "source": [
    "## And if it's a regression ?\n",
    "We show those plot examples to explain what would be an exploratory data analysis for\n",
    "a regression problem.\n",
    "\n",
    "### Continuous variable"
   ]
  },
  {
   "cell_type": "code",
   "execution_count": null,
   "id": "817d9d30",
   "metadata": {},
   "outputs": [],
   "source": [
    "sns.displot(\n",
    "    df_master.loc[lambda df: df.alcohol < 20],\n",
    "    x=\"alcohol\",\n",
    "    hue=\"rating\",\n",
    "    multiple=\"fill\",\n",
    "    palette=\"RdYlGn\",\n",
    "    bins=20,\n",
    ")"
   ]
  },
  {
   "cell_type": "code",
   "execution_count": null,
   "id": "4f0f193c",
   "metadata": {},
   "outputs": [],
   "source": [
    "sns.displot(\n",
    "    df_master.loc[lambda df: df.alcohol < 20],\n",
    "    x=\"alcohol\",\n",
    "    y=\"rating\",\n",
    "    bins=20,\n",
    ")"
   ]
  },
  {
   "cell_type": "markdown",
   "id": "82db2874",
   "metadata": {},
   "source": [
    "### Categorical variable"
   ]
  },
  {
   "cell_type": "code",
   "execution_count": null,
   "id": "fcb7ad33",
   "metadata": {},
   "outputs": [],
   "source": [
    "sns.displot(\n",
    "    df_master,\n",
    "    x=\"rating_appearance\",\n",
    "    discrete=True,\n",
    "    hue=\"rating\",\n",
    "    multiple=\"stack\",\n",
    "    palette=\"RdYlGn\",\n",
    ")"
   ]
  },
  {
   "cell_type": "code",
   "execution_count": null,
   "id": "234a756e",
   "metadata": {},
   "outputs": [],
   "source": [
    "sns.displot(\n",
    "    df_master,\n",
    "    x=\"rating_appearance\",\n",
    "    discrete=True,\n",
    "    hue=\"rating\",\n",
    "    multiple=\"fill\",\n",
    "    palette=\"RdYlGn\",\n",
    ")"
   ]
  },
  {
   "cell_type": "code",
   "execution_count": null,
   "id": "eeef70c6",
   "metadata": {},
   "outputs": [],
   "source": [
    "sns.violinplot(\n",
    "    df_master,\n",
    "    x=\"rating_appearance\",\n",
    "    y=\"rating\",\n",
    ")"
   ]
  }
 ],
 "metadata": {
  "jupytext": {
   "cell_metadata_filter": "-all",
   "main_language": "python",
   "notebook_metadata_filter": "-all"
  }
 },
 "nbformat": 4,
 "nbformat_minor": 5
}
