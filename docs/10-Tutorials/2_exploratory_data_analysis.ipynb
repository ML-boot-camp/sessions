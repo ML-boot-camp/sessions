{
 "cells": [
  {
   "cell_type": "markdown",
   "id": "cd2e2671",
   "metadata": {},
   "source": [
    "# 🐍 Practice n°2: exploratory data analysis\n",
    "## Preparation\n",
    "### Install & import modules"
   ]
  },
  {
   "cell_type": "code",
   "execution_count": null,
   "id": "c1888a56",
   "metadata": {},
   "outputs": [],
   "source": [
    "! pip install seaborn"
   ]
  },
  {
   "cell_type": "code",
   "execution_count": null,
   "id": "51385d59",
   "metadata": {},
   "outputs": [],
   "source": [
    "from pathlib import Path\n",
    "\n",
    "import numpy as np\n",
    "import pandas as pd\n",
    "import seaborn as sns"
   ]
  },
  {
   "cell_type": "markdown",
   "id": "6c0d1786",
   "metadata": {},
   "source": [
    "### Read remote dataset"
   ]
  },
  {
   "cell_type": "markdown",
   "id": "e06eb78e",
   "metadata": {},
   "source": [
    "The data is in this git repository: [ML-boot-camp/ratebeer.git](https://github.com/ML-boot-camp/ratebeer.git).\n",
    "\n",
    "The data is located in the `ratebeer/data/` folder.\n"
   ]
  },
  {
   "cell_type": "code",
   "execution_count": null,
   "id": "9d99512e",
   "metadata": {},
   "outputs": [],
   "source": [
    "file_url = \"https://github.com/ML-boot-camp/ratebeer/raw/master/data/ratebeer_sample_clean.parquet\""
   ]
  },
  {
   "cell_type": "code",
   "execution_count": null,
   "id": "fe63648c",
   "metadata": {},
   "outputs": [],
   "source": [
    "df_ratebeer = pd.read_parquet(file_url)"
   ]
  },
  {
   "cell_type": "code",
   "execution_count": null,
   "id": "0eb2cf8a",
   "metadata": {},
   "outputs": [],
   "source": [
    "df_reviewers = (\n",
    "    df_ratebeer\n",
    "    .groupby(\"review_profileName\")\n",
    "    .agg(\n",
    "        number_of_reviews=('review_profileName', 'count'),\n",
    "        average_rating=('review_overall', 'mean')\n",
    "    )\n",
    "    .round(1)\n",
    "    .reset_index()\n",
    ")"
   ]
  },
  {
   "cell_type": "code",
   "execution_count": null,
   "id": "3c0cbec3",
   "metadata": {},
   "outputs": [],
   "source": [
    "df_master = (\n",
    "    df_ratebeer\n",
    "    .merge(\n",
    "        df_reviewers,\n",
    "        on=\"review_profileName\",\n",
    "        how='inner',\n",
    "        validate=\"m:1\"\n",
    "    )\n",
    "    .assign(\n",
    "        review_time=lambda df: df.review_time.astype(int)\n",
    "        .apply(pd.Timestamp.fromtimestamp)\n",
    "    )\n",
    "    .assign(\n",
    "        positive_review=lambda df: (df.review_overall >= df.review_overall.median()).astype(int)\n",
    "    )\n",
    ")"
   ]
  },
  {
   "cell_type": "markdown",
   "id": "e5298867",
   "metadata": {},
   "source": [
    "## `df_master` DataFrame"
   ]
  },
  {
   "cell_type": "markdown",
   "id": "85453fe7",
   "metadata": {},
   "source": [
    "### General information\n",
    "Have a first overview of the dataframe size, i.e. number of rows & columns.\n",
    "\n",
    "Methods you'll need:\n",
    "- [`pd.DataFrame.shape`](https://pandas.pydata.org/docs/reference/api/pandas.DataFrame.shape.html)"
   ]
  },
  {
   "cell_type": "code",
   "execution_count": null,
   "id": "48879470",
   "metadata": {},
   "outputs": [],
   "source": [
    "df_master.shape"
   ]
  },
  {
   "cell_type": "markdown",
   "id": "8fd80004",
   "metadata": {},
   "source": [
    "Get a few information about the content of the dataframe:\n",
    "- number of null values per column\n",
    "- data type of each column\n",
    "- memory usage\n",
    "\n",
    "Methods you'll need:\n",
    "- [`pd.DataFrame.isnull`](https://pandas.pydata.org/docs/reference/api/pandas.DataFrame.isnull.html)\n",
    "- [`pd.DataFrame.sum`](https://pandas.pydata.org/docs/reference/api/pandas.DataFrame.sum.html)\n",
    "- [`pd.DataFrame.dtypes`](https://pandas.pydata.org/docs/reference/api/pandas.DataFrame.dtypes.html)\n",
    "- [`pd.DataFrame.info`](https://pandas.pydata.org/docs/reference/api/pandas.DataFrame.info.html)"
   ]
  },
  {
   "cell_type": "code",
   "execution_count": null,
   "id": "147f118e",
   "metadata": {},
   "outputs": [],
   "source": [
    "df_master.isnull().sum()"
   ]
  },
  {
   "cell_type": "code",
   "execution_count": null,
   "id": "2caccb5f",
   "metadata": {},
   "outputs": [],
   "source": [
    "df_master.dtypes"
   ]
  },
  {
   "cell_type": "code",
   "execution_count": null,
   "id": "5f6dd8e8",
   "metadata": {},
   "outputs": [],
   "source": [
    "df_master.info(memory_usage=\"deep\")  # LINE TO BE REMOVED FOR STUDENTS"
   ]
  },
  {
   "cell_type": "markdown",
   "id": "a0aaedbb",
   "metadata": {},
   "source": [
    "Show a sample of the data\n",
    "\n",
    "Methods you'll need:\n",
    "- [`pd.DataFrame.head`](https://pandas.pydata.org/docs/reference/api/pandas.DataFrame.head.html)\n",
    "- [`pd.DataFrame.sample`](https://pandas.pydata.org/docs/reference/api/pandas.DataFrame.sample.html)\n",
    "\n",
    "Bonus: display the transpose of the dataframe for better readability when having lots of columns using:\n",
    "- [`pd.DataFrame.T`](https://pandas.pydata.org/docs/reference/api/pandas.DataFrame.T.html)"
   ]
  },
  {
   "cell_type": "code",
   "execution_count": null,
   "id": "543df67e",
   "metadata": {},
   "outputs": [],
   "source": [
    "df_master.head(5)"
   ]
  },
  {
   "cell_type": "code",
   "execution_count": null,
   "id": "1594b30c",
   "metadata": {},
   "outputs": [],
   "source": [
    "df_master.sample(5).T"
   ]
  },
  {
   "cell_type": "markdown",
   "id": "3c608e8e",
   "metadata": {},
   "source": [
    "Compute statistics to understand the content of each column.\n",
    "\n",
    "Methods you'll need:\n",
    "- [`pd.DataFrame.describe`](https://pandas.pydata.org/docs/reference/api/pandas.DataFrame.describe.html)\n",
    "- [`pd.DataFrame.fillna`](https://pandas.pydata.org/docs/reference/api/pandas.DataFrame.fillna.html)\n",
    "\n",
    "Bonus: fill NaN values with an empty string `\"\"` for a better readability using:"
   ]
  },
  {
   "cell_type": "code",
   "execution_count": null,
   "id": "a053bbf7",
   "metadata": {},
   "outputs": [],
   "source": [
    "df_master.describe(include=\"all\").fillna(\"\").T"
   ]
  },
  {
   "cell_type": "markdown",
   "id": "1abd7aa1",
   "metadata": {},
   "source": [
    "### Quantitative variables\n",
    "\n",
    "- `review_appearance`\n",
    "- `review_aroma`\n",
    "- `review_palate`\n",
    "- `review_taste`\n",
    "- `review_overall`\n",
    "- `average_rating`\n",
    "- `number_of_reviews`\n",
    "- `beer_ABV`"
   ]
  },
  {
   "cell_type": "markdown",
   "id": "4d928dc5",
   "metadata": {},
   "source": [
    "Methods you'll need:\n",
    "- [`pd.DataFrame.describe`](https://pandas.pydata.org/docs/reference/api/pandas.DataFrame.describe.html)\n",
    "- [`pd.Series.hist`](https://pandas.pydata.org/docs/reference/api/pandas.Series.hist.html)\n",
    "- [`pd.DataFrame.fillna`](https://pandas.pydata.org/docs/reference/api/pandas.DataFrame.fillna.html)"
   ]
  },
  {
   "cell_type": "markdown",
   "id": "c8311567",
   "metadata": {},
   "source": [
    "Describe all quantitative variables"
   ]
  },
  {
   "cell_type": "code",
   "execution_count": null,
   "id": "d150e1b2",
   "metadata": {},
   "outputs": [],
   "source": [
    "pd.set_option(\"display.precision\", 2)"
   ]
  },
  {
   "cell_type": "code",
   "execution_count": null,
   "id": "8c76e916",
   "metadata": {},
   "outputs": [],
   "source": [
    "quantitative_columns = [\n",
    "    \"review_appearance\",\n",
    "    \"review_aroma\",\n",
    "    \"review_palate\",\n",
    "    \"review_taste\",\n",
    "    \"review_overall\",\n",
    "    \"average_rating\",\n",
    "    \"number_of_reviews\",\n",
    "    \"beer_ABV\",\n",
    "]\n",
    "(\n",
    "    (df_master)\n",
    "    .loc[:, quantitative_columns]\n",
    "    .describe()  # LINE TO BE REMOVED FOR STUDENTS\n",
    "    .T  # LINE TO BE REMOVED FOR STUDENTS\n",
    "    .style.background_gradient().set_precision(2)  # LINE TO BE REMOVED FOR STUDENTS\n",
    ")"
   ]
  },
  {
   "cell_type": "markdown",
   "id": "b0be2308",
   "metadata": {},
   "source": [
    "Describe and plot all numeric columns containing reviews: review_* & average_rating"
   ]
  },
  {
   "cell_type": "code",
   "execution_count": null,
   "id": "9073b706",
   "metadata": {},
   "outputs": [],
   "source": [
    "review_columns = [\n",
    "    \"review_appearance\",\n",
    "    \"review_aroma\",\n",
    "    \"review_palate\",  # LINE TO BE REMOVED FOR STUDENTS\n",
    "    \"review_taste\",  # LINE TO BE REMOVED FOR STUDENTS\n",
    "    \"review_overall\",  # LINE TO BE REMOVED FOR STUDENTS\n",
    "    \"average_rating\",\n",
    "]\n",
    "HISTOGRAM_SIZE = (6, 3)\n",
    "(\n",
    "    (df_master)\n",
    "    .loc[:, review_columns]\n",
    "    .plot.hist(\n",
    "        bins=range(21),\n",
    "        subplots=True,\n",
    "        figsize=(HISTOGRAM_SIZE[0], len(review_columns) * HISTOGRAM_SIZE[1]),\n",
    "    )\n",
    ")"
   ]
  },
  {
   "cell_type": "markdown",
   "id": "bfd8e1fe",
   "metadata": {},
   "source": [
    "Plot `number_of_reviews`"
   ]
  },
  {
   "cell_type": "code",
   "execution_count": null,
   "id": "360e3c58",
   "metadata": {},
   "outputs": [],
   "source": [
    "(\n",
    "    (df_master)\n",
    "    .number_of_reviews\n",
    "    .plot.hist(bins=100)  # LINE TO BE REMOVED FOR STUDENTS\n",
    ")"
   ]
  },
  {
   "cell_type": "code",
   "execution_count": null,
   "id": "e814ebb1",
   "metadata": {},
   "outputs": [],
   "source": [
    "(\n",
    "    (df_master)\n",
    "    .number_of_reviews  # LINE TO BE REMOVED FOR STUDENTS\n",
    "    .plot.hist(bins=100, loglog=True)\n",
    ")"
   ]
  },
  {
   "cell_type": "markdown",
   "id": "e32f8adf",
   "metadata": {},
   "source": [
    "If interested, you can read: [Zipf's Law on Wikipedia](https://en.wikipedia.org/wiki/Zipf's_law)"
   ]
  },
  {
   "cell_type": "markdown",
   "id": "0e21e656",
   "metadata": {},
   "source": [
    "Plot `beer_ABV`"
   ]
  },
  {
   "cell_type": "code",
   "execution_count": null,
   "id": "abeec548",
   "metadata": {},
   "outputs": [],
   "source": [
    "(\n",
    "    (df_master)\n",
    "    .beer_ABV  # LINE TO BE REMOVED FOR STUDENTS\n",
    "    .plot.hist(bins=100)\n",
    ")"
   ]
  },
  {
   "cell_type": "code",
   "execution_count": null,
   "id": "86e6ce26",
   "metadata": {},
   "outputs": [],
   "source": [
    "(\n",
    "    (df_master)\n",
    "    .beer_ABV  # LINE TO BE REMOVED FOR STUDENTS\n",
    "    .plot.hist(bins=100, logy=True)\n",
    ")"
   ]
  },
  {
   "cell_type": "markdown",
   "id": "f8194a2b",
   "metadata": {},
   "source": [
    "Plot `review_time`"
   ]
  },
  {
   "cell_type": "code",
   "execution_count": null,
   "id": "604ef36e",
   "metadata": {},
   "outputs": [],
   "source": [
    "(\n",
    "    df_master\n",
    "    .review_time\n",
    "    .hist(bins=100)  # LINE TO BE REMOVED FOR STUDENTS\n",
    ")"
   ]
  },
  {
   "cell_type": "markdown",
   "id": "faa42f27",
   "metadata": {},
   "source": [
    "### Nominal and ordinal variables:\n",
    "- `positive_review`\n",
    "- `beer_style`\n",
    "- `beer_name`\n",
    "- `beer_beerId`\n",
    "- `beer_brewerId`\n",
    "- `review_profileName`"
   ]
  },
  {
   "cell_type": "markdown",
   "id": "563b732c",
   "metadata": {},
   "source": [
    "Describe and plot `positive_review`"
   ]
  },
  {
   "cell_type": "code",
   "execution_count": null,
   "id": "f8a428a0",
   "metadata": {},
   "outputs": [],
   "source": [
    "(\n",
    "    (df_master)\n",
    "    .positive_review\n",
    "    .describe()  # LINE TO BE REMOVED FOR STUDENTS\n",
    ")"
   ]
  },
  {
   "cell_type": "code",
   "execution_count": null,
   "id": "b560ed41",
   "metadata": {},
   "outputs": [],
   "source": [
    "(\n",
    "    (df_master)\n",
    "    .positive_review\n",
    "    .value_counts()  # LINE TO BE REMOVED FOR STUDENTS\n",
    "    .plot.bar()  # LINE TO BE REMOVED FOR STUDENTS\n",
    ")"
   ]
  },
  {
   "cell_type": "markdown",
   "id": "48bf4d68",
   "metadata": {},
   "source": [
    "Describe and plot `beer_style`"
   ]
  },
  {
   "cell_type": "code",
   "execution_count": null,
   "id": "1a86e919",
   "metadata": {},
   "outputs": [],
   "source": [
    "(\n",
    "    (df_master)\n",
    "    .beer_style  # LINE TO BE REMOVED FOR STUDENTS\n",
    "    .describe()\n",
    ")"
   ]
  },
  {
   "cell_type": "code",
   "execution_count": null,
   "id": "2edf37f2",
   "metadata": {},
   "outputs": [],
   "source": [
    "(\n",
    "    (df_master)\n",
    "    .beer_style\n",
    "    .value_counts()\n",
    "    .plot.bar()  # LINE TO BE REMOVED FOR STUDENTS\n",
    ")"
   ]
  },
  {
   "cell_type": "code",
   "execution_count": null,
   "id": "8da5daa3",
   "metadata": {},
   "outputs": [],
   "source": [
    "(\n",
    "    (df_master)\n",
    "    .beer_style\n",
    "    .value_counts()  # LINE TO BE REMOVED FOR STUDENTS\n",
    "    .plot.bar(logy=True)\n",
    ")"
   ]
  },
  {
   "cell_type": "markdown",
   "id": "6266dcdb",
   "metadata": {},
   "source": [
    "Describe and plot `beer_name`"
   ]
  },
  {
   "cell_type": "code",
   "execution_count": null,
   "id": "8c2961b7",
   "metadata": {},
   "outputs": [],
   "source": [
    "(\n",
    "    (df_master)\n",
    "    .beer_name\n",
    "    .describe()\n",
    ")"
   ]
  },
  {
   "cell_type": "code",
   "execution_count": null,
   "id": "67e0fdd3",
   "metadata": {},
   "outputs": [],
   "source": [
    "(\n",
    "    (df_master)\n",
    "    .beer_name\n",
    "    .value_counts()\n",
    "    .value_counts()\n",
    "    .plot.bar()  # LINE TO BE REMOVED FOR STUDENTS\n",
    ")"
   ]
  },
  {
   "cell_type": "code",
   "execution_count": null,
   "id": "7c67a593",
   "metadata": {},
   "outputs": [],
   "source": [
    "(\n",
    "    (df_master)\n",
    "    .beer_name  # LINE TO BE REMOVED FOR STUDENTS\n",
    "    .value_counts()  # LINE TO BE REMOVED FOR STUDENTS\n",
    "    .value_counts()\n",
    "    .plot.bar(logy=True)\n",
    ")"
   ]
  },
  {
   "cell_type": "code",
   "execution_count": null,
   "id": "4e3f5be8",
   "metadata": {},
   "outputs": [],
   "source": [
    "(\n",
    "    (df_master)\n",
    "    .beer_name\n",
    "    .value_counts()  # LINE TO BE REMOVED FOR STUDENTS\n",
    "    .value_counts()  # LINE TO BE REMOVED FOR STUDENTS\n",
    "    .plot(loglog=True, marker=\".\")\n",
    ")"
   ]
  },
  {
   "cell_type": "markdown",
   "id": "4152bf36",
   "metadata": {},
   "source": [
    "Describe and plot `beer_beerId`"
   ]
  },
  {
   "cell_type": "code",
   "execution_count": null,
   "id": "454eb724",
   "metadata": {},
   "outputs": [],
   "source": [
    "(\n",
    "    (df_master)\n",
    "    .beer_beerId  # LINE TO BE REMOVED FOR STUDENTS\n",
    "    .describe()\n",
    ")"
   ]
  },
  {
   "cell_type": "code",
   "execution_count": null,
   "id": "dbd07303",
   "metadata": {},
   "outputs": [],
   "source": [
    "(\n",
    "    (df_master)\n",
    "    .beer_beerId  # LINE TO BE REMOVED FOR STUDENTS\n",
    "    .value_counts()\n",
    "    .value_counts()\n",
    "    .plot.bar()\n",
    ")"
   ]
  },
  {
   "cell_type": "code",
   "execution_count": null,
   "id": "6ae4c78c",
   "metadata": {},
   "outputs": [],
   "source": [
    "(\n",
    "    (df_master)\n",
    "    .beer_beerId  # LINE TO BE REMOVED FOR STUDENTS\n",
    "    .value_counts()\n",
    "    .value_counts()\n",
    "    .plot.bar(logy=True)\n",
    ")"
   ]
  },
  {
   "cell_type": "code",
   "execution_count": null,
   "id": "63c98d37",
   "metadata": {},
   "outputs": [],
   "source": [
    "(\n",
    "    (df_master)\n",
    "    .beer_beerId  # LINE TO BE REMOVED FOR STUDENTS\n",
    "    .value_counts()\n",
    "    .value_counts()\n",
    "    .plot(loglog=True, marker=\".\")\n",
    ")"
   ]
  },
  {
   "cell_type": "code",
   "execution_count": null,
   "id": "4125b844",
   "metadata": {},
   "outputs": [],
   "source": [
    "(\n",
    "    (df_master)\n",
    "    .beer_beerId  # LINE TO BE REMOVED FOR STUDENTS\n",
    "    .value_counts()\n",
    "    .plot.hist(loglog=True, bins=200)\n",
    ")"
   ]
  },
  {
   "cell_type": "markdown",
   "id": "b3444f3a",
   "metadata": {},
   "source": [
    "If interested, you can read: [Zipf's Law on Wikipedia](https://en.wikipedia.org/wiki/Zipf's_law)"
   ]
  },
  {
   "cell_type": "markdown",
   "id": "5db32883",
   "metadata": {},
   "source": [
    "Describe and plot `beer_brewerId`"
   ]
  },
  {
   "cell_type": "code",
   "execution_count": null,
   "id": "2bdbb31f",
   "metadata": {},
   "outputs": [],
   "source": [
    "(\n",
    "    (df_master)\n",
    "    .beer_brewerId  # LINE TO BE REMOVED FOR STUDENTS\n",
    "    .describe()\n",
    ")"
   ]
  },
  {
   "cell_type": "code",
   "execution_count": null,
   "id": "ac410df9",
   "metadata": {},
   "outputs": [],
   "source": [
    "(\n",
    "    (df_master)\n",
    "    .beer_brewerId\n",
    "    .value_counts()\n",
    "    .value_counts()  # LINE TO BE REMOVED FOR STUDENTS\n",
    "    .plot.bar()\n",
    ")"
   ]
  },
  {
   "cell_type": "code",
   "execution_count": null,
   "id": "33dccb6c",
   "metadata": {},
   "outputs": [],
   "source": [
    "(\n",
    "    (df_master)\n",
    "    .beer_brewerId\n",
    "    .value_counts()  # LINE TO BE REMOVED FOR STUDENTS\n",
    "    .value_counts()\n",
    "    .plot.bar(logy=True)\n",
    ")"
   ]
  },
  {
   "cell_type": "code",
   "execution_count": null,
   "id": "ae62764a",
   "metadata": {
    "lines_to_next_cell": 0
   },
   "outputs": [],
   "source": [
    "(\n",
    "    (df_master)\n",
    "    .beer_brewerId  # LINE TO BE REMOVED FOR STUDENTS\n",
    "    .value_counts()  # LINE TO BE REMOVED FOR STUDENTS\n",
    "    .value_counts()\n",
    "    .plot(loglog=True, marker=\".\")\n",
    ")"
   ]
  },
  {
   "cell_type": "markdown",
   "id": "4bb1b262",
   "metadata": {},
   "source": [
    "If interested, you can read: [Zipf's Law on Wikipedia](https://en.wikipedia.org/wiki/Zipf's_law)"
   ]
  },
  {
   "cell_type": "markdown",
   "id": "b8782376",
   "metadata": {},
   "source": [
    "Describe and plot `review_profileName`"
   ]
  },
  {
   "cell_type": "code",
   "execution_count": null,
   "id": "992b347b",
   "metadata": {},
   "outputs": [],
   "source": [
    "(\n",
    "    (df_master)\n",
    "    .review_profileName\n",
    "    .describe()  # LINE TO BE REMOVED FOR STUDENTS\n",
    ")"
   ]
  },
  {
   "cell_type": "code",
   "execution_count": null,
   "id": "863ca3f2",
   "metadata": {},
   "outputs": [],
   "source": [
    "(\n",
    "    (df_master)\n",
    "    .review_profileName  # LINE TO BE REMOVED FOR STUDENTS\n",
    "    .value_counts()  # LINE TO BE REMOVED FOR STUDENTS\n",
    "    .value_counts()\n",
    "    .plot.bar()\n",
    ")"
   ]
  },
  {
   "cell_type": "code",
   "execution_count": null,
   "id": "1eee412a",
   "metadata": {},
   "outputs": [],
   "source": [
    "(\n",
    "    (df_master)\n",
    "    .review_profileName  # LINE TO BE REMOVED FOR STUDENTS\n",
    "    .value_counts()  # LINE TO BE REMOVED FOR STUDENTS\n",
    "    .value_counts()\n",
    "    .plot.bar(logy=True)\n",
    ")"
   ]
  },
  {
   "cell_type": "code",
   "execution_count": null,
   "id": "33de671f",
   "metadata": {},
   "outputs": [],
   "source": [
    "(\n",
    "    (df_master)\n",
    "    .review_profileName\n",
    "    .value_counts()  # LINE TO BE REMOVED FOR STUDENTS\n",
    "    .value_counts()\n",
    "    .plot(loglog=True, marker=\".\")\n",
    ")"
   ]
  },
  {
   "cell_type": "markdown",
   "id": "7c754776",
   "metadata": {},
   "source": [
    "If interested, you can read: [Zipf's Law on Wikipedia](https://en.wikipedia.org/wiki/Zipf's_law)"
   ]
  },
  {
   "cell_type": "markdown",
   "id": "2f19420c",
   "metadata": {},
   "source": [
    "### Relationship with the target `positive_review`\n",
    "#### Quantitative variables"
   ]
  },
  {
   "cell_type": "markdown",
   "id": "7a75dac2",
   "metadata": {},
   "source": [
    "Plot `review_overall` relationship with `positive_review`"
   ]
  },
  {
   "cell_type": "code",
   "execution_count": null,
   "id": "24627ff1",
   "metadata": {},
   "outputs": [],
   "source": [
    "(\n",
    "    (df_master)\n",
    "    .pipe(sns.histplot, x=\"review_overall\", bins=range(21), hue=\"positive_review\")\n",
    ")"
   ]
  },
  {
   "cell_type": "markdown",
   "id": "b47e2cae",
   "metadata": {},
   "source": [
    "Plot `review_appearance` relationship with `positive_review`"
   ]
  },
  {
   "cell_type": "code",
   "execution_count": null,
   "id": "004caa6e",
   "metadata": {},
   "outputs": [],
   "source": [
    "(\n",
    "    (df_master)\n",
    "    .pipe(sns.histplot, x=\"review_appearance\", bins=range(21), hue=\"positive_review\")  # LINE TO BE REMOVED FOR STUDENTS\n",
    ")"
   ]
  },
  {
   "cell_type": "markdown",
   "id": "765924ef",
   "metadata": {},
   "source": [
    "Plot `review_aroma` relationship with `positive_review`"
   ]
  },
  {
   "cell_type": "code",
   "execution_count": null,
   "id": "81b96983",
   "metadata": {},
   "outputs": [],
   "source": [
    "(\n",
    "    (df_master)\n",
    "    .pipe(sns.histplot, x=\"review_aroma\", bins=range(21), hue=\"positive_review\")  # LINE TO BE REMOVED FOR STUDENTS\n",
    ")"
   ]
  },
  {
   "cell_type": "markdown",
   "id": "0c8a3ac0",
   "metadata": {},
   "source": [
    "Plot `review_palate` relationship with `positive_review`"
   ]
  },
  {
   "cell_type": "code",
   "execution_count": null,
   "id": "a904d77e",
   "metadata": {},
   "outputs": [],
   "source": [
    "(\n",
    "    (df_master)  # LINE TO BE REMOVED FOR STUDENTS\n",
    "    .pipe(sns.histplot, x=\"review_palate\", bins=range(21), hue=\"positive_review\")\n",
    ")"
   ]
  },
  {
   "cell_type": "markdown",
   "id": "b3d92ca1",
   "metadata": {},
   "source": [
    "Plot `review_taste` relationship with `positive_review`"
   ]
  },
  {
   "cell_type": "code",
   "execution_count": null,
   "id": "a36b8f1f",
   "metadata": {},
   "outputs": [],
   "source": [
    "(\n",
    "    (df_master)\n",
    "    .pipe(sns.histplot, x=\"review_taste\", bins=range(21), hue=\"positive_review\")  # LINE TO BE REMOVED FOR STUDENTS\n",
    ")"
   ]
  },
  {
   "cell_type": "markdown",
   "id": "59443367",
   "metadata": {},
   "source": [
    "#### Quantitative variables"
   ]
  },
  {
   "cell_type": "markdown",
   "id": "a4995818",
   "metadata": {},
   "source": [
    "Plot `beer_style` relationship with `positive_review`"
   ]
  },
  {
   "cell_type": "code",
   "execution_count": null,
   "id": "773b52e1",
   "metadata": {},
   "outputs": [],
   "source": [
    "(\n",
    "    (df_master)  # LINE TO BE REMOVED FOR STUDENTS\n",
    "    .pipe(sns.histplot, x=\"beer_style\", bins=range(21), hue=\"positive_review\")\n",
    ")"
   ]
  },
  {
   "cell_type": "markdown",
   "id": "2000d32d",
   "metadata": {},
   "source": [
    "#### High cardinality variables"
   ]
  },
  {
   "cell_type": "code",
   "execution_count": null,
   "id": "49642abe",
   "metadata": {},
   "outputs": [],
   "source": [
    "(\n",
    "    (df_master)\n",
    "    .sample(10000)\n",
    "    .assign(beer_beerId_noccurences=lambda df: df.beer_beerId.pipe(lambda s: s.replace(s.value_counts().to_dict())))\n",
    "    .pipe(sns.histplot, x=\"beer_beerId_noccurences\", bins=range(21), hue=\"positive_review\")\n",
    ")"
   ]
  },
  {
   "cell_type": "code",
   "execution_count": null,
   "id": "c211c511",
   "metadata": {},
   "outputs": [],
   "source": [
    "(\n",
    "    (df_master)\n",
    "    .sample(10000)\n",
    "    .assign(beer_brewerId_noccurences=lambda df: df.beer_brewerId.pipe(lambda s: s.replace(s.value_counts().to_dict())))\n",
    "    .pipe(sns.histplot, x=\"beer_brewerId_noccurences\", bins=range(21), hue=\"positive_review\")\n",
    ")"
   ]
  },
  {
   "cell_type": "code",
   "execution_count": null,
   "id": "6f9bc137",
   "metadata": {},
   "outputs": [],
   "source": [
    "(\n",
    "    (df_master)\n",
    "    .sample(10000)\n",
    "    .assign(review_profileName_noccurences=lambda df: df.review_profileName.pipe(lambda s: s.replace(s.value_counts().to_dict())))\n",
    "    .pipe(sns.histplot, x=\"review_profileName_noccurences\", bins=range(21), hue=\"positive_review\")\n",
    ")"
   ]
  },
  {
   "cell_type": "markdown",
   "id": "04e7c94a",
   "metadata": {},
   "source": [
    "### Multivariate plots"
   ]
  },
  {
   "cell_type": "markdown",
   "id": "88ccb588",
   "metadata": {},
   "source": [
    "Plot a scatter matrix of the numerical variables, colored by the target column\n",
    "`positive_review`.\n",
    "\n",
    "Hint:\n",
    "- [`pd.DataFrame.select_dtypes`](https://pandas.pydata.org/docs/reference/api/pandas.DataFrame.select_dtypes.html)\n",
    "- [`pd.plotting.scatter_matrix`](https://pandas.pydata.org/docs/reference/api/pandas.plotting.scatter_matrix.html)"
   ]
  },
  {
   "cell_type": "code",
   "execution_count": null,
   "id": "374724c9",
   "metadata": {},
   "outputs": [],
   "source": [
    "review_columns = [\n",
    "    \"review_appearance\",\n",
    "    \"review_aroma\",\n",
    "    \"review_palate\",\n",
    "    \"review_taste\",\n",
    "    \"review_overall\",\n",
    "]\n",
    "\n",
    "def add_jitter(df, jitter=0.4):\n",
    "    return df + np.random.uniform(low=-jitter, high=jitter, size=df.shape)\n",
    "\n",
    "(\n",
    "    (df_master)\n",
    "    .loc[:, review_columns]\n",
    "    .head(10000)\n",
    "    .pipe(add_jitter)  # LINE TO BE REMOVED FOR STUDENTS\n",
    "    .pipe(\n",
    "        pd.plotting.scatter_matrix,\n",
    "        figsize=(15, 15),\n",
    "        s=10,  # LINE TO BE REMOVED FOR STUDENTS\n",
    "        alpha=0.1,  # LINE TO BE REMOVED FOR STUDENTS\n",
    "        c=df_master.positive_review.head(10000),  # LINE TO BE REMOVED FOR STUDENTS\n",
    "    )\n",
    ")"
   ]
  },
  {
   "cell_type": "markdown",
   "id": "e429cdf4",
   "metadata": {},
   "source": [
    "### String manipulation\n",
    "Using the [`pd.Series.str`](https://pandas.pydata.org/docs/reference/api/pandas.Series.str.html) API"
   ]
  },
  {
   "cell_type": "markdown",
   "id": "941321e3",
   "metadata": {},
   "source": [
    "#### `review_text` column:"
   ]
  },
  {
   "cell_type": "markdown",
   "id": "a584e211",
   "metadata": {},
   "source": [
    "Compute the length of the texts in the dataset.\n",
    "\n",
    "Methods you'll need:\n",
    "- [`pd.Series.str.len`](https://pandas.pydata.org/docs/reference/api/pandas.Series.str.len.html)\n",
    "- [`pd.Series.str`](https://pandas.pydata.org/docs/reference/api/pandas.Series.str..html)\n",
    "\n",
    "Bonus: plot an histogram of the values, with log values, using:\n",
    "- [`pd.Series.plot.hist`](https://pandas.pydata.org/docs/reference/api/pandas.Series.plot.bar.html)\n",
    "\n",
    "Is it a Power law distribution ?"
   ]
  },
  {
   "cell_type": "code",
   "execution_count": null,
   "id": "d9f85ab2",
   "metadata": {},
   "outputs": [],
   "source": [
    "(\n",
    "    (df_master.review_text)\n",
    "    .str.len()\n",
    "    .plot.hist(bins=range(2000))  # LINE TO BE REMOVED FOR STUDENTS\n",
    ")"
   ]
  },
  {
   "cell_type": "code",
   "execution_count": null,
   "id": "548bf55d",
   "metadata": {},
   "outputs": [],
   "source": [
    "(\n",
    "    (df_master.review_text)\n",
    "    .str.len()  # LINE TO BE REMOVED FOR STUDENTS\n",
    "    .plot.hist(bins=range(2000), logy=True)\n",
    ")"
   ]
  },
  {
   "cell_type": "markdown",
   "id": "ad4212cb",
   "metadata": {},
   "source": [
    "Compute the frequency of the most used letters in the texts\n",
    "\n",
    "Methods you'll need:\n",
    "- [`pd.Series.str.lower`](https://pandas.pydata.org/docs/reference/api/pandas.Series.str.lower.html)\n",
    "- [`pd.Series.str.split`](https://pandas.pydata.org/docs/reference/api/pandas.Series.str.split.html)\n",
    "- [`pd.Series.explode`](https://pandas.pydata.org/docs/reference/api/pandas.Series.explode.html)\n",
    "- [`pd.Series.value_counts`](https://pandas.pydata.org/docs/reference/api/pandas.Series.value_counts.html)\n",
    "- [`pd.Series.head`](https://pandas.pydata.org/docs/reference/api/pandas.Series.head.html)\n",
    "\n",
    "Bonus: plot an histogram of the values, with log values, using:\n",
    "- [`pd.Series.plot.hist`](https://pandas.pydata.org/docs/reference/api/pandas.Series.plot.bar.html)\n",
    "\n",
    "Is it a Power law distribution ?"
   ]
  },
  {
   "cell_type": "code",
   "execution_count": null,
   "id": "327a1d50",
   "metadata": {},
   "outputs": [],
   "source": [
    "df_most_used_letters = (\n",
    "    (df_master.review_text)\n",
    "    .str.lower()\n",
    "    .str.split(\"\")\n",
    "    .explode()\n",
    "    .loc[lambda x: x != \" \"]\n",
    "    .value_counts()  # LINE TO BE REMOVED FOR STUDENTS\n",
    ")"
   ]
  },
  {
   "cell_type": "code",
   "execution_count": null,
   "id": "bb12a69f",
   "metadata": {},
   "outputs": [],
   "source": [
    "(\n",
    "    df_most_used_letters\n",
    "    .head(40)\n",
    "    .plot.bar()  # LINE TO BE REMOVED FOR STUDENTS\n",
    ")"
   ]
  },
  {
   "cell_type": "code",
   "execution_count": null,
   "id": "c8a1e265",
   "metadata": {},
   "outputs": [],
   "source": [
    "(\n",
    "    df_most_used_letters\n",
    "    .head(40)  # LINE TO BE REMOVED FOR STUDENTS\n",
    "    .plot.bar(logy=True)\n",
    ")"
   ]
  },
  {
   "cell_type": "markdown",
   "id": "18d8c622",
   "metadata": {},
   "source": [
    "Compute the frequency of the most used words in the texts\n",
    "\n",
    "Methods you'll need:\n",
    "- [`pd.Series.str.len`](https://pandas.pydata.org/docs/reference/api/pandas.Series.str.len.html)\n",
    "- [`pd.Series.str.split`](https://pandas.pydata.org/docs/reference/api/pandas.Series.str.split.html)\n",
    "- [`pd.Series.explode`](https://pandas.pydata.org/docs/reference/api/pandas.Series.explode.html)\n",
    "- [`pd.Series.value_counts`](https://pandas.pydata.org/docs/reference/api/pandas.Series.value_counts.html)\n",
    "- [`pd.Series.head`](https://pandas.pydata.org/docs/reference/api/pandas.Series.head.html)\n",
    "\n",
    "Bonus: plot an histogram of the values, with log values, using:\n",
    "- [`pd.Series.plot.hist`](https://pandas.pydata.org/docs/reference/api/pandas.Series.plot.bar.html)\n",
    "\n",
    "Is it a Power law distribution ?"
   ]
  },
  {
   "cell_type": "code",
   "execution_count": null,
   "id": "994569f7",
   "metadata": {},
   "outputs": [],
   "source": [
    "word_frequencies = (\n",
    "    (df_master.review_text)\n",
    "    .str.lower()\n",
    "    .str.replace(r\"[^a-z\\ ]\", \"\")\n",
    "    .str.replace(r\"\\ +\", \" \")\n",
    "    .str.split(\" \")  # LINE TO BE REMOVED FOR STUDENTS\n",
    "    .explode()\n",
    "    .value_counts()\n",
    ")\n",
    "word_frequencies"
   ]
  },
  {
   "cell_type": "code",
   "execution_count": null,
   "id": "51a89b52",
   "metadata": {},
   "outputs": [],
   "source": [
    "(\n",
    "    word_frequencies\n",
    "    .head(100)\n",
    "    .plot.bar(figsize=(12, 4))  # LINE TO BE REMOVED FOR STUDENTS\n",
    ")"
   ]
  },
  {
   "cell_type": "code",
   "execution_count": null,
   "id": "70bd7b15",
   "metadata": {},
   "outputs": [],
   "source": [
    "(\n",
    "    word_frequencies\n",
    "    .head(100)  # LINE TO BE REMOVED FOR STUDENTS\n",
    "    .plot.bar(logy=True, figsize=(12, 4))\n",
    ")"
   ]
  },
  {
   "cell_type": "code",
   "execution_count": null,
   "id": "5f1435cb",
   "metadata": {},
   "outputs": [],
   "source": [
    "(\n",
    "    word_frequencies\n",
    "    .head(1000)\n",
    "    .reset_index(drop=True)\n",
    "    .plot(loglog=True, marker=\".\")\n",
    ")"
   ]
  },
  {
   "cell_type": "markdown",
   "id": "12137793",
   "metadata": {},
   "source": [
    "### Detailed text analysis\n",
    "Word associated to positive & negative reviews"
   ]
  },
  {
   "cell_type": "code",
   "execution_count": null,
   "id": "c4518655",
   "metadata": {},
   "outputs": [],
   "source": [
    "(\n",
    "    df_master\n",
    "    .head(100000)\n",
    "    .assign(\n",
    "        tokenized_text=lambda df: (df.review_text)\n",
    "        .str.lower()\n",
    "        .str.replace(r\"[^a-z]\", \" \")\n",
    "        .str.replace(r\" +\", \" \")\n",
    "        .str.split(\" \")\n",
    "    )\n",
    "    .loc[:, [\"review_overall\", \"tokenized_text\"]]\n",
    "    .explode(\"tokenized_text\")\n",
    "    .groupby(\"tokenized_text\", as_index=False)\n",
    "    .agg([\"mean\", \"count\"])\n",
    "    .reset_index()\n",
    "    .sort_values(by=(\"review_overall\", \"count\"), ascending=False)\n",
    "    .head(200)\n",
    "    .style.background_gradient(cmap=\"RdYlGn\")\n",
    ")"
   ]
  },
  {
   "cell_type": "markdown",
   "id": "893aa524",
   "metadata": {},
   "source": [
    "Count the percentage of each rating as a function of the `date` & plot\n",
    "a line diagram. E.g: in 2020, 55% of ratings were 5, 15% or ratings were 4, ...\n",
    "\n",
    "Hint:\n",
    "- [`sns.displot`]()"
   ]
  },
  {
   "cell_type": "code",
   "execution_count": null,
   "id": "c2065477",
   "metadata": {},
   "outputs": [],
   "source": [
    "(\n",
    "    df_master\n",
    "    .pipe(sns.displot, x=\"review_time\", hue=\"review_overall\", multiple=\"fill\", kind=\"kde\")\n",
    ")"
   ]
  },
  {
   "cell_type": "code",
   "execution_count": null,
   "id": "bd2bc214",
   "metadata": {},
   "outputs": [],
   "source": []
  }
 ],
 "metadata": {
  "jupytext": {
   "cell_metadata_filter": "-all",
   "main_language": "python",
   "notebook_metadata_filter": "-all"
  }
 },
 "nbformat": 4,
 "nbformat_minor": 5
}
