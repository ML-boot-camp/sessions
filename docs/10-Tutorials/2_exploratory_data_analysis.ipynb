{
 "cells": [
  {
   "cell_type": "markdown",
   "id": "5e4961d9",
   "metadata": {},
   "source": [
    "# 🐍 Practice n°2: exploratory data analysis\n",
    "## Preparation\n",
    "### Install & import modules"
   ]
  },
  {
   "cell_type": "code",
   "execution_count": null,
   "id": "acf39ce8",
   "metadata": {},
   "outputs": [],
   "source": [
    "! pip install seaborn"
   ]
  },
  {
   "cell_type": "code",
   "execution_count": null,
   "id": "5cabac7d",
   "metadata": {},
   "outputs": [],
   "source": [
    "import pandas as pd\n",
    "import seaborn as sns\n",
    "import matplotlib.pyplot as plt"
   ]
  },
  {
   "cell_type": "code",
   "execution_count": null,
   "id": "c52b9182",
   "metadata": {},
   "outputs": [],
   "source": [
    "pd.set_option(\"display.precision\", 2)\n",
    "sns.set_style(\"whitegrid\")\n",
    "sns.set_context(rc={\"patch.linewidth\": 0.15})"
   ]
  },
  {
   "cell_type": "markdown",
   "id": "d3d170c6",
   "metadata": {},
   "source": [
    "### Read remote dataset\n",
    "\n",
    "The data is in this git repository: [ML-boot-camp/ratebeer.git](https://github.com/ML-boot-camp/ratebeer.git).\n",
    "\n",
    "The data is located in the `ratebeer/data/` folder.\n"
   ]
  },
  {
   "cell_type": "code",
   "execution_count": null,
   "id": "c1f52688",
   "metadata": {},
   "outputs": [],
   "source": [
    "file_url = \"https://github.com/ML-boot-camp/ratebeer/raw/master/data/ratebeer_sample_enriched.parquet\""
   ]
  },
  {
   "cell_type": "code",
   "execution_count": null,
   "id": "c131d270",
   "metadata": {},
   "outputs": [],
   "source": [
    "df = pd.read_parquet(file_url)"
   ]
  },
  {
   "cell_type": "markdown",
   "id": "8914e312",
   "metadata": {},
   "source": [
    "## General information\n",
    "### Shape\n",
    "Have a first overview of the dataframe size, i.e. number of rows & columns.\n",
    "\n",
    "Methods you'll need:\n",
    "- [`pd.DataFrame.shape`](https://pandas.pydata.org/docs/reference/api/pandas.DataFrame.shape.html)"
   ]
  },
  {
   "cell_type": "code",
   "execution_count": null,
   "id": "520e3c23",
   "metadata": {},
   "outputs": [],
   "source": [
    "df.shape"
   ]
  },
  {
   "cell_type": "markdown",
   "id": "40db6b54",
   "metadata": {},
   "source": [
    "### Overview\n",
    "Get a few information about the content of the dataframe:\n",
    "- number of null values per column\n",
    "- data type of each column\n",
    "- memory usage\n",
    "\n",
    "Methods you'll need:\n",
    "- [`pd.DataFrame.info`](https://pandas.pydata.org/docs/reference/api/pandas.DataFrame.info.html)"
   ]
  },
  {
   "cell_type": "code",
   "execution_count": null,
   "id": "ad339ad8",
   "metadata": {},
   "outputs": [],
   "source": [
    "df.info(memory_usage=\"deep\")  # LINE TO BE REMOVED FOR STUDENTS"
   ]
  },
  {
   "cell_type": "markdown",
   "id": "24e2622e",
   "metadata": {},
   "source": [
    "### Sample\n",
    "Show a sample of the data"
   ]
  },
  {
   "cell_type": "code",
   "execution_count": null,
   "id": "bac7f42f",
   "metadata": {},
   "outputs": [],
   "source": [
    "df"
   ]
  },
  {
   "cell_type": "markdown",
   "id": "9c279282",
   "metadata": {},
   "source": [
    "### Describing statistics\n",
    "Compute statistics to understand the content of each column.\n",
    "\n",
    "Methods you'll need:\n",
    "- [`pd.DataFrame.describe`](https://pandas.pydata.org/docs/reference/api/pandas.DataFrame.describe.html)\n",
    "\n",
    "Bonus: fill NaN values with an empty string `\"\"` for a better readability using:\n",
    "- [`pd.DataFrame.fillna`](https://pandas.pydata.org/docs/reference/api/pandas.DataFrame.fillna.html)"
   ]
  },
  {
   "cell_type": "code",
   "execution_count": null,
   "id": "8f2704e1",
   "metadata": {},
   "outputs": [],
   "source": [
    "df.describe(include=\"all\").fillna(\"\").T"
   ]
  },
  {
   "cell_type": "markdown",
   "id": "4cac70d1",
   "metadata": {},
   "source": [
    "## Target\n",
    "\n",
    "The dataset contains 2 possible targets:\n",
    "- `rating`: an ordinal variable, which can be used to define a regression\n",
    "- `is_good`: a binary variable, which can be used to define a classification\n",
    "\n",
    "In the follow-up of the exploratory data analysis, for the sake of clariy, we'll\n",
    "consider only the binary target (classification). Some plots would be different for\n",
    "numeric target."
   ]
  },
  {
   "cell_type": "markdown",
   "id": "55671d75",
   "metadata": {},
   "source": [
    "### `is_good`"
   ]
  },
  {
   "cell_type": "code",
   "execution_count": null,
   "id": "23f73e5a",
   "metadata": {},
   "outputs": [],
   "source": [
    "(\n",
    "    (df.is_good)\n",
    "    .value_counts()\n",
    "    .plot.bar()  # LINE TO BE REMOVED FOR STUDENTS\n",
    ")"
   ]
  },
  {
   "cell_type": "code",
   "execution_count": null,
   "id": "fd7b8895",
   "metadata": {},
   "outputs": [],
   "source": [
    "sns.countplot(\n",
    "    df,\n",
    "    x=\"is_good\",  # LINE TO BE REMOVED FOR STUDENTS\n",
    ")"
   ]
  },
  {
   "cell_type": "markdown",
   "id": "98821e3e",
   "metadata": {},
   "source": [
    "## Quantitative variables\n",
    "\n",
    "- `alcohol`\n",
    "- `date`\n",
    "- `rating_appearance`\n",
    "- `rating_aroma`\n",
    "- `rating_palate`\n",
    "- `rating_taste`"
   ]
  },
  {
   "cell_type": "markdown",
   "id": "258d4255",
   "metadata": {},
   "source": [
    "### `alcohol`\n",
    "#### Distribution"
   ]
  },
  {
   "cell_type": "code",
   "execution_count": null,
   "id": "38084071",
   "metadata": {},
   "outputs": [],
   "source": [
    "((df.alcohol).plot.hist(bins=100))  # LINE TO BE REMOVED FOR STUDENTS"
   ]
  },
  {
   "cell_type": "code",
   "execution_count": null,
   "id": "f0c07d90",
   "metadata": {},
   "outputs": [],
   "source": [
    "sns.displot(\n",
    "    df,\n",
    "    x=\"alcohol\",\n",
    ")"
   ]
  },
  {
   "cell_type": "code",
   "execution_count": null,
   "id": "80680fa1",
   "metadata": {},
   "outputs": [],
   "source": [
    "sns.displot(df, x=\"alcohol\", hue=\"is_good\")"
   ]
  },
  {
   "cell_type": "code",
   "execution_count": null,
   "id": "8a963b81",
   "metadata": {},
   "outputs": [],
   "source": [
    "sns.displot(\n",
    "    df.loc[lambda df: df.alcohol < 20], x=\"alcohol\", hue=\"is_good\"\n",
    ")"
   ]
  },
  {
   "cell_type": "code",
   "execution_count": null,
   "id": "3870e0d0",
   "metadata": {},
   "outputs": [],
   "source": [
    "sns.displot(\n",
    "    df.loc[lambda df: df.alcohol < 20],\n",
    "    x=\"alcohol\",\n",
    "    hue=\"is_good\",\n",
    "    kde=True,\n",
    ")"
   ]
  },
  {
   "cell_type": "code",
   "execution_count": null,
   "id": "c034972a",
   "metadata": {},
   "outputs": [],
   "source": [
    "sns.displot(\n",
    "    df.loc[lambda df: df.alcohol < 20],\n",
    "    x=\"alcohol\",\n",
    "    hue=\"is_good\",\n",
    "    multiple=\"fill\",\n",
    ")"
   ]
  },
  {
   "cell_type": "markdown",
   "id": "084e0e17",
   "metadata": {},
   "source": [
    "### `date`"
   ]
  },
  {
   "cell_type": "markdown",
   "id": "d9737f50",
   "metadata": {},
   "source": [
    "#### Distribution"
   ]
  },
  {
   "cell_type": "code",
   "execution_count": null,
   "id": "94442308",
   "metadata": {},
   "outputs": [],
   "source": [
    "sns.displot(\n",
    "    df,\n",
    "    x=\"date\",  # LINE TO BE REMOVED FOR STUDENTS\n",
    ")"
   ]
  },
  {
   "cell_type": "markdown",
   "id": "c2492582",
   "metadata": {},
   "source": [
    "#### Relationship with the target"
   ]
  },
  {
   "cell_type": "code",
   "execution_count": null,
   "id": "a2812507",
   "metadata": {},
   "outputs": [],
   "source": [
    "sns.displot(\n",
    "    df,\n",
    "    x=\"date\",  # LINE TO BE REMOVED FOR STUDENTS\n",
    "    hue=\"is_good\",  # LINE TO BE REMOVED FOR STUDENTS\n",
    "    kde=True,\n",
    ")"
   ]
  },
  {
   "cell_type": "code",
   "execution_count": null,
   "id": "6ef47a82",
   "metadata": {},
   "outputs": [],
   "source": [
    "sns.displot(\n",
    "    df,\n",
    "    x=\"date\",  # LINE TO BE REMOVED FOR STUDENTS\n",
    "    hue=\"is_good\",  # LINE TO BE REMOVED FOR STUDENTS\n",
    "    multiple=\"fill\",\n",
    ")"
   ]
  },
  {
   "cell_type": "markdown",
   "id": "94bfa087",
   "metadata": {},
   "source": [
    "### All rating columns: review_* & average_rating\n",
    "#### Distribution"
   ]
  },
  {
   "cell_type": "code",
   "execution_count": null,
   "id": "821e53a7",
   "metadata": {},
   "outputs": [],
   "source": [
    "review_columns = [\n",
    "    \"rating_appearance\",\n",
    "    \"rating_aroma\",\n",
    "    \"rating_palate\",  # LINE TO BE REMOVED FOR STUDENTS\n",
    "    \"rating_taste\",  # LINE TO BE REMOVED FOR STUDENTS\n",
    "]\n",
    "df_rating_long = df.melt(id_vars=\"is_good\", value_vars=review_columns)\n",
    "df_rating_long"
   ]
  },
  {
   "cell_type": "code",
   "execution_count": null,
   "id": "56fd19c8",
   "metadata": {},
   "outputs": [],
   "source": [
    "sns.displot(\n",
    "    df_rating_long,\n",
    "    x=\"value\",\n",
    "    row=\"variable\",\n",
    "    discrete=True,\n",
    "    height=3,\n",
    "    aspect=2,\n",
    ")"
   ]
  },
  {
   "cell_type": "markdown",
   "id": "ea65542d",
   "metadata": {},
   "source": [
    "#### Relationship with the target"
   ]
  },
  {
   "cell_type": "code",
   "execution_count": null,
   "id": "e8aa4925",
   "metadata": {},
   "outputs": [],
   "source": [
    "sns.displot(\n",
    "    df_rating_long,\n",
    "    x=\"value\",\n",
    "    hue=\"is_good\",\n",
    "    row=\"variable\",\n",
    "    discrete=True,\n",
    "    height=3,\n",
    "    aspect=2,\n",
    ")"
   ]
  },
  {
   "cell_type": "code",
   "execution_count": null,
   "id": "962172b0",
   "metadata": {},
   "outputs": [],
   "source": [
    "sns.displot(\n",
    "    df_rating_long,\n",
    "    x=\"value\",\n",
    "    hue=\"is_good\",\n",
    "    row=\"variable\",\n",
    "    discrete=True,\n",
    "    height=3,\n",
    "    aspect=2,\n",
    "    multiple=\"fill\",\n",
    ")"
   ]
  },
  {
   "cell_type": "markdown",
   "id": "c4de46f6",
   "metadata": {},
   "source": [
    "## Categorical variables\n",
    "- `type`\n",
    "- `beer`"
   ]
  },
  {
   "cell_type": "markdown",
   "id": "0bcd2897",
   "metadata": {},
   "source": [
    "### `type`\n",
    "#### Distribution"
   ]
  },
  {
   "cell_type": "code",
   "execution_count": null,
   "id": "97261a52",
   "metadata": {},
   "outputs": [],
   "source": [
    "(\n",
    "    (df.type)\n",
    "    .value_counts()\n",
    "    .plot.bar()\n",
    ")"
   ]
  },
  {
   "cell_type": "markdown",
   "id": "30f1f8dd",
   "metadata": {},
   "source": [
    "#### Relationship with the target"
   ]
  },
  {
   "cell_type": "code",
   "execution_count": null,
   "id": "b6a4060c",
   "metadata": {},
   "outputs": [],
   "source": [
    "sns.displot(\n",
    "    df,\n",
    "    x=\"type\",\n",
    "    discrete=True,\n",
    "    hue=\"is_good\",\n",
    ")"
   ]
  },
  {
   "cell_type": "code",
   "execution_count": null,
   "id": "837e830d",
   "metadata": {},
   "outputs": [],
   "source": [
    "df_styles = (\n",
    "    (df)\n",
    "    .groupby(\"type\")\n",
    "    .is_good.agg([\"count\", \"mean\"])\n",
    "    .add_prefix(\"review_\")\n",
    "    .reset_index()\n",
    "    .sort_values(by=\"review_mean\", ascending=False)\n",
    "    .reset_index(drop=True)\n",
    "    .assign(\n",
    "        bar_left_position=lambda df: df.review_count.cumsum().shift(1, fill_value=0)\n",
    "    )\n",
    ")\n",
    "df_styles"
   ]
  },
  {
   "cell_type": "code",
   "execution_count": null,
   "id": "293e3e6b",
   "metadata": {},
   "outputs": [],
   "source": [
    "plt.bar(\n",
    "    x=df_styles.bar_left_position,\n",
    "    height=df_styles.review_mean,\n",
    "    width=df_styles.review_count,\n",
    "    align=\"edge\",\n",
    "    alpha=0.5,\n",
    "    edgecolor=\"k\",\n",
    "    linewidth=0.5,\n",
    ")"
   ]
  },
  {
   "cell_type": "markdown",
   "id": "23b267b1",
   "metadata": {},
   "source": [
    "## High cardinality variables\n",
    "- `beer`\n",
    "- `brewery`\n",
    "- `user`"
   ]
  },
  {
   "cell_type": "markdown",
   "id": "eaaccd64",
   "metadata": {},
   "source": [
    "All those high cardinality variables can be thought as links of a network. Indeed, a\n",
    "review is an object comprising a beer, a brewery and a user and can be thought as a\n",
    "network link between them.\n",
    "\n",
    "In other words, the review table is the a table describing the links in a network with\n",
    "3 types of nodes: users, beers and breweries.\n",
    "\n",
    "The first property to compute about each node is its \"degree\", which is its number of\n",
    "connections with other nodes. High degree means \"highly connected\".\n",
    "\n",
    "Analyse the degree of the nodes is a way to answer the following questions:\n",
    "- is an experienced user more severe ?\n",
    "- is a new user more forgiving ?\n",
    "- is a popular beer (or a big brewery) disadvantaged by a \"boreness factor\" ?\n",
    "- is a new beer (a small brewery) benefitting from a \"novelty factor\" ?\n",
    "\n",
    "To compute the degree you'll need:\n",
    "\n",
    "- [`pd.Series.value_counts`](https://pandas.pydata.org/docs/reference/api/pandas.Series.value_counts.html)"
   ]
  },
  {
   "cell_type": "markdown",
   "id": "f1708f67",
   "metadata": {},
   "source": [
    "### `beer` degree\n",
    "#### Distribution"
   ]
  },
  {
   "cell_type": "code",
   "execution_count": null,
   "id": "2fbe68cd",
   "metadata": {},
   "outputs": [],
   "source": [
    "df_beer_degree = df.loc[:, [\"beer\", \"beer_degree\"]].drop_duplicates()\n",
    "df_beer_degree"
   ]
  },
  {
   "cell_type": "code",
   "execution_count": null,
   "id": "8c065873",
   "metadata": {},
   "outputs": [],
   "source": [
    "(\n",
    "    (df_beer_degree.beer_degree)\n",
    "    .value_counts()\n",
    "    .reset_index()\n",
    "    .plot.scatter(\n",
    "        x=\"beer_degree\", y=\"count\", marker=\".\"  # LINE TO BE REMOVED FOR STUDENTS\n",
    "    )\n",
    ")"
   ]
  },
  {
   "cell_type": "markdown",
   "id": "79d4372f",
   "metadata": {},
   "source": [
    "Many networks are [scale free networks](https://en.wikipedia.org/wiki/Scale-free_network):\n",
    "![](https://www.researchgate.net/profile/Leonardo-Riella/publication/234031137/figure/fig1/AS:282612053626890@1444391372899/Structure-of-networks-A-biological-network-is-not-randomly-wired-similar-number-of.png)\n",
    "\n",
    "Meaning that the node's degree distribution follows a [power law\n",
    "distribution](https://en.wikipedia.org/wiki/Power_law), which is better visualized\n",
    "using a **log-log scale**:\n",
    "![](https://upload.wikimedia.org/wikipedia/commons/3/3b/Degree_distribution_for_a_network_with_150000_vertices_and_mean_degree_%3D_6_created_using_the_Barabasi-Albert_model..png)\n"
   ]
  },
  {
   "cell_type": "code",
   "execution_count": null,
   "id": "fbe4f657",
   "metadata": {
    "lines_to_next_cell": 1
   },
   "outputs": [],
   "source": [
    "(\n",
    "    (df_beer_degree.beer_degree)\n",
    "    .value_counts()\n",
    "    .reset_index()\n",
    "    .plot.scatter(  # LINE TO BE REMOVED FOR STUDENTS\n",
    "        x=\"beer_degree\",  # LINE TO BE REMOVED FOR STUDENTS\n",
    "        y=\"count\",  # LINE TO BE REMOVED FOR STUDENTS\n",
    "        loglog=True,  # LINE TO BE REMOVED FOR STUDENTS\n",
    "        marker=\".\"  # LINE TO BE REMOVED FOR STUDENTS\n",
    "    )  # LINE TO BE REMOVED FOR STUDENTS\n",
    ")"
   ]
  },
  {
   "cell_type": "markdown",
   "id": "49a194d5",
   "metadata": {},
   "source": [
    "Another way to visualize the power law distribution is to visualize the\n",
    "[rank-frequency plot](https://en.wikipedia.org/wiki/Rank%E2%80%93size_distribution).\n",
    "\n",
    "Instead of plotting the frequency as a function of the value (like in a normal\n",
    "distribution plot), we plot the frequency as a function of its rank. Note: It's always\n",
    "monotonically decreasing.\n",
    "\n",
    "Power law distributions exhibit also a distinctive visual pattern in the\n",
    "rank-frequency plot, known as the [Zipf's law]():\n",
    "![](https://upload.wikimedia.org/wikipedia/commons/d/d9/Zipf-engl-0_English_-_Culpeper_herbal_and_War_of_the_Worlds.svg)\n"
   ]
  },
  {
   "cell_type": "code",
   "execution_count": null,
   "id": "c7409771",
   "metadata": {},
   "outputs": [],
   "source": [
    "def plot_rank_size(series):\n",
    "    return (\n",
    "        (series)\n",
    "        .rename(\"\")\n",
    "        .value_counts()\n",
    "        .reset_index()\n",
    "        .assign(rank=lambda df: range(1, 1 + df.shape[0]))\n",
    "        .plot(x=\"rank\", y=\"count\", loglog=True, marker=\".\")\n",
    "    )"
   ]
  },
  {
   "cell_type": "code",
   "execution_count": null,
   "id": "a4e9afca",
   "metadata": {},
   "outputs": [],
   "source": [
    "plot_rank_size(df_beer_degree.beer_degree)"
   ]
  },
  {
   "cell_type": "markdown",
   "id": "f63d7d0e",
   "metadata": {},
   "source": [
    "#### Relationship with target"
   ]
  },
  {
   "cell_type": "code",
   "execution_count": null,
   "id": "f2272298",
   "metadata": {},
   "outputs": [],
   "source": [
    "sns.displot(df, x=\"beer_degree\", hue=\"is_good\")"
   ]
  },
  {
   "cell_type": "code",
   "execution_count": null,
   "id": "f7f00472",
   "metadata": {},
   "outputs": [],
   "source": [
    "sns.displot(df, x=\"beer_degree\", hue=\"is_good\", log_scale=True)"
   ]
  },
  {
   "cell_type": "code",
   "execution_count": null,
   "id": "7a1ec97a",
   "metadata": {},
   "outputs": [],
   "source": [
    "sns.displot(\n",
    "    df,\n",
    "    x=\"beer_degree\",\n",
    "    hue=\"is_good\",\n",
    "    log_scale=True,\n",
    "    multiple=\"fill\",\n",
    ")"
   ]
  },
  {
   "cell_type": "markdown",
   "id": "3915f69c",
   "metadata": {},
   "source": [
    "### `brewery`\n",
    "#### Distribution"
   ]
  },
  {
   "cell_type": "code",
   "execution_count": null,
   "id": "33b2db87",
   "metadata": {},
   "outputs": [],
   "source": [
    "df_brewery_degree = df.loc[:, [\"brewery\", \"brewery_degree\"]].drop_duplicates()\n",
    "df_brewery_degree"
   ]
  },
  {
   "cell_type": "code",
   "execution_count": null,
   "id": "8959d379",
   "metadata": {},
   "outputs": [],
   "source": [
    "(\n",
    "    (df_brewery_degree.brewery_degree)\n",
    "    .value_counts()\n",
    "    .reset_index()\n",
    "    .plot.scatter(  # LINE TO BE REMOVED FOR STUDENTS\n",
    "        x=\"brewery_degree\",  # LINE TO BE REMOVED FOR STUDENTS\n",
    "        y=\"count\",  # LINE TO BE REMOVED FOR STUDENTS\n",
    "        marker=\".\",  # LINE TO BE REMOVED FOR STUDENTS\n",
    "    )  # LINE TO BE REMOVED FOR STUDENTS\n",
    ")"
   ]
  },
  {
   "cell_type": "code",
   "execution_count": null,
   "id": "5422b14c",
   "metadata": {},
   "outputs": [],
   "source": [
    "(\n",
    "    (df_brewery_degree.brewery_degree)\n",
    "    .value_counts()\n",
    "    .reset_index()\n",
    "    .plot.scatter(  # LINE TO BE REMOVED FOR STUDENTS\n",
    "        x=\"brewery_degree\",  # LINE TO BE REMOVED FOR STUDENTS\n",
    "        y=\"count\",  # LINE TO BE REMOVED FOR STUDENTS\n",
    "        loglog=True,  # LINE TO BE REMOVED FOR STUDENTS\n",
    "        marker=\".\",  # LINE TO BE REMOVED FOR STUDENTS\n",
    "    )  # LINE TO BE REMOVED FOR STUDENTS\n",
    ")"
   ]
  },
  {
   "cell_type": "code",
   "execution_count": null,
   "id": "529f6ffd",
   "metadata": {},
   "outputs": [],
   "source": [
    "plot_rank_size(df_brewery_degree.brewery_degree)"
   ]
  },
  {
   "cell_type": "markdown",
   "id": "c44c9e69",
   "metadata": {},
   "source": [
    "#### Relationship with target"
   ]
  },
  {
   "cell_type": "code",
   "execution_count": null,
   "id": "b1a57287",
   "metadata": {},
   "outputs": [],
   "source": [
    "sns.displot(df, x=\"brewery_degree\", hue=\"is_good\")"
   ]
  },
  {
   "cell_type": "code",
   "execution_count": null,
   "id": "3abf2fc0",
   "metadata": {},
   "outputs": [],
   "source": [
    "sns.displot(\n",
    "    df, x=\"brewery_degree\", hue=\"is_good\", log_scale=True\n",
    ")"
   ]
  },
  {
   "cell_type": "code",
   "execution_count": null,
   "id": "2d151fb7",
   "metadata": {},
   "outputs": [],
   "source": [
    "sns.displot(\n",
    "    df,\n",
    "    x=\"brewery_degree\",\n",
    "    hue=\"is_good\",\n",
    "    log_scale=True,\n",
    "    multiple=\"fill\",\n",
    ")"
   ]
  },
  {
   "cell_type": "markdown",
   "id": "23db6545",
   "metadata": {},
   "source": [
    "### `user`\n",
    "#### Distribution"
   ]
  },
  {
   "cell_type": "code",
   "execution_count": null,
   "id": "8484d24a",
   "metadata": {},
   "outputs": [],
   "source": [
    "df_user_degree = df.loc[:, [\"user\", \"user_degree\"]].drop_duplicates()\n",
    "df_user_degree"
   ]
  },
  {
   "cell_type": "code",
   "execution_count": null,
   "id": "d77f798b",
   "metadata": {},
   "outputs": [],
   "source": [
    "(\n",
    "    (df_user_degree.user_degree)\n",
    "    .value_counts()\n",
    "    .reset_index()\n",
    "    .plot.scatter(  # LINE TO BE REMOVED FOR STUDENTS\n",
    "        x=\"user_degree\",  # LINE TO BE REMOVED FOR STUDENTS\n",
    "        y=\"count\",  # LINE TO BE REMOVED FOR STUDENTS\n",
    "        marker=\".\",  # LINE TO BE REMOVED FOR STUDENTS\n",
    "    )  # LINE TO BE REMOVED FOR STUDENTS\n",
    ")"
   ]
  },
  {
   "cell_type": "code",
   "execution_count": null,
   "id": "3c3a1346",
   "metadata": {},
   "outputs": [],
   "source": [
    "(\n",
    "    (df_user_degree.user_degree)\n",
    "    .value_counts()\n",
    "    .reset_index()\n",
    "    .plot.scatter(  # LINE TO BE REMOVED FOR STUDENTS\n",
    "        x=\"user_degree\",  # LINE TO BE REMOVED FOR STUDENTS\n",
    "        y=\"count\",  # LINE TO BE REMOVED FOR STUDENTS\n",
    "        loglog=True,  # LINE TO BE REMOVED FOR STUDENTS\n",
    "        marker=\".\",  # LINE TO BE REMOVED FOR STUDENTS\n",
    "    )  # LINE TO BE REMOVED FOR STUDENTS\n",
    ")"
   ]
  },
  {
   "cell_type": "code",
   "execution_count": null,
   "id": "d77f1e64",
   "metadata": {},
   "outputs": [],
   "source": [
    "plot_rank_size(df_user_degree.user_degree)"
   ]
  },
  {
   "cell_type": "markdown",
   "id": "2fe89407",
   "metadata": {},
   "source": [
    "#### Relationship with target"
   ]
  },
  {
   "cell_type": "code",
   "execution_count": null,
   "id": "3893111b",
   "metadata": {},
   "outputs": [],
   "source": [
    "sns.displot(\n",
    "    df, x=\"user_degree\", hue=\"is_good\"\n",
    ")"
   ]
  },
  {
   "cell_type": "code",
   "execution_count": null,
   "id": "d289cdd9",
   "metadata": {},
   "outputs": [],
   "source": [
    "sns.displot(\n",
    "    df,\n",
    "    x=\"user_degree\",\n",
    "    hue=\"is_good\",\n",
    "    log_scale=True,\n",
    ")"
   ]
  },
  {
   "cell_type": "code",
   "execution_count": null,
   "id": "74941d21",
   "metadata": {},
   "outputs": [],
   "source": [
    "sns.displot(\n",
    "    df,\n",
    "    x=\"user_degree\",\n",
    "    hue=\"is_good\",\n",
    "    log_scale=True,\n",
    "    multiple=\"fill\",\n",
    ")"
   ]
  },
  {
   "cell_type": "markdown",
   "id": "7d6ed428",
   "metadata": {},
   "source": [
    "## Text variable\n",
    "Using the [`pd.Series.str`](https://pandas.pydata.org/docs/reference/api/pandas.Series.str.html) API"
   ]
  },
  {
   "cell_type": "markdown",
   "id": "773d7143",
   "metadata": {},
   "source": [
    "### Text length\n",
    "#### Distribution\n",
    "\n",
    "Is it a Power law distribution ?"
   ]
  },
  {
   "cell_type": "code",
   "execution_count": null,
   "id": "7eaedb0b",
   "metadata": {},
   "outputs": [],
   "source": [
    "(df.text_length).plot.hist(bins=200)  # LINE TO BE REMOVED FOR STUDENTS"
   ]
  },
  {
   "cell_type": "code",
   "execution_count": null,
   "id": "f6722722",
   "metadata": {},
   "outputs": [],
   "source": [
    "((df.text_length).plot.hist(bins=200, logy=True))"
   ]
  },
  {
   "cell_type": "markdown",
   "id": "c24b89ad",
   "metadata": {},
   "source": [
    "#### Relationship with the target"
   ]
  },
  {
   "cell_type": "code",
   "execution_count": null,
   "id": "6a064f45",
   "metadata": {},
   "outputs": [],
   "source": [
    "sns.displot(df, x=\"text_length\")"
   ]
  },
  {
   "cell_type": "code",
   "execution_count": null,
   "id": "80c4b744",
   "metadata": {},
   "outputs": [],
   "source": [
    "sns.displot(\n",
    "    df,\n",
    "    x=\"text_length\",\n",
    "    hue=\"is_good\",\n",
    ")"
   ]
  },
  {
   "cell_type": "code",
   "execution_count": null,
   "id": "2aa9ba0b",
   "metadata": {},
   "outputs": [],
   "source": [
    "sns.displot(\n",
    "    df.loc[lambda df: df.text_length < 1500],\n",
    "    x=\"text_length\",\n",
    "    hue=\"is_good\",\n",
    ")"
   ]
  },
  {
   "cell_type": "code",
   "execution_count": null,
   "id": "53729af4",
   "metadata": {},
   "outputs": [],
   "source": [
    "sns.displot(\n",
    "    df.loc[lambda df: df.text_length < 1500],\n",
    "    x=\"text_length\",\n",
    "    hue=\"is_good\",\n",
    "    multiple=\"fill\",\n",
    ")"
   ]
  },
  {
   "cell_type": "markdown",
   "id": "8c5a0367",
   "metadata": {},
   "source": [
    "### Words associated to positive & negative reviews (optional)"
   ]
  },
  {
   "cell_type": "code",
   "execution_count": null,
   "id": "6f59384b",
   "metadata": {},
   "outputs": [],
   "source": [
    "(\n",
    "    (df)\n",
    "    .head(100000)\n",
    "    .assign(\n",
    "        tokenized_text=lambda df: (df.text)\n",
    "        .str.lower()\n",
    "        .str.replace(r\"[^a-z]\", \" \")\n",
    "        .str.replace(r\" +\", \" \")\n",
    "        .str.split(\" \")\n",
    "    )\n",
    "    .loc[:, [\"rating\", \"tokenized_text\"]]\n",
    "    .explode(\"tokenized_text\")\n",
    "    .loc[lambda df: df.tokenized_text != \"\"]\n",
    "    .groupby(\"tokenized_text\", as_index=False)\n",
    "    .agg([\"mean\", \"count\"])\n",
    "    .reset_index()\n",
    "    .sort_values(by=(\"rating\", \"count\"), ascending=False)\n",
    "    .head(200)\n",
    "    .style.background_gradient(cmap=\"RdYlGn\")\n",
    ")"
   ]
  },
  {
   "cell_type": "markdown",
   "id": "9c1c3e27",
   "metadata": {},
   "source": [
    "### Word frequencies (optional)\n",
    "Compute the frequency of the most used words in the texts\n",
    "\n",
    "Methods you'll need:\n",
    "- [`pd.Series.str.len`](https://pandas.pydata.org/docs/reference/api/pandas.Series.str.len.html)\n",
    "- [`pd.Series.str.split`](https://pandas.pydata.org/docs/reference/api/pandas.Series.str.split.html)\n",
    "- [`pd.Series.explode`](https://pandas.pydata.org/docs/reference/api/pandas.Series.explode.html)\n",
    "- [`pd.Series.value_counts`](https://pandas.pydata.org/docs/reference/api/pandas.Series.value_counts.html)\n",
    "- [`pd.Series.head`](https://pandas.pydata.org/docs/reference/api/pandas.Series.head.html)\n",
    "\n",
    "Bonus: plot an histogram of the values, with log values, using:\n",
    "- [`pd.Series.plot.hist`](https://pandas.pydata.org/docs/reference/api/pandas.Series.plot.bar.html)\n",
    "\n",
    "Is it a Power law distribution ?"
   ]
  },
  {
   "cell_type": "code",
   "execution_count": null,
   "id": "4f0087b7",
   "metadata": {},
   "outputs": [],
   "source": [
    "df_word_frequencies = (\n",
    "    (df.text)\n",
    "    .str.lower()\n",
    "    .str.replace(r\"[^a-z\\ ]\", \"\")\n",
    "    .str.replace(r\"\\ +\", \" \")\n",
    "    .str.split(\" \")  # LINE TO BE REMOVED FOR STUDENTS\n",
    "    .explode()\n",
    "    .loc[lambda x: x != \"\"]\n",
    "    .value_counts(normalize=True)\n",
    "    .rename(\"word_frequency\")\n",
    "    .rename_axis(index=\"word\")\n",
    "    .reset_index()\n",
    "    .assign(rank=lambda df: range(1, 1 + df.shape[0]))\n",
    ")\n",
    "df_word_frequencies"
   ]
  },
  {
   "cell_type": "code",
   "execution_count": null,
   "id": "2cd9fa29",
   "metadata": {},
   "outputs": [],
   "source": [
    "df_word_frequencies.head(10000).plot(x=\"rank\", y=\"word_frequency\", marker=\".\")"
   ]
  },
  {
   "cell_type": "code",
   "execution_count": null,
   "id": "0241f753",
   "metadata": {},
   "outputs": [],
   "source": [
    "df_word_frequencies.head(10000).plot(\n",
    "    x=\"rank\", y=\"word_frequency\", loglog=True, marker=\".\"\n",
    ")"
   ]
  },
  {
   "cell_type": "markdown",
   "id": "8bbc40ec",
   "metadata": {},
   "source": [
    "## And if it's a regression ?\n",
    "We show those plot examples to explain what would be an exploratory data analysis for\n",
    "a regression problem.\n",
    "\n",
    "### Continuous variable"
   ]
  },
  {
   "cell_type": "code",
   "execution_count": null,
   "id": "6dd48e7c",
   "metadata": {},
   "outputs": [],
   "source": [
    "sns.displot(\n",
    "    df.loc[lambda df: df.alcohol < 20],\n",
    "    x=\"alcohol\",\n",
    "    hue=\"rating\",\n",
    "    multiple=\"fill\",\n",
    "    palette=\"RdYlGn\",\n",
    "    bins=20,\n",
    ")"
   ]
  },
  {
   "cell_type": "code",
   "execution_count": null,
   "id": "8eb18353",
   "metadata": {},
   "outputs": [],
   "source": [
    "sns.displot(\n",
    "    df.loc[lambda df: df.alcohol < 20],\n",
    "    x=\"alcohol\",\n",
    "    y=\"rating\",\n",
    "    bins=20,\n",
    ")"
   ]
  },
  {
   "cell_type": "markdown",
   "id": "6b26bc50",
   "metadata": {},
   "source": [
    "### Categorical variable"
   ]
  },
  {
   "cell_type": "code",
   "execution_count": null,
   "id": "f6864c59",
   "metadata": {},
   "outputs": [],
   "source": [
    "sns.displot(\n",
    "    df,\n",
    "    x=\"rating_appearance\",\n",
    "    discrete=True,\n",
    "    hue=\"rating\",\n",
    "    multiple=\"stack\",\n",
    "    palette=\"RdYlGn\",\n",
    ")"
   ]
  },
  {
   "cell_type": "code",
   "execution_count": null,
   "id": "b824eb8f",
   "metadata": {},
   "outputs": [],
   "source": [
    "sns.displot(\n",
    "    df,\n",
    "    x=\"rating_appearance\",\n",
    "    discrete=True,\n",
    "    hue=\"rating\",\n",
    "    multiple=\"fill\",\n",
    "    palette=\"RdYlGn\",\n",
    ")"
   ]
  },
  {
   "cell_type": "code",
   "execution_count": null,
   "id": "ae27dc46",
   "metadata": {},
   "outputs": [],
   "source": [
    "sns.violinplot(\n",
    "    df,\n",
    "    x=\"rating_appearance\",\n",
    "    y=\"rating\",\n",
    ")"
   ]
  }
 ],
 "metadata": {
  "jupytext": {
   "cell_metadata_filter": "-all",
   "main_language": "python",
   "notebook_metadata_filter": "-all"
  }
 },
 "nbformat": 4,
 "nbformat_minor": 5
}
