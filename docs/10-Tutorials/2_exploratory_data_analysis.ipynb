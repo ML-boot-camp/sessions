{
 "cells": [
  {
   "cell_type": "markdown",
   "id": "35987a86",
   "metadata": {},
   "source": [
    "# 🐍 Practice n°2: exploratory data analysis\n",
    "## Preparation\n",
    "### Install & import modules"
   ]
  },
  {
   "cell_type": "code",
   "execution_count": null,
   "id": "12c81f4d",
   "metadata": {},
   "outputs": [],
   "source": [
    "! pip install seaborn"
   ]
  },
  {
   "cell_type": "code",
   "execution_count": null,
   "id": "f56937ad",
   "metadata": {},
   "outputs": [],
   "source": [
    "import pandas as pd\n",
    "import seaborn as sns\n",
    "import matplotlib.pyplot as plt"
   ]
  },
  {
   "cell_type": "code",
   "execution_count": null,
   "id": "ab0a95d0",
   "metadata": {},
   "outputs": [],
   "source": [
    "pd.set_option(\"display.precision\", 2)\n",
    "sns.set_style(\"whitegrid\")\n",
    "sns.set_context(rc={\"patch.linewidth\": 0.15})"
   ]
  },
  {
   "cell_type": "markdown",
   "id": "ed42f046",
   "metadata": {},
   "source": [
    "### Read remote dataset\n",
    "\n",
    "The data is in this git repository: [ML-boot-camp/ratebeer.git](https://github.com/ML-boot-camp/ratebeer.git).\n",
    "\n",
    "The data is located in the `ratebeer/data/` folder.\n"
   ]
  },
  {
   "cell_type": "code",
   "execution_count": null,
   "id": "89245889",
   "metadata": {},
   "outputs": [],
   "source": [
    "file_url = \"https://github.com/ML-boot-camp/ratebeer/raw/master/data/ratebeer_sample_clean.parquet\""
   ]
  },
  {
   "cell_type": "code",
   "execution_count": null,
   "id": "4de318e0",
   "metadata": {},
   "outputs": [],
   "source": [
    "df_ratebeer = pd.read_parquet(file_url)"
   ]
  },
  {
   "cell_type": "code",
   "execution_count": null,
   "id": "5fdb03c0",
   "metadata": {},
   "outputs": [],
   "source": [
    "df_reviewers = (\n",
    "    (df_ratebeer)\n",
    "    .groupby(\"review_profileName\")\n",
    "    .agg(\n",
    "        number_of_reviews=(\"review_profileName\", \"count\"),\n",
    "        average_rating=(\"review_overall\", \"mean\"),\n",
    "    )\n",
    "    .round(1)\n",
    "    .reset_index()\n",
    ")"
   ]
  },
  {
   "cell_type": "code",
   "execution_count": null,
   "id": "8a4f4a54",
   "metadata": {},
   "outputs": [],
   "source": [
    "df_master = (\n",
    "    (df_ratebeer)\n",
    "    .merge(df_reviewers, on=\"review_profileName\", how=\"inner\", validate=\"m:1\")\n",
    "    .assign(\n",
    "        review_time=lambda df: df.review_time.astype(int).apply(\n",
    "            pd.Timestamp.fromtimestamp\n",
    "        )\n",
    "    )\n",
    "    .assign(\n",
    "        positive_review=lambda df: (\n",
    "            df.review_overall >= df.review_overall.median()\n",
    "        ).astype(int)\n",
    "    )\n",
    ")"
   ]
  },
  {
   "cell_type": "markdown",
   "id": "2e36a808",
   "metadata": {},
   "source": [
    "## General information\n",
    "### Shape\n",
    "Have a first overview of the dataframe size, i.e. number of rows & columns.\n",
    "\n",
    "Methods you'll need:\n",
    "- [`pd.DataFrame.shape`](https://pandas.pydata.org/docs/reference/api/pandas.DataFrame.shape.html)"
   ]
  },
  {
   "cell_type": "code",
   "execution_count": null,
   "id": "3376d124",
   "metadata": {},
   "outputs": [],
   "source": [
    "df_master.shape"
   ]
  },
  {
   "cell_type": "markdown",
   "id": "21a97d1f",
   "metadata": {},
   "source": [
    "### Overview\n",
    "Get a few information about the content of the dataframe:\n",
    "- number of null values per column\n",
    "- data type of each column\n",
    "- memory usage\n",
    "\n",
    "Methods you'll need:\n",
    "- [`pd.DataFrame.isnull`](https://pandas.pydata.org/docs/reference/api/pandas.DataFrame.isnull.html)\n",
    "- [`pd.DataFrame.sum`](https://pandas.pydata.org/docs/reference/api/pandas.DataFrame.sum.html)\n",
    "- [`pd.DataFrame.dtypes`](https://pandas.pydata.org/docs/reference/api/pandas.DataFrame.dtypes.html)\n",
    "- [`pd.DataFrame.info`](https://pandas.pydata.org/docs/reference/api/pandas.DataFrame.info.html)"
   ]
  },
  {
   "cell_type": "code",
   "execution_count": null,
   "id": "403afb01",
   "metadata": {},
   "outputs": [],
   "source": [
    "df_master.isnull().sum()"
   ]
  },
  {
   "cell_type": "code",
   "execution_count": null,
   "id": "2391e91f",
   "metadata": {},
   "outputs": [],
   "source": [
    "df_master.dtypes"
   ]
  },
  {
   "cell_type": "code",
   "execution_count": null,
   "id": "bd2f8325",
   "metadata": {},
   "outputs": [],
   "source": [
    "df_master.info(memory_usage=\"deep\")  # LINE TO BE REMOVED FOR STUDENTS"
   ]
  },
  {
   "cell_type": "markdown",
   "id": "c2817ec1",
   "metadata": {},
   "source": [
    "### Sample\n",
    "Show a sample of the data\n",
    "\n",
    "Methods you'll need:\n",
    "- [`pd.DataFrame.head`](https://pandas.pydata.org/docs/reference/api/pandas.DataFrame.head.html)\n",
    "- [`pd.DataFrame.sample`](https://pandas.pydata.org/docs/reference/api/pandas.DataFrame.sample.html)\n",
    "\n",
    "Bonus: display the transpose of the dataframe for better readability when having lots\n",
    "of columns using:\n",
    "- [`pd.DataFrame.T`](https://pandas.pydata.org/docs/reference/api/pandas.DataFrame.T.html)"
   ]
  },
  {
   "cell_type": "code",
   "execution_count": null,
   "id": "1330d6ac",
   "metadata": {},
   "outputs": [],
   "source": [
    "df_master.head(5)"
   ]
  },
  {
   "cell_type": "code",
   "execution_count": null,
   "id": "3e7d4411",
   "metadata": {},
   "outputs": [],
   "source": [
    "df_master.sample(5).T"
   ]
  },
  {
   "cell_type": "markdown",
   "id": "6b31e3b2",
   "metadata": {},
   "source": [
    "### Describing statistics\n",
    "Compute statistics to understand the content of each column.\n",
    "\n",
    "Methods you'll need:\n",
    "- [`pd.DataFrame.describe`](https://pandas.pydata.org/docs/reference/api/pandas.DataFrame.describe.html)\n",
    "\n",
    "Bonus: fill NaN values with an empty string `\"\"` for a better readability using:\n",
    "- [`pd.DataFrame.fillna`](https://pandas.pydata.org/docs/reference/api/pandas.DataFrame.fillna.html)"
   ]
  },
  {
   "cell_type": "code",
   "execution_count": null,
   "id": "24d2136c",
   "metadata": {},
   "outputs": [],
   "source": [
    "df_master.describe(include=\"all\").fillna(\"\").T"
   ]
  },
  {
   "cell_type": "markdown",
   "id": "b7818121",
   "metadata": {},
   "source": [
    "## Target\n",
    "\n",
    "The dataset contains 2 possible targets:\n",
    "- review_overall: an ordinal variable, which can be used to define a regression\n",
    "- positive_review: a binary variable, which can be used to define a classification\n",
    "\n",
    "In the follow-up of the exploratory data analysis, for the sake of clariy, we'll\n",
    "consider only the binary target (classification). Some plots would be different for\n",
    "numeric target."
   ]
  },
  {
   "cell_type": "markdown",
   "id": "cd0e158c",
   "metadata": {},
   "source": [
    "### `positive_review`"
   ]
  },
  {
   "cell_type": "code",
   "execution_count": null,
   "id": "f619ca02",
   "metadata": {},
   "outputs": [],
   "source": [
    "(\n",
    "    (df_master.positive_review)\n",
    "    .value_counts()\n",
    "    .plot.bar()  # LINE TO BE REMOVED FOR STUDENTS\n",
    ")"
   ]
  },
  {
   "cell_type": "code",
   "execution_count": null,
   "id": "068b8d45",
   "metadata": {},
   "outputs": [],
   "source": [
    "sns.countplot(\n",
    "    df_master,\n",
    "    x=\"positive_review\",  # LINE TO BE REMOVED FOR STUDENTS\n",
    ")"
   ]
  },
  {
   "cell_type": "markdown",
   "id": "2e8a8ce7",
   "metadata": {},
   "source": [
    "## Quantitative variables\n",
    "\n",
    "- `beer_ABV`\n",
    "- `review_time`\n",
    "- `review_appearance`\n",
    "- `review_aroma`\n",
    "- `review_palate`\n",
    "- `review_taste`\n",
    "- `average_rating`"
   ]
  },
  {
   "cell_type": "markdown",
   "id": "522bc3fb",
   "metadata": {},
   "source": [
    "### `beer_ABV`\n",
    "#### Distribution"
   ]
  },
  {
   "cell_type": "code",
   "execution_count": null,
   "id": "6e3cee4d",
   "metadata": {},
   "outputs": [],
   "source": [
    "((df_master.beer_ABV).plot.hist(bins=100))  # LINE TO BE REMOVED FOR STUDENTS"
   ]
  },
  {
   "cell_type": "code",
   "execution_count": null,
   "id": "80e2933d",
   "metadata": {},
   "outputs": [],
   "source": [
    "sns.displot(\n",
    "    df_master,\n",
    "    x=\"beer_ABV\",\n",
    ")"
   ]
  },
  {
   "cell_type": "code",
   "execution_count": null,
   "id": "c971d6d8",
   "metadata": {},
   "outputs": [],
   "source": [
    "sns.displot(df_master, x=\"beer_ABV\", hue=\"positive_review\")"
   ]
  },
  {
   "cell_type": "code",
   "execution_count": null,
   "id": "72463c26",
   "metadata": {},
   "outputs": [],
   "source": [
    "sns.displot(\n",
    "    df_master.loc[lambda df: df.beer_ABV < 20], x=\"beer_ABV\", hue=\"positive_review\"\n",
    ")"
   ]
  },
  {
   "cell_type": "code",
   "execution_count": null,
   "id": "714e004c",
   "metadata": {},
   "outputs": [],
   "source": [
    "sns.displot(\n",
    "    df_master.loc[lambda df: df.beer_ABV < 20],\n",
    "    x=\"beer_ABV\",\n",
    "    hue=\"positive_review\",\n",
    "    kde=True,\n",
    ")"
   ]
  },
  {
   "cell_type": "code",
   "execution_count": null,
   "id": "89616675",
   "metadata": {},
   "outputs": [],
   "source": [
    "sns.displot(\n",
    "    df_master.loc[lambda df: df.beer_ABV < 20],\n",
    "    x=\"beer_ABV\",\n",
    "    hue=\"positive_review\",\n",
    "    multiple=\"fill\",\n",
    ")"
   ]
  },
  {
   "cell_type": "markdown",
   "id": "fde49be7",
   "metadata": {},
   "source": [
    "### `review_time`"
   ]
  },
  {
   "cell_type": "markdown",
   "id": "7c6c1052",
   "metadata": {},
   "source": [
    "#### Distribution"
   ]
  },
  {
   "cell_type": "code",
   "execution_count": null,
   "id": "04381f8c",
   "metadata": {},
   "outputs": [],
   "source": [
    "sns.displot(\n",
    "    df_master,\n",
    "    x=\"review_time\",  # LINE TO BE REMOVED FOR STUDENTS\n",
    ")"
   ]
  },
  {
   "cell_type": "markdown",
   "id": "8ed829f2",
   "metadata": {},
   "source": [
    "#### Relationship with the target"
   ]
  },
  {
   "cell_type": "code",
   "execution_count": null,
   "id": "909f72c5",
   "metadata": {},
   "outputs": [],
   "source": [
    "sns.displot(\n",
    "    df_master,\n",
    "    x=\"review_time\",  # LINE TO BE REMOVED FOR STUDENTS\n",
    "    hue=\"positive_review\",  # LINE TO BE REMOVED FOR STUDENTS\n",
    "    kde=True,\n",
    ")"
   ]
  },
  {
   "cell_type": "code",
   "execution_count": null,
   "id": "49f7de52",
   "metadata": {},
   "outputs": [],
   "source": [
    "sns.displot(\n",
    "    df_master,\n",
    "    x=\"review_time\",  # LINE TO BE REMOVED FOR STUDENTS\n",
    "    hue=\"positive_review\",  # LINE TO BE REMOVED FOR STUDENTS\n",
    "    multiple=\"fill\",\n",
    ")"
   ]
  },
  {
   "cell_type": "markdown",
   "id": "f01ef44e",
   "metadata": {},
   "source": [
    "### All rating columns: review_* & average_rating\n",
    "#### Distribution"
   ]
  },
  {
   "cell_type": "code",
   "execution_count": null,
   "id": "f3526f67",
   "metadata": {},
   "outputs": [],
   "source": [
    "review_columns = [\n",
    "    \"review_appearance\",\n",
    "    \"review_aroma\",\n",
    "    \"review_palate\",  # LINE TO BE REMOVED FOR STUDENTS\n",
    "    \"review_taste\",  # LINE TO BE REMOVED FOR STUDENTS\n",
    "    \"average_rating\",\n",
    "]\n",
    "df_rating_long = df_master.melt(id_vars=\"positive_review\", value_vars=review_columns)\n",
    "df_rating_long"
   ]
  },
  {
   "cell_type": "code",
   "execution_count": null,
   "id": "72c4cfb7",
   "metadata": {},
   "outputs": [],
   "source": [
    "sns.displot(\n",
    "    df_rating_long,\n",
    "    x=\"value\",\n",
    "    row=\"variable\",\n",
    "    discrete=True,\n",
    "    height=3,\n",
    "    aspect=2,\n",
    ")"
   ]
  },
  {
   "cell_type": "markdown",
   "id": "d9cc1d7d",
   "metadata": {},
   "source": [
    "#### Relationship with the target"
   ]
  },
  {
   "cell_type": "code",
   "execution_count": null,
   "id": "f135fdf7",
   "metadata": {},
   "outputs": [],
   "source": [
    "sns.displot(\n",
    "    df_rating_long,\n",
    "    x=\"value\",\n",
    "    hue=\"positive_review\",\n",
    "    row=\"variable\",\n",
    "    discrete=True,\n",
    "    height=3,\n",
    "    aspect=2,\n",
    ")"
   ]
  },
  {
   "cell_type": "code",
   "execution_count": null,
   "id": "1b607a7f",
   "metadata": {},
   "outputs": [],
   "source": [
    "sns.displot(\n",
    "    df_rating_long,\n",
    "    x=\"value\",\n",
    "    hue=\"positive_review\",\n",
    "    row=\"variable\",\n",
    "    discrete=True,\n",
    "    height=3,\n",
    "    aspect=2,\n",
    "    multiple=\"fill\",\n",
    ")"
   ]
  },
  {
   "cell_type": "markdown",
   "id": "246e845e",
   "metadata": {},
   "source": [
    "## Categorical variables\n",
    "- `beer_style`\n",
    "- `beer_name`"
   ]
  },
  {
   "cell_type": "markdown",
   "id": "95837a91",
   "metadata": {},
   "source": [
    "### `beer_style`\n",
    "#### Distribution"
   ]
  },
  {
   "cell_type": "code",
   "execution_count": null,
   "id": "26a9eb12",
   "metadata": {},
   "outputs": [],
   "source": [
    "((df_master).beer_style.value_counts().plot.bar())  # LINE TO BE REMOVED FOR STUDENTS"
   ]
  },
  {
   "cell_type": "markdown",
   "id": "80095d30",
   "metadata": {},
   "source": [
    "#### Relationship with the target"
   ]
  },
  {
   "cell_type": "code",
   "execution_count": null,
   "id": "f645a292",
   "metadata": {},
   "outputs": [],
   "source": [
    "sns.histplot(\n",
    "    df_master,\n",
    "    x=\"beer_style\",\n",
    "    discrete=True,\n",
    "    hue=\"positive_review\",\n",
    ")"
   ]
  },
  {
   "cell_type": "code",
   "execution_count": null,
   "id": "b0b927d4",
   "metadata": {},
   "outputs": [],
   "source": [
    "df_beer_styles = (\n",
    "    df_master.groupby(\"beer_style\")\n",
    "    .positive_review.agg([\"count\", \"mean\"])\n",
    "    .add_prefix(\"review_\")\n",
    "    .reset_index()\n",
    "    .sort_values(by=\"review_mean\", ascending=False)\n",
    "    .reset_index(drop=True)\n",
    "    .assign(\n",
    "        bar_left_position=lambda df: df.review_count.cumsum().shift(1, fill_value=0)\n",
    "    )\n",
    ")\n",
    "df_beer_styles"
   ]
  },
  {
   "cell_type": "code",
   "execution_count": null,
   "id": "64c010e7",
   "metadata": {},
   "outputs": [],
   "source": [
    "plt.bar(\n",
    "    x=df_beer_styles.bar_left_position,\n",
    "    height=df_beer_styles.review_mean,\n",
    "    width=df_beer_styles.review_count,\n",
    "    align=\"edge\",\n",
    "    alpha=0.5,\n",
    "    edgecolor=\"k\",\n",
    "    linewidth=0.5,\n",
    ")"
   ]
  },
  {
   "cell_type": "markdown",
   "id": "e04aa1df",
   "metadata": {},
   "source": [
    "## High cardinality variables\n",
    "- `beer_name`\n",
    "- `beer_beerId`\n",
    "- `beer_brewerId`\n",
    "- `review_profileName`"
   ]
  },
  {
   "cell_type": "markdown",
   "id": "9d3067b4",
   "metadata": {},
   "source": [
    "All those high cardinality variables can be thought as links of a network. Indeed, a\n",
    "review is an object comprising a beer, a brewery and a user and can be thought as a\n",
    "network link between them.\n",
    "\n",
    "In other words, the review table is the a table describing the links in a network with\n",
    "3 types of nodes: users, beers and breweries.\n",
    "\n",
    "The first property to compute about each node is its \"degree\", which is its number of\n",
    "connections with other nodes. High degree means \"highly connected\".\n",
    "\n",
    "As we cannot the high cardinality variables, we'll rather analyse the degree of the\n",
    "nodes.\n",
    "\n",
    "To compute the degree you'll need:\n",
    "- [`pd.Series.value_counts`](https://pandas.pydata.org/docs/reference/api/pandas.Series.value_counts.html)"
   ]
  },
  {
   "cell_type": "markdown",
   "id": "df0937c3",
   "metadata": {},
   "source": [
    "### `beer_name` degree\n",
    "#### Distribution"
   ]
  },
  {
   "cell_type": "code",
   "execution_count": null,
   "id": "c4f9f7f2",
   "metadata": {},
   "outputs": [],
   "source": [
    "df_beer_name_degree = (\n",
    "    (df_master.beer_name)\n",
    "    .value_counts()\n",
    "    .rename(\"beer_name_degree\")\n",
    "    .reset_index()\n",
    ")\n",
    "df_beer_name_degree"
   ]
  },
  {
   "cell_type": "code",
   "execution_count": null,
   "id": "e10a897f",
   "metadata": {},
   "outputs": [],
   "source": [
    "(\n",
    "    (df_beer_name_degree)\n",
    "    .beer_name_degree\n",
    "    .value_counts()\n",
    "    .reset_index()\n",
    "    .plot.scatter(x=\"beer_name_degree\", y=\"count\", marker=\".\")  # LINE TO BE REMOVED FOR STUDENTS\n",
    ")"
   ]
  },
  {
   "cell_type": "markdown",
   "id": "b0b1b180",
   "metadata": {},
   "source": [
    "Many networks are [scale free networks](https://en.wikipedia.org/wiki/Scale-free_network):\n",
    "![](https://www.researchgate.net/profile/Leonardo-Riella/publication/234031137/figure/fig1/AS:282612053626890@1444391372899/Structure-of-networks-A-biological-network-is-not-randomly-wired-similar-number-of.png)\n",
    "\n",
    "Meaning that the node's degree distribution follows a [power law\n",
    "distribution](https://en.wikipedia.org/wiki/Power_law), which is better visualized\n",
    "using a **log-log scale**:\n",
    "![](https://upload.wikimedia.org/wikipedia/commons/3/3b/Degree_distribution_for_a_network_with_150000_vertices_and_mean_degree_%3D_6_created_using_the_Barabasi-Albert_model..png)\n"
   ]
  },
  {
   "cell_type": "code",
   "execution_count": null,
   "id": "11d6d5fb",
   "metadata": {
    "lines_to_next_cell": 1
   },
   "outputs": [],
   "source": [
    "(\n",
    "    (df_beer_name_degree)\n",
    "    .beer_name_degree\n",
    "    .value_counts()\n",
    "    .reset_index()\n",
    "    .plot.scatter(x=\"beer_name_degree\", y=\"count\", loglog=True, marker=\".\")  # LINE TO BE REMOVED FOR STUDENTS\n",
    ")"
   ]
  },
  {
   "cell_type": "markdown",
   "id": "483d8313",
   "metadata": {},
   "source": [
    "Another way to visualize the power law distribution is to visualize the \n",
    "[rank-frequency plot](https://en.wikipedia.org/wiki/Rank%E2%80%93size_distribution).\n",
    "\n",
    "Instead of plotting the frequency as a function of the value (like in a normal\n",
    "distribution plot), we plot the frequency as a function of its rank. Note: It's always\n",
    "monotonically decreasing.\n",
    "\n",
    "Power law distributions exhibit also a distinctive visual pattern in the\n",
    "rank-frequency plot, known as the [Zipf's law]():\n",
    "![](https://upload.wikimedia.org/wikipedia/commons/d/d9/Zipf-engl-0_English_-_Culpeper_herbal_and_War_of_the_Worlds.svg)\n"
   ]
  },
  {
   "cell_type": "code",
   "execution_count": null,
   "id": "5591d7b7",
   "metadata": {
    "lines_to_next_cell": 1
   },
   "outputs": [],
   "source": [
    "def plot_rank_size(series):\n",
    "    return (\n",
    "        (series)\n",
    "        .rename(\"\")\n",
    "        .value_counts()\n",
    "        .reset_index()\n",
    "        .assign(rank=lambda df: range(1, 1 + df.shape[0]))\n",
    "        .plot(x=\"rank\", y=\"count\", loglog=True, marker=\".\")\n",
    "    )"
   ]
  },
  {
   "cell_type": "code",
   "execution_count": null,
   "id": "18f28dcd",
   "metadata": {},
   "outputs": [],
   "source": [
    "plot_rank_size(df_beer_name_degree.beer_name_degree)"
   ]
  },
  {
   "cell_type": "markdown",
   "id": "f1a533eb",
   "metadata": {},
   "source": [
    "#### Relationship with target"
   ]
  },
  {
   "cell_type": "code",
   "execution_count": null,
   "id": "96b36cc7",
   "metadata": {},
   "outputs": [],
   "source": [
    "df_beer_names = (\n",
    "    (df_master)\n",
    "    .merge(\n",
    "        df_beer_name_degree,\n",
    "        on=\"beer_name\",\n",
    "    )\n",
    "    .loc[:, [\"beer_name\", \"beer_name_degree\", \"positive_review\"]]\n",
    ")\n",
    "df_beer_names"
   ]
  },
  {
   "cell_type": "code",
   "execution_count": null,
   "id": "aba2e79b",
   "metadata": {},
   "outputs": [],
   "source": [
    "sns.histplot(df_beer_names, x=\"beer_name_degree\", hue=\"positive_review\")"
   ]
  },
  {
   "cell_type": "code",
   "execution_count": null,
   "id": "2baf24c4",
   "metadata": {},
   "outputs": [],
   "source": [
    "sns.histplot(\n",
    "    df_beer_names, x=\"beer_name_degree\", hue=\"positive_review\", log_scale=True\n",
    ")"
   ]
  },
  {
   "cell_type": "code",
   "execution_count": null,
   "id": "b3158984",
   "metadata": {},
   "outputs": [],
   "source": [
    "sns.histplot(\n",
    "    df_beer_names,\n",
    "    x=\"beer_name_degree\",\n",
    "    hue=\"positive_review\",\n",
    "    log_scale=True,\n",
    "    multiple=\"fill\",\n",
    ")"
   ]
  },
  {
   "cell_type": "markdown",
   "id": "1a2a4f45",
   "metadata": {},
   "source": [
    "### `beer_beerId`\n",
    "#### Distribution"
   ]
  },
  {
   "cell_type": "code",
   "execution_count": null,
   "id": "5b1991f9",
   "metadata": {},
   "outputs": [],
   "source": [
    "df_beer_beerId_degree = (\n",
    "    (df_master.beer_beerId)\n",
    "    .value_counts()\n",
    "    .rename(\"beer_beerId_degree\")\n",
    "    .reset_index()\n",
    ")\n",
    "df_beer_beerId_degree"
   ]
  },
  {
   "cell_type": "code",
   "execution_count": null,
   "id": "29613341",
   "metadata": {},
   "outputs": [],
   "source": [
    "(\n",
    "    (df_beer_beerId_degree)\n",
    "    .beer_beerId_degree\n",
    "    .value_counts()\n",
    "    .reset_index()\n",
    "    .plot.scatter(x=\"beer_beerId_degree\", y=\"count\", marker=\".\")  # LINE TO BE REMOVED FOR STUDENTS\n",
    ")"
   ]
  },
  {
   "cell_type": "code",
   "execution_count": null,
   "id": "e6db752d",
   "metadata": {},
   "outputs": [],
   "source": [
    "(\n",
    "    (df_beer_beerId_degree)\n",
    "    .beer_beerId_degree\n",
    "    .value_counts()\n",
    "    .reset_index()\n",
    "    .plot.scatter(x=\"beer_beerId_degree\", y=\"count\", loglog=True, marker=\".\")  # LINE TO BE REMOVED FOR STUDENTS\n",
    ")"
   ]
  },
  {
   "cell_type": "markdown",
   "id": "becc3588",
   "metadata": {},
   "source": [
    "#### Relationship with target"
   ]
  },
  {
   "cell_type": "code",
   "execution_count": null,
   "id": "3e77a035",
   "metadata": {},
   "outputs": [],
   "source": [
    "plot_rank_size(df_beer_beerId_degree.beer_beerId_degree)"
   ]
  },
  {
   "cell_type": "code",
   "execution_count": null,
   "id": "bc6d77f2",
   "metadata": {},
   "outputs": [],
   "source": [
    "df_beer_beerIds = (\n",
    "    (df_master)\n",
    "    .merge(\n",
    "        df_beer_beerId_degree,\n",
    "        on=\"beer_beerId\",\n",
    "    )\n",
    "    .loc[:, [\"beer_beerId\", \"beer_beerId_degree\", \"positive_review\"]]\n",
    ")\n",
    "df_beer_beerIds"
   ]
  },
  {
   "cell_type": "code",
   "execution_count": null,
   "id": "31919d33",
   "metadata": {},
   "outputs": [],
   "source": [
    "sns.histplot(df_beer_beerIds, x=\"beer_beerId_degree\", hue=\"positive_review\")"
   ]
  },
  {
   "cell_type": "code",
   "execution_count": null,
   "id": "5c29c870",
   "metadata": {},
   "outputs": [],
   "source": [
    "sns.histplot(\n",
    "    df_beer_beerIds, x=\"beer_beerId_degree\", hue=\"positive_review\", log_scale=True\n",
    ")"
   ]
  },
  {
   "cell_type": "code",
   "execution_count": null,
   "id": "3b7db87a",
   "metadata": {},
   "outputs": [],
   "source": [
    "sns.histplot(\n",
    "    df_beer_beerIds,\n",
    "    x=\"beer_beerId_degree\",\n",
    "    hue=\"positive_review\",\n",
    "    log_scale=True,\n",
    "    multiple=\"fill\",\n",
    ")"
   ]
  },
  {
   "cell_type": "markdown",
   "id": "95dcac31",
   "metadata": {},
   "source": [
    "### `beer_brewerId`\n",
    "#### Distribution"
   ]
  },
  {
   "cell_type": "code",
   "execution_count": null,
   "id": "0f45880f",
   "metadata": {},
   "outputs": [],
   "source": [
    "df_beer_brewerId_degree = (\n",
    "    (df_master.beer_brewerId)\n",
    "    .value_counts()\n",
    "    .rename(\"beer_brewerId_degree\")\n",
    "    .reset_index()\n",
    ")\n",
    "df_beer_brewerId_degree"
   ]
  },
  {
   "cell_type": "code",
   "execution_count": null,
   "id": "03d79750",
   "metadata": {},
   "outputs": [],
   "source": [
    "(\n",
    "    (df_beer_brewerId_degree)\n",
    "    .beer_brewerId_degree\n",
    "    .value_counts()\n",
    "    .reset_index()\n",
    "    .plot.scatter(x=\"beer_brewerId_degree\", y=\"count\", marker=\".\")  # LINE TO BE REMOVED FOR STUDENTS\n",
    ")"
   ]
  },
  {
   "cell_type": "code",
   "execution_count": null,
   "id": "99fb8650",
   "metadata": {},
   "outputs": [],
   "source": [
    "(\n",
    "    (df_beer_brewerId_degree)\n",
    "    .beer_brewerId_degree\n",
    "    .value_counts()\n",
    "    .reset_index()\n",
    "    .plot.scatter(x=\"beer_brewerId_degree\", y=\"count\", loglog=True, marker=\".\")  # LINE TO BE REMOVED FOR STUDENTS\n",
    ")"
   ]
  },
  {
   "cell_type": "markdown",
   "id": "68a7168a",
   "metadata": {},
   "source": [
    "#### Relationship with target"
   ]
  },
  {
   "cell_type": "code",
   "execution_count": null,
   "id": "4cce428c",
   "metadata": {},
   "outputs": [],
   "source": [
    "plot_rank_size(df_beer_brewerId_degree.beer_brewerId_degree)"
   ]
  },
  {
   "cell_type": "code",
   "execution_count": null,
   "id": "b10ae51c",
   "metadata": {},
   "outputs": [],
   "source": [
    "df_beer_brewerIds = (\n",
    "    (df_master)\n",
    "    .merge(\n",
    "        df_beer_brewerId_degree,\n",
    "        on=\"beer_brewerId\",\n",
    "    )\n",
    "    .loc[:, [\"beer_brewerId\", \"beer_brewerId_degree\", \"positive_review\"]]\n",
    ")\n",
    "df_beer_brewerIds"
   ]
  },
  {
   "cell_type": "code",
   "execution_count": null,
   "id": "52ba4a4c",
   "metadata": {},
   "outputs": [],
   "source": [
    "sns.histplot(df_beer_brewerIds, x=\"beer_brewerId_degree\", hue=\"positive_review\")"
   ]
  },
  {
   "cell_type": "code",
   "execution_count": null,
   "id": "703dbbbe",
   "metadata": {},
   "outputs": [],
   "source": [
    "sns.histplot(\n",
    "    df_beer_brewerIds, x=\"beer_brewerId_degree\", hue=\"positive_review\", log_scale=True\n",
    ")"
   ]
  },
  {
   "cell_type": "code",
   "execution_count": null,
   "id": "4a74b61e",
   "metadata": {},
   "outputs": [],
   "source": [
    "sns.histplot(\n",
    "    df_beer_brewerIds,\n",
    "    x=\"beer_brewerId_degree\",\n",
    "    hue=\"positive_review\",\n",
    "    log_scale=True,\n",
    "    multiple=\"fill\",\n",
    ")"
   ]
  },
  {
   "cell_type": "markdown",
   "id": "4e76d6c3",
   "metadata": {},
   "source": [
    "### `review_profileName`\n",
    "#### Distribution"
   ]
  },
  {
   "cell_type": "code",
   "execution_count": null,
   "id": "ba8dad08",
   "metadata": {},
   "outputs": [],
   "source": [
    "df_review_profileName_degree = (\n",
    "    (df_master.review_profileName)\n",
    "    .value_counts()\n",
    "    .rename(\"review_profileName_degree\")\n",
    "    .reset_index()\n",
    ")\n",
    "df_review_profileName_degree"
   ]
  },
  {
   "cell_type": "code",
   "execution_count": null,
   "id": "c07cdc90",
   "metadata": {},
   "outputs": [],
   "source": [
    "(\n",
    "    (df_review_profileName_degree)\n",
    "    .review_profileName_degree\n",
    "    .value_counts()\n",
    "    .reset_index()\n",
    "    .plot.scatter(x=\"review_profileName_degree\", y=\"count\", marker=\".\")  # LINE TO BE REMOVED FOR STUDENTS\n",
    ")"
   ]
  },
  {
   "cell_type": "code",
   "execution_count": null,
   "id": "6b76ea6e",
   "metadata": {},
   "outputs": [],
   "source": [
    "(\n",
    "    (df_review_profileName_degree)\n",
    "    .review_profileName_degree\n",
    "    .value_counts()\n",
    "    .reset_index()\n",
    "    .plot.scatter(x=\"review_profileName_degree\", y=\"count\", loglog=True, marker=\".\")  # LINE TO BE REMOVED FOR STUDENTS\n",
    ")"
   ]
  },
  {
   "cell_type": "markdown",
   "id": "5a9c54e4",
   "metadata": {},
   "source": [
    "#### Relationship with target"
   ]
  },
  {
   "cell_type": "code",
   "execution_count": null,
   "id": "3094a520",
   "metadata": {},
   "outputs": [],
   "source": [
    "plot_rank_size(df_review_profileName_degree.review_profileName_degree)"
   ]
  },
  {
   "cell_type": "code",
   "execution_count": null,
   "id": "a3c5ed93",
   "metadata": {},
   "outputs": [],
   "source": [
    "df_review_profileNames = (\n",
    "    (df_master)\n",
    "    .merge(\n",
    "        df_review_profileName_degree,\n",
    "        on=\"review_profileName\",\n",
    "    )\n",
    "    .loc[:, [\"review_profileName\", \"review_profileName_degree\", \"positive_review\"]]\n",
    ")\n",
    "df_review_profileNames"
   ]
  },
  {
   "cell_type": "code",
   "execution_count": null,
   "id": "bdc9b1e8",
   "metadata": {},
   "outputs": [],
   "source": [
    "sns.histplot(df_review_profileNames, x=\"review_profileName_degree\", hue=\"positive_review\")"
   ]
  },
  {
   "cell_type": "code",
   "execution_count": null,
   "id": "7e58c216",
   "metadata": {},
   "outputs": [],
   "source": [
    "sns.histplot(\n",
    "    df_review_profileNames, x=\"review_profileName_degree\", hue=\"positive_review\", log_scale=True\n",
    ")"
   ]
  },
  {
   "cell_type": "code",
   "execution_count": null,
   "id": "0a50481b",
   "metadata": {
    "lines_to_next_cell": 2
   },
   "outputs": [],
   "source": [
    "sns.histplot(\n",
    "    df_review_profileNames,\n",
    "    x=\"review_profileName_degree\",\n",
    "    hue=\"positive_review\",\n",
    "    log_scale=True,\n",
    "    multiple=\"fill\",\n",
    ")"
   ]
  },
  {
   "cell_type": "markdown",
   "id": "5e347104",
   "metadata": {},
   "source": [
    "## Review text\n",
    "Using the [`pd.Series.str`](https://pandas.pydata.org/docs/reference/api/pandas.Series.str.html) API"
   ]
  },
  {
   "cell_type": "markdown",
   "id": "91543843",
   "metadata": {},
   "source": [
    "### Text length\n",
    "#### Distribution"
   ]
  },
  {
   "cell_type": "markdown",
   "id": "f1308e7a",
   "metadata": {},
   "source": [
    "Compute the length of the texts in the dataset.\n",
    "\n",
    "Methods you'll need:\n",
    "- [`pd.Series.str.len`](https://pandas.pydata.org/docs/reference/api/pandas.Series.str.len.html)\n",
    "- [`pd.Series.str`](https://pandas.pydata.org/docs/reference/api/pandas.Series.str..html)\n",
    "\n",
    "Bonus: plot an histogram of the values, with log values, using:\n",
    "- [`pd.Series.plot.hist`](https://pandas.pydata.org/docs/reference/api/pandas.Series.plot.bar.html)\n",
    "\n",
    "Is it a Power law distribution ?"
   ]
  },
  {
   "cell_type": "code",
   "execution_count": null,
   "id": "2d09fa96",
   "metadata": {},
   "outputs": [],
   "source": [
    "df_review_text_len = df_master.assign(review_text_len=lambda df: df.review_text.str.len())"
   ]
  },
  {
   "cell_type": "code",
   "execution_count": null,
   "id": "aa5f7fe3",
   "metadata": {},
   "outputs": [],
   "source": [
    "(\n",
    "    (df_review_text_len.review_text_len)\n",
    "    .plot.hist(bins=200)  # LINE TO BE REMOVED FOR STUDENTS\n",
    ")"
   ]
  },
  {
   "cell_type": "code",
   "execution_count": null,
   "id": "f8f90471",
   "metadata": {},
   "outputs": [],
   "source": [
    "(\n",
    "    (df_review_text_len.review_text_len)\n",
    "    .plot.hist(bins=200, logy=True)\n",
    ")"
   ]
  },
  {
   "cell_type": "markdown",
   "id": "e0c1a9a7",
   "metadata": {},
   "source": [
    "#### Relationship with the target"
   ]
  },
  {
   "cell_type": "code",
   "execution_count": null,
   "id": "e43447ef",
   "metadata": {},
   "outputs": [],
   "source": [
    "sns.displot(\n",
    "    df_review_text_len,\n",
    "    x=\"review_text_len\",\n",
    ")"
   ]
  },
  {
   "cell_type": "code",
   "execution_count": null,
   "id": "2a14e852",
   "metadata": {},
   "outputs": [],
   "source": [
    "sns.displot(\n",
    "    df_review_text_len,\n",
    "    x=\"review_text_len\",\n",
    "    hue=\"positive_review\",\n",
    ")"
   ]
  },
  {
   "cell_type": "code",
   "execution_count": null,
   "id": "89c07e47",
   "metadata": {},
   "outputs": [],
   "source": [
    "sns.displot(\n",
    "    df_review_text_len.loc[lambda df: df.review_text_len < 1500],\n",
    "    x=\"review_text_len\",\n",
    "    hue=\"positive_review\",\n",
    ")"
   ]
  },
  {
   "cell_type": "code",
   "execution_count": null,
   "id": "433c7e35",
   "metadata": {},
   "outputs": [],
   "source": [
    "sns.displot(\n",
    "    df_review_text_len.loc[lambda df: df.review_text_len < 1500],\n",
    "    x=\"review_text_len\",\n",
    "    hue=\"positive_review\",\n",
    "    multiple=\"fill\"\n",
    ")"
   ]
  },
  {
   "cell_type": "markdown",
   "id": "ebff035a",
   "metadata": {},
   "source": [
    "### Words associated to positive & negative reviews"
   ]
  },
  {
   "cell_type": "code",
   "execution_count": null,
   "id": "33449582",
   "metadata": {},
   "outputs": [],
   "source": [
    "(\n",
    "    (df_master)\n",
    "    .head(100000)\n",
    "    .assign(\n",
    "        tokenized_text=lambda df: (df.review_text)\n",
    "        .str.lower()\n",
    "        .str.replace(r\"[^a-z]\", \" \")\n",
    "        .str.replace(r\" +\", \" \")\n",
    "        .str.split(\" \")\n",
    "    )\n",
    "    .loc[:, [\"review_overall\", \"tokenized_text\"]]\n",
    "    .explode(\"tokenized_text\")\n",
    "    .loc[lambda df: df.tokenized_text != \"\"]\n",
    "    .groupby(\"tokenized_text\", as_index=False)\n",
    "    .agg([\"mean\", \"count\"])\n",
    "    .reset_index()\n",
    "    .sort_values(by=(\"review_overall\", \"count\"), ascending=False)\n",
    "    .head(200)\n",
    "    .style.background_gradient(cmap=\"RdYlGn\")\n",
    ")"
   ]
  },
  {
   "cell_type": "markdown",
   "id": "a594a227",
   "metadata": {},
   "source": [
    "### Word frequencies (optional)\n",
    "Compute the frequency of the most used words in the texts\n",
    "\n",
    "Methods you'll need:\n",
    "- [`pd.Series.str.len`](https://pandas.pydata.org/docs/reference/api/pandas.Series.str.len.html)\n",
    "- [`pd.Series.str.split`](https://pandas.pydata.org/docs/reference/api/pandas.Series.str.split.html)\n",
    "- [`pd.Series.explode`](https://pandas.pydata.org/docs/reference/api/pandas.Series.explode.html)\n",
    "- [`pd.Series.value_counts`](https://pandas.pydata.org/docs/reference/api/pandas.Series.value_counts.html)\n",
    "- [`pd.Series.head`](https://pandas.pydata.org/docs/reference/api/pandas.Series.head.html)\n",
    "\n",
    "Bonus: plot an histogram of the values, with log values, using:\n",
    "- [`pd.Series.plot.hist`](https://pandas.pydata.org/docs/reference/api/pandas.Series.plot.bar.html)\n",
    "\n",
    "Is it a Power law distribution ?"
   ]
  },
  {
   "cell_type": "code",
   "execution_count": null,
   "id": "bb19a4a4",
   "metadata": {},
   "outputs": [],
   "source": [
    "df_word_frequencies = (\n",
    "    (df_master.review_text)\n",
    "    .str.lower()\n",
    "    .str.replace(r\"[^a-z\\ ]\", \"\")\n",
    "    .str.replace(r\"\\ +\", \" \")\n",
    "    .str.split(\" \")  # LINE TO BE REMOVED FOR STUDENTS\n",
    "    .explode()\n",
    "    .loc[lambda x: x != \"\"]\n",
    "    .value_counts(normalize=True)\n",
    "    .rename(\"word_frequency\")\n",
    "    .rename_axis(index=\"word\")\n",
    "    .reset_index()\n",
    "    .assign(rank=lambda df: range(1, 1 + df.shape[0]))\n",
    ")\n",
    "df_word_frequencies"
   ]
  },
  {
   "cell_type": "code",
   "execution_count": null,
   "id": "5a49187e",
   "metadata": {},
   "outputs": [],
   "source": [
    "df_word_frequencies.head(10000).plot(x=\"rank\", y=\"word_frequency\", marker=\".\")"
   ]
  },
  {
   "cell_type": "code",
   "execution_count": null,
   "id": "4752ac6a",
   "metadata": {},
   "outputs": [],
   "source": [
    "df_word_frequencies.head(10000).plot(\n",
    "    x=\"rank\", y=\"word_frequency\", loglog=True, marker=\".\"\n",
    ")"
   ]
  },
  {
   "cell_type": "markdown",
   "id": "67be8164",
   "metadata": {},
   "source": [
    "## And if it's a regression ?\n",
    "We show those plot examples to explain what would be an exploratory data analysis for\n",
    "a regression problem.\n",
    "\n",
    "### Continuous variable"
   ]
  },
  {
   "cell_type": "code",
   "execution_count": null,
   "id": "359cd19d",
   "metadata": {},
   "outputs": [],
   "source": [
    "sns.displot(\n",
    "    df_master.loc[lambda df: df.beer_ABV < 20],\n",
    "    x=\"beer_ABV\",\n",
    "    hue=\"review_overall\",\n",
    "    multiple=\"fill\",\n",
    "    palette=\"RdYlGn\",\n",
    "    bins=20,\n",
    ")"
   ]
  },
  {
   "cell_type": "code",
   "execution_count": null,
   "id": "9ca9f6fe",
   "metadata": {},
   "outputs": [],
   "source": [
    "sns.displot(\n",
    "    df_master.loc[lambda df: df.beer_ABV < 20],\n",
    "    x=\"beer_ABV\",\n",
    "    y=\"review_overall\",\n",
    "    bins=20,\n",
    ")"
   ]
  },
  {
   "cell_type": "markdown",
   "id": "58263e97",
   "metadata": {},
   "source": [
    "### Categorical variable"
   ]
  },
  {
   "cell_type": "code",
   "execution_count": null,
   "id": "0532974b",
   "metadata": {},
   "outputs": [],
   "source": [
    "sns.histplot(\n",
    "    df_master,\n",
    "    x=\"review_appearance\",\n",
    "    discrete=True,\n",
    "    hue=\"review_overall\",\n",
    "    multiple=\"stack\",\n",
    "    palette=\"RdYlGn\",\n",
    ")"
   ]
  },
  {
   "cell_type": "code",
   "execution_count": null,
   "id": "7c0c7093",
   "metadata": {},
   "outputs": [],
   "source": [
    "sns.histplot(\n",
    "    df_master,\n",
    "    x=\"review_appearance\",\n",
    "    discrete=True,\n",
    "    hue=\"review_overall\",\n",
    "    multiple=\"fill\",\n",
    "    palette=\"RdYlGn\",\n",
    ")"
   ]
  },
  {
   "cell_type": "code",
   "execution_count": null,
   "id": "b325a79f",
   "metadata": {},
   "outputs": [],
   "source": [
    "sns.violinplot(\n",
    "    df_master,\n",
    "    x=\"review_appearance\",\n",
    "    y=\"review_overall\",\n",
    ")"
   ]
  }
 ],
 "metadata": {
  "jupytext": {
   "cell_metadata_filter": "-all",
   "main_language": "python",
   "notebook_metadata_filter": "-all"
  }
 },
 "nbformat": 4,
 "nbformat_minor": 5
}
