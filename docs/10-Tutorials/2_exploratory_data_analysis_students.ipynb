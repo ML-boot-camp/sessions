{
 "cells": [
  {
   "cell_type": "markdown",
   "id": "2fba17b1",
   "metadata": {},
   "source": [
    "# 🐍 Practice n°2: exploratory data analysis (students version)\n",
    "## Preparation\n",
    "### Install & import modules"
   ]
  },
  {
   "cell_type": "code",
   "execution_count": null,
   "id": "30c6c762",
   "metadata": {},
   "outputs": [],
   "source": [
    "! pip install seaborn"
   ]
  },
  {
   "cell_type": "code",
   "execution_count": null,
   "id": "55f5e7c4",
   "metadata": {},
   "outputs": [],
   "source": [
    "from pathlib import Path\n",
    "\n",
    "import numpy as np\n",
    "import pandas as pd\n",
    "import seaborn as sns"
   ]
  },
  {
   "cell_type": "markdown",
   "id": "5cb669fa",
   "metadata": {},
   "source": [
    "### Read remote dataset"
   ]
  },
  {
   "cell_type": "markdown",
   "id": "18d1a08d",
   "metadata": {},
   "source": [
    "The data is in this git repository: [ML-boot-camp/ratebeer.git](https://github.com/ML-boot-camp/ratebeer.git).\n",
    "\n",
    "The data is located in the `ratebeer/data/` folder.\n"
   ]
  },
  {
   "cell_type": "code",
   "execution_count": null,
   "id": "615777b7",
   "metadata": {},
   "outputs": [],
   "source": [
    "file_url = \"https://github.com/ML-boot-camp/ratebeer/raw/master/data/ratebeer_sample_clean.parquet\""
   ]
  },
  {
   "cell_type": "code",
   "execution_count": null,
   "id": "d85e560f",
   "metadata": {},
   "outputs": [],
   "source": [
    "df_ratebeer = pd.read_parquet(file_url)"
   ]
  },
  {
   "cell_type": "code",
   "execution_count": null,
   "id": "c36713cd",
   "metadata": {},
   "outputs": [],
   "source": [
    "df_reviewers = (\n",
    "    df_ratebeer\n",
    "    .groupby(\"review_profileName\")\n",
    "    .agg(\n",
    "        number_of_reviews=('review_profileName', 'count'),\n",
    "        average_rating=('review_overall', 'mean')\n",
    "    )\n",
    "    .round(1)\n",
    "    .reset_index()\n",
    ")"
   ]
  },
  {
   "cell_type": "code",
   "execution_count": null,
   "id": "ffc3b377",
   "metadata": {},
   "outputs": [],
   "source": [
    "df_master = (\n",
    "    df_ratebeer\n",
    "    .merge(\n",
    "        df_reviewers,\n",
    "        on=\"review_profileName\",\n",
    "        how='inner',\n",
    "        validate=\"m:1\"\n",
    "    )\n",
    "    .assign(\n",
    "        review_time=lambda df: df.review_time.astype(int)\n",
    "        .apply(pd.Timestamp.fromtimestamp)\n",
    "    )\n",
    "    .assign(\n",
    "        positive_review=lambda df: (df.review_overall >= df.review_overall.median()).astype(int)\n",
    "    )\n",
    ")"
   ]
  },
  {
   "cell_type": "markdown",
   "id": "fca78881",
   "metadata": {},
   "source": [
    "## `df_master` DataFrame"
   ]
  },
  {
   "cell_type": "markdown",
   "id": "2a59b2fa",
   "metadata": {},
   "source": [
    "### General information\n",
    "Have a first overview of the dataframe size, i.e. number of rows & columns.\n",
    "\n",
    "Methods you'll need:\n",
    "- [`pd.DataFrame.shape`](https://pandas.pydata.org/docs/reference/api/pandas.DataFrame.shape.html)"
   ]
  },
  {
   "cell_type": "code",
   "execution_count": null,
   "id": "4f6fe45d",
   "metadata": {},
   "outputs": [],
   "source": [
    "df_master.shape"
   ]
  },
  {
   "cell_type": "markdown",
   "id": "5422514d",
   "metadata": {},
   "source": [
    "Get a few information about the content of the dataframe:\n",
    "- number of null values per column\n",
    "- data type of each column\n",
    "- memory usage\n",
    "\n",
    "Methods you'll need:\n",
    "- [`pd.DataFrame.isnull`](https://pandas.pydata.org/docs/reference/api/pandas.DataFrame.isnull.html)\n",
    "- [`pd.DataFrame.sum`](https://pandas.pydata.org/docs/reference/api/pandas.DataFrame.sum.html)\n",
    "- [`pd.DataFrame.dtypes`](https://pandas.pydata.org/docs/reference/api/pandas.DataFrame.dtypes.html)\n",
    "- [`pd.DataFrame.info`](https://pandas.pydata.org/docs/reference/api/pandas.DataFrame.info.html)"
   ]
  },
  {
   "cell_type": "code",
   "execution_count": null,
   "id": "6f30dfdf",
   "metadata": {},
   "outputs": [],
   "source": [
    "df_master.isnull().sum()"
   ]
  },
  {
   "cell_type": "code",
   "execution_count": null,
   "id": "d1464cb0",
   "metadata": {},
   "outputs": [],
   "source": [
    "df_master.dtypes"
   ]
  },
  {
   "cell_type": "code",
   "execution_count": null,
   "id": "88e28e68",
   "metadata": {},
   "outputs": [],
   "source": [
    "df_master.info(memory_usage=\"deep\")  # LINE TO BE REMOVED FOR STUDENTS"
   ]
  },
  {
   "cell_type": "markdown",
   "id": "4f903545",
   "metadata": {},
   "source": [
    "Show a sample of the data\n",
    "\n",
    "Methods you'll need:\n",
    "- [`pd.DataFrame.head`](https://pandas.pydata.org/docs/reference/api/pandas.DataFrame.head.html)\n",
    "- [`pd.DataFrame.sample`](https://pandas.pydata.org/docs/reference/api/pandas.DataFrame.sample.html)\n",
    "\n",
    "Bonus: display the transpose of the dataframe for better readability when having lots of columns using:\n",
    "- [`pd.DataFrame.T`](https://pandas.pydata.org/docs/reference/api/pandas.DataFrame.T.html)"
   ]
  },
  {
   "cell_type": "code",
   "execution_count": null,
   "id": "aa52fb43",
   "metadata": {},
   "outputs": [],
   "source": [
    "df_master.head(5)"
   ]
  },
  {
   "cell_type": "code",
   "execution_count": null,
   "id": "407d936e",
   "metadata": {},
   "outputs": [],
   "source": [
    "df_master.sample(5).T"
   ]
  },
  {
   "cell_type": "markdown",
   "id": "2a63cd3c",
   "metadata": {},
   "source": [
    "Compute statistics to understand the content of each column.\n",
    "\n",
    "Methods you'll need:\n",
    "- [`pd.DataFrame.describe`](https://pandas.pydata.org/docs/reference/api/pandas.DataFrame.describe.html)\n",
    "- [`pd.DataFrame.fillna`](https://pandas.pydata.org/docs/reference/api/pandas.DataFrame.fillna.html)\n",
    "\n",
    "Bonus: fill NaN values with an empty string `\"\"` for a better readability using:"
   ]
  },
  {
   "cell_type": "code",
   "execution_count": null,
   "id": "2ef9ba43",
   "metadata": {},
   "outputs": [],
   "source": [
    "df_master.describe(include=\"all\").fillna(\"\").T"
   ]
  },
  {
   "cell_type": "markdown",
   "id": "866366bc",
   "metadata": {},
   "source": [
    "### Quantitative variables\n",
    "\n",
    "- `review_appearance`\n",
    "- `review_aroma`\n",
    "- `review_palate`\n",
    "- `review_taste`\n",
    "- `review_overall`\n",
    "- `average_rating`\n",
    "- `number_of_reviews`\n",
    "- `beer_ABV`"
   ]
  },
  {
   "cell_type": "markdown",
   "id": "779fe519",
   "metadata": {},
   "source": [
    "Methods you'll need:\n",
    "- [`pd.DataFrame.describe`](https://pandas.pydata.org/docs/reference/api/pandas.DataFrame.describe.html)\n",
    "- [`pd.Series.hist`](https://pandas.pydata.org/docs/reference/api/pandas.Series.hist.html)\n",
    "- [`pd.DataFrame.fillna`](https://pandas.pydata.org/docs/reference/api/pandas.DataFrame.fillna.html)"
   ]
  },
  {
   "cell_type": "markdown",
   "id": "77d42c2d",
   "metadata": {},
   "source": [
    "Describe all quantitative variables"
   ]
  },
  {
   "cell_type": "code",
   "execution_count": null,
   "id": "0fc155a9",
   "metadata": {},
   "outputs": [],
   "source": [
    "pd.set_option(\"display.precision\", 2)"
   ]
  },
  {
   "cell_type": "code",
   "execution_count": null,
   "id": "ddd4bada",
   "metadata": {},
   "outputs": [],
   "source": [
    "quantitative_columns = [\n",
    "    \"review_appearance\",\n",
    "    \"review_aroma\",\n",
    "    \"review_palate\",\n",
    "    \"review_taste\",\n",
    "    \"review_overall\",\n",
    "    \"average_rating\",\n",
    "    \"number_of_reviews\",\n",
    "    \"beer_ABV\",\n",
    "]\n",
    "(\n",
    "    (df_master)\n",
    "    .loc[:, quantitative_columns]\n",
    "    .describe()  # LINE TO BE REMOVED FOR STUDENTS\n",
    "    .T  # LINE TO BE REMOVED FOR STUDENTS\n",
    "    .style.background_gradient().set_precision(2)  # LINE TO BE REMOVED FOR STUDENTS\n",
    ")"
   ]
  },
  {
   "cell_type": "markdown",
   "id": "6130aab5",
   "metadata": {},
   "source": [
    "Describe and plot all numeric columns containing reviews: review_* & average_rating"
   ]
  },
  {
   "cell_type": "code",
   "execution_count": null,
   "id": "0d015ce4",
   "metadata": {},
   "outputs": [],
   "source": [
    "review_columns = [\n",
    "    \"review_appearance\",\n",
    "    \"review_aroma\",\n",
    "    \"review_palate\",  # LINE TO BE REMOVED FOR STUDENTS\n",
    "    \"review_taste\",  # LINE TO BE REMOVED FOR STUDENTS\n",
    "    \"review_overall\",  # LINE TO BE REMOVED FOR STUDENTS\n",
    "    \"average_rating\",\n",
    "]\n",
    "HISTOGRAM_SIZE = (6, 3)\n",
    "(\n",
    "    (df_master)\n",
    "    .loc[:, review_columns]\n",
    "    .plot.hist(\n",
    "        bins=range(21),\n",
    "        subplots=True,\n",
    "        figsize=(HISTOGRAM_SIZE[0], len(review_columns) * HISTOGRAM_SIZE[1]),\n",
    "    )\n",
    ")"
   ]
  },
  {
   "cell_type": "markdown",
   "id": "f602f4e1",
   "metadata": {},
   "source": [
    "Plot `number_of_reviews`"
   ]
  },
  {
   "cell_type": "code",
   "execution_count": null,
   "id": "edab0b79",
   "metadata": {},
   "outputs": [],
   "source": [
    "(\n",
    "    (df_master)\n",
    "    .number_of_reviews\n",
    "    .plot.hist(bins=100)  # LINE TO BE REMOVED FOR STUDENTS\n",
    ")"
   ]
  },
  {
   "cell_type": "code",
   "execution_count": null,
   "id": "ae05fb62",
   "metadata": {},
   "outputs": [],
   "source": [
    "(\n",
    "    (df_master)\n",
    "    .number_of_reviews  # LINE TO BE REMOVED FOR STUDENTS\n",
    "    .plot.hist(bins=100, loglog=True)\n",
    ")"
   ]
  },
  {
   "cell_type": "markdown",
   "id": "54408d5c",
   "metadata": {},
   "source": [
    "If interested, you can read: [Zipf's Law on Wikipedia](https://en.wikipedia.org/wiki/Zipf's_law)"
   ]
  },
  {
   "cell_type": "markdown",
   "id": "fb64eaee",
   "metadata": {},
   "source": [
    "Plot `beer_ABV`"
   ]
  },
  {
   "cell_type": "code",
   "execution_count": null,
   "id": "b7bda506",
   "metadata": {},
   "outputs": [],
   "source": [
    "(\n",
    "    (df_master)\n",
    "    .beer_ABV  # LINE TO BE REMOVED FOR STUDENTS\n",
    "    .plot.hist(bins=100)\n",
    ")"
   ]
  },
  {
   "cell_type": "code",
   "execution_count": null,
   "id": "9723651c",
   "metadata": {},
   "outputs": [],
   "source": [
    "(\n",
    "    (df_master)\n",
    "    .beer_ABV  # LINE TO BE REMOVED FOR STUDENTS\n",
    "    .plot.hist(bins=100, logy=True)\n",
    ")"
   ]
  },
  {
   "cell_type": "markdown",
   "id": "e2dc9933",
   "metadata": {},
   "source": [
    "Plot `review_time`"
   ]
  },
  {
   "cell_type": "code",
   "execution_count": null,
   "id": "f957f904",
   "metadata": {},
   "outputs": [],
   "source": [
    "(\n",
    "    df_master\n",
    "    .review_time\n",
    "    .hist(bins=100)  # LINE TO BE REMOVED FOR STUDENTS\n",
    ")"
   ]
  },
  {
   "cell_type": "markdown",
   "id": "59e21794",
   "metadata": {},
   "source": [
    "### Nominal and ordinal variables:\n",
    "- `positive_review`\n",
    "- `beer_style`\n",
    "- `beer_name`\n",
    "- `beer_beerId`\n",
    "- `beer_brewerId`\n",
    "- `review_profileName`"
   ]
  },
  {
   "cell_type": "markdown",
   "id": "31ee920d",
   "metadata": {},
   "source": [
    "Describe and plot `positive_review`"
   ]
  },
  {
   "cell_type": "code",
   "execution_count": null,
   "id": "63c360a0",
   "metadata": {},
   "outputs": [],
   "source": [
    "(\n",
    "    (df_master)\n",
    "    .positive_review\n",
    "    .describe()  # LINE TO BE REMOVED FOR STUDENTS\n",
    ")"
   ]
  },
  {
   "cell_type": "code",
   "execution_count": null,
   "id": "71557d48",
   "metadata": {},
   "outputs": [],
   "source": [
    "(\n",
    "    (df_master)\n",
    "    .positive_review\n",
    "    .value_counts()  # LINE TO BE REMOVED FOR STUDENTS\n",
    "    .plot.bar()  # LINE TO BE REMOVED FOR STUDENTS\n",
    ")"
   ]
  },
  {
   "cell_type": "markdown",
   "id": "c745abcd",
   "metadata": {},
   "source": [
    "Describe and plot `beer_style`"
   ]
  },
  {
   "cell_type": "code",
   "execution_count": null,
   "id": "6d77e418",
   "metadata": {},
   "outputs": [],
   "source": [
    "(\n",
    "    (df_master)\n",
    "    .beer_style  # LINE TO BE REMOVED FOR STUDENTS\n",
    "    .describe()\n",
    ")"
   ]
  },
  {
   "cell_type": "code",
   "execution_count": null,
   "id": "414ab18d",
   "metadata": {},
   "outputs": [],
   "source": [
    "(\n",
    "    (df_master)\n",
    "    .beer_style\n",
    "    .value_counts()\n",
    "    .plot.bar()  # LINE TO BE REMOVED FOR STUDENTS\n",
    ")"
   ]
  },
  {
   "cell_type": "code",
   "execution_count": null,
   "id": "49dba9b5",
   "metadata": {},
   "outputs": [],
   "source": [
    "(\n",
    "    (df_master)\n",
    "    .beer_style\n",
    "    .value_counts()  # LINE TO BE REMOVED FOR STUDENTS\n",
    "    .plot.bar(logy=True)\n",
    ")"
   ]
  },
  {
   "cell_type": "markdown",
   "id": "b897dac3",
   "metadata": {},
   "source": [
    "Describe and plot `beer_name`"
   ]
  },
  {
   "cell_type": "code",
   "execution_count": null,
   "id": "d2f5fdaf",
   "metadata": {},
   "outputs": [],
   "source": [
    "(\n",
    "    (df_master)\n",
    "    .beer_name\n",
    "    .describe()\n",
    ")"
   ]
  },
  {
   "cell_type": "code",
   "execution_count": null,
   "id": "ecca0aa4",
   "metadata": {},
   "outputs": [],
   "source": [
    "(\n",
    "    (df_master)\n",
    "    .beer_name\n",
    "    .value_counts()\n",
    "    .value_counts()\n",
    "    .plot.bar()  # LINE TO BE REMOVED FOR STUDENTS\n",
    ")"
   ]
  },
  {
   "cell_type": "code",
   "execution_count": null,
   "id": "0a9233a1",
   "metadata": {},
   "outputs": [],
   "source": [
    "(\n",
    "    (df_master)\n",
    "    .beer_name  # LINE TO BE REMOVED FOR STUDENTS\n",
    "    .value_counts()  # LINE TO BE REMOVED FOR STUDENTS\n",
    "    .value_counts()\n",
    "    .plot.bar(logy=True)\n",
    ")"
   ]
  },
  {
   "cell_type": "code",
   "execution_count": null,
   "id": "ba21533e",
   "metadata": {},
   "outputs": [],
   "source": [
    "(\n",
    "    (df_master)\n",
    "    .beer_name\n",
    "    .value_counts()  # LINE TO BE REMOVED FOR STUDENTS\n",
    "    .value_counts()  # LINE TO BE REMOVED FOR STUDENTS\n",
    "    .plot(loglog=True, marker=\".\")\n",
    ")"
   ]
  },
  {
   "cell_type": "markdown",
   "id": "9b090ca4",
   "metadata": {},
   "source": [
    "Describe and plot `beer_beerId`"
   ]
  },
  {
   "cell_type": "code",
   "execution_count": null,
   "id": "a1d6b44d",
   "metadata": {},
   "outputs": [],
   "source": [
    "(\n",
    "    (df_master)\n",
    "    .beer_beerId  # LINE TO BE REMOVED FOR STUDENTS\n",
    "    .describe()\n",
    ")"
   ]
  },
  {
   "cell_type": "code",
   "execution_count": null,
   "id": "74305111",
   "metadata": {},
   "outputs": [],
   "source": [
    "(\n",
    "    (df_master)\n",
    "    .beer_beerId  # LINE TO BE REMOVED FOR STUDENTS\n",
    "    .value_counts()\n",
    "    .value_counts()\n",
    "    .plot.bar()\n",
    ")"
   ]
  },
  {
   "cell_type": "code",
   "execution_count": null,
   "id": "b7a4d7f2",
   "metadata": {},
   "outputs": [],
   "source": [
    "(\n",
    "    (df_master)\n",
    "    .beer_beerId  # LINE TO BE REMOVED FOR STUDENTS\n",
    "    .value_counts()\n",
    "    .value_counts()\n",
    "    .plot.bar(logy=True)\n",
    ")"
   ]
  },
  {
   "cell_type": "code",
   "execution_count": null,
   "id": "d1d01ef7",
   "metadata": {},
   "outputs": [],
   "source": [
    "(\n",
    "    (df_master)\n",
    "    .beer_beerId  # LINE TO BE REMOVED FOR STUDENTS\n",
    "    .value_counts()\n",
    "    .value_counts()\n",
    "    .plot(loglog=True, marker=\".\")\n",
    ")"
   ]
  },
  {
   "cell_type": "code",
   "execution_count": null,
   "id": "ab3a6917",
   "metadata": {},
   "outputs": [],
   "source": [
    "(\n",
    "    (df_master)\n",
    "    .beer_beerId  # LINE TO BE REMOVED FOR STUDENTS\n",
    "    .value_counts()\n",
    "    .plot.hist(loglog=True, bins=200)\n",
    ")"
   ]
  },
  {
   "cell_type": "markdown",
   "id": "a2e63fc3",
   "metadata": {},
   "source": [
    "If interested, you can read: [Zipf's Law on Wikipedia](https://en.wikipedia.org/wiki/Zipf's_law)"
   ]
  },
  {
   "cell_type": "markdown",
   "id": "8ab1d253",
   "metadata": {},
   "source": [
    "Describe and plot `beer_brewerId`"
   ]
  },
  {
   "cell_type": "code",
   "execution_count": null,
   "id": "0bc2130a",
   "metadata": {},
   "outputs": [],
   "source": [
    "(\n",
    "    (df_master)\n",
    "    .beer_brewerId  # LINE TO BE REMOVED FOR STUDENTS\n",
    "    .describe()\n",
    ")"
   ]
  },
  {
   "cell_type": "code",
   "execution_count": null,
   "id": "c86b0727",
   "metadata": {},
   "outputs": [],
   "source": [
    "(\n",
    "    (df_master)\n",
    "    .beer_brewerId\n",
    "    .value_counts()\n",
    "    .value_counts()  # LINE TO BE REMOVED FOR STUDENTS\n",
    "    .plot.bar()\n",
    ")"
   ]
  },
  {
   "cell_type": "code",
   "execution_count": null,
   "id": "ae733e5d",
   "metadata": {},
   "outputs": [],
   "source": [
    "(\n",
    "    (df_master)\n",
    "    .beer_brewerId\n",
    "    .value_counts()  # LINE TO BE REMOVED FOR STUDENTS\n",
    "    .value_counts()\n",
    "    .plot.bar(logy=True)\n",
    ")"
   ]
  },
  {
   "cell_type": "code",
   "execution_count": null,
   "id": "5a67d3cd",
   "metadata": {
    "lines_to_next_cell": 0
   },
   "outputs": [],
   "source": [
    "(\n",
    "    (df_master)\n",
    "    .beer_brewerId  # LINE TO BE REMOVED FOR STUDENTS\n",
    "    .value_counts()  # LINE TO BE REMOVED FOR STUDENTS\n",
    "    .value_counts()\n",
    "    .plot(loglog=True, marker=\".\")\n",
    ")"
   ]
  },
  {
   "cell_type": "markdown",
   "id": "c6db7a3c",
   "metadata": {},
   "source": [
    "If interested, you can read: [Zipf's Law on Wikipedia](https://en.wikipedia.org/wiki/Zipf's_law)"
   ]
  },
  {
   "cell_type": "markdown",
   "id": "8ca5490b",
   "metadata": {},
   "source": [
    "Describe and plot `review_profileName`"
   ]
  },
  {
   "cell_type": "code",
   "execution_count": null,
   "id": "54493753",
   "metadata": {},
   "outputs": [],
   "source": [
    "(\n",
    "    (df_master)\n",
    "    .review_profileName\n",
    "    .describe()  # LINE TO BE REMOVED FOR STUDENTS\n",
    ")"
   ]
  },
  {
   "cell_type": "code",
   "execution_count": null,
   "id": "33078e3c",
   "metadata": {},
   "outputs": [],
   "source": [
    "(\n",
    "    (df_master)\n",
    "    .review_profileName  # LINE TO BE REMOVED FOR STUDENTS\n",
    "    .value_counts()  # LINE TO BE REMOVED FOR STUDENTS\n",
    "    .value_counts()\n",
    "    .plot.bar()\n",
    ")"
   ]
  },
  {
   "cell_type": "code",
   "execution_count": null,
   "id": "8397ee5c",
   "metadata": {},
   "outputs": [],
   "source": [
    "(\n",
    "    (df_master)\n",
    "    .review_profileName  # LINE TO BE REMOVED FOR STUDENTS\n",
    "    .value_counts()  # LINE TO BE REMOVED FOR STUDENTS\n",
    "    .value_counts()\n",
    "    .plot.bar(logy=True)\n",
    ")"
   ]
  },
  {
   "cell_type": "code",
   "execution_count": null,
   "id": "788ad997",
   "metadata": {},
   "outputs": [],
   "source": [
    "(\n",
    "    (df_master)\n",
    "    .review_profileName\n",
    "    .value_counts()  # LINE TO BE REMOVED FOR STUDENTS\n",
    "    .value_counts()\n",
    "    .plot(loglog=True, marker=\".\")\n",
    ")"
   ]
  },
  {
   "cell_type": "markdown",
   "id": "dc5b1f6b",
   "metadata": {},
   "source": [
    "If interested, you can read: [Zipf's Law on Wikipedia](https://en.wikipedia.org/wiki/Zipf's_law)"
   ]
  },
  {
   "cell_type": "markdown",
   "id": "ef149b05",
   "metadata": {},
   "source": [
    "### Relationship with the target `positive_review`\n",
    "#### Quantitative variables"
   ]
  },
  {
   "cell_type": "markdown",
   "id": "b22b0d04",
   "metadata": {},
   "source": [
    "Plot `review_overall` relationship with `positive_review`"
   ]
  },
  {
   "cell_type": "code",
   "execution_count": null,
   "id": "23d151ea",
   "metadata": {},
   "outputs": [],
   "source": [
    "(\n",
    "    (df_master)\n",
    "    .pipe(sns.histplot, x=\"review_overall\", bins=range(21), hue=\"positive_review\")\n",
    ")"
   ]
  },
  {
   "cell_type": "markdown",
   "id": "b007d2f7",
   "metadata": {},
   "source": [
    "Plot `review_appearance` relationship with `positive_review`"
   ]
  },
  {
   "cell_type": "code",
   "execution_count": null,
   "id": "42652b37",
   "metadata": {},
   "outputs": [],
   "source": [
    "(\n",
    "    (df_master)\n",
    "    .pipe(sns.histplot, x=\"review_appearance\", bins=range(21), hue=\"positive_review\")  # LINE TO BE REMOVED FOR STUDENTS\n",
    ")"
   ]
  },
  {
   "cell_type": "markdown",
   "id": "665968df",
   "metadata": {},
   "source": [
    "Plot `review_aroma` relationship with `positive_review`"
   ]
  },
  {
   "cell_type": "code",
   "execution_count": null,
   "id": "ece88486",
   "metadata": {},
   "outputs": [],
   "source": [
    "(\n",
    "    (df_master)\n",
    "    .pipe(sns.histplot, x=\"review_aroma\", bins=range(21), hue=\"positive_review\")  # LINE TO BE REMOVED FOR STUDENTS\n",
    ")"
   ]
  },
  {
   "cell_type": "markdown",
   "id": "4e18dfeb",
   "metadata": {},
   "source": [
    "Plot `review_palate` relationship with `positive_review`"
   ]
  },
  {
   "cell_type": "code",
   "execution_count": null,
   "id": "0737f219",
   "metadata": {},
   "outputs": [],
   "source": [
    "(\n",
    "    (df_master)  # LINE TO BE REMOVED FOR STUDENTS\n",
    "    .pipe(sns.histplot, x=\"review_palate\", bins=range(21), hue=\"positive_review\")\n",
    ")"
   ]
  },
  {
   "cell_type": "markdown",
   "id": "666a9e4d",
   "metadata": {},
   "source": [
    "Plot `review_taste` relationship with `positive_review`"
   ]
  },
  {
   "cell_type": "code",
   "execution_count": null,
   "id": "dd0f16f7",
   "metadata": {},
   "outputs": [],
   "source": [
    "(\n",
    "    (df_master)\n",
    "    .pipe(sns.histplot, x=\"review_taste\", bins=range(21), hue=\"positive_review\")  # LINE TO BE REMOVED FOR STUDENTS\n",
    ")"
   ]
  },
  {
   "cell_type": "markdown",
   "id": "8ca535dc",
   "metadata": {},
   "source": [
    "#### Quantitative variables"
   ]
  },
  {
   "cell_type": "markdown",
   "id": "eadc4049",
   "metadata": {},
   "source": [
    "Plot `beer_style` relationship with `positive_review`"
   ]
  },
  {
   "cell_type": "code",
   "execution_count": null,
   "id": "80de9070",
   "metadata": {},
   "outputs": [],
   "source": [
    "(\n",
    "    (df_master)  # LINE TO BE REMOVED FOR STUDENTS\n",
    "    .pipe(sns.histplot, x=\"beer_style\", bins=range(21), hue=\"positive_review\")\n",
    ")"
   ]
  },
  {
   "cell_type": "markdown",
   "id": "41ca9bd9",
   "metadata": {},
   "source": [
    "#### High cardinality variables"
   ]
  },
  {
   "cell_type": "code",
   "execution_count": null,
   "id": "de4898be",
   "metadata": {},
   "outputs": [],
   "source": [
    "(\n",
    "    (df_master)\n",
    "    .sample(10000)\n",
    "    .assign(beer_beerId_noccurences=lambda df: df.beer_beerId.pipe(lambda s: s.replace(s.value_counts().to_dict())))\n",
    "    .pipe(sns.histplot, x=\"beer_beerId_noccurences\", bins=range(21), hue=\"positive_review\")\n",
    ")"
   ]
  },
  {
   "cell_type": "code",
   "execution_count": null,
   "id": "76665972",
   "metadata": {},
   "outputs": [],
   "source": [
    "(\n",
    "    (df_master)\n",
    "    .sample(10000)\n",
    "    .assign(beer_brewerId_noccurences=lambda df: df.beer_brewerId.pipe(lambda s: s.replace(s.value_counts().to_dict())))\n",
    "    .pipe(sns.histplot, x=\"beer_brewerId_noccurences\", bins=range(21), hue=\"positive_review\")\n",
    ")"
   ]
  },
  {
   "cell_type": "code",
   "execution_count": null,
   "id": "7e9a2f6a",
   "metadata": {},
   "outputs": [],
   "source": [
    "(\n",
    "    (df_master)\n",
    "    .sample(10000)\n",
    "    .assign(review_profileName_noccurences=lambda df: df.review_profileName.pipe(lambda s: s.replace(s.value_counts().to_dict())))\n",
    "    .pipe(sns.histplot, x=\"review_profileName_noccurences\", bins=range(21), hue=\"positive_review\")\n",
    ")"
   ]
  },
  {
   "cell_type": "markdown",
   "id": "b5ce2e27",
   "metadata": {},
   "source": [
    "### Multivariate plots"
   ]
  },
  {
   "cell_type": "markdown",
   "id": "97fb5165",
   "metadata": {},
   "source": [
    "Plot a scatter matrix of the numerical variables, colored by the target column\n",
    "`positive_review`.\n",
    "\n",
    "Hint:\n",
    "- [`pd.DataFrame.select_dtypes`](https://pandas.pydata.org/docs/reference/api/pandas.DataFrame.select_dtypes.html)\n",
    "- [`pd.plotting.scatter_matrix`](https://pandas.pydata.org/docs/reference/api/pandas.plotting.scatter_matrix.html)"
   ]
  },
  {
   "cell_type": "code",
   "execution_count": null,
   "id": "f85feb83",
   "metadata": {},
   "outputs": [],
   "source": [
    "review_columns = [\n",
    "    \"review_appearance\",\n",
    "    \"review_aroma\",\n",
    "    \"review_palate\",\n",
    "    \"review_taste\",\n",
    "    \"review_overall\",\n",
    "]\n",
    "\n",
    "def add_jitter(df, jitter=0.4):\n",
    "    return df + np.random.uniform(low=-jitter, high=jitter, size=df.shape)\n",
    "\n",
    "(\n",
    "    (df_master)\n",
    "    .loc[:, review_columns]\n",
    "    .head(10000)\n",
    "    .pipe(add_jitter)  # LINE TO BE REMOVED FOR STUDENTS\n",
    "    .pipe(\n",
    "        pd.plotting.scatter_matrix,\n",
    "        figsize=(15, 15),\n",
    "        s=10,  # LINE TO BE REMOVED FOR STUDENTS\n",
    "        alpha=0.1,  # LINE TO BE REMOVED FOR STUDENTS\n",
    "        c=df_master.positive_review.head(10000),  # LINE TO BE REMOVED FOR STUDENTS\n",
    "    )\n",
    ")"
   ]
  },
  {
   "cell_type": "markdown",
   "id": "9a0a5800",
   "metadata": {},
   "source": [
    "### String manipulation\n",
    "Using the [`pd.Series.str`](https://pandas.pydata.org/docs/reference/api/pandas.Series.str.html) API"
   ]
  },
  {
   "cell_type": "markdown",
   "id": "38402292",
   "metadata": {},
   "source": [
    "#### `review_text` column:"
   ]
  },
  {
   "cell_type": "markdown",
   "id": "bcfaa84b",
   "metadata": {},
   "source": [
    "Compute the length of the texts in the dataset.\n",
    "\n",
    "Methods you'll need:\n",
    "- [`pd.Series.str.len`](https://pandas.pydata.org/docs/reference/api/pandas.Series.str.len.html)\n",
    "- [`pd.Series.str`](https://pandas.pydata.org/docs/reference/api/pandas.Series.str..html)\n",
    "\n",
    "Bonus: plot an histogram of the values, with log values, using:\n",
    "- [`pd.Series.plot.hist`](https://pandas.pydata.org/docs/reference/api/pandas.Series.plot.bar.html)\n",
    "\n",
    "Is it a Power law distribution ?"
   ]
  },
  {
   "cell_type": "code",
   "execution_count": null,
   "id": "b0077ba4",
   "metadata": {},
   "outputs": [],
   "source": [
    "(\n",
    "    (df_master.review_text)\n",
    "    .str.len()\n",
    "    .plot.hist(bins=range(2000))  # LINE TO BE REMOVED FOR STUDENTS\n",
    ")"
   ]
  },
  {
   "cell_type": "code",
   "execution_count": null,
   "id": "d591896a",
   "metadata": {},
   "outputs": [],
   "source": [
    "(\n",
    "    (df_master.review_text)\n",
    "    .str.len()  # LINE TO BE REMOVED FOR STUDENTS\n",
    "    .plot.hist(bins=range(2000), logy=True)\n",
    ")"
   ]
  },
  {
   "cell_type": "markdown",
   "id": "c1dcfaa7",
   "metadata": {},
   "source": [
    "Compute the frequency of the most used letters in the texts\n",
    "\n",
    "Methods you'll need:\n",
    "- [`pd.Series.str.lower`](https://pandas.pydata.org/docs/reference/api/pandas.Series.str.lower.html)\n",
    "- [`pd.Series.str.split`](https://pandas.pydata.org/docs/reference/api/pandas.Series.str.split.html)\n",
    "- [`pd.Series.explode`](https://pandas.pydata.org/docs/reference/api/pandas.Series.explode.html)\n",
    "- [`pd.Series.value_counts`](https://pandas.pydata.org/docs/reference/api/pandas.Series.value_counts.html)\n",
    "- [`pd.Series.head`](https://pandas.pydata.org/docs/reference/api/pandas.Series.head.html)\n",
    "\n",
    "Bonus: plot an histogram of the values, with log values, using:\n",
    "- [`pd.Series.plot.hist`](https://pandas.pydata.org/docs/reference/api/pandas.Series.plot.bar.html)\n",
    "\n",
    "Is it a Power law distribution ?"
   ]
  },
  {
   "cell_type": "code",
   "execution_count": null,
   "id": "8becf68c",
   "metadata": {},
   "outputs": [],
   "source": [
    "df_most_used_letters = (\n",
    "    (df_master.review_text)\n",
    "    .str.lower()\n",
    "    .str.split(\"\")\n",
    "    .explode()\n",
    "    .loc[lambda x: x != \" \"]\n",
    "    .value_counts()  # LINE TO BE REMOVED FOR STUDENTS\n",
    ")"
   ]
  },
  {
   "cell_type": "code",
   "execution_count": null,
   "id": "8eadea42",
   "metadata": {},
   "outputs": [],
   "source": [
    "(\n",
    "    df_most_used_letters\n",
    "    .head(40)\n",
    "    .plot.bar()  # LINE TO BE REMOVED FOR STUDENTS\n",
    ")"
   ]
  },
  {
   "cell_type": "code",
   "execution_count": null,
   "id": "25a9d19e",
   "metadata": {},
   "outputs": [],
   "source": [
    "(\n",
    "    df_most_used_letters\n",
    "    .head(40)  # LINE TO BE REMOVED FOR STUDENTS\n",
    "    .plot.bar(logy=True)\n",
    ")"
   ]
  },
  {
   "cell_type": "markdown",
   "id": "3f040e82",
   "metadata": {},
   "source": [
    "Compute the frequency of the most used words in the texts\n",
    "\n",
    "Methods you'll need:\n",
    "- [`pd.Series.str.len`](https://pandas.pydata.org/docs/reference/api/pandas.Series.str.len.html)\n",
    "- [`pd.Series.str.split`](https://pandas.pydata.org/docs/reference/api/pandas.Series.str.split.html)\n",
    "- [`pd.Series.explode`](https://pandas.pydata.org/docs/reference/api/pandas.Series.explode.html)\n",
    "- [`pd.Series.value_counts`](https://pandas.pydata.org/docs/reference/api/pandas.Series.value_counts.html)\n",
    "- [`pd.Series.head`](https://pandas.pydata.org/docs/reference/api/pandas.Series.head.html)\n",
    "\n",
    "Bonus: plot an histogram of the values, with log values, using:\n",
    "- [`pd.Series.plot.hist`](https://pandas.pydata.org/docs/reference/api/pandas.Series.plot.bar.html)\n",
    "\n",
    "Is it a Power law distribution ?"
   ]
  },
  {
   "cell_type": "code",
   "execution_count": null,
   "id": "78d1fde9",
   "metadata": {},
   "outputs": [],
   "source": [
    "word_frequencies = (\n",
    "    (df_master.review_text)\n",
    "    .str.lower()\n",
    "    .str.replace(r\"[^a-z\\ ]\", \"\")\n",
    "    .str.replace(r\"\\ +\", \" \")\n",
    "    .str.split(\" \")  # LINE TO BE REMOVED FOR STUDENTS\n",
    "    .explode()\n",
    "    .value_counts()\n",
    ")\n",
    "word_frequencies"
   ]
  },
  {
   "cell_type": "code",
   "execution_count": null,
   "id": "768a1e43",
   "metadata": {},
   "outputs": [],
   "source": [
    "(\n",
    "    word_frequencies\n",
    "    .head(100)\n",
    "    .plot.bar(figsize=(12, 4))  # LINE TO BE REMOVED FOR STUDENTS\n",
    ")"
   ]
  },
  {
   "cell_type": "code",
   "execution_count": null,
   "id": "e92ea87c",
   "metadata": {},
   "outputs": [],
   "source": [
    "(\n",
    "    word_frequencies\n",
    "    .head(100)  # LINE TO BE REMOVED FOR STUDENTS\n",
    "    .plot.bar(logy=True, figsize=(12, 4))\n",
    ")"
   ]
  },
  {
   "cell_type": "code",
   "execution_count": null,
   "id": "8a2a14d0",
   "metadata": {},
   "outputs": [],
   "source": [
    "(\n",
    "    word_frequencies\n",
    "    .head(1000)\n",
    "    .reset_index(drop=True)\n",
    "    .plot(loglog=True, marker=\".\")\n",
    ")"
   ]
  },
  {
   "cell_type": "markdown",
   "id": "22f01441",
   "metadata": {},
   "source": [
    "### Detailed text analysis\n",
    "Word associated to positive & negative reviews"
   ]
  },
  {
   "cell_type": "code",
   "execution_count": null,
   "id": "504c0dff",
   "metadata": {},
   "outputs": [],
   "source": [
    "(\n",
    "    df_master\n",
    "    .head(100000)\n",
    "    .assign(\n",
    "        tokenized_text=lambda df: (df.review_text)\n",
    "        .str.lower()\n",
    "        .str.replace(r\"[^a-z]\", \" \")\n",
    "        .str.replace(r\" +\", \" \")\n",
    "        .str.split(\" \")\n",
    "    )\n",
    "    .loc[:, [\"review_overall\", \"tokenized_text\"]]\n",
    "    .explode(\"tokenized_text\")\n",
    "    .groupby(\"tokenized_text\", as_index=False)\n",
    "    .agg([\"mean\", \"count\"])\n",
    "    .reset_index()\n",
    "    .sort_values(by=(\"review_overall\", \"count\"), ascending=False)\n",
    "    .head(200)\n",
    "    .style.background_gradient(cmap=\"RdYlGn\")\n",
    ")"
   ]
  },
  {
   "cell_type": "markdown",
   "id": "90df70c8",
   "metadata": {},
   "source": [
    "Count the percentage of each rating as a function of the `date` & plot\n",
    "a line diagram. E.g: in 2020, 55% of ratings were 5, 15% or ratings were 4, ...\n",
    "\n",
    "Hint:\n",
    "- [`sns.displot`]()"
   ]
  },
  {
   "cell_type": "code",
   "execution_count": null,
   "id": "3719a525",
   "metadata": {},
   "outputs": [],
   "source": [
    "(\n",
    "    df_master\n",
    "    .pipe(sns.displot, x=\"review_time\", hue=\"review_overall\", multiple=\"fill\", kind=\"kde\")\n",
    ")"
   ]
  },
  {
   "cell_type": "code",
   "execution_count": null,
   "id": "5392cba4",
   "metadata": {},
   "outputs": [],
   "source": []
  }
 ],
 "metadata": {
  "jupytext": {
   "cell_metadata_filter": "-all",
   "main_language": "python",
   "notebook_metadata_filter": "-all"
  }
 },
 "nbformat": 4,
 "nbformat_minor": 5
}
