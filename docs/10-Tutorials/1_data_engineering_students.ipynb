{
 "cells": [
  {
   "cell_type": "markdown",
   "id": "292b04d9",
   "metadata": {},
   "source": [
    "# 🐍 Practice n°1: data engineering (students version)\n",
    "\n",
    "The objective of this session is to learn about the basics of data engineering. You\n",
    "will have to explore the **Ratebeer** dataset using sql and python.\n",
    "\n",
    "\n",
    "This dataset consists of beer reviews from ratebeer. The data span a period of more\n",
    "than 10 years, including all ~3 million reviews up to November 2011. Each review\n",
    "includes ratings in terms of five \"aspects\": appearance, aroma, palate, taste, and\n",
    "overall impression. Reviews include product and user information, followed by each of\n",
    "these five ratings, and a plaintext review. We also have reviews from beeradvocate.\n",
    "\n",
    "*source* [*ratebeer dataset description*](https://snap.stanford.edu/data/web-RateBeer.html)\n",
    "\n",
    "To avoid high compute time, we are going to work with a sample during the session.\n",
    "Also, the data is already cleaned.\n",
    "\n",
    "\n",
    "Here are the main steps of the notebook :\n",
    "\n",
    "1. Preparation\n",
    "1. Data engineering in sql with *duckdb*\n",
    "1. Data engineering in python with *pandas*\n",
    "\n",
    "![](https://mermaid.ink/img/pako:eNqNkD1PwzAQhv-KdVMrJYjEjUKNxAAdmWCj7nC1L62F46SOI2ir_nfsoqIOIOHB96G793ntI6hOEwhobPehtugDe36RjsWjLKFbSnhKkTTzGGhN5KV0kx79bqQwlbDKc2acCQatORDTGHCNA7E8f9Cjel9O0s0Wj9PVt-q5jDt9QhXivMB63ykaBuM2UXxMkQ07yyLCGxqSFiPnjdqSjoYu6W-OWGMsJVv3V4_44ZV_83p0GhPqilX-GwYZtORbNDp-5TGhJYQttSRBxFRTg6MNEqQ7xVEcQ_e6dwpE8CNlMPbRFS0Mbjy2IBq0Q-xGR29d116GYgniCJ8g5jdlzYuac16WxYxXVQZ7ELysbuZ3sVnPbks-43V1yuBwFihOXw_WoMg)\n",
    "\n",
    "<!-- Note for developers: to edit the mermaid diagram, use the mermaid live editor.-->\n",
    "<!-- Modify the url to access the live editor:-->\n",
    "<!-- modify https://mermaid.ink/img/pako:xxxxxx into https://mermaid.live/edit#pako:xxxxxx-->\n",
    "\n",
    "This is a data engineering tutorial in Python/pandas, it assumes you have already some\n",
    "some knowledge of data engineering in SQL.\n",
    "\n",
    "## Preparation\n",
    "\n",
    "### Install & import modules"
   ]
  },
  {
   "cell_type": "code",
   "execution_count": null,
   "id": "87927454",
   "metadata": {},
   "outputs": [],
   "source": [
    "!pip install pyarrow"
   ]
  },
  {
   "cell_type": "code",
   "execution_count": null,
   "id": "e0370fa2",
   "metadata": {},
   "outputs": [],
   "source": [
    "import pandas as pd\n",
    "\n",
    "pd.set_option(\"display.max_columns\", 100)"
   ]
  },
  {
   "cell_type": "markdown",
   "id": "47b4cebd",
   "metadata": {},
   "source": [
    "## Preparation\n",
    "### Get some doc\n",
    "- [pandas doc: main page](https://pandas.pydata.org/docs/index.html)\n",
    "- [pandas doc: API reference](https://pandas.pydata.org/docs/reference/index.html)\n",
    "\n",
    "### Read data\n",
    "\n",
    "The data is in this git repository: [ML-boot-camp/ratebeer.git](https://github.com/ML-boot-camp/ratebeer.git).\n",
    "\n",
    "The data is located in the `ratebeer/data/` folder."
   ]
  },
  {
   "cell_type": "code",
   "execution_count": null,
   "id": "82de1bab",
   "metadata": {},
   "outputs": [],
   "source": [
    "file_url = \"https://github.com/ML-boot-camp/ratebeer/raw/master/data/ratebeer_sample_clean.parquet\""
   ]
  },
  {
   "cell_type": "markdown",
   "id": "bd23b9a8",
   "metadata": {},
   "source": [
    "Load the file `ratebeer_sample_clean.parquet` to extract a pandas DataFrame and\n",
    "assign\n",
    "it the variable `df_raw`.\n",
    "Hint:\n",
    "- [`pd.read_parquet`](https://pandas.pydata.org/docs/reference/api/pandas.read_parquet.html)"
   ]
  },
  {
   "cell_type": "code",
   "execution_count": null,
   "id": "50e79edf",
   "metadata": {},
   "outputs": [],
   "source": [
    "df_raw = pd.read_parquet(file_url)"
   ]
  },
  {
   "cell_type": "markdown",
   "id": "15902519",
   "metadata": {},
   "source": [
    "## General information\n",
    "### Shape\n",
    "Have a first overview of the dataframe size, i.e. number of rows & columns.\n",
    "\n",
    "Methods you'll need:\n",
    "- [`pd.DataFrame.shape`](https://pandas.pydata.org/docs/reference/api/pandas.DataFrame.shape.html)"
   ]
  },
  {
   "cell_type": "code",
   "execution_count": null,
   "id": "ceab26ce",
   "metadata": {},
   "outputs": [],
   "source": [
    "df_raw.shape"
   ]
  },
  {
   "cell_type": "markdown",
   "id": "acea741a",
   "metadata": {},
   "source": [
    "### Overview\n",
    "Get a few information about the content of the dataframe:\n",
    "- number of null values per column\n",
    "- data type of each column\n",
    "- memory usage\n",
    "\n",
    "Methods you'll need:\n",
    "- [`pd.DataFrame.isnull`](https://pandas.pydata.org/docs/reference/api/pandas.DataFrame.isnull.html)\n",
    "- [`pd.DataFrame.sum`](https://pandas.pydata.org/docs/reference/api/pandas.DataFrame.sum.html)\n",
    "- [`pd.DataFrame.dtypes`](https://pandas.pydata.org/docs/reference/api/pandas.DataFrame.dtypes.html)\n",
    "- [`pd.DataFrame.info`](https://pandas.pydata.org/docs/reference/api/pandas.DataFrame.info.html)"
   ]
  },
  {
   "cell_type": "code",
   "execution_count": null,
   "id": "bb02e634",
   "metadata": {},
   "outputs": [],
   "source": [
    "df_raw.isnull().sum()"
   ]
  },
  {
   "cell_type": "code",
   "execution_count": null,
   "id": "88b1ba40",
   "metadata": {},
   "outputs": [],
   "source": [
    "df_raw.dtypes"
   ]
  },
  {
   "cell_type": "code",
   "execution_count": null,
   "id": "d2d41cd5",
   "metadata": {},
   "outputs": [],
   "source": [
    "df_raw.info(memory_usage=\"deep\")  # LINE TO BE REMOVED FOR STUDENTS"
   ]
  },
  {
   "cell_type": "markdown",
   "id": "6d1c3494",
   "metadata": {},
   "source": [
    "### Sample\n",
    "Show a sample of the data\n",
    "\n",
    "Methods you'll need:\n",
    "- [`pd.DataFrame.head`](https://pandas.pydata.org/docs/reference/api/pandas.DataFrame.head.html)\n",
    "- [`pd.DataFrame.sample`](https://pandas.pydata.org/docs/reference/api/pandas.DataFrame.sample.html)"
   ]
  },
  {
   "cell_type": "code",
   "execution_count": null,
   "id": "4c80064a",
   "metadata": {},
   "outputs": [],
   "source": [
    "df_raw.head(5)"
   ]
  },
  {
   "cell_type": "markdown",
   "id": "bec77df8",
   "metadata": {},
   "source": [
    "### Describing statistics\n",
    "Compute statistics to understand the content of each column.\n",
    "\n",
    "Methods you'll need:\n",
    "- [`pd.DataFrame.describe`](https://pandas.pydata.org/docs/reference/api/pandas.DataFrame.describe.html)\n",
    "\n",
    "Bonus: fill NaN values with an empty string `\"\"` for a better readability using:\n",
    "- [`pd.DataFrame.fillna`](https://pandas.pydata.org/docs/reference/api/pandas.DataFrame.fillna.html)"
   ]
  },
  {
   "cell_type": "code",
   "execution_count": null,
   "id": "b8f06df2",
   "metadata": {},
   "outputs": [],
   "source": [
    "df_raw.describe(include=\"all\").fillna(\"\")"
   ]
  },
  {
   "cell_type": "markdown",
   "id": "b76b301d",
   "metadata": {},
   "source": [
    "Sometimes you only need the describing statistics for a single column.\n",
    "Count and display the distinct beer names.\n",
    "\n",
    "Hint:\n",
    "- [`pd.Series.nunique`](https://pandas.pydata.org/pandas-docs/stable/reference/api/pandas.Series.nunique.html?highlight=nunique#pandas.Series.nunique)\n",
    "- [`pd.Series.unique`](https://pandas.pydata.org/pandas-docs/stable/reference/api/pandas.Series.unique.html?highlight=unique#pandas.Series.unique)"
   ]
  },
  {
   "cell_type": "code",
   "execution_count": null,
   "id": "deda44a8",
   "metadata": {},
   "outputs": [],
   "source": [
    "(df_raw.beer).nunique()  # LINE TO BE REMOVED FOR STUDENTS"
   ]
  },
  {
   "cell_type": "code",
   "execution_count": null,
   "id": "a39aff66",
   "metadata": {},
   "outputs": [],
   "source": [
    "(df_raw.beer).unique()  # LINE TO BE REMOVED FOR STUDENTS"
   ]
  },
  {
   "cell_type": "markdown",
   "id": "d27b24bd",
   "metadata": {},
   "source": [
    "Display the number of reviews per beer type.\n",
    "\n",
    "Hint:\n",
    "- [`pd.Series.value_counts`](https://pandas.pydata.org/docs/reference/api/pandas.Series.value_counts.html)"
   ]
  },
  {
   "cell_type": "code",
   "execution_count": null,
   "id": "6240cf2c",
   "metadata": {},
   "outputs": [],
   "source": [
    "(df_raw.type).value_counts()  # LINE TO BE REMOVED FOR STUDENTS"
   ]
  },
  {
   "cell_type": "markdown",
   "id": "1a1bf951",
   "metadata": {},
   "source": [
    "### Select data\n",
    "Create the following dataframe :\n",
    "\n",
    "- Keep only those columns:\n",
    "  - `beer`\n",
    "  - `alcohol`\n",
    "  - `type`\n",
    "  - `user`\n",
    "  - `rating`\n",
    "- Keep only rows for which the `type` column contains the string `\"Stout\"`\n",
    "\n",
    "Hint:\n",
    "- [`pd.DataFrame.loc`](https://pandas.pydata.org/docs/reference/api/pandas.DataFrame.loc.html)\n",
    "- [`pd.Series.str.contains`](https://pandas.pydata.org/docs/reference/api/pandas.Series.str.contains.html)\n"
   ]
  },
  {
   "cell_type": "code",
   "execution_count": null,
   "id": "55dac036",
   "metadata": {},
   "outputs": [],
   "source": [
    "selected_columns = [\n",
    "    \"beer\",\n",
    "    \"alcohol\",\n",
    "    \"type\",\n",
    "    \"user\",\n",
    "    \"rating\",\n",
    "]\n",
    "\n",
    "df_stout = (\n",
    "    (df_raw)\n",
    "    .loc[:, selected_columns]\n",
    "    .loc[lambda df: df.type.str.contains(\"Stout\")]  # LINE TO BE REMOVED FOR STUDENTS\n",
    "    .reset_index(drop=True)\n",
    ")\n",
    "df_stout"
   ]
  },
  {
   "cell_type": "markdown",
   "id": "caf868c3",
   "metadata": {},
   "source": [
    "Compute the number of occurences of each Stout beers."
   ]
  },
  {
   "cell_type": "code",
   "execution_count": null,
   "id": "27ec02e7",
   "metadata": {},
   "outputs": [],
   "source": [
    "df_stout.type.value_counts()"
   ]
  },
  {
   "cell_type": "markdown",
   "id": "5de5902c",
   "metadata": {},
   "source": [
    "## Feature engineering\n",
    "### High cardinality variables\n",
    "- `beer`\n",
    "- `brewery`\n",
    "- `user`\n",
    "\n",
    "All those high cardinality variables can be thought as links of a network. Indeed, a\n",
    "review is an object comprising a beer, a brewery and a user and can be thought as a\n",
    "network link between them.\n",
    "\n",
    "In other words, the review table is the a table describing the links in a network with\n",
    "3 types of nodes: users, beers and breweries.\n",
    "\n",
    "The first property to compute about each node is its \"degree\", which is its number of\n",
    "connections with other nodes. High degree means \"highly connected\".\n",
    "\n",
    "To compute the degree you'll need:\n",
    "\n",
    "- [`pd.Series.value_counts`](https://pandas.pydata.org/docs/reference/api/pandas.Series.value_counts.html)"
   ]
  },
  {
   "cell_type": "code",
   "execution_count": null,
   "id": "22bb6468",
   "metadata": {},
   "outputs": [],
   "source": [
    "df_beer_degree = (\n",
    "    (df_raw.beer)\n",
    "    .value_counts()  # LINE TO BE REMOVED FOR STUDENTS\n",
    "    .rename(\"beer_degree\")\n",
    "    .reset_index()\n",
    ")\n",
    "df_beer_degree"
   ]
  },
  {
   "cell_type": "markdown",
   "id": "0baf171a",
   "metadata": {},
   "source": [
    "Check that this table will merge properly."
   ]
  },
  {
   "cell_type": "code",
   "execution_count": null,
   "id": "0065fbe9",
   "metadata": {},
   "outputs": [],
   "source": [
    "df_tmp = df_raw.merge(\n",
    "    df_beer_degree,\n",
    "    on=\"beer\",\n",
    "    how=\"outer\",\n",
    "    validate=\"m:1\",\n",
    "    indicator=True,\n",
    ")\n",
    "df_tmp._merge.value_counts()"
   ]
  },
  {
   "cell_type": "code",
   "execution_count": null,
   "id": "b420b359",
   "metadata": {},
   "outputs": [],
   "source": [
    "df_brewery_degree = (\n",
    "    (df_raw.brewery)\n",
    "    .value_counts()  # LINE TO BE REMOVED FOR STUDENTS\n",
    "    .rename(\"brewery_degree\")\n",
    "    .reset_index()\n",
    ")\n",
    "df_brewery_degree"
   ]
  },
  {
   "cell_type": "markdown",
   "id": "bc721da4",
   "metadata": {},
   "source": [
    "Check that this table will merge properly."
   ]
  },
  {
   "cell_type": "code",
   "execution_count": null,
   "id": "597c1b80",
   "metadata": {},
   "outputs": [],
   "source": [
    "df_tmp = df_raw.merge(\n",
    "    df_brewery_degree,\n",
    "    on=\"brewery\",\n",
    "    how=\"outer\",\n",
    "    validate=\"m:1\",\n",
    "    indicator=True,\n",
    ")\n",
    "df_tmp._merge.value_counts()"
   ]
  },
  {
   "cell_type": "code",
   "execution_count": null,
   "id": "f397a46c",
   "metadata": {},
   "outputs": [],
   "source": [
    "df_user_degree = (\n",
    "    (df_raw.user)\n",
    "    .value_counts()  # LINE TO BE REMOVED FOR STUDENTS\n",
    "    .rename(\"user_degree\")\n",
    "    .reset_index()\n",
    ")\n",
    "df_user_degree"
   ]
  },
  {
   "cell_type": "markdown",
   "id": "46bd502f",
   "metadata": {},
   "source": [
    "Check that this table will merge properly."
   ]
  },
  {
   "cell_type": "code",
   "execution_count": null,
   "id": "abcfc920",
   "metadata": {},
   "outputs": [],
   "source": [
    "df_tmp = df_raw.merge(\n",
    "    df_user_degree,\n",
    "    on=\"user\",\n",
    "    how=\"outer\",\n",
    "    validate=\"m:1\",\n",
    "    indicator=True,\n",
    ")\n",
    "df_tmp._merge.value_counts()"
   ]
  },
  {
   "cell_type": "markdown",
   "id": "0dc79e88",
   "metadata": {},
   "source": [
    "We'll then merge the 3 dataframe at once."
   ]
  },
  {
   "cell_type": "markdown",
   "id": "ace74cad",
   "metadata": {},
   "source": [
    "### Text length\n",
    "Compute the length of the texts in the dataset.\n",
    "\n",
    "Methods you'll need:\n",
    "- [`pd.Series.str.len`](https://pandas.pydata.org/docs/reference/api/pandas.Series.str.len.html)"
   ]
  },
  {
   "cell_type": "code",
   "execution_count": null,
   "id": "d5069afd",
   "metadata": {},
   "outputs": [],
   "source": [
    "text_length = df_raw.text.str.len()\n",
    "text_length"
   ]
  },
  {
   "cell_type": "markdown",
   "id": "8385e50d",
   "metadata": {},
   "source": [
    "### Convert timestamp"
   ]
  },
  {
   "cell_type": "code",
   "execution_count": null,
   "id": "e5a4c590",
   "metadata": {},
   "outputs": [],
   "source": [
    "date = (df_raw.timestamp).astype(int).apply(pd.Timestamp.fromtimestamp)\n",
    "date"
   ]
  },
  {
   "cell_type": "markdown",
   "id": "d2138f3e",
   "metadata": {},
   "source": [
    "### Binary target\n",
    "The prediction problem is to predict `rating` based on other information. Since\n",
    "`rating` is a numeric variable, it is a regression problem. We'd like also to do a\n",
    "classification so we'll create a binary target based on the `rating`.\n",
    "\n",
    "The `ìs_good` column is True if the rating is above its median value, False otherwise.\n",
    "\n",
    "Note: also convert the binary target to integer (O or 1) for better readability.\n",
    "\n",
    "Methods you'll need:\n",
    "- [`pd.Series.median`](https://pandas.pydata.org/docs/reference/api/pandas.Series.median.html)\n",
    "- [`pd.Series.astype`](https://pandas.pydata.org/docs/reference/api/pandas.Series.astype.html)\n"
   ]
  },
  {
   "cell_type": "code",
   "execution_count": null,
   "id": "a7e65f02",
   "metadata": {},
   "outputs": [],
   "source": [
    "is_good = (df_raw.rating >= df_raw.rating.median()).astype(int)\n",
    "is_good"
   ]
  },
  {
   "cell_type": "markdown",
   "id": "88b9a01f",
   "metadata": {},
   "source": [
    "What are the values of this binary target ?"
   ]
  },
  {
   "cell_type": "code",
   "execution_count": null,
   "id": "3954b073",
   "metadata": {},
   "outputs": [],
   "source": [
    "is_good.value_counts()"
   ]
  },
  {
   "cell_type": "markdown",
   "id": "e0639d44",
   "metadata": {},
   "source": [
    "### Combine dataframes\n",
    "\n",
    "Create a dataframe combining information from:\n",
    "- `df_raw`: the original dataset\n",
    "- `df_beer_degree`: merged on `beer` column\n",
    "- `df_brewery_degree`: merged on `brewery` column\n",
    "- `df_user_degree`: merged on `user` column\n",
    "- `text_length`: added as a new column\n",
    "- `date`: added as a new column\n",
    "- `is_good`: added as a new column\n",
    "\n",
    "Note: `merge` is the equivalent of `JOIN` in SQL, and it changes the order of the rows\n",
    "! So to add our data columns properly in the dataset, we have 2 options:\n",
    "- add the new columns using precomputed arrays, but before merging (not recommended):\n",
    "  e.g: `df_raw.text.str.len()`\n",
    "- add the new columns using a function (recommended):\n",
    "  e.g: `lambda df: df.text.str.len()`\n",
    "\n",
    "Hint:\n",
    "- [`pd.DataFrame.merge`](https://pandas.pydata.org/docs/reference/api/pandas.DataFrame.merge.html)\n",
    "- [`pd.DataFrame.assign`](https://pandas.pydata.org/docs/reference/api/pandas.DataFrame.assign.html)\n",
    "\n",
    "Note: If some columns in both the left & right dataframes have the same name, you'll\n",
    "obtain duplicated columns in the merge result. `pandas` adds the suffixes `_x`\n",
    "and `_y` to avoid creating duplicate columns.\n",
    "Use the `suffixes` argument to specify the suffixes to apply to duplicated\n",
    "columns. In this example, there is no common column name in both dataframes.\n",
    "\n",
    "We made lots of transformation to our datasets: we want to verify that all\n",
    "values in the \"primary keys\" columns are indeed unique. Use the `validate`\n",
    "argument to do so.\n"
   ]
  },
  {
   "cell_type": "code",
   "execution_count": null,
   "id": "66641c36",
   "metadata": {},
   "outputs": [],
   "source": [
    "df_main = (\n",
    "    df_raw.merge(\n",
    "        df_beer_degree,\n",
    "        on=\"beer\",  # LINE TO BE REMOVED FOR STUDENTS\n",
    "        how=\"inner\",\n",
    "        validate=\"m:1\",\n",
    "    )\n",
    "    .merge(\n",
    "        df_brewery_degree,\n",
    "        on=\"brewery\",  # LINE TO BE REMOVED FOR STUDENTS\n",
    "        how='inner',\n",
    "        validate=\"m:1\"\n",
    "    )\n",
    "    .merge(\n",
    "        df_user_degree,\n",
    "        on=\"user\",  # LINE TO BE REMOVED FOR STUDENTS\n",
    "        how='inner',\n",
    "        validate=\"m:1\"\n",
    "    )\n",
    "    .assign(text_length=lambda df: df.text.str.len())\n",
    "    .assign(\n",
    "        date=lambda df: (df.timestamp).astype(int).apply(pd.Timestamp.fromtimestamp)\n",
    "    )\n",
    "    .assign(is_good=lambda df: (df.rating >= df.rating.median()).astype(int))\n",
    ")\n",
    "df_main"
   ]
  },
  {
   "cell_type": "markdown",
   "id": "fad65284",
   "metadata": {},
   "source": [
    "Save the final result to a parquet file named `df_main.parquet`.\n",
    "\n",
    "Hint:\n",
    "- [`pd.DataFrame.to_parquet`](https://pandas.pydata.org/pandas-docs/version/1.1.5/reference/api/pandas.DataFrame.to_parquet.html)"
   ]
  },
  {
   "cell_type": "code",
   "execution_count": null,
   "id": "08537a0b",
   "metadata": {},
   "outputs": [],
   "source": [
    "# Uncomment the line below to save the dataset to disk\n",
    "df_main.to_parquet(\"df_main.parquet\")"
   ]
  },
  {
   "cell_type": "markdown",
   "id": "c3688ce7",
   "metadata": {},
   "source": [
    " GOOD JOB 👍\n",
    "\n",
    " ![](https://c.tenor.com/Cn6yJ4YTMJgAAAAC/good-job-clapping.gif)"
   ]
  }
 ],
 "metadata": {
  "jupytext": {
   "cell_metadata_filter": "-all",
   "main_language": "python",
   "notebook_metadata_filter": "-all"
  }
 },
 "nbformat": 4,
 "nbformat_minor": 5
}
