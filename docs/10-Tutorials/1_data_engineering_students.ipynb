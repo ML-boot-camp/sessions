{
 "cells": [
  {
   "cell_type": "markdown",
   "id": "39d29116",
   "metadata": {},
   "source": [
    "# 🐍 Practice n°1: data engineering (students version)\n",
    "\n",
    "The objective of this session is to learn about the basics of data engineering. You\n",
    "will have to explore the **Ratebeer** dataset using sql and python.\n",
    "\n",
    "\n",
    "This dataset consists of beer reviews from ratebeer. The data span a period of more\n",
    "than 10 years, including all ~3 million reviews up to November 2011. Each review\n",
    "includes ratings in terms of five \"aspects\": appearance, aroma, palate, taste, and\n",
    "overall impression. Reviews include product and user information, followed by each of\n",
    "these five ratings, and a plaintext review. We also have reviews from beeradvocate.\n",
    "\n",
    "*source* [*ratebeer dataset description*](https://snap.stanford.edu/data/web-RateBeer.html)\n",
    "\n",
    "To avoid high compute time, we are going to work with a sample during the session.\n",
    "Also, the data is already cleaned. \n",
    "\n",
    "\n",
    "Here are the main steps of the notebook :\n",
    "\n",
    "1. Preparation\n",
    "1. Data engineering in sql with *duckdb*\n",
    "1. Data engineering in python with *pandas*\n",
    "\n",
    "![](https://mermaid.ink/img/pako:eNqNkD1PwzAQhv-KdVMrJYjEjUKNxAAdmWCj7nC1L62F46SOI2ir_nfsoqIOIOHB96G793ntI6hOEwhobPehtugDe36RjsWjLKFbSnhKkTTzGGhN5KV0kx79bqQwlbDKc2acCQatORDTGHCNA7E8f9Cjel9O0s0Wj9PVt-q5jDt9QhXivMB63ykaBuM2UXxMkQ07yyLCGxqSFiPnjdqSjoYu6W-OWGMsJVv3V4_44ZV_83p0GhPqilX-GwYZtORbNDp-5TGhJYQttSRBxFRTg6MNEqQ7xVEcQ_e6dwpE8CNlMPbRFS0Mbjy2IBq0Q-xGR29d116GYgniCJ8g5jdlzYuac16WxYxXVQZ7ELysbuZ3sVnPbks-43V1yuBwFihOXw_WoMg)"
   ]
  },
  {
   "cell_type": "code",
   "execution_count": null,
   "id": "634d84a2",
   "metadata": {},
   "outputs": [],
   "source": [
    "# Note for developers: to edit the mermaid diagram, use the mermaid live editor. Modify\n",
    "# the url to access the live editor:\n",
    "# https://mermaid.ink/img/pako:xxxxxxxxxx --> https://mermaid.live/edit#pako:xxxxxxxxxx"
   ]
  },
  {
   "cell_type": "markdown",
   "id": "5aff7bca",
   "metadata": {},
   "source": [
    "Similar data engineering steps will be performed in SQL and Python to make you\n",
    "appreciate the difference between these 2 languages. The output of the 2 parts will\n",
    "be the same, an enriched dataset that will be used in the next sessions."
   ]
  },
  {
   "cell_type": "markdown",
   "id": "e0de2d47",
   "metadata": {},
   "source": [
    "## Preparation\n"
   ]
  },
  {
   "cell_type": "markdown",
   "id": "f021deec",
   "metadata": {},
   "source": [
    "### Install & import modules"
   ]
  },
  {
   "cell_type": "code",
   "execution_count": null,
   "id": "c3d10a97",
   "metadata": {},
   "outputs": [],
   "source": [
    "!pip install duckdb\n",
    "!pip install pyarrow"
   ]
  },
  {
   "cell_type": "code",
   "execution_count": null,
   "id": "6dafb7cc",
   "metadata": {
    "lines_to_next_cell": 1
   },
   "outputs": [],
   "source": [
    "import pandas as pd\n",
    "import duckdb\n",
    "\n",
    "pd.set_option(\"display.max_columns\", 100)"
   ]
  },
  {
   "cell_type": "markdown",
   "id": "fd30d17e",
   "metadata": {},
   "source": [
    "### Database configuration"
   ]
  },
  {
   "cell_type": "code",
   "execution_count": null,
   "id": "e3814b3e",
   "metadata": {},
   "outputs": [],
   "source": [
    "def sql(query):\n",
    "    return con.execute(query).df()\n",
    "\n",
    "\n",
    "con = duckdb.connect()\n",
    "con.execute(\"PRAGMA threads=2\")\n",
    "con.execute(\"PRAGMA enable_object_cache\")"
   ]
  },
  {
   "cell_type": "markdown",
   "id": "876d8953",
   "metadata": {},
   "source": [
    "### Read remote dataset"
   ]
  },
  {
   "cell_type": "markdown",
   "id": "b802e63d",
   "metadata": {},
   "source": [
    "The data is in this git repository: [ML-boot-camp/ratebeer.git](https://github.com/ML-boot-camp/ratebeer.git).\n",
    "\n",
    "The data is located in the `ratebeer/data/` folder.\n"
   ]
  },
  {
   "cell_type": "code",
   "execution_count": null,
   "id": "d38956b0",
   "metadata": {},
   "outputs": [],
   "source": [
    "file_url = \"https://github.com/ML-boot-camp/ratebeer/raw/master/data/ratebeer_sample_clean.parquet\""
   ]
  },
  {
   "cell_type": "markdown",
   "id": "55500f1b",
   "metadata": {},
   "source": [
    "## Data engineering in SQL with `duckdb`"
   ]
  },
  {
   "cell_type": "markdown",
   "id": "870d87ca",
   "metadata": {},
   "source": [
    "### Get some doc\n",
    "Open the [w3schools SQL documentation](https://www.w3schools.com/sql/default.asp)."
   ]
  },
  {
   "cell_type": "markdown",
   "id": "d5193770",
   "metadata": {},
   "source": [
    "### Read data"
   ]
  },
  {
   "cell_type": "markdown",
   "id": "45165705",
   "metadata": {},
   "source": [
    "Load the file `ratebeer_sample_clean.parquet` to extract a pandas DataFrame and\n",
    "assign it the variable `table_ratebeer`.  \n",
    "Hint:\n",
    " - [`pd.read_parquet`](https://pandas.pydata.org/docs/reference/api/pandas.read_parquet.html)\n"
   ]
  },
  {
   "cell_type": "code",
   "execution_count": null,
   "id": "7dd6a213",
   "metadata": {},
   "outputs": [],
   "source": [
    "table_ratebeer = pd.read_parquet(file_url)"
   ]
  },
  {
   "cell_type": "markdown",
   "id": "060aed4c",
   "metadata": {},
   "source": [
    "#### Explore data"
   ]
  },
  {
   "cell_type": "markdown",
   "id": "5553fac2",
   "metadata": {},
   "source": [
    " Display a few reviews.\n",
    "\n",
    " Hint:\n",
    " - `SELECT`\n",
    " - `FROM`\n",
    " - `LIMIT`"
   ]
  },
  {
   "cell_type": "code",
   "execution_count": null,
   "id": "fac1f005",
   "metadata": {},
   "outputs": [],
   "source": [
    "query = \"\"\"\n",
    "SELECT *\n",
    "FROM table_ratebeer\n",
    "LIMIT 5\n",
    "\"\"\"\n",
    "sql(query)"
   ]
  },
  {
   "cell_type": "markdown",
   "id": "d8e74191",
   "metadata": {},
   "source": [
    "Display only some columns\n",
    "\n",
    "\n",
    " Hint:\n",
    " - `SELECT` column_name"
   ]
  },
  {
   "cell_type": "code",
   "execution_count": null,
   "id": "b2e861d9",
   "metadata": {},
   "outputs": [],
   "source": [
    "query = \"\"\"\n",
    "SELECT beer_name, review_text, review_overall --LINE TO BE REMOVED FOR STUDENTS\n",
    "FROM table_ratebeer\n",
    "LIMIT 5\n",
    "\"\"\"\n",
    "sql(query)"
   ]
  },
  {
   "cell_type": "markdown",
   "id": "23ca1ef7",
   "metadata": {},
   "source": [
    "Count the total number of reviews\n",
    "\n",
    " Hint:\n",
    " - `COUNT`"
   ]
  },
  {
   "cell_type": "code",
   "execution_count": null,
   "id": "ea3831be",
   "metadata": {},
   "outputs": [],
   "source": [
    "query = \"\"\"\n",
    "SELECT COUNT(*) --LINE TO BE REMOVED FOR STUDENTS\n",
    "FROM table_ratebeer\n",
    "\"\"\"\n",
    "sql(query)"
   ]
  },
  {
   "cell_type": "markdown",
   "id": "122ac10f",
   "metadata": {},
   "source": [
    "Count the distinct number of beer names and renames it as \"Number of beer names\"\n",
    "\n",
    " Hint:\n",
    " - `SELECT`...`AS`\n",
    " - `COUNT`\n",
    " - `DISTINCT`\n"
   ]
  },
  {
   "cell_type": "code",
   "execution_count": null,
   "id": "7ec4fc30",
   "metadata": {},
   "outputs": [],
   "source": [
    "query = \"\"\"\n",
    "SELECT COUNT(DISTINCT beer_name) AS \"Number of beer names\" --LINE TO BE REMOVED FOR STUDENTS\n",
    "FROM table_ratebeer\n",
    "\"\"\"\n",
    "sql(query)"
   ]
  },
  {
   "cell_type": "markdown",
   "id": "645caccc",
   "metadata": {},
   "source": [
    " Display the number of reviews per beer.\n",
    "\n",
    " Hint:\n",
    " - `GROUP BY`\n",
    " - `COUNT`"
   ]
  },
  {
   "cell_type": "code",
   "execution_count": null,
   "id": "9cf5b652",
   "metadata": {},
   "outputs": [],
   "source": [
    "query = \"\"\"\n",
    "SELECT beer_name, COUNT(beer_name)\n",
    "FROM table_ratebeer\n",
    "GROUP BY beer_name\n",
    "\"\"\"\n",
    "sql(query)"
   ]
  },
  {
   "cell_type": "markdown",
   "id": "bee5d519",
   "metadata": {},
   "source": [
    " Display the 10 beers with the most reviews.\n",
    "\n",
    " Hint:\n",
    " - `GROUP BY`\n",
    " - `ORDER BY`...`DESC`"
   ]
  },
  {
   "cell_type": "code",
   "execution_count": null,
   "id": "d1fbb4f4",
   "metadata": {},
   "outputs": [],
   "source": [
    "query = \"\"\"\n",
    "SELECT beer_name, count(beer_name)\n",
    "FROM table_ratebeer\n",
    "GROUP BY beer_name\n",
    "ORDER BY count(beer_name) DESC --LINE TO BE REMOVED FOR STUDENTS\n",
    "LIMIT 10\n",
    "\"\"\"\n",
    "sql(query)"
   ]
  },
  {
   "cell_type": "markdown",
   "id": "fbeb43fc",
   "metadata": {},
   "source": [
    " Select the strongest API beers.\n",
    "\n",
    " Hint:\n",
    "- `WHERE` \n",
    "- `LIKE`\n",
    "- `ROUND`\n",
    "- `AVG`"
   ]
  },
  {
   "cell_type": "code",
   "execution_count": null,
   "id": "4a7c75b0",
   "metadata": {},
   "outputs": [],
   "source": [
    "query = \"\"\"\n",
    "SELECT beer_style, ROUND(AVG(beer_ABV), 2) as avg_ABV\n",
    "FROM table_ratebeer\n",
    "WHERE beer_style LIKE '%IPA%' --LINE TO BE REMOVED FOR STUDENTS\n",
    "GROUP BY beer_style\n",
    "ORDER BY avg_ABV DESC\n",
    "LIMIT 5\n",
    "\"\"\"\n",
    "sql(query)"
   ]
  },
  {
   "cell_type": "markdown",
   "id": "4a2eb9c2",
   "metadata": {},
   "source": [
    "#### Create reviewers table"
   ]
  },
  {
   "cell_type": "markdown",
   "id": "2210f793",
   "metadata": {},
   "source": [
    "Create a `table_reviewers` view which contains for each profile name, his number of\n",
    "reviews and his average rating. \n",
    "\n",
    "Hint:\n",
    " - `CREATE VIEW ... AS`"
   ]
  },
  {
   "cell_type": "code",
   "execution_count": null,
   "id": "9aa239f0",
   "metadata": {},
   "outputs": [],
   "source": [
    "query = \"\"\"\n",
    "CREATE VIEW table_reviewers\n",
    "AS \n",
    "    SELECT \n",
    "        review_profileName AS profile_name,\n",
    "        COUNT(review_profileName) AS number_of_reviews, --LINE TO BE REMOVED FOR STUDENTS\n",
    "        ROUND(AVG(review_overall), 1) AS average_rating\n",
    "\n",
    "    FROM table_ratebeer\n",
    "    GROUP BY review_profileName\n",
    "\"\"\"\n",
    "sql(query)"
   ]
  },
  {
   "cell_type": "markdown",
   "id": "25a622c1",
   "metadata": {},
   "source": [
    " Verify that the view contains what you want."
   ]
  },
  {
   "cell_type": "code",
   "execution_count": null,
   "id": "662cea1d",
   "metadata": {},
   "outputs": [],
   "source": [
    "query = \"\"\"\n",
    "SELECT *\n",
    "FROM table_reviewers\n",
    "\"\"\"\n",
    "sql(query)"
   ]
  },
  {
   "cell_type": "markdown",
   "id": "db5b6b4e",
   "metadata": {},
   "source": [
    "#### Combine tables"
   ]
  },
  {
   "cell_type": "markdown",
   "id": "0f7740ce",
   "metadata": {},
   "source": [
    "Join the `table_reviewers` with the `table_ratebeer`.\n",
    "\n",
    " Hint:\n",
    " - `JOIN`\n",
    " - `INNER`\n",
    " - `ON`"
   ]
  },
  {
   "cell_type": "code",
   "execution_count": null,
   "id": "afa9d95c",
   "metadata": {},
   "outputs": [],
   "source": [
    "query = \"\"\"\n",
    "SELECT \n",
    "  *\n",
    "FROM table_ratebeer\n",
    "INNER JOIN table_reviewers\n",
    "    ON table_ratebeer.review_profileName == table_reviewers.profile_name --LINE TO BE REMOVED FOR STUDENTS\n",
    "LIMIT 5\n",
    "\"\"\"\n",
    "sql(query)"
   ]
  },
  {
   "cell_type": "markdown",
   "id": "8dd60f88",
   "metadata": {},
   "source": [
    "Save that final result to a parquet file named `ratebeer_sample_enriched.parquet`.  \n",
    "First, create a view of the table, name `table_ratebeer_enriched`.\n",
    "\n",
    " Hint:\n",
    " - `COPY`\n",
    " - `TO`\n",
    " - `FORMAT`"
   ]
  },
  {
   "cell_type": "code",
   "execution_count": null,
   "id": "0f568705",
   "metadata": {},
   "outputs": [],
   "source": [
    "query = \"\"\"\n",
    "CREATE VIEW table_ratebeer_enriched\n",
    "AS \n",
    "    SELECT *\n",
    "    FROM table_ratebeer\n",
    "    INNER JOIN table_reviewers\n",
    "        ON table_ratebeer.review_profileName == table_reviewers.profile_name\n",
    "\"\"\"\n",
    "sql(query)"
   ]
  },
  {
   "cell_type": "code",
   "execution_count": null,
   "id": "d3fb80c5",
   "metadata": {},
   "outputs": [],
   "source": [
    "query = \"\"\"\n",
    "SELECT *\n",
    "FROM table_ratebeer_enriched\n",
    "LIMIT 5\n",
    "\"\"\"\n",
    "sql(query)"
   ]
  },
  {
   "cell_type": "code",
   "execution_count": null,
   "id": "6d71a344",
   "metadata": {},
   "outputs": [],
   "source": [
    "# save data (optional)\n",
    "\n",
    "# query = \"\"\"\n",
    "# COPY (SELECT * FROM table_ratebeer_enriched)\n",
    "# TO '/content/ratebeer/data/df_master.parquet' (FORMAT 'parquet')\n",
    "# \"\"\"\n",
    "# sql(query)"
   ]
  },
  {
   "cell_type": "markdown",
   "id": "fa32e5bf",
   "metadata": {},
   "source": [
    " GOOD JOB 👍\n",
    "\n",
    " ![](https://c.tenor.com/Cn6yJ4YTMJgAAAAC/good-job-clapping.gif)"
   ]
  },
  {
   "cell_type": "markdown",
   "id": "af79ad43",
   "metadata": {},
   "source": [
    "## Data engineering in python with `pandas`"
   ]
  },
  {
   "cell_type": "markdown",
   "id": "61156c89",
   "metadata": {},
   "source": [
    "### Get some doc\n",
    "- [pandas doc: main page](https://pandas.pydata.org/docs/index.html)\n",
    "- [pandas doc: API reference](https://pandas.pydata.org/docs/reference/index.html)"
   ]
  },
  {
   "cell_type": "markdown",
   "id": "2e73f912",
   "metadata": {},
   "source": [
    "### Read data"
   ]
  },
  {
   "cell_type": "markdown",
   "id": "3ddaa67d",
   "metadata": {},
   "source": [
    "Load the file `ratebeer_sample_clean.parquet` to extract a pandas DataFrame and\n",
    "assign\n",
    "it the variable `df_ratebeer`.  \n",
    "Hint:\n",
    "- [`pd.read_parquet`](https://pandas.pydata.org/docs/reference/api/pandas.read_parquet.html)"
   ]
  },
  {
   "cell_type": "code",
   "execution_count": null,
   "id": "b57c0fa6",
   "metadata": {},
   "outputs": [],
   "source": [
    "df_ratebeer = pd.read_parquet(file_url)"
   ]
  },
  {
   "cell_type": "markdown",
   "id": "f9d7d9c0",
   "metadata": {},
   "source": [
    "### Explore data"
   ]
  },
  {
   "cell_type": "markdown",
   "id": "7566af9e",
   "metadata": {},
   "source": [
    "Display a few reviews.  \n"
   ]
  },
  {
   "cell_type": "code",
   "execution_count": null,
   "id": "6af482be",
   "metadata": {},
   "outputs": [],
   "source": [
    "df_ratebeer"
   ]
  },
  {
   "cell_type": "markdown",
   "id": "938d0e39",
   "metadata": {},
   "source": [
    "Display the first 10 rows for some columns only : *beer_name*, *review_text* and\n",
    "*review_overall*\n",
    "\n",
    "Hint:\n",
    "- [`pandas.DataFrame.head`](https://pandas.pydata.org/docs/reference/api/pandas.DataFrame.head.html)"
   ]
  },
  {
   "cell_type": "code",
   "execution_count": null,
   "id": "e59bb800",
   "metadata": {},
   "outputs": [],
   "source": [
    "(\n",
    "    df_ratebeer[[\"beer_name\", \"review_text\", \"review_overall\"]]\n",
    "    .head(10)  # LINE TO BE REMOVED FOR STUDENTS\n",
    ")"
   ]
  },
  {
   "cell_type": "markdown",
   "id": "3896a3fd",
   "metadata": {},
   "source": [
    "Display the dimensionality of the dataset.\n",
    "\n",
    " Hint:\n",
    " - [`pandas.DataFrame.shape`](https://pandas.pydata.org/pandas-docs/stable/reference/api/pandas.DataFrame.shape.html)"
   ]
  },
  {
   "cell_type": "code",
   "execution_count": null,
   "id": "577eb195",
   "metadata": {},
   "outputs": [],
   "source": [
    "df_ratebeer.shape  # LINE TO BE REMOVED FOR STUDENTS"
   ]
  },
  {
   "cell_type": "markdown",
   "id": "e68b532b",
   "metadata": {},
   "source": [
    "Check if there are missing values in the data\n",
    "\n",
    "Hint:\n",
    "- [`pd.DataFrame.isnull()`](https://pandas.pydata.org/docs/reference/api/pandas.isnull.html)"
   ]
  },
  {
   "cell_type": "code",
   "execution_count": null,
   "id": "f346c717",
   "metadata": {},
   "outputs": [],
   "source": [
    "df_ratebeer.isnull().sum()"
   ]
  },
  {
   "cell_type": "markdown",
   "id": "afee06d0",
   "metadata": {},
   "source": [
    "Generate descriptive statistics on the numerical variables.\n",
    "\n",
    "Hint:\n",
    "- [`pd.DataFrame.describe`](https://pandas.pydata.org/docs/reference/api/pandas.DataFrame.describe.html)"
   ]
  },
  {
   "cell_type": "code",
   "execution_count": null,
   "id": "41d094c6",
   "metadata": {},
   "outputs": [],
   "source": [
    "(\n",
    "    df_ratebeer.describe()  # LINE TO BE REMOVED FOR STUDENTS\n",
    ")"
   ]
  },
  {
   "cell_type": "markdown",
   "id": "19bddd4f",
   "metadata": {},
   "source": [
    "Display the distinct beer names and then count the distinct number of beer names.\n",
    "\n",
    "\n",
    "Hint:\n",
    "- [`pd.Series.unique`](https://pandas.pydata.org/pandas-docs/stable/reference/api/pandas.Series.unique.html?highlight=unique#pandas.Series.unique)\n",
    "- [`pd.Series.nunique`](https://pandas.pydata.org/pandas-docs/stable/reference/api/pandas.Series.nunique.html?highlight=nunique#pandas.Series.nunique)\n"
   ]
  },
  {
   "cell_type": "code",
   "execution_count": null,
   "id": "8c9b2674",
   "metadata": {},
   "outputs": [],
   "source": [
    "(\n",
    "    df_ratebeer.beer_name\n",
    "    .unique()\n",
    ")"
   ]
  },
  {
   "cell_type": "code",
   "execution_count": null,
   "id": "37bccadd",
   "metadata": {},
   "outputs": [],
   "source": [
    "(\n",
    "    df_ratebeer.beer_name\n",
    "    .nunique()  # LINE TO BE REMOVED FOR STUDENTS\n",
    ")"
   ]
  },
  {
   "cell_type": "markdown",
   "id": "0aa2ee8f",
   "metadata": {},
   "source": [
    "Display the number of reviews per beer.\n",
    "\n",
    "Hint:\n",
    "- [`pd.Series.value_counts`](https://pandas.pydata.org/docs/reference/api/pandas.Series.value_counts.html)"
   ]
  },
  {
   "cell_type": "code",
   "execution_count": null,
   "id": "3b5bca67",
   "metadata": {},
   "outputs": [],
   "source": [
    "(\n",
    "    df_ratebeer\n",
    "    .beer_style\n",
    "    .value_counts()  # LINE TO BE REMOVED FOR STUDENTS\n",
    ")"
   ]
  },
  {
   "cell_type": "markdown",
   "id": "4374c9b0",
   "metadata": {},
   "source": [
    "Create the following dataframe :\n",
    "\n",
    "- Keep only those columns:\n",
    "  - `beer_name`,\n",
    "  - `beer_ABV`,\n",
    "  - `beer_style`,\n",
    "  - `review_profileName`,\n",
    "  - `review_text`,\n",
    "  - `review_appearance`,\n",
    "  - `review_aroma`,\n",
    "  - `review_palate`,\n",
    "  - `review_taste`,\n",
    "  - `review_overall`\n",
    "- Keep only rows for which the `beer_style` column contains the string `\"Stout\"`\n",
    "\n",
    "Hint:\n",
    "- [`pd.DataFrame.loc`](https://pandas.pydata.org/docs/reference/api/pandas.DataFrame.loc.html)\n",
    "- [`pd.Series.str.contains`](https://pandas.pydata.org/docs/reference/api/pandas.Series.str.contains.html)\n"
   ]
  },
  {
   "cell_type": "code",
   "execution_count": null,
   "id": "b666cccf",
   "metadata": {},
   "outputs": [],
   "source": [
    "selected_columns = [\n",
    "    \"beer_name\",\n",
    "    \"beer_ABV\",\n",
    "    \"beer_style\",\n",
    "    \"review_profileName\",\n",
    "    \"review_text\",\n",
    "    \"review_appearance\",\n",
    "    \"review_aroma\",\n",
    "    \"review_palate\",\n",
    "    \"review_taste\",\n",
    "    \"review_overall\",\n",
    "]\n",
    "\n",
    "df_ratebeer_stout = (\n",
    "    (df_ratebeer)\n",
    "    .loc[:, selected_columns]\n",
    "    .loc[lambda df: df.beer_style.str.contains(\"Stout\")]  # LINE TO BE REMOVED FOR STUDENTS\n",
    "    .reset_index(drop=True)\n",
    ")\n",
    "\n",
    "df_ratebeer_stout"
   ]
  },
  {
   "cell_type": "markdown",
   "id": "60c54071",
   "metadata": {},
   "source": [
    "Compute the number of occurences of each Stout beers.\n"
   ]
  },
  {
   "cell_type": "code",
   "execution_count": null,
   "id": "24bc2f85",
   "metadata": {},
   "outputs": [],
   "source": [
    "df_ratebeer_stout.beer_style.value_counts()"
   ]
  },
  {
   "cell_type": "markdown",
   "id": "969d5427",
   "metadata": {},
   "source": [
    "### Create reviewers dataframe\n"
   ]
  },
  {
   "cell_type": "markdown",
   "id": "6904c6cb",
   "metadata": {},
   "source": [
    "Create a `df_reviewers` view which contains for each profile name, his number of reviews and his average rating.\n",
    "\n",
    "Hint:\n",
    "- [`pandas.core.groupby.DataFrameGroupBy.agg`](https://pandas.pydata.org/pandas-docs/version/0.22/generated/pandas.core.groupby.DataFrameGroupBy.agg.html)\n",
    "- [`pandas.DataFrame.round`](https://pandas.pydata.org/docs/reference/api/pandas.DataFrame.round.html?highlight=round#pandas.DataFrame.round)\n",
    "- [`pandas.DataFrame.reset_index`](https://pandas.pydata.org/docs/reference/api/pandas.DataFrame.reset_index.html)"
   ]
  },
  {
   "cell_type": "code",
   "execution_count": null,
   "id": "df7f2a67",
   "metadata": {},
   "outputs": [],
   "source": [
    "df_reviewers = (\n",
    "    df_ratebeer\n",
    "    .groupby(\"review_profileName\")\n",
    "    .agg(\n",
    "        number_of_reviews=('review_profileName', 'count'),\n",
    "        average_rating=('review_overall', 'mean')  # LINE TO BE REMOVED FOR STUDENTS\n",
    "    )\n",
    "    .round(1)\n",
    "    .reset_index()\n",
    ")\n",
    "\n",
    "df_reviewers"
   ]
  },
  {
   "cell_type": "code",
   "execution_count": null,
   "id": "6bc687d4",
   "metadata": {},
   "outputs": [],
   "source": [
    "df_ratebeer.head(2)"
   ]
  },
  {
   "cell_type": "markdown",
   "id": "a7b1a8ae",
   "metadata": {},
   "source": [
    "### Combine dataframes"
   ]
  },
  {
   "cell_type": "markdown",
   "id": "3b87308c",
   "metadata": {},
   "source": [
    "Create a dataframe combining information from the **df_ratebeer** dataset and the **df_reviewers** dataset, using `merge`.\n",
    "\n",
    "Merging is the equivalent of SQL's joining.\n",
    "\n",
    "Hint:\n",
    "- [`pd.DataFrame.merge`](https://pandas.pydata.org/docs/reference/api/pandas.DataFrame.join.html)"
   ]
  },
  {
   "cell_type": "code",
   "execution_count": null,
   "id": "3b5f9217",
   "metadata": {},
   "outputs": [],
   "source": [
    "(\n",
    "    df_ratebeer\n",
    "    .merge(df_reviewers, on=\"review_profileName\", how='inner')  # LINE TO BE REMOVED FOR STUDENTS\n",
    ")"
   ]
  },
  {
   "cell_type": "markdown",
   "id": "02bc0c25",
   "metadata": {},
   "source": [
    "If some columns in both the left & right dataframes have the same name, you'll\n",
    "obtain duplicated columns in the merge result. `pandas` adds the suffixes `_x`\n",
    "and `_y` to avoid creating duplicate columns.\n",
    "Use the `suffixes` argument to specify the suffixes to apply to duplicated\n",
    "columns. In this example, there is no common column name in both dataframes.\n",
    "\n",
    "We made lots of transformation to our datasets: we want to verify that all\n",
    "values in the \"primary keys\" columns are indeed unique. Use the `validate`\n",
    "argument to do so.\n",
    "\n",
    "Generate the `df_master` dataset by merging the 2 dataframes.\n"
   ]
  },
  {
   "cell_type": "code",
   "execution_count": null,
   "id": "1be4b547",
   "metadata": {},
   "outputs": [],
   "source": [
    "df_master = (\n",
    "    df_ratebeer\n",
    "    .merge(\n",
    "        df_reviewers,\n",
    "        on=\"review_profileName\",  # LINE TO BE REMOVED FOR STUDENTS\n",
    "        how='inner',\n",
    "        validate=\"m:1\"\n",
    "    )\n",
    ")\n",
    "\n",
    "df_master.head(3)"
   ]
  },
  {
   "cell_type": "markdown",
   "id": "5fa31366",
   "metadata": {},
   "source": [
    "Save the final result to a parquet file named `df_master.parquet`.\n",
    "\n",
    "Hint:\n",
    "- [`pd.DataFrame.to_parquet`](https://pandas.pydata.org/pandas-docs/version/1.1.5/reference/api/pandas.DataFrame.to_parquet.html)"
   ]
  },
  {
   "cell_type": "code",
   "execution_count": null,
   "id": "eb74bfb4",
   "metadata": {},
   "outputs": [],
   "source": [
    "# Uncomment the line below to save the dataset to disk\n",
    "# df_master.to_parquet(\"df_master.parquet\")"
   ]
  },
  {
   "cell_type": "markdown",
   "id": "c5d01cd1",
   "metadata": {},
   "source": [
    "GOOD JOB 👍\n",
    "\n",
    "![](https://c.tenor.com/PgfvhIRWfrAAAAAd/jim-carrey-yes-sir.gif)"
   ]
  }
 ],
 "metadata": {
  "jupytext": {
   "cell_metadata_filter": "-all",
   "main_language": "python",
   "notebook_metadata_filter": "-all"
  }
 },
 "nbformat": 4,
 "nbformat_minor": 5
}
