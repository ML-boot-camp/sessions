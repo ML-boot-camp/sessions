{
 "cells": [
  {
   "cell_type": "markdown",
   "id": "6452a26f",
   "metadata": {},
   "source": [
    "# 🐍 Practice n°2: exploratory data analysis\n",
    "## Preparation\n",
    "### Install & import modules"
   ]
  },
  {
   "cell_type": "code",
   "execution_count": null,
   "id": "5e3e5803",
   "metadata": {},
   "outputs": [],
   "source": [
    "! pip install seaborn"
   ]
  },
  {
   "cell_type": "code",
   "execution_count": null,
   "id": "6a7b180a",
   "metadata": {},
   "outputs": [],
   "source": [
    "import pandas as pd\n",
    "import seaborn as sns\n",
    "import matplotlib.pyplot as plt"
   ]
  },
  {
   "cell_type": "code",
   "execution_count": null,
   "id": "1e95d298",
   "metadata": {},
   "outputs": [],
   "source": [
    "pd.set_option(\"display.precision\", 2)\n",
    "sns.set_style(\"whitegrid\")\n",
    "sns.set_context(rc={\"patch.linewidth\": 0.15})"
   ]
  },
  {
   "cell_type": "markdown",
   "id": "e8bf9b72",
   "metadata": {},
   "source": [
    "### Read remote dataset\n",
    "\n",
    "The data is in this git repository: [ML-boot-camp/ratebeer.git](https://github.com/ML-boot-camp/ratebeer.git).\n",
    "\n",
    "The data is located in the `ratebeer/data/` folder.\n"
   ]
  },
  {
   "cell_type": "code",
   "execution_count": null,
   "id": "75a183fb",
   "metadata": {},
   "outputs": [],
   "source": [
    "file_url = \"https://github.com/ML-boot-camp/ratebeer/raw/master/data/ratebeer_sample_enriched.parquet\""
   ]
  },
  {
   "cell_type": "code",
   "execution_count": null,
   "id": "f67baec4",
   "metadata": {},
   "outputs": [],
   "source": [
    "df = pd.read_parquet(file_url)"
   ]
  },
  {
   "cell_type": "markdown",
   "id": "5fdef020",
   "metadata": {},
   "source": [
    "## General information\n",
    "### Shape\n",
    "Have a first overview of the dataframe size, i.e. number of rows & columns.\n",
    "\n",
    "Methods you'll need:\n",
    "- [`pd.DataFrame.shape`](https://pandas.pydata.org/docs/reference/api/pandas.DataFrame.shape.html)"
   ]
  },
  {
   "cell_type": "code",
   "execution_count": null,
   "id": "3d05dc1a",
   "metadata": {},
   "outputs": [],
   "source": [
    "df.shape"
   ]
  },
  {
   "cell_type": "markdown",
   "id": "0b1e38a3",
   "metadata": {},
   "source": [
    "### Overview\n",
    "Get a few information about the content of the dataframe:\n",
    "- number of null values per column\n",
    "- data type of each column\n",
    "- memory usage\n",
    "\n",
    "Methods you'll need:\n",
    "- [`pd.DataFrame.info`](https://pandas.pydata.org/docs/reference/api/pandas.DataFrame.info.html)"
   ]
  },
  {
   "cell_type": "code",
   "execution_count": null,
   "id": "1ffbd257",
   "metadata": {},
   "outputs": [],
   "source": [
    "df.info(memory_usage=\"deep\")  # LINE TO BE REMOVED FOR STUDENTS"
   ]
  },
  {
   "cell_type": "markdown",
   "id": "b2938cc3",
   "metadata": {},
   "source": [
    "### Sample\n",
    "Show a sample of the data"
   ]
  },
  {
   "cell_type": "code",
   "execution_count": null,
   "id": "9e444fba",
   "metadata": {},
   "outputs": [],
   "source": [
    "df"
   ]
  },
  {
   "cell_type": "markdown",
   "id": "1bfea414",
   "metadata": {},
   "source": [
    "### Describing statistics\n",
    "Compute statistics to understand the content of each column.\n",
    "\n",
    "Methods you'll need:\n",
    "- [`pd.DataFrame.describe`](https://pandas.pydata.org/docs/reference/api/pandas.DataFrame.describe.html)\n",
    "\n",
    "Bonus: fill NaN values with an empty string `\"\"` for a better readability using:\n",
    "- [`pd.DataFrame.fillna`](https://pandas.pydata.org/docs/reference/api/pandas.DataFrame.fillna.html)"
   ]
  },
  {
   "cell_type": "code",
   "execution_count": null,
   "id": "e2b454b8",
   "metadata": {},
   "outputs": [],
   "source": [
    "df.describe(include=\"all\").fillna(\"\").T"
   ]
  },
  {
   "cell_type": "markdown",
   "id": "03cc44be",
   "metadata": {},
   "source": [
    "## Target\n",
    "\n",
    "The dataset contains 2 possible targets:\n",
    "- `rating`: an ordinal variable, which can be used to define a regression\n",
    "- `is_good`: a binary variable, which can be used to define a classification\n",
    "\n",
    "In the follow-up of the exploratory data analysis, for the sake of clariy, we'll\n",
    "consider only the binary target (classification). Some plots would be different for\n",
    "numeric target."
   ]
  },
  {
   "cell_type": "markdown",
   "id": "c3d44ebf",
   "metadata": {},
   "source": [
    "### `is_good`"
   ]
  },
  {
   "cell_type": "code",
   "execution_count": null,
   "id": "e2ce912a",
   "metadata": {},
   "outputs": [],
   "source": [
    "(\n",
    "    (df.is_good)\n",
    "    .value_counts()\n",
    "    .plot.bar()  # LINE TO BE REMOVED FOR STUDENTS\n",
    ")"
   ]
  },
  {
   "cell_type": "code",
   "execution_count": null,
   "id": "e56b2469",
   "metadata": {},
   "outputs": [],
   "source": [
    "sns.countplot(\n",
    "    df,\n",
    "    x=\"is_good\",  # LINE TO BE REMOVED FOR STUDENTS\n",
    ")"
   ]
  },
  {
   "cell_type": "markdown",
   "id": "d3c8ee09",
   "metadata": {},
   "source": [
    "## Quantitative variables\n",
    "\n",
    "- `alcohol`\n",
    "- `date`\n",
    "- `rating_appearance`\n",
    "- `rating_aroma`\n",
    "- `rating_palate`\n",
    "- `rating_taste`"
   ]
  },
  {
   "cell_type": "markdown",
   "id": "f3e5d736",
   "metadata": {},
   "source": [
    "### `alcohol`\n",
    "#### Distribution"
   ]
  },
  {
   "cell_type": "code",
   "execution_count": null,
   "id": "cdfe4f3e",
   "metadata": {},
   "outputs": [],
   "source": [
    "((df.alcohol).plot.hist(bins=100))  # LINE TO BE REMOVED FOR STUDENTS"
   ]
  },
  {
   "cell_type": "code",
   "execution_count": null,
   "id": "7e90d757",
   "metadata": {},
   "outputs": [],
   "source": [
    "sns.displot(\n",
    "    df,\n",
    "    x=\"alcohol\",\n",
    ")"
   ]
  },
  {
   "cell_type": "code",
   "execution_count": null,
   "id": "bccd0108",
   "metadata": {},
   "outputs": [],
   "source": [
    "sns.displot(df, x=\"alcohol\", hue=\"is_good\")"
   ]
  },
  {
   "cell_type": "code",
   "execution_count": null,
   "id": "e2941a09",
   "metadata": {},
   "outputs": [],
   "source": [
    "sns.displot(\n",
    "    df.loc[lambda df: df.alcohol < 20], x=\"alcohol\", hue=\"is_good\"\n",
    ")"
   ]
  },
  {
   "cell_type": "code",
   "execution_count": null,
   "id": "9d101656",
   "metadata": {},
   "outputs": [],
   "source": [
    "sns.displot(\n",
    "    df.loc[lambda df: df.alcohol < 20],\n",
    "    x=\"alcohol\",\n",
    "    hue=\"is_good\",\n",
    "    kde=True,\n",
    ")"
   ]
  },
  {
   "cell_type": "code",
   "execution_count": null,
   "id": "f06c7c32",
   "metadata": {},
   "outputs": [],
   "source": [
    "sns.displot(\n",
    "    df.loc[lambda df: df.alcohol < 20],\n",
    "    x=\"alcohol\",\n",
    "    hue=\"is_good\",\n",
    "    multiple=\"fill\",\n",
    ")"
   ]
  },
  {
   "cell_type": "markdown",
   "id": "297aad3d",
   "metadata": {},
   "source": [
    "### `date`"
   ]
  },
  {
   "cell_type": "markdown",
   "id": "67160edc",
   "metadata": {},
   "source": [
    "#### Distribution"
   ]
  },
  {
   "cell_type": "code",
   "execution_count": null,
   "id": "2796c6c2",
   "metadata": {},
   "outputs": [],
   "source": [
    "sns.displot(\n",
    "    df,\n",
    "    x=\"date\",  # LINE TO BE REMOVED FOR STUDENTS\n",
    ")"
   ]
  },
  {
   "cell_type": "markdown",
   "id": "f386efad",
   "metadata": {},
   "source": [
    "#### Relationship with the target"
   ]
  },
  {
   "cell_type": "code",
   "execution_count": null,
   "id": "52f24b54",
   "metadata": {},
   "outputs": [],
   "source": [
    "sns.displot(\n",
    "    df,\n",
    "    x=\"date\",  # LINE TO BE REMOVED FOR STUDENTS\n",
    "    hue=\"is_good\",  # LINE TO BE REMOVED FOR STUDENTS\n",
    "    kde=True,\n",
    ")"
   ]
  },
  {
   "cell_type": "code",
   "execution_count": null,
   "id": "f19faa76",
   "metadata": {},
   "outputs": [],
   "source": [
    "sns.displot(\n",
    "    df,\n",
    "    x=\"date\",  # LINE TO BE REMOVED FOR STUDENTS\n",
    "    hue=\"is_good\",  # LINE TO BE REMOVED FOR STUDENTS\n",
    "    multiple=\"fill\",\n",
    ")"
   ]
  },
  {
   "cell_type": "markdown",
   "id": "2989fa0d",
   "metadata": {},
   "source": [
    "### All rating columns: review_* & average_rating\n",
    "#### Distribution"
   ]
  },
  {
   "cell_type": "code",
   "execution_count": null,
   "id": "de5fde85",
   "metadata": {},
   "outputs": [],
   "source": [
    "review_columns = [\n",
    "    \"rating_appearance\",\n",
    "    \"rating_aroma\",\n",
    "    \"rating_palate\",  # LINE TO BE REMOVED FOR STUDENTS\n",
    "    \"rating_taste\",  # LINE TO BE REMOVED FOR STUDENTS\n",
    "]\n",
    "df_rating_long = df.melt(id_vars=\"is_good\", value_vars=review_columns)\n",
    "df_rating_long"
   ]
  },
  {
   "cell_type": "code",
   "execution_count": null,
   "id": "d76ad8ad",
   "metadata": {},
   "outputs": [],
   "source": [
    "sns.displot(\n",
    "    df_rating_long,\n",
    "    x=\"value\",\n",
    "    row=\"variable\",\n",
    "    discrete=True,\n",
    "    height=3,\n",
    "    aspect=2,\n",
    ")"
   ]
  },
  {
   "cell_type": "markdown",
   "id": "e3e70c8a",
   "metadata": {},
   "source": [
    "#### Relationship with the target"
   ]
  },
  {
   "cell_type": "code",
   "execution_count": null,
   "id": "63a41e76",
   "metadata": {},
   "outputs": [],
   "source": [
    "sns.displot(\n",
    "    df_rating_long,\n",
    "    x=\"value\",\n",
    "    hue=\"is_good\",\n",
    "    row=\"variable\",\n",
    "    discrete=True,\n",
    "    height=3,\n",
    "    aspect=2,\n",
    ")"
   ]
  },
  {
   "cell_type": "code",
   "execution_count": null,
   "id": "77e72de9",
   "metadata": {},
   "outputs": [],
   "source": [
    "sns.displot(\n",
    "    df_rating_long,\n",
    "    x=\"value\",\n",
    "    hue=\"is_good\",\n",
    "    row=\"variable\",\n",
    "    discrete=True,\n",
    "    height=3,\n",
    "    aspect=2,\n",
    "    multiple=\"fill\",\n",
    ")"
   ]
  },
  {
   "cell_type": "markdown",
   "id": "8e6e8de2",
   "metadata": {},
   "source": [
    "## Categorical variables\n",
    "- `type`\n",
    "- `beer`"
   ]
  },
  {
   "cell_type": "markdown",
   "id": "50172476",
   "metadata": {},
   "source": [
    "### `type`\n",
    "#### Distribution"
   ]
  },
  {
   "cell_type": "code",
   "execution_count": null,
   "id": "3b668f58",
   "metadata": {},
   "outputs": [],
   "source": [
    "(\n",
    "    (df.type)\n",
    "    .value_counts()\n",
    "    .plot.bar()\n",
    ")"
   ]
  },
  {
   "cell_type": "markdown",
   "id": "9c77236a",
   "metadata": {},
   "source": [
    "#### Relationship with the target"
   ]
  },
  {
   "cell_type": "code",
   "execution_count": null,
   "id": "97fd6112",
   "metadata": {},
   "outputs": [],
   "source": [
    "sns.displot(\n",
    "    df,\n",
    "    x=\"type\",\n",
    "    discrete=True,\n",
    "    hue=\"is_good\",\n",
    ")"
   ]
  },
  {
   "cell_type": "code",
   "execution_count": null,
   "id": "14d4fe17",
   "metadata": {},
   "outputs": [],
   "source": [
    "df_styles = (\n",
    "    (df)\n",
    "    .groupby(\"type\")\n",
    "    .is_good.agg([\"count\", \"mean\"])\n",
    "    .add_prefix(\"review_\")\n",
    "    .reset_index()\n",
    "    .sort_values(by=\"review_mean\", ascending=False)\n",
    "    .reset_index(drop=True)\n",
    "    .assign(\n",
    "        bar_left_position=lambda df: df.review_count.cumsum().shift(1, fill_value=0)\n",
    "    )\n",
    ")\n",
    "df_styles"
   ]
  },
  {
   "cell_type": "code",
   "execution_count": null,
   "id": "5a500455",
   "metadata": {},
   "outputs": [],
   "source": [
    "plt.bar(\n",
    "    x=df_styles.bar_left_position,\n",
    "    height=df_styles.review_mean,\n",
    "    width=df_styles.review_count,\n",
    "    align=\"edge\",\n",
    "    alpha=0.5,\n",
    "    edgecolor=\"k\",\n",
    "    linewidth=0.5,\n",
    ")"
   ]
  },
  {
   "cell_type": "markdown",
   "id": "1d296f05",
   "metadata": {},
   "source": [
    "## High cardinality variables\n",
    "- `beer`\n",
    "- `brewery`\n",
    "- `user`"
   ]
  },
  {
   "cell_type": "markdown",
   "id": "4aace11c",
   "metadata": {},
   "source": [
    "All those high cardinality variables can be thought as links of a network. Indeed, a\n",
    "review is an object comprising a beer, a brewery and a user and can be thought as a\n",
    "network link between them.\n",
    "\n",
    "In other words, the review table is the a table describing the links in a network with\n",
    "3 types of nodes: users, beers and breweries.\n",
    "\n",
    "The first property to compute about each node is its \"degree\", which is its number of\n",
    "connections with other nodes. High degree means \"highly connected\".\n",
    "\n",
    "Analyse the degree of the nodes is a way to answer the following questions:\n",
    "- is an experienced user more severe ?\n",
    "- is a new user more forgiving ?\n",
    "- is a popular beer (or a big brewery) disadvantaged by a \"boreness factor\" ?\n",
    "- is a new beer (a small brewery) benefitting from a \"novelty factor\" ?\n",
    "\n",
    "To compute the degree you'll need:\n",
    "\n",
    "- [`pd.Series.value_counts`](https://pandas.pydata.org/docs/reference/api/pandas.Series.value_counts.html)"
   ]
  },
  {
   "cell_type": "markdown",
   "id": "f2b2d4a5",
   "metadata": {},
   "source": [
    "### `beer` degree\n",
    "#### Distribution"
   ]
  },
  {
   "cell_type": "code",
   "execution_count": null,
   "id": "f312d210",
   "metadata": {},
   "outputs": [],
   "source": [
    "df_beer_degree = df.loc[:, [\"beer\", \"beer_degree\"]].drop_duplicates()\n",
    "df_beer_degree"
   ]
  },
  {
   "cell_type": "code",
   "execution_count": null,
   "id": "280d66dd",
   "metadata": {},
   "outputs": [],
   "source": [
    "(\n",
    "    (df_beer_degree.beer_degree)\n",
    "    .value_counts()\n",
    "    .reset_index()\n",
    "    .plot.scatter(\n",
    "        x=\"beer_degree\", y=\"count\", marker=\".\"  # LINE TO BE REMOVED FOR STUDENTS\n",
    "    )\n",
    ")"
   ]
  },
  {
   "cell_type": "markdown",
   "id": "96d179e6",
   "metadata": {},
   "source": [
    "Many networks are [scale free networks](https://en.wikipedia.org/wiki/Scale-free_network):\n",
    "![](https://www.researchgate.net/profile/Leonardo-Riella/publication/234031137/figure/fig1/AS:282612053626890@1444391372899/Structure-of-networks-A-biological-network-is-not-randomly-wired-similar-number-of.png)\n",
    "\n",
    "Meaning that the node's degree distribution follows a [power law\n",
    "distribution](https://en.wikipedia.org/wiki/Power_law), which is better visualized\n",
    "using a **log-log scale**:\n",
    "![](https://upload.wikimedia.org/wikipedia/commons/3/3b/Degree_distribution_for_a_network_with_150000_vertices_and_mean_degree_%3D_6_created_using_the_Barabasi-Albert_model..png)\n"
   ]
  },
  {
   "cell_type": "code",
   "execution_count": null,
   "id": "eb265f1a",
   "metadata": {
    "lines_to_next_cell": 1
   },
   "outputs": [],
   "source": [
    "(\n",
    "    (df_beer_degree.beer_degree)\n",
    "    .value_counts()\n",
    "    .reset_index()\n",
    "    .plot.scatter(  # LINE TO BE REMOVED FOR STUDENTS\n",
    "        x=\"beer_degree\",  # LINE TO BE REMOVED FOR STUDENTS\n",
    "        y=\"count\",  # LINE TO BE REMOVED FOR STUDENTS\n",
    "        loglog=True,  # LINE TO BE REMOVED FOR STUDENTS\n",
    "        marker=\".\"  # LINE TO BE REMOVED FOR STUDENTS\n",
    "    )  # LINE TO BE REMOVED FOR STUDENTS\n",
    ")"
   ]
  },
  {
   "cell_type": "markdown",
   "id": "566953df",
   "metadata": {},
   "source": [
    "Another way to visualize the power law distribution is to visualize the\n",
    "[rank-frequency plot](https://en.wikipedia.org/wiki/Rank%E2%80%93size_distribution).\n",
    "\n",
    "Instead of plotting the frequency as a function of the value (like in a normal\n",
    "distribution plot), we plot the frequency as a function of its rank. Note: It's always\n",
    "monotonically decreasing.\n",
    "\n",
    "Power law distributions exhibit also a distinctive visual pattern in the\n",
    "rank-frequency plot, known as the [Zipf's law]():\n",
    "![](https://upload.wikimedia.org/wikipedia/commons/d/d9/Zipf-engl-0_English_-_Culpeper_herbal_and_War_of_the_Worlds.svg)\n"
   ]
  },
  {
   "cell_type": "code",
   "execution_count": null,
   "id": "05794cb9",
   "metadata": {},
   "outputs": [],
   "source": [
    "def plot_rank_size(series):\n",
    "    return (\n",
    "        (series)\n",
    "        .rename(\"\")\n",
    "        .value_counts()\n",
    "        .reset_index()\n",
    "        .assign(rank=lambda df: range(1, 1 + df.shape[0]))\n",
    "        .plot(x=\"rank\", y=\"count\", loglog=True, marker=\".\")\n",
    "    )"
   ]
  },
  {
   "cell_type": "code",
   "execution_count": null,
   "id": "522c3a84",
   "metadata": {},
   "outputs": [],
   "source": [
    "plot_rank_size(df_beer_degree.beer_degree)"
   ]
  },
  {
   "cell_type": "markdown",
   "id": "d664bde7",
   "metadata": {},
   "source": [
    "#### Relationship with target"
   ]
  },
  {
   "cell_type": "code",
   "execution_count": null,
   "id": "ee211684",
   "metadata": {},
   "outputs": [],
   "source": [
    "sns.displot(df, x=\"beer_degree\", hue=\"is_good\")"
   ]
  },
  {
   "cell_type": "code",
   "execution_count": null,
   "id": "c681c98a",
   "metadata": {},
   "outputs": [],
   "source": [
    "sns.displot(df, x=\"beer_degree\", hue=\"is_good\", log_scale=True)"
   ]
  },
  {
   "cell_type": "code",
   "execution_count": null,
   "id": "0881197a",
   "metadata": {},
   "outputs": [],
   "source": [
    "sns.displot(\n",
    "    df,\n",
    "    x=\"beer_degree\",\n",
    "    hue=\"is_good\",\n",
    "    log_scale=True,\n",
    "    multiple=\"fill\",\n",
    ")"
   ]
  },
  {
   "cell_type": "markdown",
   "id": "b5296c9a",
   "metadata": {},
   "source": [
    "### `brewery`\n",
    "#### Distribution"
   ]
  },
  {
   "cell_type": "code",
   "execution_count": null,
   "id": "f2e9fc1d",
   "metadata": {},
   "outputs": [],
   "source": [
    "df_brewery_degree = df.loc[:, [\"brewery\", \"brewery_degree\"]].drop_duplicates()\n",
    "df_brewery_degree"
   ]
  },
  {
   "cell_type": "code",
   "execution_count": null,
   "id": "a3df8dc1",
   "metadata": {},
   "outputs": [],
   "source": [
    "(\n",
    "    (df_brewery_degree.brewery_degree)\n",
    "    .value_counts()\n",
    "    .reset_index()\n",
    "    .plot.scatter(  # LINE TO BE REMOVED FOR STUDENTS\n",
    "        x=\"brewery_degree\",  # LINE TO BE REMOVED FOR STUDENTS\n",
    "        y=\"count\",  # LINE TO BE REMOVED FOR STUDENTS\n",
    "        marker=\".\",  # LINE TO BE REMOVED FOR STUDENTS\n",
    "    )  # LINE TO BE REMOVED FOR STUDENTS\n",
    ")"
   ]
  },
  {
   "cell_type": "code",
   "execution_count": null,
   "id": "72349c73",
   "metadata": {},
   "outputs": [],
   "source": [
    "(\n",
    "    (df_brewery_degree.brewery_degree)\n",
    "    .value_counts()\n",
    "    .reset_index()\n",
    "    .plot.scatter(  # LINE TO BE REMOVED FOR STUDENTS\n",
    "        x=\"brewery_degree\",  # LINE TO BE REMOVED FOR STUDENTS\n",
    "        y=\"count\",  # LINE TO BE REMOVED FOR STUDENTS\n",
    "        loglog=True,  # LINE TO BE REMOVED FOR STUDENTS\n",
    "        marker=\".\",  # LINE TO BE REMOVED FOR STUDENTS\n",
    "    )  # LINE TO BE REMOVED FOR STUDENTS\n",
    ")"
   ]
  },
  {
   "cell_type": "code",
   "execution_count": null,
   "id": "a73bc95f",
   "metadata": {},
   "outputs": [],
   "source": [
    "plot_rank_size(df_brewery_degree.brewery_degree)"
   ]
  },
  {
   "cell_type": "markdown",
   "id": "b24b3b73",
   "metadata": {},
   "source": [
    "#### Relationship with target"
   ]
  },
  {
   "cell_type": "code",
   "execution_count": null,
   "id": "db5f7c11",
   "metadata": {},
   "outputs": [],
   "source": [
    "sns.displot(df, x=\"brewery_degree\", hue=\"is_good\")"
   ]
  },
  {
   "cell_type": "code",
   "execution_count": null,
   "id": "85bf5d74",
   "metadata": {},
   "outputs": [],
   "source": [
    "sns.displot(\n",
    "    df, x=\"brewery_degree\", hue=\"is_good\", log_scale=True\n",
    ")"
   ]
  },
  {
   "cell_type": "code",
   "execution_count": null,
   "id": "e35d110b",
   "metadata": {},
   "outputs": [],
   "source": [
    "sns.displot(\n",
    "    df,\n",
    "    x=\"brewery_degree\",\n",
    "    hue=\"is_good\",\n",
    "    log_scale=True,\n",
    "    multiple=\"fill\",\n",
    ")"
   ]
  },
  {
   "cell_type": "markdown",
   "id": "7ed28158",
   "metadata": {},
   "source": [
    "### `user`\n",
    "#### Distribution"
   ]
  },
  {
   "cell_type": "code",
   "execution_count": null,
   "id": "693d56b0",
   "metadata": {},
   "outputs": [],
   "source": [
    "df_user_degree = df.loc[:, [\"user\", \"user_degree\"]].drop_duplicates()\n",
    "df_user_degree"
   ]
  },
  {
   "cell_type": "code",
   "execution_count": null,
   "id": "01d780ce",
   "metadata": {},
   "outputs": [],
   "source": [
    "(\n",
    "    (df_user_degree.user_degree)\n",
    "    .value_counts()\n",
    "    .reset_index()\n",
    "    .plot.scatter(  # LINE TO BE REMOVED FOR STUDENTS\n",
    "        x=\"user_degree\",  # LINE TO BE REMOVED FOR STUDENTS\n",
    "        y=\"count\",  # LINE TO BE REMOVED FOR STUDENTS\n",
    "        marker=\".\",  # LINE TO BE REMOVED FOR STUDENTS\n",
    "    )  # LINE TO BE REMOVED FOR STUDENTS\n",
    ")"
   ]
  },
  {
   "cell_type": "code",
   "execution_count": null,
   "id": "05f10e0b",
   "metadata": {},
   "outputs": [],
   "source": [
    "(\n",
    "    (df_user_degree.user_degree)\n",
    "    .value_counts()\n",
    "    .reset_index()\n",
    "    .plot.scatter(  # LINE TO BE REMOVED FOR STUDENTS\n",
    "        x=\"user_degree\",  # LINE TO BE REMOVED FOR STUDENTS\n",
    "        y=\"count\",  # LINE TO BE REMOVED FOR STUDENTS\n",
    "        loglog=True,  # LINE TO BE REMOVED FOR STUDENTS\n",
    "        marker=\".\",  # LINE TO BE REMOVED FOR STUDENTS\n",
    "    )  # LINE TO BE REMOVED FOR STUDENTS\n",
    ")"
   ]
  },
  {
   "cell_type": "code",
   "execution_count": null,
   "id": "f96f7f21",
   "metadata": {},
   "outputs": [],
   "source": [
    "plot_rank_size(df_user_degree.user_degree)"
   ]
  },
  {
   "cell_type": "markdown",
   "id": "395249fd",
   "metadata": {},
   "source": [
    "#### Relationship with target"
   ]
  },
  {
   "cell_type": "code",
   "execution_count": null,
   "id": "2afef55a",
   "metadata": {},
   "outputs": [],
   "source": [
    "sns.displot(\n",
    "    df, x=\"user_degree\", hue=\"is_good\"\n",
    ")"
   ]
  },
  {
   "cell_type": "code",
   "execution_count": null,
   "id": "102a203a",
   "metadata": {},
   "outputs": [],
   "source": [
    "sns.displot(\n",
    "    df,\n",
    "    x=\"user_degree\",\n",
    "    hue=\"is_good\",\n",
    "    log_scale=True,\n",
    ")"
   ]
  },
  {
   "cell_type": "code",
   "execution_count": null,
   "id": "3239d27f",
   "metadata": {},
   "outputs": [],
   "source": [
    "sns.displot(\n",
    "    df,\n",
    "    x=\"user_degree\",\n",
    "    hue=\"is_good\",\n",
    "    log_scale=True,\n",
    "    multiple=\"fill\",\n",
    ")"
   ]
  },
  {
   "cell_type": "markdown",
   "id": "c0390582",
   "metadata": {},
   "source": [
    "## Text variable\n",
    "Using the [`pd.Series.str`](https://pandas.pydata.org/docs/reference/api/pandas.Series.str.html) API"
   ]
  },
  {
   "cell_type": "markdown",
   "id": "c4fefc1d",
   "metadata": {},
   "source": [
    "### Text length\n",
    "#### Distribution\n",
    "\n",
    "Is it a Power law distribution ?"
   ]
  },
  {
   "cell_type": "code",
   "execution_count": null,
   "id": "a0a13125",
   "metadata": {},
   "outputs": [],
   "source": [
    "(df.text_length).plot.hist(bins=200)  # LINE TO BE REMOVED FOR STUDENTS"
   ]
  },
  {
   "cell_type": "code",
   "execution_count": null,
   "id": "56dc69d7",
   "metadata": {},
   "outputs": [],
   "source": [
    "((df.text_length).plot.hist(bins=200, logy=True))"
   ]
  },
  {
   "cell_type": "markdown",
   "id": "ad487e47",
   "metadata": {},
   "source": [
    "#### Relationship with the target"
   ]
  },
  {
   "cell_type": "code",
   "execution_count": null,
   "id": "e488753a",
   "metadata": {},
   "outputs": [],
   "source": [
    "sns.displot(df, x=\"text_length\")"
   ]
  },
  {
   "cell_type": "code",
   "execution_count": null,
   "id": "7fa342e2",
   "metadata": {},
   "outputs": [],
   "source": [
    "sns.displot(\n",
    "    df,\n",
    "    x=\"text_length\",\n",
    "    hue=\"is_good\",\n",
    ")"
   ]
  },
  {
   "cell_type": "code",
   "execution_count": null,
   "id": "cc452637",
   "metadata": {},
   "outputs": [],
   "source": [
    "sns.displot(\n",
    "    df.loc[lambda df: df.text_length < 1500],\n",
    "    x=\"text_length\",\n",
    "    hue=\"is_good\",\n",
    ")"
   ]
  },
  {
   "cell_type": "code",
   "execution_count": null,
   "id": "f9cb49a9",
   "metadata": {},
   "outputs": [],
   "source": [
    "sns.displot(\n",
    "    df.loc[lambda df: df.text_length < 1500],\n",
    "    x=\"text_length\",\n",
    "    hue=\"is_good\",\n",
    "    multiple=\"fill\",\n",
    ")"
   ]
  },
  {
   "cell_type": "markdown",
   "id": "e085e791",
   "metadata": {},
   "source": [
    "### Words associated to positive & negative reviews (optional)"
   ]
  },
  {
   "cell_type": "code",
   "execution_count": null,
   "id": "d18c0fae",
   "metadata": {},
   "outputs": [],
   "source": [
    "(\n",
    "    (df)\n",
    "    .head(100000)\n",
    "    .assign(\n",
    "        tokenized_text=lambda df: (df.text)\n",
    "        .str.lower()\n",
    "        .str.replace(r\"[^a-z]\", \" \")\n",
    "        .str.replace(r\" +\", \" \")\n",
    "        .str.split(\" \")\n",
    "    )\n",
    "    .loc[:, [\"rating\", \"tokenized_text\"]]\n",
    "    .explode(\"tokenized_text\")\n",
    "    .loc[lambda df: df.tokenized_text != \"\"]\n",
    "    .groupby(\"tokenized_text\", as_index=False)\n",
    "    .agg([\"mean\", \"count\"])\n",
    "    .reset_index()\n",
    "    .sort_values(by=(\"rating\", \"count\"), ascending=False)\n",
    "    .head(200)\n",
    "    .style.background_gradient(cmap=\"RdYlGn\")\n",
    ")"
   ]
  },
  {
   "cell_type": "markdown",
   "id": "5745dcf0",
   "metadata": {},
   "source": [
    "### Word frequencies (optional)\n",
    "Compute the frequency of the most used words in the texts\n",
    "\n",
    "Methods you'll need:\n",
    "- [`pd.Series.str.len`](https://pandas.pydata.org/docs/reference/api/pandas.Series.str.len.html)\n",
    "- [`pd.Series.str.split`](https://pandas.pydata.org/docs/reference/api/pandas.Series.str.split.html)\n",
    "- [`pd.Series.explode`](https://pandas.pydata.org/docs/reference/api/pandas.Series.explode.html)\n",
    "- [`pd.Series.value_counts`](https://pandas.pydata.org/docs/reference/api/pandas.Series.value_counts.html)\n",
    "- [`pd.Series.head`](https://pandas.pydata.org/docs/reference/api/pandas.Series.head.html)\n",
    "\n",
    "Bonus: plot an histogram of the values, with log values, using:\n",
    "- [`pd.Series.plot.hist`](https://pandas.pydata.org/docs/reference/api/pandas.Series.plot.bar.html)\n",
    "\n",
    "Is it a Power law distribution ?"
   ]
  },
  {
   "cell_type": "code",
   "execution_count": null,
   "id": "f7c8795d",
   "metadata": {},
   "outputs": [],
   "source": [
    "df_word_frequencies = (\n",
    "    (df.text)\n",
    "    .str.lower()\n",
    "    .str.replace(r\"[^a-z\\ ]\", \"\")\n",
    "    .str.replace(r\"\\ +\", \" \")\n",
    "    .str.split(\" \")  # LINE TO BE REMOVED FOR STUDENTS\n",
    "    .explode()\n",
    "    .loc[lambda x: x != \"\"]\n",
    "    .value_counts(normalize=True)\n",
    "    .rename(\"word_frequency\")\n",
    "    .rename_axis(index=\"word\")\n",
    "    .reset_index()\n",
    "    .assign(rank=lambda df: range(1, 1 + df.shape[0]))\n",
    ")\n",
    "df_word_frequencies"
   ]
  },
  {
   "cell_type": "code",
   "execution_count": null,
   "id": "29495a39",
   "metadata": {},
   "outputs": [],
   "source": [
    "df_word_frequencies.head(10000).plot(x=\"rank\", y=\"word_frequency\", marker=\".\")"
   ]
  },
  {
   "cell_type": "code",
   "execution_count": null,
   "id": "f0a6b4b5",
   "metadata": {},
   "outputs": [],
   "source": [
    "df_word_frequencies.head(10000).plot(\n",
    "    x=\"rank\", y=\"word_frequency\", loglog=True, marker=\".\"\n",
    ")"
   ]
  },
  {
   "cell_type": "markdown",
   "id": "af8f5212",
   "metadata": {},
   "source": [
    "## And if it's a regression ?\n",
    "We show those plot examples to explain what would be an exploratory data analysis for\n",
    "a regression problem.\n",
    "\n",
    "### Continuous variable"
   ]
  },
  {
   "cell_type": "code",
   "execution_count": null,
   "id": "9a171282",
   "metadata": {},
   "outputs": [],
   "source": [
    "sns.displot(\n",
    "    df.loc[lambda df: df.alcohol < 20],\n",
    "    x=\"alcohol\",\n",
    "    hue=\"rating\",\n",
    "    multiple=\"fill\",\n",
    "    palette=\"RdYlGn\",\n",
    "    bins=20,\n",
    ")"
   ]
  },
  {
   "cell_type": "code",
   "execution_count": null,
   "id": "049d6a86",
   "metadata": {},
   "outputs": [],
   "source": [
    "sns.displot(\n",
    "    df.loc[lambda df: df.alcohol < 20],\n",
    "    x=\"alcohol\",\n",
    "    y=\"rating\",\n",
    "    bins=20,\n",
    ")"
   ]
  },
  {
   "cell_type": "markdown",
   "id": "30eeee0d",
   "metadata": {},
   "source": [
    "### Categorical variable"
   ]
  },
  {
   "cell_type": "code",
   "execution_count": null,
   "id": "1743c410",
   "metadata": {},
   "outputs": [],
   "source": [
    "sns.displot(\n",
    "    df,\n",
    "    x=\"rating_appearance\",\n",
    "    discrete=True,\n",
    "    hue=\"rating\",\n",
    "    multiple=\"stack\",\n",
    "    palette=\"RdYlGn\",\n",
    ")"
   ]
  },
  {
   "cell_type": "code",
   "execution_count": null,
   "id": "768ffc32",
   "metadata": {},
   "outputs": [],
   "source": [
    "sns.displot(\n",
    "    df,\n",
    "    x=\"rating_appearance\",\n",
    "    discrete=True,\n",
    "    hue=\"rating\",\n",
    "    multiple=\"fill\",\n",
    "    palette=\"RdYlGn\",\n",
    ")"
   ]
  },
  {
   "cell_type": "code",
   "execution_count": null,
   "id": "69e4d67d",
   "metadata": {},
   "outputs": [],
   "source": [
    "sns.violinplot(\n",
    "    df,\n",
    "    x=\"rating_appearance\",\n",
    "    y=\"rating\",\n",
    ")"
   ]
  }
 ],
 "metadata": {
  "jupytext": {
   "cell_metadata_filter": "-all",
   "main_language": "python",
   "notebook_metadata_filter": "-all"
  }
 },
 "nbformat": 4,
 "nbformat_minor": 5
}
