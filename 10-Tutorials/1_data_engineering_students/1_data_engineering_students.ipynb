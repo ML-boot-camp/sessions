{
 "cells": [
  {
   "cell_type": "markdown",
   "id": "1d279338",
   "metadata": {},
   "source": [
    "# 🐍 Practice n°1: data engineering (students version)\n",
    "\n",
    "The objective of this session is to learn about the basics of data engineering. You\n",
    "will have to explore the **Ratebeer** dataset using sql and python.\n",
    "\n",
    "\n",
    "This dataset consists of beer reviews from ratebeer. The data span a period of more\n",
    "than 10 years, including all ~3 million reviews up to November 2011. Each review\n",
    "includes ratings in terms of five \"aspects\": appearance, aroma, palate, taste, and\n",
    "overall impression. Reviews include product and user information, followed by each of\n",
    "these five ratings, and a plaintext review. We also have reviews from beeradvocate.\n",
    "\n",
    "*source* [*ratebeer dataset description*](https://snap.stanford.edu/data/web-RateBeer.html)\n",
    "\n",
    "To avoid high compute time, we are going to work with a sample during the session.\n",
    "Also, the data is already cleaned.\n",
    "\n",
    "\n",
    "Here are the main steps of the notebook :\n",
    "\n",
    "1. Preparation\n",
    "1. Data engineering in sql with *duckdb*\n",
    "1. Data engineering in python with *pandas*\n",
    "\n",
    "![](https://mermaid.ink/img/pako:eNqNkD1PwzAQhv-KdVMrJYjEjUKNxAAdmWCj7nC1L62F46SOI2ir_nfsoqIOIOHB96G793ntI6hOEwhobPehtugDe36RjsWjLKFbSnhKkTTzGGhN5KV0kx79bqQwlbDKc2acCQatORDTGHCNA7E8f9Cjel9O0s0Wj9PVt-q5jDt9QhXivMB63ykaBuM2UXxMkQ07yyLCGxqSFiPnjdqSjoYu6W-OWGMsJVv3V4_44ZV_83p0GhPqilX-GwYZtORbNDp-5TGhJYQttSRBxFRTg6MNEqQ7xVEcQ_e6dwpE8CNlMPbRFS0Mbjy2IBq0Q-xGR29d116GYgniCJ8g5jdlzYuac16WxYxXVQZ7ELysbuZ3sVnPbks-43V1yuBwFihOXw_WoMg)\n",
    "\n",
    "<!-- Note for developers: to edit the mermaid diagram, use the mermaid live editor.-->\n",
    "<!-- Modify the url to access the live editor:-->\n",
    "<!-- modify https://mermaid.ink/img/pako:xxxxxx into https://mermaid.live/edit#pako:xxxxxx-->\n",
    "\n",
    "This is a data engineering tutorial in Python/pandas, it assumes you have already some\n",
    "some knowledge of data engineering in SQL.\n",
    "\n",
    "## Preparation\n",
    "\n",
    "### Install & import modules"
   ]
  },
  {
   "cell_type": "code",
   "execution_count": null,
   "id": "2ec2c239",
   "metadata": {},
   "outputs": [],
   "source": [
    "!pip install pyarrow"
   ]
  },
  {
   "cell_type": "code",
   "execution_count": null,
   "id": "cb47bb28",
   "metadata": {},
   "outputs": [],
   "source": [
    "import pandas as pd\n",
    "\n",
    "pd.set_option(\"display.max_columns\", 100)"
   ]
  },
  {
   "cell_type": "markdown",
   "id": "45a84d99",
   "metadata": {},
   "source": [
    "## Preparation\n",
    "### Get some doc\n",
    "- [pandas doc: main page](https://pandas.pydata.org/docs/index.html)\n",
    "- [pandas doc: API reference](https://pandas.pydata.org/docs/reference/index.html)\n",
    "\n",
    "### Read data\n",
    "\n",
    "The data is in this git repository: [ML-boot-camp/ratebeer.git](https://github.com/ML-boot-camp/ratebeer.git).\n",
    "\n",
    "The data is located in the `ratebeer/data/` folder."
   ]
  },
  {
   "cell_type": "code",
   "execution_count": null,
   "id": "e3979a88",
   "metadata": {},
   "outputs": [],
   "source": [
    "file_url = \"https://github.com/ML-boot-camp/ratebeer/raw/master/data/ratebeer_sample_clean.parquet\""
   ]
  },
  {
   "cell_type": "markdown",
   "id": "8b5faebf",
   "metadata": {},
   "source": [
    "Load the file `ratebeer_sample_clean.parquet` to extract a pandas DataFrame and\n",
    "assign\n",
    "it the variable `df_raw`.\n",
    "Hint:\n",
    "- [`pd.read_parquet`](https://pandas.pydata.org/docs/reference/api/pandas.read_parquet.html)"
   ]
  },
  {
   "cell_type": "code",
   "execution_count": null,
   "id": "34798b61",
   "metadata": {},
   "outputs": [],
   "source": [
    "df_raw = pd.read_parquet(file_url)"
   ]
  },
  {
   "cell_type": "markdown",
   "id": "8d46ab3a",
   "metadata": {},
   "source": [
    "## General information\n",
    "### Shape\n",
    "Have a first overview of the dataframe size, i.e. number of rows & columns.\n",
    "\n",
    "Methods you'll need:\n",
    "- [`pd.DataFrame.shape`](https://pandas.pydata.org/docs/reference/api/pandas.DataFrame.shape.html)"
   ]
  },
  {
   "cell_type": "code",
   "execution_count": null,
   "id": "c9d920a8",
   "metadata": {},
   "outputs": [],
   "source": [
    "df_raw.shape"
   ]
  },
  {
   "cell_type": "markdown",
   "id": "fb8ff267",
   "metadata": {},
   "source": [
    "### Overview\n",
    "Get a few information about the content of the dataframe:\n",
    "- number of null values per column\n",
    "- data type of each column\n",
    "- memory usage\n",
    "\n",
    "Methods you'll need:\n",
    "- [`pd.DataFrame.isnull`](https://pandas.pydata.org/docs/reference/api/pandas.DataFrame.isnull.html)\n",
    "- [`pd.DataFrame.sum`](https://pandas.pydata.org/docs/reference/api/pandas.DataFrame.sum.html)\n",
    "- [`pd.DataFrame.dtypes`](https://pandas.pydata.org/docs/reference/api/pandas.DataFrame.dtypes.html)\n",
    "- [`pd.DataFrame.info`](https://pandas.pydata.org/docs/reference/api/pandas.DataFrame.info.html)"
   ]
  },
  {
   "cell_type": "code",
   "execution_count": null,
   "id": "adf9025f",
   "metadata": {},
   "outputs": [],
   "source": [
    "df_raw.isnull().sum()"
   ]
  },
  {
   "cell_type": "code",
   "execution_count": null,
   "id": "13122fb2",
   "metadata": {},
   "outputs": [],
   "source": [
    "df_raw.dtypes"
   ]
  },
  {
   "cell_type": "code",
   "execution_count": null,
   "id": "d222dfcb",
   "metadata": {},
   "outputs": [],
   "source": [
    "*** FILL THE MISSING LINE ***"
   ]
  },
  {
   "cell_type": "markdown",
   "id": "7950d30c",
   "metadata": {},
   "source": [
    "### Sample\n",
    "Show a sample of the data\n",
    "\n",
    "Methods you'll need:\n",
    "- [`pd.DataFrame.head`](https://pandas.pydata.org/docs/reference/api/pandas.DataFrame.head.html)\n",
    "- [`pd.DataFrame.sample`](https://pandas.pydata.org/docs/reference/api/pandas.DataFrame.sample.html)"
   ]
  },
  {
   "cell_type": "code",
   "execution_count": null,
   "id": "e0444d80",
   "metadata": {},
   "outputs": [],
   "source": [
    "df_raw.head(5)"
   ]
  },
  {
   "cell_type": "markdown",
   "id": "35dd63dc",
   "metadata": {},
   "source": [
    "### Describing statistics\n",
    "Compute statistics to understand the content of each column.\n",
    "\n",
    "Methods you'll need:\n",
    "- [`pd.DataFrame.describe`](https://pandas.pydata.org/docs/reference/api/pandas.DataFrame.describe.html)\n",
    "\n",
    "Bonus: fill NaN values with an empty string `\"\"` for a better readability using:\n",
    "- [`pd.DataFrame.fillna`](https://pandas.pydata.org/docs/reference/api/pandas.DataFrame.fillna.html)"
   ]
  },
  {
   "cell_type": "code",
   "execution_count": null,
   "id": "79b5f05b",
   "metadata": {},
   "outputs": [],
   "source": [
    "df_raw.describe(include=\"all\").fillna(\"\")"
   ]
  },
  {
   "cell_type": "markdown",
   "id": "c6a3f624",
   "metadata": {},
   "source": [
    "Sometimes you only need the describing statistics for a single column.\n",
    "Count and display the distinct beer names.\n",
    "\n",
    "Hint:\n",
    "- [`pd.Series.nunique`](https://pandas.pydata.org/pandas-docs/stable/reference/api/pandas.Series.nunique.html?highlight=nunique#pandas.Series.nunique)\n",
    "- [`pd.Series.unique`](https://pandas.pydata.org/pandas-docs/stable/reference/api/pandas.Series.unique.html?highlight=unique#pandas.Series.unique)"
   ]
  },
  {
   "cell_type": "code",
   "execution_count": null,
   "id": "cea93c45",
   "metadata": {},
   "outputs": [],
   "source": [
    "*** FILL THE MISSING LINE ***"
   ]
  },
  {
   "cell_type": "code",
   "execution_count": null,
   "id": "b44603f6",
   "metadata": {},
   "outputs": [],
   "source": [
    "*** FILL THE MISSING LINE ***"
   ]
  },
  {
   "cell_type": "markdown",
   "id": "acc46079",
   "metadata": {},
   "source": [
    "Display the number of reviews per beer type.\n",
    "\n",
    "Hint:\n",
    "- [`pd.Series.value_counts`](https://pandas.pydata.org/docs/reference/api/pandas.Series.value_counts.html)"
   ]
  },
  {
   "cell_type": "code",
   "execution_count": null,
   "id": "e9e32de3",
   "metadata": {},
   "outputs": [],
   "source": [
    "*** FILL THE MISSING LINE ***"
   ]
  },
  {
   "cell_type": "markdown",
   "id": "e7640a3e",
   "metadata": {},
   "source": [
    "### Select data\n",
    "Create the following dataframe :\n",
    "\n",
    "- Keep only those columns:\n",
    "  - `beer`\n",
    "  - `alcohol`\n",
    "  - `type`\n",
    "  - `user`\n",
    "  - `rating`\n",
    "- Keep only rows for which the `type` column contains the string `\"Stout\"`\n",
    "\n",
    "Hint:\n",
    "- [`pd.DataFrame.loc`](https://pandas.pydata.org/docs/reference/api/pandas.DataFrame.loc.html)\n",
    "- [`pd.Series.str.contains`](https://pandas.pydata.org/docs/reference/api/pandas.Series.str.contains.html)\n"
   ]
  },
  {
   "cell_type": "code",
   "execution_count": null,
   "id": "cfa88fbf",
   "metadata": {},
   "outputs": [],
   "source": [
    "selected_columns = [\n",
    "    \"beer\",\n",
    "    \"alcohol\",\n",
    "    \"type\",\n",
    "    \"user\",\n",
    "    \"rating\",\n",
    "]\n",
    "\n",
    "df_stout = (\n",
    "    (df_raw)\n",
    "    .loc[:, selected_columns]\n",
    "    *** FILL THE MISSING LINE ***\n",
    "    .reset_index(drop=True)\n",
    ")\n",
    "df_stout"
   ]
  },
  {
   "cell_type": "markdown",
   "id": "f34b4a88",
   "metadata": {},
   "source": [
    "Compute the number of occurences of each Stout beers."
   ]
  },
  {
   "cell_type": "code",
   "execution_count": null,
   "id": "f50a241c",
   "metadata": {},
   "outputs": [],
   "source": [
    "df_stout.type.value_counts()"
   ]
  },
  {
   "cell_type": "markdown",
   "id": "67e413dc",
   "metadata": {},
   "source": [
    "## Feature engineering\n",
    "### High cardinality variables\n",
    "- `beer`\n",
    "- `brewery`\n",
    "- `user`\n",
    "\n",
    "All those high cardinality variables can be thought as links of a network. Indeed, a\n",
    "review is an object comprising a beer, a brewery and a user and can be thought as a\n",
    "network link between them.\n",
    "\n",
    "In other words, the review table is the a table describing the links in a network with\n",
    "3 types of nodes: users, beers and breweries.\n",
    "\n",
    "The first property to compute about each node is its \"degree\", which is its number of\n",
    "connections with other nodes. High degree means \"highly connected\".\n",
    "\n",
    "To compute the degree you'll need:\n",
    "\n",
    "- [`pd.Series.value_counts`](https://pandas.pydata.org/docs/reference/api/pandas.Series.value_counts.html)"
   ]
  },
  {
   "cell_type": "code",
   "execution_count": null,
   "id": "3a1075a8",
   "metadata": {},
   "outputs": [],
   "source": [
    "df_beer_degree = (\n",
    "    (df_raw.beer)\n",
    "    *** FILL THE MISSING LINE ***\n",
    "    .rename(\"beer_degree\")\n",
    "    .reset_index()\n",
    ")\n",
    "df_beer_degree"
   ]
  },
  {
   "cell_type": "markdown",
   "id": "1dde47c0",
   "metadata": {},
   "source": [
    "Check that this table will merge properly."
   ]
  },
  {
   "cell_type": "code",
   "execution_count": null,
   "id": "59b3bdfc",
   "metadata": {},
   "outputs": [],
   "source": [
    "df_tmp = df_raw.merge(\n",
    "    df_beer_degree,\n",
    "    on=\"beer\",\n",
    "    how=\"outer\",\n",
    "    validate=\"m:1\",\n",
    "    indicator=True,\n",
    ")\n",
    "df_tmp._merge.value_counts()"
   ]
  },
  {
   "cell_type": "code",
   "execution_count": null,
   "id": "4016a827",
   "metadata": {},
   "outputs": [],
   "source": [
    "df_brewery_degree = (\n",
    "    (df_raw.brewery)\n",
    "    *** FILL THE MISSING LINE ***\n",
    "    .rename(\"brewery_degree\")\n",
    "    .reset_index()\n",
    ")\n",
    "df_brewery_degree"
   ]
  },
  {
   "cell_type": "markdown",
   "id": "3740fd4d",
   "metadata": {},
   "source": [
    "Check that this table will merge properly."
   ]
  },
  {
   "cell_type": "code",
   "execution_count": null,
   "id": "8c978962",
   "metadata": {},
   "outputs": [],
   "source": [
    "df_tmp = df_raw.merge(\n",
    "    df_brewery_degree,\n",
    "    on=\"brewery\",\n",
    "    how=\"outer\",\n",
    "    validate=\"m:1\",\n",
    "    indicator=True,\n",
    ")\n",
    "df_tmp._merge.value_counts()"
   ]
  },
  {
   "cell_type": "code",
   "execution_count": null,
   "id": "488d8088",
   "metadata": {},
   "outputs": [],
   "source": [
    "df_user_degree = (\n",
    "    (df_raw.user)\n",
    "    *** FILL THE MISSING LINE ***\n",
    "    .rename(\"user_degree\")\n",
    "    .reset_index()\n",
    ")\n",
    "df_user_degree"
   ]
  },
  {
   "cell_type": "markdown",
   "id": "c8cc9f73",
   "metadata": {},
   "source": [
    "Check that this table will merge properly."
   ]
  },
  {
   "cell_type": "code",
   "execution_count": null,
   "id": "6764d088",
   "metadata": {},
   "outputs": [],
   "source": [
    "df_tmp = df_raw.merge(\n",
    "    df_user_degree,\n",
    "    on=\"user\",\n",
    "    how=\"outer\",\n",
    "    validate=\"m:1\",\n",
    "    indicator=True,\n",
    ")\n",
    "df_tmp._merge.value_counts()"
   ]
  },
  {
   "cell_type": "markdown",
   "id": "a5ded8e0",
   "metadata": {},
   "source": [
    "We'll then merge the 3 dataframe at once."
   ]
  },
  {
   "cell_type": "markdown",
   "id": "b096b96b",
   "metadata": {},
   "source": [
    "### Text length\n",
    "Compute the length of the texts in the dataset.\n",
    "\n",
    "Methods you'll need:\n",
    "- [`pd.Series.str.len`](https://pandas.pydata.org/docs/reference/api/pandas.Series.str.len.html)"
   ]
  },
  {
   "cell_type": "code",
   "execution_count": null,
   "id": "c3d4d12d",
   "metadata": {},
   "outputs": [],
   "source": [
    "text_length = df_raw.text.str.len()\n",
    "text_length"
   ]
  },
  {
   "cell_type": "markdown",
   "id": "6d652fc7",
   "metadata": {},
   "source": [
    "### Convert timestamp"
   ]
  },
  {
   "cell_type": "code",
   "execution_count": null,
   "id": "f3e5ab67",
   "metadata": {},
   "outputs": [],
   "source": [
    "date = (df_raw.timestamp).astype(int).apply(pd.Timestamp.fromtimestamp)\n",
    "date"
   ]
  },
  {
   "cell_type": "markdown",
   "id": "74d2c95b",
   "metadata": {},
   "source": [
    "### Binary target\n",
    "The prediction problem is to predict `rating` based on other information. Since\n",
    "`rating` is a numeric variable, it is a regression problem. We'd like also to do a\n",
    "classification so we'll create a binary target based on the `rating`.\n",
    "\n",
    "The `ìs_good` column is True if the rating is above or equal to 16 (expert judgement),\n",
    "False otherwise.\n",
    "\n",
    "Note: also convert the binary target to integer (O or 1) for better readability.\n",
    "\n",
    "Methods you'll need:\n",
    "- [`pd.Series.astype`](https://pandas.pydata.org/docs/reference/api/pandas.Series.astype.html)\n"
   ]
  },
  {
   "cell_type": "code",
   "execution_count": null,
   "id": "32235584",
   "metadata": {},
   "outputs": [],
   "source": [
    "is_good = (df_raw.rating >= 16).astype(int)\n",
    "is_good"
   ]
  },
  {
   "cell_type": "markdown",
   "id": "a1b4c6c0",
   "metadata": {},
   "source": [
    "What are the values of this binary target ?"
   ]
  },
  {
   "cell_type": "code",
   "execution_count": null,
   "id": "20491633",
   "metadata": {},
   "outputs": [],
   "source": [
    "is_good.value_counts()"
   ]
  },
  {
   "cell_type": "markdown",
   "id": "6478e4ff",
   "metadata": {},
   "source": [
    "### Combine dataframes\n",
    "\n",
    "Create a dataframe combining information from:\n",
    "- `df_raw`: the original dataset\n",
    "- `df_beer_degree`: merged on `beer` column\n",
    "- `df_brewery_degree`: merged on `brewery` column\n",
    "- `df_user_degree`: merged on `user` column\n",
    "- `text_length`: added as a new column\n",
    "- `date`: added as a new column\n",
    "- `is_good`: added as a new column\n",
    "\n",
    "Note: `merge` is the equivalent of `JOIN` in SQL, and it changes the order of the rows\n",
    "! So to add our data columns properly in the dataset, we have 2 options:\n",
    "- add the new columns using precomputed arrays, but before merging (not recommended):\n",
    "  e.g: `df_raw.text.str.len()`\n",
    "- add the new columns using a function (recommended):\n",
    "  e.g: `lambda df: df.text.str.len()`\n",
    "\n",
    "Hint:\n",
    "- [`pd.DataFrame.merge`](https://pandas.pydata.org/docs/reference/api/pandas.DataFrame.merge.html)\n",
    "- [`pd.DataFrame.assign`](https://pandas.pydata.org/docs/reference/api/pandas.DataFrame.assign.html)\n",
    "\n",
    "Note: If some columns in both the left & right dataframes have the same name, you'll\n",
    "obtain duplicated columns in the merge result. `pandas` adds the suffixes `_x`\n",
    "and `_y` to avoid creating duplicate columns.\n",
    "Use the `suffixes` argument to specify the suffixes to apply to duplicated\n",
    "columns. In this example, there is no common column name in both dataframes.\n",
    "\n",
    "We made lots of transformation to our datasets: we want to verify that all\n",
    "values in the \"primary keys\" columns are indeed unique. Use the `validate`\n",
    "argument to do so.\n"
   ]
  },
  {
   "cell_type": "code",
   "execution_count": null,
   "id": "a25ae56e",
   "metadata": {},
   "outputs": [],
   "source": [
    "df_main = (\n",
    "    (df_raw)\n",
    "    .merge(\n",
    "        df_beer_degree,\n",
    "        *** FILL THE MISSING LINE ***\n",
    "        how=\"inner\",\n",
    "        validate=\"m:1\",\n",
    "    )\n",
    "    .merge(\n",
    "        df_brewery_degree,\n",
    "        *** FILL THE MISSING LINE ***\n",
    "        how=\"inner\",\n",
    "        validate=\"m:1\",\n",
    "    )\n",
    "    .merge(\n",
    "        df_user_degree,\n",
    "        *** FILL THE MISSING LINE ***\n",
    "        how=\"inner\",\n",
    "        validate=\"m:1\",\n",
    "    )\n",
    "    .assign(text_length=lambda df: df.text.str.len())\n",
    "    .assign(\n",
    "        date=lambda df: (df.timestamp).astype(int).apply(pd.Timestamp.fromtimestamp)\n",
    "    )\n",
    "    .assign(is_good=lambda df: (df.rating >= 16).astype(int))\n",
    ")\n",
    "df_main"
   ]
  },
  {
   "cell_type": "markdown",
   "id": "0e73caef",
   "metadata": {},
   "source": [
    "Save the final result to a parquet file named `ratebeer_sample_enriched.parquet`.\n",
    "\n",
    "Hint:\n",
    "- [`pd.DataFrame.to_parquet`](https://pandas.pydata.org/pandas-docs/version/1.1.5/reference/api/pandas.DataFrame.to_parquet.html)"
   ]
  },
  {
   "cell_type": "code",
   "execution_count": null,
   "id": "62d761b6",
   "metadata": {},
   "outputs": [],
   "source": [
    "# Uncomment the line below to save the dataset to disk\n",
    "df_main.to_parquet(\"ratebeer_sample_enriched.parquet\")"
   ]
  },
  {
   "cell_type": "markdown",
   "id": "9505b374",
   "metadata": {},
   "source": [
    " GOOD JOB 👍\n",
    "\n",
    " ![](https://c.tenor.com/Cn6yJ4YTMJgAAAAC/good-job-clapping.gif)"
   ]
  }
 ],
 "metadata": {
  "jupytext": {
   "cell_metadata_filter": "-all",
   "main_language": "python",
   "notebook_metadata_filter": "-all"
  }
 },
 "nbformat": 4,
 "nbformat_minor": 5
}
